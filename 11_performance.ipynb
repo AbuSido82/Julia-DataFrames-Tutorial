{
 "cells": [
  {
   "cell_type": "markdown",
   "metadata": {},
   "source": [
    "# Introduction to DataFrames\n",
    "**[Bogumił Kamiński](http://bogumilkaminski.pl/about/), August 16, 2019**"
   ]
  },
  {
   "cell_type": "code",
   "execution_count": 1,
   "metadata": {},
   "outputs": [
    {
     "data": {
      "text/plain": [
       "\"d:\\\\Dev\\\\Julia\\\\DataFrames_Tutorial\\\\Project.toml\""
      ]
     },
     "execution_count": 1,
     "metadata": {},
     "output_type": "execute_result"
    }
   ],
   "source": [
    "using Pkg\n",
    "Pkg.activate(\".\")"
   ]
  },
  {
   "cell_type": "code",
   "execution_count": 2,
   "metadata": {},
   "outputs": [],
   "source": [
    "using DataFrames\n",
    "using BenchmarkTools"
   ]
  },
  {
   "cell_type": "markdown",
   "metadata": {},
   "source": [
    "## Performance tips"
   ]
  },
  {
   "cell_type": "markdown",
   "metadata": {},
   "source": [
    "### Access by column number is faster than by name"
   ]
  },
  {
   "cell_type": "code",
   "execution_count": 3,
   "metadata": {},
   "outputs": [
    {
     "name": "stdout",
     "output_type": "stream",
     "text": [
      "  6.305 ns (0 allocations: 0 bytes)\n",
      "  19.153 ns (0 allocations: 0 bytes)\n"
     ]
    }
   ],
   "source": [
    "x = DataFrame(rand(5, 1000))\n",
    "@btime $x[!, 500];\n",
    "@btime $x.x500;"
   ]
  },
  {
   "cell_type": "markdown",
   "metadata": {},
   "source": [
    "### When working with data `DataFrame` use barrier functions or type annotation"
   ]
  },
  {
   "cell_type": "code",
   "execution_count": 4,
   "metadata": {},
   "outputs": [
    {
     "name": "stdout",
     "output_type": "stream",
     "text": [
      "  210.469 ms (5999023 allocations: 122.06 MiB)\n"
     ]
    }
   ],
   "source": [
    "using Random\n",
    "function f_bad() # this function will be slow\n",
    "    Random.seed!(1); x = DataFrame(rand(1000000,2))\n",
    "    y, z = x[!, 1], x[!, 2]\n",
    "    p = 0.0\n",
    "    for i in 1:nrow(x)\n",
    "        p += y[i]*z[i]\n",
    "    end\n",
    "    p\n",
    "end\n",
    "\n",
    "@btime f_bad();\n",
    "# if you run @code_warntype f_bad() then you notice\n",
    "# that Julia does not know column types of `DataFrame`\n"
   ]
  },
  {
   "cell_type": "code",
   "execution_count": 5,
   "metadata": {},
   "outputs": [
    {
     "name": "stdout",
     "output_type": "stream",
     "text": [
      "  26.627 ms (45 allocations: 30.52 MiB)\n",
      "  27.351 ms (45 allocations: 30.52 MiB)\n"
     ]
    }
   ],
   "source": [
    "# solution 1 is to use barrier function (it should be possible to use it in almost any code)\n",
    "function f_inner(y,z)\n",
    "   p = 0.0\n",
    "   for i in 1:length(y)\n",
    "       p += y[i]*z[i]\n",
    "   end\n",
    "   p\n",
    "end\n",
    "\n",
    "function f_barrier() # extract the work to an inner function\n",
    "    Random.seed!(1); x = DataFrame(rand(1000000,2))\n",
    "    f_inner(x[!, 1], x[!, 2])\n",
    "end\n",
    "\n",
    "using LinearAlgebra\n",
    "function f_inbuilt() # or use inbuilt function if possible\n",
    "    Random.seed!(1); x = DataFrame(rand(1000000,2))\n",
    "    dot(x[!, 1], x[!, 2])\n",
    "end\n",
    "\n",
    "@btime f_barrier();\n",
    "@btime f_inbuilt();"
   ]
  },
  {
   "cell_type": "code",
   "execution_count": 6,
   "metadata": {},
   "outputs": [
    {
     "name": "stdout",
     "output_type": "stream",
     "text": [
      "  28.875 ms (45 allocations: 30.52 MiB)\n"
     ]
    }
   ],
   "source": [
    "# solution 2 is to provide the types of extracted columns\n",
    "# it is simpler but there are cases in which you will not know these types\n",
    "# This example  assumes that you have DataFrames master at least from August 31, 2018\n",
    "function f_typed()\n",
    "    Random.seed!(1); x = DataFrame(rand(1000000,2))\n",
    "    y::Vector{Float64}, z::Vector{Float64} = x[!, 1], x[!, 2]\n",
    "    p = 0.0\n",
    "    for i in 1:nrow(x)\n",
    "        p += y[i]*z[i]\n",
    "    end\n",
    "    p\n",
    "end\n",
    "\n",
    "@btime f_typed();"
   ]
  },
  {
   "cell_type": "markdown",
   "metadata": {},
   "source": [
    "### Consider using delayed `DataFrame` creation technique"
   ]
  },
  {
   "cell_type": "markdown",
   "metadata": {},
   "source": [
    "also notice the difference in performance between `DataFrame` and `DataFrame!` (copying vs non-copying data frame creation)"
   ]
  },
  {
   "cell_type": "code",
   "execution_count": 7,
   "metadata": {},
   "outputs": [
    {
     "name": "stdout",
     "output_type": "stream",
     "text": [
      "  41.633 ms (1949837 allocations: 37.42 MiB)\n",
      "  29.323 ms (1950037 allocations: 45.06 MiB)\n",
      "  2.867 ms (937 allocations: 7.69 MiB)\n",
      "  5.765 ms (1137 allocations: 15.32 MiB)\n"
     ]
    }
   ],
   "source": [
    "function f1()\n",
    "    x = DataFrame!([Vector{Float64}(undef, 10^4) for i in 1:100]) # we work with a DataFrame directly\n",
    "    for c in 1:ncol(x)\n",
    "        d = x[!, c]\n",
    "        for r in 1:nrow(x)\n",
    "            d[r] = rand()\n",
    "        end\n",
    "    end\n",
    "    x\n",
    "end\n",
    "\n",
    "function f1a()\n",
    "    x = DataFrame([Vector{Float64}(undef, 10^4) for i in 1:100]) # we work with a DataFrame directly\n",
    "    for c in 1:ncol(x)\n",
    "        d = x[!, c]\n",
    "        for r in 1:nrow(x)\n",
    "            d[r] = rand()\n",
    "        end\n",
    "    end\n",
    "    x\n",
    "end\n",
    "\n",
    "function f2()\n",
    "    x = Vector{Any}(undef, 100)\n",
    "    for c in 1:length(x)\n",
    "        d = Vector{Float64}(undef, 10^4)\n",
    "        for r in 1:length(d)\n",
    "            d[r] = rand()\n",
    "        end\n",
    "        x[c] = d\n",
    "    end\n",
    "    DataFrame!(x) # we delay creation of DataFrame after we have our job done\n",
    "end\n",
    "\n",
    "function f2a()\n",
    "    x = Vector{Any}(undef, 100)\n",
    "    for c in 1:length(x)\n",
    "        d = Vector{Float64}(undef, 10^4)\n",
    "        for r in 1:length(d)\n",
    "            d[r] = rand()\n",
    "        end\n",
    "        x[c] = d\n",
    "    end\n",
    "    DataFrame(x) # we delay creation of DataFrame after we have our job done\n",
    "end\n",
    "\n",
    "@btime f1();\n",
    "@btime f1a();\n",
    "@btime f2();\n",
    "@btime f2a();"
   ]
  },
  {
   "cell_type": "markdown",
   "metadata": {},
   "source": [
    "### You can add rows to a `DataFrame` in place and it is fast"
   ]
  },
  {
   "cell_type": "code",
   "execution_count": 8,
   "metadata": {},
   "outputs": [
    {
     "name": "stdout",
     "output_type": "stream",
     "text": [
      "  30.904 ms (174 allocations: 38.16 MiB)\n",
      "  743.667 ns (11 allocations: 176 bytes)\n",
      "  546.491 ns (16 allocations: 256 bytes)\n"
     ]
    }
   ],
   "source": [
    "x = DataFrame(rand(10^6, 5))\n",
    "y = DataFrame(transpose(1.0:5.0))\n",
    "z = [1.0:5.0;]\n",
    "\n",
    "@btime vcat($x, $y); # creates a new DataFrame - slow\n",
    "@btime append!($x, $y); # in place - fast\n",
    "\n",
    "x = DataFrame(rand(10^6, 5)) # reset to the same starting point\n",
    "@btime push!($x, $z); # add a single row in place - fast"
   ]
  },
  {
   "cell_type": "markdown",
   "metadata": {},
   "source": [
    "### Allowing `missing` as well as `categorical` slows down computations"
   ]
  },
  {
   "cell_type": "code",
   "execution_count": 9,
   "metadata": {},
   "outputs": [
    {
     "name": "stdout",
     "output_type": "stream",
     "text": [
      "Int64\n",
      " raw:\n",
      "  5.544 ms (7 allocations: 7.63 MiB)\n",
      " categorical:\n",
      "  47.402 ms (4 allocations: 608 bytes)\n",
      "String\n",
      " raw:\n",
      "  67.141 ms (4 allocations: 608 bytes)\n",
      " categorical:\n",
      "  85.638 ms (4 allocations: 608 bytes)\n",
      "Union{Missing, Int64}\n",
      " raw:\n",
      "  11.672 ms (4 allocations: 624 bytes)\n",
      " categorical:\n",
      "  23.086 ms (4 allocations: 608 bytes)\n",
      "Union{Missing, String}\n",
      " raw:\n",
      "  46.571 ms (4 allocations: 608 bytes)\n",
      " categorical:\n",
      "  71.580 ms (4 allocations: 608 bytes)\n"
     ]
    }
   ],
   "source": [
    "using StatsBase\n",
    "\n",
    "function test(data) # uses countmap function to test performance\n",
    "    println(eltype(data))\n",
    "    x = rand(data, 10^6)\n",
    "    y = categorical(x)\n",
    "    println(\" raw:\")\n",
    "    @btime countmap($x)\n",
    "    println(\" categorical:\")\n",
    "    @btime countmap($y)\n",
    "    nothing\n",
    "end\n",
    "\n",
    "test(1:10)\n",
    "test([randstring() for i in 1:10])\n",
    "test(allowmissing(1:10))\n",
    "test(allowmissing([randstring() for i in 1:10]))\n"
   ]
  },
  {
   "cell_type": "markdown",
   "metadata": {},
   "source": [
    "### When aggregating use column selector and prefer categorical or pooled array grouping variable"
   ]
  },
  {
   "cell_type": "code",
   "execution_count": 10,
   "metadata": {},
   "outputs": [],
   "source": [
    "df = DataFrame(x=rand('a':'d', 10^7), y=1);"
   ]
  },
  {
   "cell_type": "code",
   "execution_count": 11,
   "metadata": {},
   "outputs": [
    {
     "name": "stdout",
     "output_type": "stream",
     "text": [
      "  727.792 ms (196 allocations: 433.19 MiB)\n"
     ]
    },
    {
     "data": {
      "text/html": [
       "<table class=\"data-frame\"><thead><tr><th></th><th>x</th><th>x1</th></tr><tr><th></th><th>Char</th><th>Int64</th></tr></thead><tbody><p>4 rows × 2 columns</p><tr><th>1</th><td>'d'</td><td>2500861</td></tr><tr><th>2</th><td>'b'</td><td>2497802</td></tr><tr><th>3</th><td>'c'</td><td>2502939</td></tr><tr><th>4</th><td>'a'</td><td>2498398</td></tr></tbody></table>"
      ],
      "text/latex": [
       "\\begin{tabular}{r|cc}\n",
       "\t& x & x1\\\\\n",
       "\t\\hline\n",
       "\t& Char & Int64\\\\\n",
       "\t\\hline\n",
       "\t1 & 'd' & 2500861 \\\\\n",
       "\t2 & 'b' & 2497802 \\\\\n",
       "\t3 & 'c' & 2502939 \\\\\n",
       "\t4 & 'a' & 2498398 \\\\\n",
       "\\end{tabular}\n"
      ],
      "text/plain": [
       "4×2 DataFrame\n",
       "│ Row │ x    │ x1      │\n",
       "│     │ \u001b[90mChar\u001b[39m │ \u001b[90mInt64\u001b[39m   │\n",
       "├─────┼──────┼─────────┤\n",
       "│ 1   │ 'd'  │ 2500861 │\n",
       "│ 2   │ 'b'  │ 2497802 │\n",
       "│ 3   │ 'c'  │ 2502939 │\n",
       "│ 4   │ 'a'  │ 2498398 │"
      ]
     },
     "execution_count": 11,
     "metadata": {},
     "output_type": "execute_result"
    }
   ],
   "source": [
    "@btime by($df, :x, v -> sum(v.y)) # traditional syntax, slow"
   ]
  },
  {
   "cell_type": "code",
   "execution_count": 12,
   "metadata": {},
   "outputs": [
    {
     "name": "stdout",
     "output_type": "stream",
     "text": [
      "  546.222 ms (159 allocations: 356.89 MiB)\n"
     ]
    },
    {
     "data": {
      "text/html": [
       "<table class=\"data-frame\"><thead><tr><th></th><th>x</th><th>y_sum</th></tr><tr><th></th><th>Char</th><th>Int64</th></tr></thead><tbody><p>4 rows × 2 columns</p><tr><th>1</th><td>'d'</td><td>2500861</td></tr><tr><th>2</th><td>'b'</td><td>2497802</td></tr><tr><th>3</th><td>'c'</td><td>2502939</td></tr><tr><th>4</th><td>'a'</td><td>2498398</td></tr></tbody></table>"
      ],
      "text/latex": [
       "\\begin{tabular}{r|cc}\n",
       "\t& x & y\\_sum\\\\\n",
       "\t\\hline\n",
       "\t& Char & Int64\\\\\n",
       "\t\\hline\n",
       "\t1 & 'd' & 2500861 \\\\\n",
       "\t2 & 'b' & 2497802 \\\\\n",
       "\t3 & 'c' & 2502939 \\\\\n",
       "\t4 & 'a' & 2498398 \\\\\n",
       "\\end{tabular}\n"
      ],
      "text/plain": [
       "4×2 DataFrame\n",
       "│ Row │ x    │ y_sum   │\n",
       "│     │ \u001b[90mChar\u001b[39m │ \u001b[90mInt64\u001b[39m   │\n",
       "├─────┼──────┼─────────┤\n",
       "│ 1   │ 'd'  │ 2500861 │\n",
       "│ 2   │ 'b'  │ 2497802 │\n",
       "│ 3   │ 'c'  │ 2502939 │\n",
       "│ 4   │ 'a'  │ 2498398 │"
      ]
     },
     "execution_count": 12,
     "metadata": {},
     "output_type": "execute_result"
    }
   ],
   "source": [
    "@btime by($df, :x, :y=>sum) # use column selector"
   ]
  },
  {
   "cell_type": "code",
   "execution_count": 13,
   "metadata": {},
   "outputs": [],
   "source": [
    "categorical!(df, :x);"
   ]
  },
  {
   "cell_type": "code",
   "execution_count": 14,
   "metadata": {},
   "outputs": [
    {
     "name": "stdout",
     "output_type": "stream",
     "text": [
      "  229.163 ms (178 allocations: 152.60 MiB)\n"
     ]
    },
    {
     "data": {
      "text/html": [
       "<table class=\"data-frame\"><thead><tr><th></th><th>x</th><th>y_sum</th></tr><tr><th></th><th>Categorical…</th><th>Int64</th></tr></thead><tbody><p>4 rows × 2 columns</p><tr><th>1</th><td>'a'</td><td>2498398</td></tr><tr><th>2</th><td>'b'</td><td>2497802</td></tr><tr><th>3</th><td>'c'</td><td>2502939</td></tr><tr><th>4</th><td>'d'</td><td>2500861</td></tr></tbody></table>"
      ],
      "text/latex": [
       "\\begin{tabular}{r|cc}\n",
       "\t& x & y\\_sum\\\\\n",
       "\t\\hline\n",
       "\t& Categorical… & Int64\\\\\n",
       "\t\\hline\n",
       "\t1 & 'a' & 2498398 \\\\\n",
       "\t2 & 'b' & 2497802 \\\\\n",
       "\t3 & 'c' & 2502939 \\\\\n",
       "\t4 & 'd' & 2500861 \\\\\n",
       "\\end{tabular}\n"
      ],
      "text/plain": [
       "4×2 DataFrame\n",
       "│ Row │ x            │ y_sum   │\n",
       "│     │ \u001b[90mCategorical…\u001b[39m │ \u001b[90mInt64\u001b[39m   │\n",
       "├─────┼──────────────┼─────────┤\n",
       "│ 1   │ 'a'          │ 2498398 │\n",
       "│ 2   │ 'b'          │ 2497802 │\n",
       "│ 3   │ 'c'          │ 2502939 │\n",
       "│ 4   │ 'd'          │ 2500861 │"
      ]
     },
     "execution_count": 14,
     "metadata": {},
     "output_type": "execute_result"
    }
   ],
   "source": [
    "@btime by($df, :x, :y=>sum)"
   ]
  },
  {
   "cell_type": "code",
   "execution_count": 15,
   "metadata": {},
   "outputs": [],
   "source": [
    "using PooledArrays"
   ]
  },
  {
   "cell_type": "code",
   "execution_count": 16,
   "metadata": {},
   "outputs": [
    {
     "data": {
      "text/plain": [
       "10000000-element PooledArray{Char,UInt8,1,Array{UInt8,1}}:\n",
       " 'd'\n",
       " 'b'\n",
       " 'd'\n",
       " 'd'\n",
       " 'd'\n",
       " 'd'\n",
       " 'c'\n",
       " 'd'\n",
       " 'd'\n",
       " 'd'\n",
       " 'c'\n",
       " 'd'\n",
       " 'c'\n",
       " ⋮  \n",
       " 'd'\n",
       " 'd'\n",
       " 'c'\n",
       " 'c'\n",
       " 'b'\n",
       " 'c'\n",
       " 'd'\n",
       " 'a'\n",
       " 'b'\n",
       " 'a'\n",
       " 'c'\n",
       " 'd'"
      ]
     },
     "execution_count": 16,
     "metadata": {},
     "output_type": "execute_result"
    }
   ],
   "source": [
    "df.x = PooledArray{Char}(df.x)"
   ]
  },
  {
   "cell_type": "code",
   "execution_count": 17,
   "metadata": {},
   "outputs": [
    {
     "name": "stdout",
     "output_type": "stream",
     "text": [
      "  230.642 ms (168 allocations: 152.60 MiB)\n"
     ]
    },
    {
     "data": {
      "text/html": [
       "<table class=\"data-frame\"><thead><tr><th></th><th>x</th><th>y_sum</th></tr><tr><th></th><th>Char</th><th>Int64</th></tr></thead><tbody><p>4 rows × 2 columns</p><tr><th>1</th><td>'d'</td><td>2500861</td></tr><tr><th>2</th><td>'b'</td><td>2497802</td></tr><tr><th>3</th><td>'c'</td><td>2502939</td></tr><tr><th>4</th><td>'a'</td><td>2498398</td></tr></tbody></table>"
      ],
      "text/latex": [
       "\\begin{tabular}{r|cc}\n",
       "\t& x & y\\_sum\\\\\n",
       "\t\\hline\n",
       "\t& Char & Int64\\\\\n",
       "\t\\hline\n",
       "\t1 & 'd' & 2500861 \\\\\n",
       "\t2 & 'b' & 2497802 \\\\\n",
       "\t3 & 'c' & 2502939 \\\\\n",
       "\t4 & 'a' & 2498398 \\\\\n",
       "\\end{tabular}\n"
      ],
      "text/plain": [
       "4×2 DataFrame\n",
       "│ Row │ x    │ y_sum   │\n",
       "│     │ \u001b[90mChar\u001b[39m │ \u001b[90mInt64\u001b[39m   │\n",
       "├─────┼──────┼─────────┤\n",
       "│ 1   │ 'd'  │ 2500861 │\n",
       "│ 2   │ 'b'  │ 2497802 │\n",
       "│ 3   │ 'c'  │ 2502939 │\n",
       "│ 4   │ 'a'  │ 2498398 │"
      ]
     },
     "execution_count": 17,
     "metadata": {},
     "output_type": "execute_result"
    }
   ],
   "source": [
    "@btime by($df, :x, :y=>sum)"
   ]
  },
  {
   "cell_type": "markdown",
   "metadata": {},
   "source": [
    "### Use views instead of materializing a new DataFrame"
   ]
  },
  {
   "cell_type": "code",
   "execution_count": 18,
   "metadata": {},
   "outputs": [
    {
     "data": {
      "text/html": [
       "<table class=\"data-frame\"><thead><tr><th></th><th>x1</th><th>x2</th><th>x3</th><th>x4</th><th>x5</th><th>x6</th><th>x7</th><th>x8</th></tr><tr><th></th><th>Float64</th><th>Float64</th><th>Float64</th><th>Float64</th><th>Float64</th><th>Float64</th><th>Float64</th><th>Float64</th></tr></thead><tbody><p>100 rows × 1,000 columns (omitted printing of 992 columns)</p><tr><th>1</th><td>0.637801</td><td>0.499658</td><td>0.946076</td><td>0.381518</td><td>0.541173</td><td>0.33955</td><td>0.988044</td><td>0.789436</td></tr><tr><th>2</th><td>0.582944</td><td>0.450625</td><td>0.576639</td><td>0.509009</td><td>0.674542</td><td>0.291518</td><td>0.839739</td><td>0.231549</td></tr><tr><th>3</th><td>0.25576</td><td>0.924204</td><td>0.509361</td><td>0.100793</td><td>0.73373</td><td>0.897498</td><td>0.509463</td><td>0.00914906</td></tr><tr><th>4</th><td>0.448119</td><td>0.459261</td><td>0.397853</td><td>0.150296</td><td>0.686973</td><td>0.616155</td><td>0.771118</td><td>0.424968</td></tr><tr><th>5</th><td>0.600548</td><td>0.725675</td><td>0.177003</td><td>0.570394</td><td>0.283683</td><td>0.754999</td><td>0.139011</td><td>0.751878</td></tr><tr><th>6</th><td>0.545967</td><td>0.0630025</td><td>0.836106</td><td>0.958643</td><td>0.723384</td><td>0.870861</td><td>0.786544</td><td>0.783141</td></tr><tr><th>7</th><td>0.318235</td><td>0.197158</td><td>0.0245412</td><td>0.147027</td><td>0.191275</td><td>0.690648</td><td>0.868467</td><td>0.79229</td></tr><tr><th>8</th><td>0.0332237</td><td>0.982657</td><td>0.0736654</td><td>0.151617</td><td>0.805835</td><td>0.668803</td><td>0.989204</td><td>0.86314</td></tr><tr><th>9</th><td>0.635475</td><td>0.642825</td><td>0.95715</td><td>0.855208</td><td>0.205377</td><td>0.35821</td><td>0.39587</td><td>0.663429</td></tr><tr><th>10</th><td>0.433199</td><td>0.0185481</td><td>0.399948</td><td>0.974413</td><td>0.828756</td><td>0.0820863</td><td>0.325566</td><td>0.795758</td></tr><tr><th>11</th><td>0.848015</td><td>0.821503</td><td>0.517314</td><td>0.850162</td><td>0.858501</td><td>0.506171</td><td>0.905858</td><td>0.737726</td></tr><tr><th>12</th><td>0.412515</td><td>0.497939</td><td>0.810324</td><td>0.410558</td><td>0.977442</td><td>0.797283</td><td>0.051836</td><td>0.797489</td></tr><tr><th>13</th><td>0.839288</td><td>0.32259</td><td>0.0898265</td><td>0.854247</td><td>0.571002</td><td>0.190479</td><td>0.703097</td><td>0.431261</td></tr><tr><th>14</th><td>0.651406</td><td>0.976482</td><td>0.292416</td><td>0.218133</td><td>0.445929</td><td>0.159465</td><td>0.303475</td><td>0.556968</td></tr><tr><th>15</th><td>0.017972</td><td>0.407499</td><td>0.817957</td><td>0.290149</td><td>0.782694</td><td>0.636634</td><td>0.182372</td><td>0.822289</td></tr><tr><th>16</th><td>0.8094</td><td>0.565423</td><td>0.807094</td><td>0.867904</td><td>0.943418</td><td>0.817194</td><td>0.310656</td><td>0.00691192</td></tr><tr><th>17</th><td>0.487472</td><td>0.499461</td><td>0.879952</td><td>0.19937</td><td>0.903487</td><td>0.559623</td><td>0.0434953</td><td>0.882065</td></tr><tr><th>18</th><td>0.759627</td><td>0.0974877</td><td>0.00330004</td><td>0.185338</td><td>0.265282</td><td>0.207337</td><td>0.251334</td><td>0.241595</td></tr><tr><th>19</th><td>0.201555</td><td>0.0856021</td><td>0.0241781</td><td>0.223564</td><td>0.200585</td><td>0.158512</td><td>0.586218</td><td>0.855131</td></tr><tr><th>20</th><td>0.0504333</td><td>0.57294</td><td>0.104779</td><td>0.366504</td><td>0.0490945</td><td>0.157904</td><td>0.895225</td><td>0.8206</td></tr><tr><th>21</th><td>0.44398</td><td>0.480526</td><td>0.496642</td><td>0.559304</td><td>0.39033</td><td>0.879231</td><td>0.131432</td><td>0.650401</td></tr><tr><th>22</th><td>0.681257</td><td>0.743719</td><td>0.00350056</td><td>0.210862</td><td>0.590336</td><td>0.0991987</td><td>0.422967</td><td>0.920225</td></tr><tr><th>23</th><td>0.71415</td><td>0.0333837</td><td>0.686946</td><td>0.898127</td><td>0.971508</td><td>0.105396</td><td>0.216707</td><td>0.290178</td></tr><tr><th>24</th><td>0.520327</td><td>0.91787</td><td>0.0242016</td><td>0.835009</td><td>0.956299</td><td>0.762927</td><td>0.0856966</td><td>0.292519</td></tr><tr><th>25</th><td>0.128141</td><td>0.804962</td><td>0.0883279</td><td>0.88033</td><td>0.821551</td><td>0.205745</td><td>0.890146</td><td>0.860624</td></tr><tr><th>26</th><td>0.900063</td><td>0.41147</td><td>0.793915</td><td>0.347561</td><td>0.13167</td><td>0.535341</td><td>0.0512946</td><td>0.59858</td></tr><tr><th>27</th><td>0.214114</td><td>0.903759</td><td>0.756808</td><td>0.293499</td><td>0.131384</td><td>0.408996</td><td>0.874236</td><td>0.655479</td></tr><tr><th>28</th><td>0.140251</td><td>0.525979</td><td>0.767734</td><td>0.108049</td><td>0.939099</td><td>0.958859</td><td>0.96767</td><td>0.101418</td></tr><tr><th>29</th><td>0.63451</td><td>0.38693</td><td>0.767694</td><td>0.390561</td><td>0.149356</td><td>0.976106</td><td>0.101748</td><td>0.298368</td></tr><tr><th>30</th><td>0.214952</td><td>0.0944654</td><td>0.845742</td><td>0.486592</td><td>0.0297755</td><td>0.166627</td><td>0.489367</td><td>0.116112</td></tr><tr><th>&vellip;</th><td>&vellip;</td><td>&vellip;</td><td>&vellip;</td><td>&vellip;</td><td>&vellip;</td><td>&vellip;</td><td>&vellip;</td><td>&vellip;</td></tr></tbody></table>"
      ],
      "text/latex": [
       "\\begin{tabular}{r|ccccccccc}\n",
       "\t& x1 & x2 & x3 & x4 & x5 & x6 & x7 & x8 & \\\\\n",
       "\t\\hline\n",
       "\t& Float64 & Float64 & Float64 & Float64 & Float64 & Float64 & Float64 & Float64 & \\\\\n",
       "\t\\hline\n",
       "\t1 & 0.637801 & 0.499658 & 0.946076 & 0.381518 & 0.541173 & 0.33955 & 0.988044 & 0.789436 & $\\dots$ \\\\\n",
       "\t2 & 0.582944 & 0.450625 & 0.576639 & 0.509009 & 0.674542 & 0.291518 & 0.839739 & 0.231549 & $\\dots$ \\\\\n",
       "\t3 & 0.25576 & 0.924204 & 0.509361 & 0.100793 & 0.73373 & 0.897498 & 0.509463 & 0.00914906 & $\\dots$ \\\\\n",
       "\t4 & 0.448119 & 0.459261 & 0.397853 & 0.150296 & 0.686973 & 0.616155 & 0.771118 & 0.424968 & $\\dots$ \\\\\n",
       "\t5 & 0.600548 & 0.725675 & 0.177003 & 0.570394 & 0.283683 & 0.754999 & 0.139011 & 0.751878 & $\\dots$ \\\\\n",
       "\t6 & 0.545967 & 0.0630025 & 0.836106 & 0.958643 & 0.723384 & 0.870861 & 0.786544 & 0.783141 & $\\dots$ \\\\\n",
       "\t7 & 0.318235 & 0.197158 & 0.0245412 & 0.147027 & 0.191275 & 0.690648 & 0.868467 & 0.79229 & $\\dots$ \\\\\n",
       "\t8 & 0.0332237 & 0.982657 & 0.0736654 & 0.151617 & 0.805835 & 0.668803 & 0.989204 & 0.86314 & $\\dots$ \\\\\n",
       "\t9 & 0.635475 & 0.642825 & 0.95715 & 0.855208 & 0.205377 & 0.35821 & 0.39587 & 0.663429 & $\\dots$ \\\\\n",
       "\t10 & 0.433199 & 0.0185481 & 0.399948 & 0.974413 & 0.828756 & 0.0820863 & 0.325566 & 0.795758 & $\\dots$ \\\\\n",
       "\t11 & 0.848015 & 0.821503 & 0.517314 & 0.850162 & 0.858501 & 0.506171 & 0.905858 & 0.737726 & $\\dots$ \\\\\n",
       "\t12 & 0.412515 & 0.497939 & 0.810324 & 0.410558 & 0.977442 & 0.797283 & 0.051836 & 0.797489 & $\\dots$ \\\\\n",
       "\t13 & 0.839288 & 0.32259 & 0.0898265 & 0.854247 & 0.571002 & 0.190479 & 0.703097 & 0.431261 & $\\dots$ \\\\\n",
       "\t14 & 0.651406 & 0.976482 & 0.292416 & 0.218133 & 0.445929 & 0.159465 & 0.303475 & 0.556968 & $\\dots$ \\\\\n",
       "\t15 & 0.017972 & 0.407499 & 0.817957 & 0.290149 & 0.782694 & 0.636634 & 0.182372 & 0.822289 & $\\dots$ \\\\\n",
       "\t16 & 0.8094 & 0.565423 & 0.807094 & 0.867904 & 0.943418 & 0.817194 & 0.310656 & 0.00691192 & $\\dots$ \\\\\n",
       "\t17 & 0.487472 & 0.499461 & 0.879952 & 0.19937 & 0.903487 & 0.559623 & 0.0434953 & 0.882065 & $\\dots$ \\\\\n",
       "\t18 & 0.759627 & 0.0974877 & 0.00330004 & 0.185338 & 0.265282 & 0.207337 & 0.251334 & 0.241595 & $\\dots$ \\\\\n",
       "\t19 & 0.201555 & 0.0856021 & 0.0241781 & 0.223564 & 0.200585 & 0.158512 & 0.586218 & 0.855131 & $\\dots$ \\\\\n",
       "\t20 & 0.0504333 & 0.57294 & 0.104779 & 0.366504 & 0.0490945 & 0.157904 & 0.895225 & 0.8206 & $\\dots$ \\\\\n",
       "\t21 & 0.44398 & 0.480526 & 0.496642 & 0.559304 & 0.39033 & 0.879231 & 0.131432 & 0.650401 & $\\dots$ \\\\\n",
       "\t22 & 0.681257 & 0.743719 & 0.00350056 & 0.210862 & 0.590336 & 0.0991987 & 0.422967 & 0.920225 & $\\dots$ \\\\\n",
       "\t23 & 0.71415 & 0.0333837 & 0.686946 & 0.898127 & 0.971508 & 0.105396 & 0.216707 & 0.290178 & $\\dots$ \\\\\n",
       "\t24 & 0.520327 & 0.91787 & 0.0242016 & 0.835009 & 0.956299 & 0.762927 & 0.0856966 & 0.292519 & $\\dots$ \\\\\n",
       "\t25 & 0.128141 & 0.804962 & 0.0883279 & 0.88033 & 0.821551 & 0.205745 & 0.890146 & 0.860624 & $\\dots$ \\\\\n",
       "\t26 & 0.900063 & 0.41147 & 0.793915 & 0.347561 & 0.13167 & 0.535341 & 0.0512946 & 0.59858 & $\\dots$ \\\\\n",
       "\t27 & 0.214114 & 0.903759 & 0.756808 & 0.293499 & 0.131384 & 0.408996 & 0.874236 & 0.655479 & $\\dots$ \\\\\n",
       "\t28 & 0.140251 & 0.525979 & 0.767734 & 0.108049 & 0.939099 & 0.958859 & 0.96767 & 0.101418 & $\\dots$ \\\\\n",
       "\t29 & 0.63451 & 0.38693 & 0.767694 & 0.390561 & 0.149356 & 0.976106 & 0.101748 & 0.298368 & $\\dots$ \\\\\n",
       "\t30 & 0.214952 & 0.0944654 & 0.845742 & 0.486592 & 0.0297755 & 0.166627 & 0.489367 & 0.116112 & $\\dots$ \\\\\n",
       "\t$\\dots$ & $\\dots$ & $\\dots$ & $\\dots$ & $\\dots$ & $\\dots$ & $\\dots$ & $\\dots$ & $\\dots$ &  \\\\\n",
       "\\end{tabular}\n"
      ],
      "text/plain": [
       "100×1000 DataFrame. Omitted printing of 994 columns\n",
       "│ Row │ x1        │ x2        │ x3        │ x4        │ x5         │ x6        │\n",
       "│     │ \u001b[90mFloat64\u001b[39m   │ \u001b[90mFloat64\u001b[39m   │ \u001b[90mFloat64\u001b[39m   │ \u001b[90mFloat64\u001b[39m   │ \u001b[90mFloat64\u001b[39m    │ \u001b[90mFloat64\u001b[39m   │\n",
       "├─────┼───────────┼───────────┼───────────┼───────────┼────────────┼───────────┤\n",
       "│ 1   │ 0.637801  │ 0.499658  │ 0.946076  │ 0.381518  │ 0.541173   │ 0.33955   │\n",
       "│ 2   │ 0.582944  │ 0.450625  │ 0.576639  │ 0.509009  │ 0.674542   │ 0.291518  │\n",
       "│ 3   │ 0.25576   │ 0.924204  │ 0.509361  │ 0.100793  │ 0.73373    │ 0.897498  │\n",
       "│ 4   │ 0.448119  │ 0.459261  │ 0.397853  │ 0.150296  │ 0.686973   │ 0.616155  │\n",
       "│ 5   │ 0.600548  │ 0.725675  │ 0.177003  │ 0.570394  │ 0.283683   │ 0.754999  │\n",
       "│ 6   │ 0.545967  │ 0.0630025 │ 0.836106  │ 0.958643  │ 0.723384   │ 0.870861  │\n",
       "│ 7   │ 0.318235  │ 0.197158  │ 0.0245412 │ 0.147027  │ 0.191275   │ 0.690648  │\n",
       "│ 8   │ 0.0332237 │ 0.982657  │ 0.0736654 │ 0.151617  │ 0.805835   │ 0.668803  │\n",
       "│ 9   │ 0.635475  │ 0.642825  │ 0.95715   │ 0.855208  │ 0.205377   │ 0.35821   │\n",
       "│ 10  │ 0.433199  │ 0.0185481 │ 0.399948  │ 0.974413  │ 0.828756   │ 0.0820863 │\n",
       "⋮\n",
       "│ 90  │ 0.523817  │ 0.494726  │ 0.314974  │ 0.446946  │ 0.598352   │ 0.531189  │\n",
       "│ 91  │ 0.857677  │ 0.381983  │ 0.228976  │ 0.917154  │ 0.265174   │ 0.0618353 │\n",
       "│ 92  │ 0.915539  │ 0.553874  │ 0.622054  │ 0.683781  │ 0.964055   │ 0.869832  │\n",
       "│ 93  │ 0.850195  │ 0.359142  │ 0.496422  │ 0.203305  │ 0.241229   │ 0.429398  │\n",
       "│ 94  │ 0.136386  │ 0.55769   │ 0.874719  │ 0.807393  │ 0.540918   │ 0.870771  │\n",
       "│ 95  │ 0.981284  │ 0.887348  │ 0.0976172 │ 0.0940389 │ 0.910335   │ 0.943166  │\n",
       "│ 96  │ 0.920422  │ 0.173936  │ 0.105497  │ 0.858946  │ 0.00518576 │ 0.777637  │\n",
       "│ 97  │ 0.954239  │ 0.443047  │ 0.880092  │ 0.248946  │ 0.803518   │ 0.975996  │\n",
       "│ 98  │ 0.549376  │ 0.535082  │ 0.62389   │ 0.643688  │ 0.80806    │ 0.393548  │\n",
       "│ 99  │ 0.416345  │ 0.505596  │ 0.0325456 │ 0.620748  │ 0.105157   │ 0.096337  │\n",
       "│ 100 │ 0.269572  │ 0.556038  │ 0.507405  │ 0.341753  │ 0.373678   │ 0.123893  │"
      ]
     },
     "execution_count": 18,
     "metadata": {},
     "output_type": "execute_result"
    }
   ],
   "source": [
    "x = DataFrame(rand(100, 1000))"
   ]
  },
  {
   "cell_type": "code",
   "execution_count": 19,
   "metadata": {},
   "outputs": [
    {
     "name": "stdout",
     "output_type": "stream",
     "text": [
      "  136.701 μs (1511 allocations: 194.41 KiB)\n"
     ]
    },
    {
     "data": {
      "text/html": [
       "<table class=\"data-frame\"><thead><tr><th></th><th>x1</th><th>x2</th><th>x3</th><th>x4</th><th>x5</th><th>x6</th><th>x7</th><th>x8</th><th>x9</th></tr><tr><th></th><th>Float64</th><th>Float64</th><th>Float64</th><th>Float64</th><th>Float64</th><th>Float64</th><th>Float64</th><th>Float64</th><th>Float64</th></tr></thead><tbody><p>1 rows × 1,000 columns (omitted printing of 991 columns)</p><tr><th>1</th><td>0.637801</td><td>0.499658</td><td>0.946076</td><td>0.381518</td><td>0.541173</td><td>0.33955</td><td>0.988044</td><td>0.789436</td><td>0.908469</td></tr></tbody></table>"
      ],
      "text/latex": [
       "\\begin{tabular}{r|cccccccccc}\n",
       "\t& x1 & x2 & x3 & x4 & x5 & x6 & x7 & x8 & x9 & \\\\\n",
       "\t\\hline\n",
       "\t& Float64 & Float64 & Float64 & Float64 & Float64 & Float64 & Float64 & Float64 & Float64 & \\\\\n",
       "\t\\hline\n",
       "\t1 & 0.637801 & 0.499658 & 0.946076 & 0.381518 & 0.541173 & 0.33955 & 0.988044 & 0.789436 & 0.908469 & $\\dots$ \\\\\n",
       "\\end{tabular}\n"
      ],
      "text/plain": [
       "1×1000 DataFrame. Omitted printing of 994 columns\n",
       "│ Row │ x1       │ x2       │ x3       │ x4       │ x5       │ x6      │\n",
       "│     │ \u001b[90mFloat64\u001b[39m  │ \u001b[90mFloat64\u001b[39m  │ \u001b[90mFloat64\u001b[39m  │ \u001b[90mFloat64\u001b[39m  │ \u001b[90mFloat64\u001b[39m  │ \u001b[90mFloat64\u001b[39m │\n",
       "├─────┼──────────┼──────────┼──────────┼──────────┼──────────┼─────────┤\n",
       "│ 1   │ 0.637801 │ 0.499658 │ 0.946076 │ 0.381518 │ 0.541173 │ 0.33955 │"
      ]
     },
     "execution_count": 19,
     "metadata": {},
     "output_type": "execute_result"
    }
   ],
   "source": [
    "@btime $x[1:1, :]"
   ]
  },
  {
   "cell_type": "code",
   "execution_count": 20,
   "metadata": {},
   "outputs": [
    {
     "name": "stdout",
     "output_type": "stream",
     "text": [
      "  49.698 ns (1 allocation: 32 bytes)\n"
     ]
    },
    {
     "data": {
      "text/html": [
       "<p>DataFrameRow</p><table class=\"data-frame\"><thead><tr><th></th><th>x1</th><th>x2</th><th>x3</th><th>x4</th><th>x5</th><th>x6</th><th>x7</th><th>x8</th><th>x9</th></tr><tr><th></th><th>Float64</th><th>Float64</th><th>Float64</th><th>Float64</th><th>Float64</th><th>Float64</th><th>Float64</th><th>Float64</th><th>Float64</th></tr></thead><tbody><p>1 rows × 1,000 columns (omitted printing of 991 columns)</p><tr><th>1</th><td>0.637801</td><td>0.499658</td><td>0.946076</td><td>0.381518</td><td>0.541173</td><td>0.33955</td><td>0.988044</td><td>0.789436</td><td>0.908469</td></tr></tbody></table>"
      ],
      "text/latex": [
       "\\begin{tabular}{r|cccccccccc}\n",
       "\t& x1 & x2 & x3 & x4 & x5 & x6 & x7 & x8 & x9 & \\\\\n",
       "\t\\hline\n",
       "\t& Float64 & Float64 & Float64 & Float64 & Float64 & Float64 & Float64 & Float64 & Float64 & \\\\\n",
       "\t\\hline\n",
       "\t1 & 0.637801 & 0.499658 & 0.946076 & 0.381518 & 0.541173 & 0.33955 & 0.988044 & 0.789436 & 0.908469 & $\\dots$ \\\\\n",
       "\\end{tabular}\n"
      ],
      "text/plain": [
       "DataFrameRow. Omitted printing of 994 columns\n",
       "│ Row │ x1       │ x2       │ x3       │ x4       │ x5       │ x6      │\n",
       "│     │ \u001b[90mFloat64\u001b[39m  │ \u001b[90mFloat64\u001b[39m  │ \u001b[90mFloat64\u001b[39m  │ \u001b[90mFloat64\u001b[39m  │ \u001b[90mFloat64\u001b[39m  │ \u001b[90mFloat64\u001b[39m │\n",
       "├─────┼──────────┼──────────┼──────────┼──────────┼──────────┼─────────┤\n",
       "│ 1   │ 0.637801 │ 0.499658 │ 0.946076 │ 0.381518 │ 0.541173 │ 0.33955 │"
      ]
     },
     "execution_count": 20,
     "metadata": {},
     "output_type": "execute_result"
    }
   ],
   "source": [
    "@btime $x[1, :]"
   ]
  },
  {
   "cell_type": "code",
   "execution_count": 21,
   "metadata": {},
   "outputs": [
    {
     "name": "stdout",
     "output_type": "stream",
     "text": [
      "  62.449 ns (1 allocation: 48 bytes)\n"
     ]
    },
    {
     "data": {
      "text/html": [
       "<table class=\"data-frame\"><thead><tr><th></th><th>x1</th><th>x2</th><th>x3</th><th>x4</th><th>x5</th><th>x6</th><th>x7</th><th>x8</th><th>x9</th></tr><tr><th></th><th>Float64</th><th>Float64</th><th>Float64</th><th>Float64</th><th>Float64</th><th>Float64</th><th>Float64</th><th>Float64</th><th>Float64</th></tr></thead><tbody><p>1 rows × 1,000 columns (omitted printing of 991 columns)</p><tr><th>1</th><td>0.637801</td><td>0.499658</td><td>0.946076</td><td>0.381518</td><td>0.541173</td><td>0.33955</td><td>0.988044</td><td>0.789436</td><td>0.908469</td></tr></tbody></table>"
      ],
      "text/latex": [
       "\\begin{tabular}{r|cccccccccc}\n",
       "\t& x1 & x2 & x3 & x4 & x5 & x6 & x7 & x8 & x9 & \\\\\n",
       "\t\\hline\n",
       "\t& Float64 & Float64 & Float64 & Float64 & Float64 & Float64 & Float64 & Float64 & Float64 & \\\\\n",
       "\t\\hline\n",
       "\t1 & 0.637801 & 0.499658 & 0.946076 & 0.381518 & 0.541173 & 0.33955 & 0.988044 & 0.789436 & 0.908469 & $\\dots$ \\\\\n",
       "\\end{tabular}\n"
      ],
      "text/plain": [
       "1×1000 SubDataFrame. Omitted printing of 994 columns\n",
       "│ Row │ x1       │ x2       │ x3       │ x4       │ x5       │ x6      │\n",
       "│     │ \u001b[90mFloat64\u001b[39m  │ \u001b[90mFloat64\u001b[39m  │ \u001b[90mFloat64\u001b[39m  │ \u001b[90mFloat64\u001b[39m  │ \u001b[90mFloat64\u001b[39m  │ \u001b[90mFloat64\u001b[39m │\n",
       "├─────┼──────────┼──────────┼──────────┼──────────┼──────────┼─────────┤\n",
       "│ 1   │ 0.637801 │ 0.499658 │ 0.946076 │ 0.381518 │ 0.541173 │ 0.33955 │"
      ]
     },
     "execution_count": 21,
     "metadata": {},
     "output_type": "execute_result"
    }
   ],
   "source": [
    "@btime view($x, 1:1, :)"
   ]
  },
  {
   "cell_type": "code",
   "execution_count": 22,
   "metadata": {},
   "outputs": [
    {
     "name": "stdout",
     "output_type": "stream",
     "text": [
      "  7.900 μs (55 allocations: 7.23 KiB)\n"
     ]
    },
    {
     "data": {
      "text/html": [
       "<table class=\"data-frame\"><thead><tr><th></th><th>x1</th><th>x2</th><th>x3</th><th>x4</th><th>x5</th><th>x6</th><th>x7</th><th>x8</th><th>x9</th></tr><tr><th></th><th>Float64</th><th>Float64</th><th>Float64</th><th>Float64</th><th>Float64</th><th>Float64</th><th>Float64</th><th>Float64</th><th>Float64</th></tr></thead><tbody><p>1 rows × 20 columns (omitted printing of 11 columns)</p><tr><th>1</th><td>0.637801</td><td>0.499658</td><td>0.946076</td><td>0.381518</td><td>0.541173</td><td>0.33955</td><td>0.988044</td><td>0.789436</td><td>0.908469</td></tr></tbody></table>"
      ],
      "text/latex": [
       "\\begin{tabular}{r|cccccccccc}\n",
       "\t& x1 & x2 & x3 & x4 & x5 & x6 & x7 & x8 & x9 & \\\\\n",
       "\t\\hline\n",
       "\t& Float64 & Float64 & Float64 & Float64 & Float64 & Float64 & Float64 & Float64 & Float64 & \\\\\n",
       "\t\\hline\n",
       "\t1 & 0.637801 & 0.499658 & 0.946076 & 0.381518 & 0.541173 & 0.33955 & 0.988044 & 0.789436 & 0.908469 & $\\dots$ \\\\\n",
       "\\end{tabular}\n"
      ],
      "text/plain": [
       "1×20 DataFrame. Omitted printing of 14 columns\n",
       "│ Row │ x1       │ x2       │ x3       │ x4       │ x5       │ x6      │\n",
       "│     │ \u001b[90mFloat64\u001b[39m  │ \u001b[90mFloat64\u001b[39m  │ \u001b[90mFloat64\u001b[39m  │ \u001b[90mFloat64\u001b[39m  │ \u001b[90mFloat64\u001b[39m  │ \u001b[90mFloat64\u001b[39m │\n",
       "├─────┼──────────┼──────────┼──────────┼──────────┼──────────┼─────────┤\n",
       "│ 1   │ 0.637801 │ 0.499658 │ 0.946076 │ 0.381518 │ 0.541173 │ 0.33955 │"
      ]
     },
     "execution_count": 22,
     "metadata": {},
     "output_type": "execute_result"
    }
   ],
   "source": [
    "@btime $x[1:1, 1:20]"
   ]
  },
  {
   "cell_type": "code",
   "execution_count": 23,
   "metadata": {},
   "outputs": [
    {
     "name": "stdout",
     "output_type": "stream",
     "text": [
      "  28.995 ns (2 allocations: 80 bytes)\n"
     ]
    },
    {
     "data": {
      "text/html": [
       "<p>DataFrameRow</p><table class=\"data-frame\"><thead><tr><th></th><th>x1</th><th>x2</th><th>x3</th><th>x4</th><th>x5</th><th>x6</th><th>x7</th><th>x8</th><th>x9</th></tr><tr><th></th><th>Float64</th><th>Float64</th><th>Float64</th><th>Float64</th><th>Float64</th><th>Float64</th><th>Float64</th><th>Float64</th><th>Float64</th></tr></thead><tbody><p>1 rows × 20 columns (omitted printing of 11 columns)</p><tr><th>1</th><td>0.637801</td><td>0.499658</td><td>0.946076</td><td>0.381518</td><td>0.541173</td><td>0.33955</td><td>0.988044</td><td>0.789436</td><td>0.908469</td></tr></tbody></table>"
      ],
      "text/latex": [
       "\\begin{tabular}{r|cccccccccc}\n",
       "\t& x1 & x2 & x3 & x4 & x5 & x6 & x7 & x8 & x9 & \\\\\n",
       "\t\\hline\n",
       "\t& Float64 & Float64 & Float64 & Float64 & Float64 & Float64 & Float64 & Float64 & Float64 & \\\\\n",
       "\t\\hline\n",
       "\t1 & 0.637801 & 0.499658 & 0.946076 & 0.381518 & 0.541173 & 0.33955 & 0.988044 & 0.789436 & 0.908469 & $\\dots$ \\\\\n",
       "\\end{tabular}\n"
      ],
      "text/plain": [
       "DataFrameRow. Omitted printing of 14 columns\n",
       "│ Row │ x1       │ x2       │ x3       │ x4       │ x5       │ x6      │\n",
       "│     │ \u001b[90mFloat64\u001b[39m  │ \u001b[90mFloat64\u001b[39m  │ \u001b[90mFloat64\u001b[39m  │ \u001b[90mFloat64\u001b[39m  │ \u001b[90mFloat64\u001b[39m  │ \u001b[90mFloat64\u001b[39m │\n",
       "├─────┼──────────┼──────────┼──────────┼──────────┼──────────┼─────────┤\n",
       "│ 1   │ 0.637801 │ 0.499658 │ 0.946076 │ 0.381518 │ 0.541173 │ 0.33955 │"
      ]
     },
     "execution_count": 23,
     "metadata": {},
     "output_type": "execute_result"
    }
   ],
   "source": [
    "@btime $x[1, 1:20]"
   ]
  },
  {
   "cell_type": "code",
   "execution_count": 24,
   "metadata": {},
   "outputs": [
    {
     "name": "stdout",
     "output_type": "stream",
     "text": [
      "  34.256 ns (2 allocations: 96 bytes)\n"
     ]
    },
    {
     "data": {
      "text/html": [
       "<table class=\"data-frame\"><thead><tr><th></th><th>x1</th><th>x2</th><th>x3</th><th>x4</th><th>x5</th><th>x6</th><th>x7</th><th>x8</th><th>x9</th></tr><tr><th></th><th>Float64</th><th>Float64</th><th>Float64</th><th>Float64</th><th>Float64</th><th>Float64</th><th>Float64</th><th>Float64</th><th>Float64</th></tr></thead><tbody><p>1 rows × 20 columns (omitted printing of 11 columns)</p><tr><th>1</th><td>0.637801</td><td>0.499658</td><td>0.946076</td><td>0.381518</td><td>0.541173</td><td>0.33955</td><td>0.988044</td><td>0.789436</td><td>0.908469</td></tr></tbody></table>"
      ],
      "text/latex": [
       "\\begin{tabular}{r|cccccccccc}\n",
       "\t& x1 & x2 & x3 & x4 & x5 & x6 & x7 & x8 & x9 & \\\\\n",
       "\t\\hline\n",
       "\t& Float64 & Float64 & Float64 & Float64 & Float64 & Float64 & Float64 & Float64 & Float64 & \\\\\n",
       "\t\\hline\n",
       "\t1 & 0.637801 & 0.499658 & 0.946076 & 0.381518 & 0.541173 & 0.33955 & 0.988044 & 0.789436 & 0.908469 & $\\dots$ \\\\\n",
       "\\end{tabular}\n"
      ],
      "text/plain": [
       "1×20 SubDataFrame. Omitted printing of 14 columns\n",
       "│ Row │ x1       │ x2       │ x3       │ x4       │ x5       │ x6      │\n",
       "│     │ \u001b[90mFloat64\u001b[39m  │ \u001b[90mFloat64\u001b[39m  │ \u001b[90mFloat64\u001b[39m  │ \u001b[90mFloat64\u001b[39m  │ \u001b[90mFloat64\u001b[39m  │ \u001b[90mFloat64\u001b[39m │\n",
       "├─────┼──────────┼──────────┼──────────┼──────────┼──────────┼─────────┤\n",
       "│ 1   │ 0.637801 │ 0.499658 │ 0.946076 │ 0.381518 │ 0.541173 │ 0.33955 │"
      ]
     },
     "execution_count": 24,
     "metadata": {},
     "output_type": "execute_result"
    }
   ],
   "source": [
    "@btime view($x, 1:1, 1:20)"
   ]
  }
 ],
 "metadata": {
  "@webio": {
   "lastCommId": null,
   "lastKernelId": null
  },
  "kernelspec": {
   "display_name": "Julia 1.1.0",
   "language": "julia",
   "name": "julia-1.1"
  },
  "language_info": {
   "file_extension": ".jl",
   "mimetype": "application/julia",
   "name": "julia",
   "version": "1.1.0"
  }
 },
 "nbformat": 4,
 "nbformat_minor": 1
}
