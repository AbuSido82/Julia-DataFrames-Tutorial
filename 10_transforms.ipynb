{
 "cells": [
  {
   "cell_type": "markdown",
   "metadata": {},
   "source": [
    "# Introduction to DataFrames\n",
    "**[Bogumił Kamiński](http://bogumilkaminski.pl/about/), August 29, 2018**"
   ]
  },
  {
   "cell_type": "code",
   "execution_count": 1,
   "metadata": {},
   "outputs": [],
   "source": [
    "using DataFrames # load package"
   ]
  },
  {
   "cell_type": "markdown",
   "metadata": {},
   "source": [
    "## Split-apply-combine"
   ]
  },
  {
   "cell_type": "code",
   "execution_count": 2,
   "metadata": {},
   "outputs": [
    {
     "data": {
      "text/html": [
       "<table class=\"data-frame\"><thead><tr><th></th><th>id</th><th>id2</th><th>v</th></tr></thead><tbody><tr><th>1</th><td>1</td><td>1</td><td>0.376992</td></tr><tr><th>2</th><td>2</td><td>2</td><td>0.315282</td></tr><tr><th>3</th><td>3</td><td>1</td><td>0.851024</td></tr><tr><th>4</th><td>4</td><td>2</td><td>0.678299</td></tr><tr><th>5</th><td>1</td><td>1</td><td>0.938288</td></tr><tr><th>6</th><td>2</td><td>2</td><td>0.315817</td></tr><tr><th>7</th><td>3</td><td>1</td><td>0.79761</td></tr><tr><th>8</th><td>4</td><td>2</td><td>0.947347</td></tr></tbody></table>"
      ],
      "text/plain": [
       "8×3 DataFrame\n",
       "│ Row │ id │ id2 │ v        │\n",
       "├─────┼────┼─────┼──────────┤\n",
       "│ 1   │ 1  │ 1   │ 0.376992 │\n",
       "│ 2   │ 2  │ 2   │ 0.315282 │\n",
       "│ 3   │ 3  │ 1   │ 0.851024 │\n",
       "│ 4   │ 4  │ 2   │ 0.678299 │\n",
       "│ 5   │ 1  │ 1   │ 0.938288 │\n",
       "│ 6   │ 2  │ 2   │ 0.315817 │\n",
       "│ 7   │ 3  │ 1   │ 0.79761  │\n",
       "│ 8   │ 4  │ 2   │ 0.947347 │"
      ]
     },
     "execution_count": 2,
     "metadata": {},
     "output_type": "execute_result"
    }
   ],
   "source": [
    "x = DataFrame(id=[1,2,3,4,1,2,3,4], id2=[1,2,1,2,1,2,1,2], v=rand(8))"
   ]
  },
  {
   "cell_type": "code",
   "execution_count": 3,
   "metadata": {},
   "outputs": [
    {
     "data": {
      "text/plain": [
       "GroupedDataFrame  4 groups with keys: Symbol[:id]\n",
       "First Group:\n",
       "2×3 SubDataFrame{Array{Int64,1}}\n",
       "│ Row │ id │ id2 │ v        │\n",
       "├─────┼────┼─────┼──────────┤\n",
       "│ 1   │ 1  │ 1   │ 0.376992 │\n",
       "│ 2   │ 1  │ 1   │ 0.938288 │\n",
       "⋮\n",
       "Last Group:\n",
       "2×3 SubDataFrame{Array{Int64,1}}\n",
       "│ Row │ id │ id2 │ v        │\n",
       "├─────┼────┼─────┼──────────┤\n",
       "│ 1   │ 4  │ 2   │ 0.678299 │\n",
       "│ 2   │ 4  │ 2   │ 0.947347 │"
      ]
     },
     "execution_count": 3,
     "metadata": {},
     "output_type": "execute_result"
    }
   ],
   "source": [
    "gx1 = groupby(x, :id)"
   ]
  },
  {
   "cell_type": "code",
   "execution_count": 4,
   "metadata": {},
   "outputs": [
    {
     "data": {
      "text/plain": [
       "GroupedDataFrame  4 groups with keys: Symbol[:id, :id2]\n",
       "First Group:\n",
       "2×3 SubDataFrame{Array{Int64,1}}\n",
       "│ Row │ id │ id2 │ v        │\n",
       "├─────┼────┼─────┼──────────┤\n",
       "│ 1   │ 1  │ 1   │ 0.376992 │\n",
       "│ 2   │ 1  │ 1   │ 0.938288 │\n",
       "⋮\n",
       "Last Group:\n",
       "2×3 SubDataFrame{Array{Int64,1}}\n",
       "│ Row │ id │ id2 │ v        │\n",
       "├─────┼────┼─────┼──────────┤\n",
       "│ 1   │ 4  │ 2   │ 0.678299 │\n",
       "│ 2   │ 4  │ 2   │ 0.947347 │"
      ]
     },
     "execution_count": 4,
     "metadata": {},
     "output_type": "execute_result"
    }
   ],
   "source": [
    "gx2 = groupby(x, [:id, :id2])"
   ]
  },
  {
   "cell_type": "code",
   "execution_count": 5,
   "metadata": {},
   "outputs": [
    {
     "data": {
      "text/html": [
       "<table class=\"data-frame\"><thead><tr><th></th><th>id</th><th>id2</th><th>v</th></tr></thead><tbody><tr><th>1</th><td>1</td><td>1</td><td>0.376992</td></tr><tr><th>2</th><td>1</td><td>1</td><td>0.938288</td></tr><tr><th>3</th><td>2</td><td>2</td><td>0.315282</td></tr><tr><th>4</th><td>2</td><td>2</td><td>0.315817</td></tr><tr><th>5</th><td>3</td><td>1</td><td>0.851024</td></tr><tr><th>6</th><td>3</td><td>1</td><td>0.79761</td></tr><tr><th>7</th><td>4</td><td>2</td><td>0.678299</td></tr><tr><th>8</th><td>4</td><td>2</td><td>0.947347</td></tr></tbody></table>"
      ],
      "text/plain": [
       "8×3 DataFrame\n",
       "│ Row │ id │ id2 │ v        │\n",
       "├─────┼────┼─────┼──────────┤\n",
       "│ 1   │ 1  │ 1   │ 0.376992 │\n",
       "│ 2   │ 1  │ 1   │ 0.938288 │\n",
       "│ 3   │ 2  │ 2   │ 0.315282 │\n",
       "│ 4   │ 2  │ 2   │ 0.315817 │\n",
       "│ 5   │ 3  │ 1   │ 0.851024 │\n",
       "│ 6   │ 3  │ 1   │ 0.79761  │\n",
       "│ 7   │ 4  │ 2   │ 0.678299 │\n",
       "│ 8   │ 4  │ 2   │ 0.947347 │"
      ]
     },
     "execution_count": 5,
     "metadata": {},
     "output_type": "execute_result"
    }
   ],
   "source": [
    "vcat(gx2...) # back to the original DataFrame"
   ]
  },
  {
   "cell_type": "code",
   "execution_count": 6,
   "metadata": {},
   "outputs": [
    {
     "data": {
      "text/html": [
       "<table class=\"data-frame\"><thead><tr><th></th><th>id</th><th>x</th></tr></thead><tbody><tr><th>1</th><td>missing</td><td>1</td></tr><tr><th>2</th><td>5</td><td>2</td></tr><tr><th>3</th><td>1</td><td>3</td></tr><tr><th>4</th><td>3</td><td>4</td></tr><tr><th>5</th><td>missing</td><td>5</td></tr></tbody></table>"
      ],
      "text/plain": [
       "5×2 DataFrame\n",
       "│ Row │ id      │ x │\n",
       "├─────┼─────────┼───┤\n",
       "│ 1   │ \u001b[90mmissing\u001b[39m │ 1 │\n",
       "│ 2   │ 5       │ 2 │\n",
       "│ 3   │ 1       │ 3 │\n",
       "│ 4   │ 3       │ 4 │\n",
       "│ 5   │ \u001b[90mmissing\u001b[39m │ 5 │"
      ]
     },
     "execution_count": 6,
     "metadata": {},
     "output_type": "execute_result"
    }
   ],
   "source": [
    "x = DataFrame(id = [missing, 5, 1, 3, missing], x = 1:5)"
   ]
  },
  {
   "cell_type": "code",
   "execution_count": 7,
   "metadata": {},
   "outputs": [
    {
     "data": {
      "text/plain": [
       "GroupedDataFrame  4 groups with keys: Symbol[:id]\n",
       "First Group:\n",
       "2×2 SubDataFrame{Array{Int64,1}}\n",
       "│ Row │ id      │ x │\n",
       "├─────┼─────────┼───┤\n",
       "│ 1   │ \u001b[90mmissing\u001b[39m │ 1 │\n",
       "│ 2   │ \u001b[90mmissing\u001b[39m │ 5 │\n",
       "⋮\n",
       "Last Group:\n",
       "1×2 SubDataFrame{Array{Int64,1}}\n",
       "│ Row │ id │ x │\n",
       "├─────┼────┼───┤\n",
       "│ 1   │ 3  │ 4 │"
      ]
     },
     "execution_count": 7,
     "metadata": {},
     "output_type": "execute_result"
    }
   ],
   "source": [
    "groupby(x, :id) # by default groups include mising values and are not sorted"
   ]
  },
  {
   "cell_type": "code",
   "execution_count": 8,
   "metadata": {},
   "outputs": [
    {
     "data": {
      "text/plain": [
       "GroupedDataFrame  3 groups with keys: Symbol[:id]\n",
       "First Group:\n",
       "1×2 SubDataFrame{Array{Int64,1}}\n",
       "│ Row │ id │ x │\n",
       "├─────┼────┼───┤\n",
       "│ 1   │ 1  │ 3 │\n",
       "⋮\n",
       "Last Group:\n",
       "1×2 SubDataFrame{Array{Int64,1}}\n",
       "│ Row │ id │ x │\n",
       "├─────┼────┼───┤\n",
       "│ 1   │ 5  │ 2 │"
      ]
     },
     "execution_count": 8,
     "metadata": {},
     "output_type": "execute_result"
    }
   ],
   "source": [
    "groupby(x, :id, sort=true, skipmissing=true) # but we can change it :)"
   ]
  },
  {
   "cell_type": "code",
   "execution_count": 10,
   "metadata": {},
   "outputs": [
    {
     "data": {
      "text/html": [
       "<table class=\"data-frame\"><thead><tr><th></th><th>id</th><th>x1</th></tr></thead><tbody><tr><th>1</th><td>'c'</td><td>0.53167</td></tr><tr><th>2</th><td>'b'</td><td>0.536764</td></tr><tr><th>3</th><td>'d'</td><td>0.533255</td></tr><tr><th>4</th><td>'a'</td><td>0.500416</td></tr></tbody></table>"
      ],
      "text/plain": [
       "4×2 DataFrame\n",
       "│ Row │ id  │ x1       │\n",
       "├─────┼─────┼──────────┤\n",
       "│ 1   │ 'c' │ 0.53167  │\n",
       "│ 2   │ 'b' │ 0.536764 │\n",
       "│ 3   │ 'd' │ 0.533255 │\n",
       "│ 4   │ 'a' │ 0.500416 │"
      ]
     },
     "execution_count": 10,
     "metadata": {},
     "output_type": "execute_result"
    }
   ],
   "source": [
    "using Statistics\n",
    "x = DataFrame(id=rand('a':'d', 100), v=rand(100));\n",
    "by(x, :id, y->mean(y.v)) # apply a function to each group of a data frame"
   ]
  },
  {
   "cell_type": "code",
   "execution_count": 11,
   "metadata": {},
   "outputs": [
    {
     "data": {
      "text/html": [
       "<table class=\"data-frame\"><thead><tr><th></th><th>id</th><th>x1</th></tr></thead><tbody><tr><th>1</th><td>'a'</td><td>0.500416</td></tr><tr><th>2</th><td>'b'</td><td>0.536764</td></tr><tr><th>3</th><td>'c'</td><td>0.53167</td></tr><tr><th>4</th><td>'d'</td><td>0.533255</td></tr></tbody></table>"
      ],
      "text/plain": [
       "4×2 DataFrame\n",
       "│ Row │ id  │ x1       │\n",
       "├─────┼─────┼──────────┤\n",
       "│ 1   │ 'a' │ 0.500416 │\n",
       "│ 2   │ 'b' │ 0.536764 │\n",
       "│ 3   │ 'c' │ 0.53167  │\n",
       "│ 4   │ 'd' │ 0.533255 │"
      ]
     },
     "execution_count": 11,
     "metadata": {},
     "output_type": "execute_result"
    }
   ],
   "source": [
    "by(x, :id, y->mean(y.v), sort=true) # we can sort the output"
   ]
  },
  {
   "cell_type": "code",
   "execution_count": 12,
   "metadata": {},
   "outputs": [
    {
     "data": {
      "text/html": [
       "<table class=\"data-frame\"><thead><tr><th></th><th>id</th><th>res</th></tr></thead><tbody><tr><th>1</th><td>'c'</td><td>0.53167</td></tr><tr><th>2</th><td>'b'</td><td>0.536764</td></tr><tr><th>3</th><td>'d'</td><td>0.533255</td></tr><tr><th>4</th><td>'a'</td><td>0.500416</td></tr></tbody></table>"
      ],
      "text/plain": [
       "4×2 DataFrame\n",
       "│ Row │ id  │ res      │\n",
       "├─────┼─────┼──────────┤\n",
       "│ 1   │ 'c' │ 0.53167  │\n",
       "│ 2   │ 'b' │ 0.536764 │\n",
       "│ 3   │ 'd' │ 0.533255 │\n",
       "│ 4   │ 'a' │ 0.500416 │"
      ]
     },
     "execution_count": 12,
     "metadata": {},
     "output_type": "execute_result"
    }
   ],
   "source": [
    "by(x, :id, y->DataFrame(res=mean(y.v))) # this way we can set a name for a column - DataFramesMeta @by is better"
   ]
  },
  {
   "cell_type": "code",
   "execution_count": 13,
   "metadata": {},
   "outputs": [
    {
     "data": {
      "text/html": [
       "<table class=\"data-frame\"><thead><tr><th></th><th>id</th><th>x1_sum</th><th>x2_sum</th></tr></thead><tbody><tr><th>1</th><td>'a'</td><td>12.1865</td><td>15.3687</td></tr><tr><th>2</th><td>'c'</td><td>10.487</td><td>9.84328</td></tr><tr><th>3</th><td>'b'</td><td>13.6422</td><td>12.8255</td></tr><tr><th>4</th><td>'d'</td><td>9.32685</td><td>9.8113</td></tr></tbody></table>"
      ],
      "text/plain": [
       "4×3 DataFrame\n",
       "│ Row │ id  │ x1_sum  │ x2_sum  │\n",
       "├─────┼─────┼─────────┼─────────┤\n",
       "│ 1   │ 'a' │ 12.1865 │ 15.3687 │\n",
       "│ 2   │ 'c' │ 10.487  │ 9.84328 │\n",
       "│ 3   │ 'b' │ 13.6422 │ 12.8255 │\n",
       "│ 4   │ 'd' │ 9.32685 │ 9.8113  │"
      ]
     },
     "execution_count": 13,
     "metadata": {},
     "output_type": "execute_result"
    }
   ],
   "source": [
    "x = DataFrame(id=rand('a':'d', 100), x1=rand(100), x2=rand(100))\n",
    "aggregate(x, :id, sum) # apply a function over all columns of a data frame in groups given by id"
   ]
  },
  {
   "cell_type": "code",
   "execution_count": 14,
   "metadata": {},
   "outputs": [
    {
     "data": {
      "text/html": [
       "<table class=\"data-frame\"><thead><tr><th></th><th>id</th><th>x1_sum</th><th>x2_sum</th></tr></thead><tbody><tr><th>1</th><td>'a'</td><td>12.1865</td><td>15.3687</td></tr><tr><th>2</th><td>'b'</td><td>13.6422</td><td>12.8255</td></tr><tr><th>3</th><td>'c'</td><td>10.487</td><td>9.84328</td></tr><tr><th>4</th><td>'d'</td><td>9.32685</td><td>9.8113</td></tr></tbody></table>"
      ],
      "text/plain": [
       "4×3 DataFrame\n",
       "│ Row │ id  │ x1_sum  │ x2_sum  │\n",
       "├─────┼─────┼─────────┼─────────┤\n",
       "│ 1   │ 'a' │ 12.1865 │ 15.3687 │\n",
       "│ 2   │ 'b' │ 13.6422 │ 12.8255 │\n",
       "│ 3   │ 'c' │ 10.487  │ 9.84328 │\n",
       "│ 4   │ 'd' │ 9.32685 │ 9.8113  │"
      ]
     },
     "execution_count": 14,
     "metadata": {},
     "output_type": "execute_result"
    }
   ],
   "source": [
    "aggregate(x, :id, sum, sort=true) # also can be sorted"
   ]
  },
  {
   "cell_type": "markdown",
   "metadata": {},
   "source": [
    "*We omit the discussion of of map/combine as I do not find them very useful (better to use by)*"
   ]
  },
  {
   "cell_type": "code",
   "execution_count": 15,
   "metadata": {},
   "outputs": [
    {
     "data": {
      "text/html": [
       "<table class=\"data-frame\"><thead><tr><th></th><th>x1</th><th>x2</th><th>x3</th><th>x4</th><th>x5</th></tr></thead><tbody><tr><th>1</th><td>0.639392</td><td>0.651516</td><td>0.905496</td><td>0.096984</td><td>0.196036</td></tr><tr><th>2</th><td>0.58018</td><td>0.677913</td><td>0.766194</td><td>0.507495</td><td>0.461365</td></tr><tr><th>3</th><td>0.55038</td><td>0.797195</td><td>0.456577</td><td>0.765008</td><td>0.925907</td></tr></tbody></table>"
      ],
      "text/plain": [
       "3×5 DataFrame\n",
       "│ Row │ x1       │ x2       │ x3       │ x4       │ x5       │\n",
       "├─────┼──────────┼──────────┼──────────┼──────────┼──────────┤\n",
       "│ 1   │ 0.639392 │ 0.651516 │ 0.905496 │ 0.096984 │ 0.196036 │\n",
       "│ 2   │ 0.58018  │ 0.677913 │ 0.766194 │ 0.507495 │ 0.461365 │\n",
       "│ 3   │ 0.55038  │ 0.797195 │ 0.456577 │ 0.765008 │ 0.925907 │"
      ]
     },
     "execution_count": 15,
     "metadata": {},
     "output_type": "execute_result"
    }
   ],
   "source": [
    "x = DataFrame(rand(3, 5))"
   ]
  },
  {
   "cell_type": "code",
   "execution_count": 16,
   "metadata": {},
   "outputs": [
    {
     "data": {
      "text/html": [
       "<table class=\"data-frame\"><thead><tr><th></th><th>x1</th><th>x2</th><th>x3</th><th>x4</th><th>x5</th></tr></thead><tbody><tr><th>1</th><td>0.589984</td><td>0.708874</td><td>0.709422</td><td>0.456496</td><td>0.527769</td></tr></tbody></table>"
      ],
      "text/plain": [
       "1×5 DataFrame\n",
       "│ Row │ x1       │ x2       │ x3       │ x4       │ x5       │\n",
       "├─────┼──────────┼──────────┼──────────┼──────────┼──────────┤\n",
       "│ 1   │ 0.589984 │ 0.708874 │ 0.709422 │ 0.456496 │ 0.527769 │"
      ]
     },
     "execution_count": 16,
     "metadata": {},
     "output_type": "execute_result"
    }
   ],
   "source": [
    "map(mean, eachcol(x)) # map a function over each column and return a data frame"
   ]
  },
  {
   "cell_type": "code",
   "execution_count": 17,
   "metadata": {},
   "outputs": [
    {
     "name": "stdout",
     "output_type": "stream",
     "text": [
      "x1: 0.5199838767033462\n",
      "x2: 0.7088744581491442\n",
      "x3: 0.7094221963890801\n",
      "x4: 0.4564955170599234\n",
      "x5: 0.5277693846746828\n"
     ]
    }
   ],
   "source": [
    "foreach(c -> println(c[1], \": \", mean(c[2])), eachcol(x)) # a raw iteration returns a tuple with column name and values"
   ]
  },
  {
   "cell_type": "code",
   "execution_count": 18,
   "metadata": {},
   "outputs": [
    {
     "data": {
      "text/plain": [
       "5-element Array{Float64,1}:\n",
       " 0.5899838767033462\n",
       " 0.7088744581491442\n",
       " 0.7094221963890801\n",
       " 0.4564955170599234\n",
       " 0.5277693846746828"
      ]
     },
     "execution_count": 18,
     "metadata": {},
     "output_type": "execute_result"
    }
   ],
   "source": [
    "colwise(mean, x) # colwise is similar, but produces a vector"
   ]
  },
  {
   "cell_type": "code",
   "execution_count": 19,
   "metadata": {},
   "outputs": [
    {
     "data": {
      "text/plain": [
       "2-element Array{Array{Float64,1},1}:\n",
       " [0.609786, 0.664714, 0.835845, 0.302239, 0.328701, 1.0]\n",
       " [0.55038, 0.797195, 0.456577, 0.765008, 0.925907, 2.0] "
      ]
     },
     "execution_count": 19,
     "metadata": {},
     "output_type": "execute_result"
    }
   ],
   "source": [
    "x[:id] = [1,1,2]\n",
    "colwise(mean,groupby(x, :id)) # and works on GroupedDataFrame"
   ]
  },
  {
   "cell_type": "code",
   "execution_count": 20,
   "metadata": {},
   "outputs": [
    {
     "data": {
      "text/plain": [
       "3-element Array{Float64,1}:\n",
       " 0.9813913399427114\n",
       " 0.8558320345818962\n",
       " 0.6903961212620849"
      ]
     },
     "execution_count": 20,
     "metadata": {},
     "output_type": "execute_result"
    }
   ],
   "source": [
    "map(r -> r.x1/r.x2, eachrow(x)) # now the returned value is DataFrameRow which works similarly to a one-row DataFrame"
   ]
  }
 ],
 "metadata": {
  "kernelspec": {
   "display_name": "Julia 1.0.0",
   "language": "julia",
   "name": "julia-1.0"
  },
  "language_info": {
   "file_extension": ".jl",
   "mimetype": "application/julia",
   "name": "julia",
   "version": "1.0.0"
  }
 },
 "nbformat": 4,
 "nbformat_minor": 1
}
