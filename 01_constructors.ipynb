{
 "cells": [
  {
   "cell_type": "markdown",
   "metadata": {},
   "source": [
    "# Introduction to DataFrames\n",
    "**[Bogumił Kamiński](http://bogumilkaminski.pl/about/), Dec 2, 2017**\n",
    "\n",
    "A brief introduction to basic usage of `DataFrames`. Tested under version `0.11`.\n",
    "I will try to keep it up to date as the package evolves."
   ]
  },
  {
   "cell_type": "code",
   "execution_count": 1,
   "metadata": {
    "collapsed": false
   },
   "outputs": [],
   "source": [
    "using DataFrames # load package"
   ]
  },
  {
   "cell_type": "markdown",
   "metadata": {},
   "source": [
    "## Constructors"
   ]
  },
  {
   "cell_type": "code",
   "execution_count": 2,
   "metadata": {
    "collapsed": false
   },
   "outputs": [
    {
     "data": {
      "text/html": [
       "<table class=\"data-frame\"><thead><tr><th></th></tr></thead><tbody></tbody></table>"
      ],
      "text/plain": [
       "0×0 DataFrames.DataFrame\n"
      ]
     },
     "execution_count": 2,
     "metadata": {},
     "output_type": "execute_result"
    }
   ],
   "source": [
    "DataFrame() # empty DataFrame"
   ]
  },
  {
   "cell_type": "code",
   "execution_count": 3,
   "metadata": {
    "collapsed": false
   },
   "outputs": [
    {
     "data": {
      "text/html": [
       "<table class=\"data-frame\"><thead><tr><th></th><th>A</th><th>B</th><th>C</th></tr></thead><tbody><tr><th>1</th><td>1</td><td>0.130975</td><td>LaD</td></tr><tr><th>2</th><td>2</td><td>0.540133</td><td>RDe</td></tr><tr><th>3</th><td>3</td><td>0.949558</td><td>oN9</td></tr></tbody></table>"
      ],
      "text/plain": [
       "3×3 DataFrames.DataFrame\n",
       "│ Row │ A │ B        │ C   │\n",
       "├─────┼───┼──────────┼─────┤\n",
       "│ 1   │ 1 │ 0.130975 │ LaD │\n",
       "│ 2   │ 2 │ 0.540133 │ RDe │\n",
       "│ 3   │ 3 │ 0.949558 │ oN9 │"
      ]
     },
     "execution_count": 3,
     "metadata": {},
     "output_type": "execute_result"
    }
   ],
   "source": [
    "DataFrame(A=1:3, B=rand(3), C=randstring.([3,3,3])) # keyword arguments"
   ]
  },
  {
   "cell_type": "code",
   "execution_count": 4,
   "metadata": {
    "collapsed": false
   },
   "outputs": [
    {
     "data": {
      "text/html": [
       "<table class=\"data-frame\"><thead><tr><th></th><th>A</th><th>B</th><th>C</th></tr></thead><tbody><tr><th>1</th><td>1</td><td>true</td><td>'a'</td></tr><tr><th>2</th><td>2</td><td>false</td><td>'b'</td></tr></tbody></table>"
      ],
      "text/plain": [
       "2×3 DataFrames.DataFrame\n",
       "│ Row │ A │ B     │ C   │\n",
       "├─────┼───┼───────┼─────┤\n",
       "│ 1   │ 1 │ true  │ 'a' │\n",
       "│ 2   │ 2 │ false │ 'b' │"
      ]
     },
     "execution_count": 4,
     "metadata": {},
     "output_type": "execute_result"
    }
   ],
   "source": [
    "x = Dict(\"A\" => [1,2], \"B\" => [true, false], \"C\" => ['a', 'b'])\n",
    "DataFrame(x) # from dictionary, columns will be sorted"
   ]
  },
  {
   "cell_type": "code",
   "execution_count": 5,
   "metadata": {
    "collapsed": false
   },
   "outputs": [
    {
     "data": {
      "text/html": [
       "<table class=\"data-frame\"><thead><tr><th></th><th>A</th><th>B</th><th>C</th></tr></thead><tbody><tr><th>1</th><td>1</td><td>true</td><td>'a'</td></tr><tr><th>2</th><td>2</td><td>false</td><td>'b'</td></tr></tbody></table>"
      ],
      "text/plain": [
       "2×3 DataFrames.DataFrame\n",
       "│ Row │ A │ B     │ C   │\n",
       "├─────┼───┼───────┼─────┤\n",
       "│ 1   │ 1 │ true  │ 'a' │\n",
       "│ 2   │ 2 │ false │ 'b' │"
      ]
     },
     "execution_count": 5,
     "metadata": {},
     "output_type": "execute_result"
    }
   ],
   "source": [
    "DataFrame(:A => [1,2], :B => [true, false], :C => ['a', 'b']) # from pairs"
   ]
  },
  {
   "cell_type": "code",
   "execution_count": 6,
   "metadata": {
    "collapsed": false
   },
   "outputs": [
    {
     "data": {
      "text/html": [
       "<table class=\"data-frame\"><thead><tr><th></th><th>x1</th><th>x2</th><th>x3</th></tr></thead><tbody><tr><th>1</th><td>0.466684</td><td>0.129099</td><td>0.0595383</td></tr><tr><th>2</th><td>0.487316</td><td>0.577872</td><td>0.742604</td></tr><tr><th>3</th><td>0.703949</td><td>0.324203</td><td>0.646678</td></tr></tbody></table>"
      ],
      "text/plain": [
       "3×3 DataFrames.DataFrame\n",
       "│ Row │ x1       │ x2       │ x3        │\n",
       "├─────┼──────────┼──────────┼───────────┤\n",
       "│ 1   │ 0.466684 │ 0.129099 │ 0.0595383 │\n",
       "│ 2   │ 0.487316 │ 0.577872 │ 0.742604  │\n",
       "│ 3   │ 0.703949 │ 0.324203 │ 0.646678  │"
      ]
     },
     "execution_count": 6,
     "metadata": {},
     "output_type": "execute_result"
    }
   ],
   "source": [
    "DataFrame([rand(3) for i in 1:3]) # from vector of vectors"
   ]
  },
  {
   "cell_type": "code",
   "execution_count": 7,
   "metadata": {
    "collapsed": false
   },
   "outputs": [
    {
     "data": {
      "text/html": [
       "<table class=\"data-frame\"><thead><tr><th></th><th>x1</th><th>x2</th><th>x3</th></tr></thead><tbody><tr><th>1</th><td>0.711074</td><td>0.165517</td><td>0.517115</td></tr></tbody></table>"
      ],
      "text/plain": [
       "1×3 DataFrames.DataFrame\n",
       "│ Row │ x1       │ x2       │ x3       │\n",
       "├─────┼──────────┼──────────┼──────────┤\n",
       "│ 1   │ 0.711074 │ 0.165517 │ 0.517115 │"
      ]
     },
     "execution_count": 7,
     "metadata": {},
     "output_type": "execute_result"
    }
   ],
   "source": [
    "DataFrame(rand(3)) # edge case vector of atoms"
   ]
  },
  {
   "cell_type": "code",
   "execution_count": 8,
   "metadata": {
    "collapsed": false
   },
   "outputs": [
    {
     "data": {
      "text/html": [
       "<table class=\"data-frame\"><thead><tr><th></th><th>A</th><th>B</th><th>C</th></tr></thead><tbody><tr><th>1</th><td>0.281381</td><td>0.474771</td><td>0.195761</td></tr></tbody></table>"
      ],
      "text/plain": [
       "1×3 DataFrames.DataFrame\n",
       "│ Row │ A        │ B        │ C        │\n",
       "├─────┼──────────┼──────────┼──────────┤\n",
       "│ 1   │ 0.281381 │ 0.474771 │ 0.195761 │"
      ]
     },
     "execution_count": 8,
     "metadata": {},
     "output_type": "execute_result"
    }
   ],
   "source": [
    "DataFrame(rand(3), [:A, :B, :C]) # pass second argument to give column names"
   ]
  },
  {
   "cell_type": "code",
   "execution_count": 9,
   "metadata": {
    "collapsed": false
   },
   "outputs": [
    {
     "data": {
      "text/html": [
       "<table class=\"data-frame\"><thead><tr><th></th><th>x1</th><th>x2</th><th>x3</th><th>x4</th></tr></thead><tbody><tr><th>1</th><td>0.617417</td><td>0.349705</td><td>0.372344</td><td>0.336678</td></tr><tr><th>2</th><td>0.464459</td><td>0.185916</td><td>0.495102</td><td>0.342605</td></tr><tr><th>3</th><td>0.484482</td><td>0.342165</td><td>0.0344403</td><td>0.0393361</td></tr></tbody></table>"
      ],
      "text/plain": [
       "3×4 DataFrames.DataFrame\n",
       "│ Row │ x1       │ x2       │ x3        │ x4        │\n",
       "├─────┼──────────┼──────────┼───────────┼───────────┤\n",
       "│ 1   │ 0.617417 │ 0.349705 │ 0.372344  │ 0.336678  │\n",
       "│ 2   │ 0.464459 │ 0.185916 │ 0.495102  │ 0.342605  │\n",
       "│ 3   │ 0.484482 │ 0.342165 │ 0.0344403 │ 0.0393361 │"
      ]
     },
     "execution_count": 9,
     "metadata": {},
     "output_type": "execute_result"
    }
   ],
   "source": [
    "DataFrame(rand(3,4)) # from matrix"
   ]
  },
  {
   "cell_type": "code",
   "execution_count": 10,
   "metadata": {
    "collapsed": false
   },
   "outputs": [
    {
     "data": {
      "text/html": [
       "<table class=\"data-frame\"><thead><tr><th></th><th>A</th><th>B</th><th>C</th></tr></thead><tbody><tr><th>1</th><td>435792112</td><td>2.1531e-315</td><td>missing</td></tr></tbody></table>"
      ],
      "text/plain": [
       "1×3 DataFrames.DataFrame\n",
       "│ Row │ A         │ B           │ C       │\n",
       "├─────┼───────────┼─────────────┼─────────┤\n",
       "│ 1   │ 435792112 │ 2.1531e-315 │ \u001b[90mmissing\u001b[39m │"
      ]
     },
     "execution_count": 10,
     "metadata": {},
     "output_type": "execute_result"
    }
   ],
   "source": [
    "DataFrame([Int, Float64, Any], [:A, :B, :C], 1) # pass column types, names and number of rows\n",
    "# we get missing because Any >: Missing"
   ]
  },
  {
   "cell_type": "code",
   "execution_count": 11,
   "metadata": {
    "collapsed": false
   },
   "outputs": [
    {
     "ename": "UndefRefError",
     "evalue": "\u001b[91mUndefRefError: access to undefined reference\u001b[39m",
     "output_type": "error",
     "traceback": [
      "\u001b[91mUndefRefError: access to undefined reference\u001b[39m",
      "",
      "Stacktrace:",
      " [1] \u001b[1mgetindex\u001b[22m\u001b[22m\u001b[1m(\u001b[22m\u001b[22m::Array{String,1}, ::Int64\u001b[1m)\u001b[22m\u001b[22m at \u001b[1m.\\array.jl:554\u001b[22m\u001b[22m",
      " [2] \u001b[1mgetindex\u001b[22m\u001b[22m\u001b[1m(\u001b[22m\u001b[22m::DataFrames.DataFrame, ::Int64, ::Symbol\u001b[1m)\u001b[22m\u001b[22m at \u001b[1mD:\\Software\\JULIA_PKG\\v0.6\\DataFrames\\src\\dataframe\\dataframe.jl:233\u001b[22m\u001b[22m",
      " [3] \u001b[1mshow\u001b[22m\u001b[22m\u001b[1m(\u001b[22m\u001b[22m::IOContext{Base.AbstractIOBuffer{Array{UInt8,1}}}, ::MIME{Symbol(\"text/html\")}, ::DataFrames.DataFrame\u001b[1m)\u001b[22m\u001b[22m at \u001b[1mD:\\Software\\JULIA_PKG\\v0.6\\DataFrames\\src\\abstractdataframe\\io.jl:110\u001b[22m\u001b[22m",
      " [4] \u001b[1mlimitstringmime\u001b[22m\u001b[22m\u001b[1m(\u001b[22m\u001b[22m::MIME{Symbol(\"text/html\")}, ::DataFrames.DataFrame\u001b[1m)\u001b[22m\u001b[22m at \u001b[1mD:\\Software\\JULIA_PKG\\v0.6\\IJulia\\src\\inline.jl:24\u001b[22m\u001b[22m",
      " [5] \u001b[1mdisplay_dict\u001b[22m\u001b[22m\u001b[1m(\u001b[22m\u001b[22m::DataFrames.DataFrame\u001b[1m)\u001b[22m\u001b[22m at \u001b[1mD:\\Software\\JULIA_PKG\\v0.6\\IJulia\\src\\execute_request.jl:39\u001b[22m\u001b[22m",
      " [6] \u001b[1mexecute_request\u001b[22m\u001b[22m\u001b[1m(\u001b[22m\u001b[22m::ZMQ.Socket, ::IJulia.Msg\u001b[1m)\u001b[22m\u001b[22m at \u001b[1mD:\\Software\\JULIA_PKG\\v0.6\\IJulia\\src\\execute_request.jl:182\u001b[22m\u001b[22m",
      " [7] \u001b[1meventloop\u001b[22m\u001b[22m\u001b[1m(\u001b[22m\u001b[22m::ZMQ.Socket\u001b[1m)\u001b[22m\u001b[22m at \u001b[1mD:\\Software\\JULIA_PKG\\v0.6\\IJulia\\src\\eventloop.jl:8\u001b[22m\u001b[22m",
      " [8] \u001b[1m(::IJulia.##14#17)\u001b[22m\u001b[22m\u001b[1m(\u001b[22m\u001b[22m\u001b[1m)\u001b[22m\u001b[22m at \u001b[1m.\\task.jl:335\u001b[22m\u001b[22m"
     ]
    }
   ],
   "source": [
    "DataFrame([Int, Float64, String], [:A, :B, :C], 1)\n",
    "# it was created OK, only value for String is #undef so Jupyer has a problem with printing it"
   ]
  },
  {
   "cell_type": "code",
   "execution_count": 12,
   "metadata": {
    "collapsed": false
   },
   "outputs": [
    {
     "data": {
      "text/html": [
       "<table class=\"data-frame\"><thead><tr><th></th><th>A</th><th>B</th><th>C</th></tr></thead><tbody></tbody></table>"
      ],
      "text/plain": [
       "0×3 DataFrames.DataFrame\n"
      ]
     },
     "execution_count": 12,
     "metadata": {},
     "output_type": "execute_result"
    }
   ],
   "source": [
    "DataFrame([Int, Float64, String], [:A, :B, :C], 0) # columns are created, but there are no rows"
   ]
  },
  {
   "cell_type": "code",
   "execution_count": 13,
   "metadata": {
    "collapsed": false
   },
   "outputs": [
    {
     "data": {
      "text/html": [
       "<table class=\"data-frame\"><thead><tr><th></th><th>x1</th><th>x2</th><th>x3</th><th>x4</th><th>x5</th></tr></thead><tbody><tr><th>1</th><td>423316176</td><td>118872752</td><td>118872752</td><td>111204552</td><td>176622384</td></tr><tr><th>2</th><td>117575344</td><td>117575344</td><td>117575344</td><td>110284120</td><td>117604560</td></tr><tr><th>3</th><td>423280368</td><td>423280368</td><td>423280368</td><td>110253960</td><td>117604624</td></tr></tbody></table>"
      ],
      "text/plain": [
       "3×5 DataFrames.DataFrame\n",
       "│ Row │ x1        │ x2        │ x3        │ x4        │ x5        │\n",
       "├─────┼───────────┼───────────┼───────────┼───────────┼───────────┤\n",
       "│ 1   │ 423316176 │ 118872752 │ 118872752 │ 111204552 │ 176622384 │\n",
       "│ 2   │ 117575344 │ 117575344 │ 117575344 │ 110284120 │ 117604560 │\n",
       "│ 3   │ 423280368 │ 423280368 │ 423280368 │ 110253960 │ 117604624 │"
      ]
     },
     "execution_count": 13,
     "metadata": {},
     "output_type": "execute_result"
    }
   ],
   "source": [
    "DataFrame(Int, 3, 5) # a quick way to create homogenous DataFrame"
   ]
  },
  {
   "cell_type": "code",
   "execution_count": 14,
   "metadata": {
    "collapsed": false
   },
   "outputs": [
    {
     "data": {
      "text/html": [
       "<table class=\"data-frame\"><thead><tr><th></th><th>x1</th><th>x2</th></tr></thead><tbody><tr><th>1</th><td>118261360</td><td>5.4467e-316</td></tr><tr><th>2</th><td>117573520</td><td>5.44672e-316</td></tr><tr><th>3</th><td>117573520</td><td>5.44732e-316</td></tr><tr><th>4</th><td>111883576</td><td>6.75368e-316</td></tr></tbody></table>"
      ],
      "text/plain": [
       "4×2 DataFrames.DataFrame\n",
       "│ Row │ x1        │ x2           │\n",
       "├─────┼───────────┼──────────────┤\n",
       "│ 1   │ 118261360 │ 5.4467e-316  │\n",
       "│ 2   │ 117573520 │ 5.44672e-316 │\n",
       "│ 3   │ 117573520 │ 5.44732e-316 │\n",
       "│ 4   │ 111883576 │ 6.75368e-316 │"
      ]
     },
     "execution_count": 14,
     "metadata": {},
     "output_type": "execute_result"
    }
   ],
   "source": [
    "DataFrame([Int, Float64], 4) # similar, but with nonhomogenous columns"
   ]
  },
  {
   "cell_type": "code",
   "execution_count": 15,
   "metadata": {
    "collapsed": false
   },
   "outputs": [
    {
     "data": {
      "text/plain": [
       "2×4 Array{Any,2}:\n",
       " 1  1.0       \"a\"  1   \n",
       " 2   missing  \"b\"   \"a\""
      ]
     },
     "execution_count": 15,
     "metadata": {},
     "output_type": "execute_result"
    }
   ],
   "source": [
    "x = DataFrame(A = [1, 2], B = [1.0, missing], C = [\"a\", \"b\"], D = [1, \"a\"])\n",
    "convert(Array, x) # convert DataFrame to Matrix"
   ]
  },
  {
   "cell_type": "code",
   "execution_count": 16,
   "metadata": {
    "collapsed": false
   },
   "outputs": [
    {
     "data": {
      "text/plain": [
       "(true, false, true)"
      ]
     },
     "execution_count": 16,
     "metadata": {},
     "output_type": "execute_result"
    }
   ],
   "source": [
    "y = DataFrame(x) # no change\n",
    "z = copy(x) # copy (shallow)\n",
    "(x === y), (x === z), isequal(x, z)"
   ]
  }
 ],
 "metadata": {
  "kernelspec": {
   "display_name": "Julia 0.6.0",
   "language": "julia",
   "name": "julia-0.6"
  },
  "language_info": {
   "file_extension": ".jl",
   "mimetype": "application/julia",
   "name": "julia",
   "version": "0.6.1"
  }
 },
 "nbformat": 4,
 "nbformat_minor": 0
}
