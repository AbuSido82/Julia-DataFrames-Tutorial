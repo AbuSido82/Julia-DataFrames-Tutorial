{
 "cells": [
  {
   "cell_type": "markdown",
   "metadata": {},
   "source": [
    "# Introduction to DataFrames\n",
    "**Bogumił Kamiński, 2017**"
   ]
  },
  {
   "cell_type": "code",
   "execution_count": 48,
   "metadata": {
    "collapsed": true
   },
   "outputs": [],
   "source": [
    "using DataFrames # load package"
   ]
  },
  {
   "cell_type": "markdown",
   "metadata": {},
   "source": [
    "## Constructors"
   ]
  },
  {
   "cell_type": "code",
   "execution_count": 49,
   "metadata": {
    "collapsed": false
   },
   "outputs": [
    {
     "data": {
      "text/html": [
       "<table class=\"data-frame\"><thead><tr><th></th></tr></thead><tbody></tbody></table>"
      ],
      "text/plain": [
       "0×0 DataFrames.DataFrame\n"
      ]
     },
     "execution_count": 49,
     "metadata": {},
     "output_type": "execute_result"
    }
   ],
   "source": [
    "DataFrame() # empty DataFrame"
   ]
  },
  {
   "cell_type": "code",
   "execution_count": 50,
   "metadata": {
    "collapsed": false
   },
   "outputs": [
    {
     "data": {
      "text/html": [
       "<table class=\"data-frame\"><thead><tr><th></th><th>A</th><th>B</th><th>C</th></tr></thead><tbody><tr><th>1</th><td>1</td><td>0.434013</td><td>Bna</td></tr><tr><th>2</th><td>2</td><td>0.581531</td><td>II6</td></tr><tr><th>3</th><td>3</td><td>0.323388</td><td>nxA</td></tr></tbody></table>"
      ],
      "text/plain": [
       "3×3 DataFrames.DataFrame\n",
       "│ Row │ A │ B        │ C   │\n",
       "├─────┼───┼──────────┼─────┤\n",
       "│ 1   │ 1 │ 0.434013 │ Bna │\n",
       "│ 2   │ 2 │ 0.581531 │ II6 │\n",
       "│ 3   │ 3 │ 0.323388 │ nxA │"
      ]
     },
     "execution_count": 50,
     "metadata": {},
     "output_type": "execute_result"
    }
   ],
   "source": [
    "DataFrame(A=1:3, B=rand(3), C=randstring.([3,3,3])) # keyword arguments"
   ]
  },
  {
   "cell_type": "code",
   "execution_count": 51,
   "metadata": {
    "collapsed": false
   },
   "outputs": [
    {
     "data": {
      "text/html": [
       "<table class=\"data-frame\"><thead><tr><th></th><th>A</th><th>B</th><th>C</th></tr></thead><tbody><tr><th>1</th><td>1</td><td>true</td><td>'a'</td></tr><tr><th>2</th><td>2</td><td>false</td><td>'b'</td></tr></tbody></table>"
      ],
      "text/plain": [
       "2×3 DataFrames.DataFrame\n",
       "│ Row │ A │ B     │ C   │\n",
       "├─────┼───┼───────┼─────┤\n",
       "│ 1   │ 1 │ true  │ 'a' │\n",
       "│ 2   │ 2 │ false │ 'b' │"
      ]
     },
     "execution_count": 51,
     "metadata": {},
     "output_type": "execute_result"
    }
   ],
   "source": [
    "x = Dict(\"A\" => [1,2], \"B\" => [true, false], \"C\" => ['a', 'b'])\n",
    "DataFrame(x) # from dictionary, columns will be sorted"
   ]
  },
  {
   "cell_type": "code",
   "execution_count": 52,
   "metadata": {
    "collapsed": false
   },
   "outputs": [
    {
     "data": {
      "text/html": [
       "<table class=\"data-frame\"><thead><tr><th></th><th>A</th><th>B</th><th>C</th></tr></thead><tbody><tr><th>1</th><td>1</td><td>true</td><td>'a'</td></tr><tr><th>2</th><td>2</td><td>false</td><td>'b'</td></tr></tbody></table>"
      ],
      "text/plain": [
       "2×3 DataFrames.DataFrame\n",
       "│ Row │ A │ B     │ C   │\n",
       "├─────┼───┼───────┼─────┤\n",
       "│ 1   │ 1 │ true  │ 'a' │\n",
       "│ 2   │ 2 │ false │ 'b' │"
      ]
     },
     "execution_count": 52,
     "metadata": {},
     "output_type": "execute_result"
    }
   ],
   "source": [
    "DataFrame(:A => [1,2], :B => [true, false], :C => ['a', 'b']) # from pairs"
   ]
  },
  {
   "cell_type": "code",
   "execution_count": 53,
   "metadata": {
    "collapsed": false
   },
   "outputs": [
    {
     "data": {
      "text/html": [
       "<table class=\"data-frame\"><thead><tr><th></th><th>x1</th><th>x2</th><th>x3</th></tr></thead><tbody><tr><th>1</th><td>0.857284</td><td>0.288135</td><td>0.776641</td></tr><tr><th>2</th><td>0.219949</td><td>0.780355</td><td>0.381579</td></tr><tr><th>3</th><td>0.631626</td><td>0.972849</td><td>0.69764</td></tr></tbody></table>"
      ],
      "text/plain": [
       "3×3 DataFrames.DataFrame\n",
       "│ Row │ x1       │ x2       │ x3       │\n",
       "├─────┼──────────┼──────────┼──────────┤\n",
       "│ 1   │ 0.857284 │ 0.288135 │ 0.776641 │\n",
       "│ 2   │ 0.219949 │ 0.780355 │ 0.381579 │\n",
       "│ 3   │ 0.631626 │ 0.972849 │ 0.69764  │"
      ]
     },
     "execution_count": 53,
     "metadata": {},
     "output_type": "execute_result"
    }
   ],
   "source": [
    "DataFrame([rand(3) for i in 1:3]) # from vector of vectors"
   ]
  },
  {
   "cell_type": "code",
   "execution_count": 54,
   "metadata": {
    "collapsed": false
   },
   "outputs": [
    {
     "data": {
      "text/html": [
       "<table class=\"data-frame\"><thead><tr><th></th><th>x1</th><th>x2</th><th>x3</th></tr></thead><tbody><tr><th>1</th><td>0.882897</td><td>0.326831</td><td>0.863442</td></tr></tbody></table>"
      ],
      "text/plain": [
       "1×3 DataFrames.DataFrame\n",
       "│ Row │ x1       │ x2       │ x3       │\n",
       "├─────┼──────────┼──────────┼──────────┤\n",
       "│ 1   │ 0.882897 │ 0.326831 │ 0.863442 │"
      ]
     },
     "execution_count": 54,
     "metadata": {},
     "output_type": "execute_result"
    }
   ],
   "source": [
    "DataFrame(rand(3)) # edge case vector of atoms"
   ]
  },
  {
   "cell_type": "code",
   "execution_count": 55,
   "metadata": {
    "collapsed": false
   },
   "outputs": [
    {
     "data": {
      "text/html": [
       "<table class=\"data-frame\"><thead><tr><th></th><th>A</th><th>B</th><th>C</th></tr></thead><tbody><tr><th>1</th><td>0.591222</td><td>0.239545</td><td>0.161103</td></tr></tbody></table>"
      ],
      "text/plain": [
       "1×3 DataFrames.DataFrame\n",
       "│ Row │ A        │ B        │ C        │\n",
       "├─────┼──────────┼──────────┼──────────┤\n",
       "│ 1   │ 0.591222 │ 0.239545 │ 0.161103 │"
      ]
     },
     "execution_count": 55,
     "metadata": {},
     "output_type": "execute_result"
    }
   ],
   "source": [
    "DataFrame(rand(3), [:A, :B, :C]) # pass second argument to give column names"
   ]
  },
  {
   "cell_type": "code",
   "execution_count": 56,
   "metadata": {
    "collapsed": false
   },
   "outputs": [
    {
     "data": {
      "text/html": [
       "<table class=\"data-frame\"><thead><tr><th></th><th>x1</th><th>x2</th><th>x3</th><th>x4</th></tr></thead><tbody><tr><th>1</th><td>0.150824</td><td>0.167819</td><td>0.433765</td><td>0.970116</td></tr><tr><th>2</th><td>0.914093</td><td>0.448354</td><td>0.509072</td><td>0.669076</td></tr><tr><th>3</th><td>0.240055</td><td>0.574891</td><td>0.268122</td><td>0.699241</td></tr></tbody></table>"
      ],
      "text/plain": [
       "3×4 DataFrames.DataFrame\n",
       "│ Row │ x1       │ x2       │ x3       │ x4       │\n",
       "├─────┼──────────┼──────────┼──────────┼──────────┤\n",
       "│ 1   │ 0.150824 │ 0.167819 │ 0.433765 │ 0.970116 │\n",
       "│ 2   │ 0.914093 │ 0.448354 │ 0.509072 │ 0.669076 │\n",
       "│ 3   │ 0.240055 │ 0.574891 │ 0.268122 │ 0.699241 │"
      ]
     },
     "execution_count": 56,
     "metadata": {},
     "output_type": "execute_result"
    }
   ],
   "source": [
    "DataFrame(rand(3,4)) # from matrix"
   ]
  },
  {
   "cell_type": "code",
   "execution_count": 57,
   "metadata": {
    "collapsed": false
   },
   "outputs": [
    {
     "data": {
      "text/html": [
       "<table class=\"data-frame\"><thead><tr><th></th><th>A</th><th>B</th><th>C</th></tr></thead><tbody><tr><th>1</th><td>110625264</td><td>5.46561e-316</td><td>missing</td></tr></tbody></table>"
      ],
      "text/plain": [
       "1×3 DataFrames.DataFrame\n",
       "│ Row │ A         │ B            │ C       │\n",
       "├─────┼───────────┼──────────────┼─────────┤\n",
       "│ 1   │ 110625264 │ 5.46561e-316 │ \u001b[90mmissing\u001b[39m │"
      ]
     },
     "execution_count": 57,
     "metadata": {},
     "output_type": "execute_result"
    }
   ],
   "source": [
    "DataFrame([Int, Float64, Any], [:A, :B, :C], 1) # pass column types, names and number of rows\n",
    "# we get missing because Any >: Missing"
   ]
  },
  {
   "cell_type": "code",
   "execution_count": 58,
   "metadata": {
    "collapsed": false
   },
   "outputs": [
    {
     "ename": "UndefRefError",
     "evalue": "\u001b[91mUndefRefError: access to undefined reference\u001b[39m",
     "output_type": "error",
     "traceback": [
      "\u001b[91mUndefRefError: access to undefined reference\u001b[39m",
      "",
      "Stacktrace:",
      " [1] \u001b[1mgetindex\u001b[22m\u001b[22m\u001b[1m(\u001b[22m\u001b[22m::Array{String,1}, ::Int64\u001b[1m)\u001b[22m\u001b[22m at \u001b[1m.\\array.jl:554\u001b[22m\u001b[22m",
      " [2] \u001b[1mgetindex\u001b[22m\u001b[22m\u001b[1m(\u001b[22m\u001b[22m::DataFrames.DataFrame, ::Int64, ::Symbol\u001b[1m)\u001b[22m\u001b[22m at \u001b[1mD:\\Software\\JULIA_PKG\\v0.6\\DataFrames\\src\\dataframe\\dataframe.jl:233\u001b[22m\u001b[22m",
      " [3] \u001b[1mshow\u001b[22m\u001b[22m\u001b[1m(\u001b[22m\u001b[22m::IOContext{Base.AbstractIOBuffer{Array{UInt8,1}}}, ::MIME{Symbol(\"text/html\")}, ::DataFrames.DataFrame\u001b[1m)\u001b[22m\u001b[22m at \u001b[1mD:\\Software\\JULIA_PKG\\v0.6\\DataFrames\\src\\abstractdataframe\\io.jl:110\u001b[22m\u001b[22m",
      " [4] \u001b[1mlimitstringmime\u001b[22m\u001b[22m\u001b[1m(\u001b[22m\u001b[22m::MIME{Symbol(\"text/html\")}, ::DataFrames.DataFrame\u001b[1m)\u001b[22m\u001b[22m at \u001b[1mD:\\Software\\JULIA_PKG\\v0.6\\IJulia\\src\\inline.jl:24\u001b[22m\u001b[22m",
      " [5] \u001b[1mdisplay_dict\u001b[22m\u001b[22m\u001b[1m(\u001b[22m\u001b[22m::DataFrames.DataFrame\u001b[1m)\u001b[22m\u001b[22m at \u001b[1mD:\\Software\\JULIA_PKG\\v0.6\\IJulia\\src\\execute_request.jl:39\u001b[22m\u001b[22m",
      " [6] \u001b[1mexecute_request\u001b[22m\u001b[22m\u001b[1m(\u001b[22m\u001b[22m::ZMQ.Socket, ::IJulia.Msg\u001b[1m)\u001b[22m\u001b[22m at \u001b[1mD:\\Software\\JULIA_PKG\\v0.6\\IJulia\\src\\execute_request.jl:182\u001b[22m\u001b[22m",
      " [7] \u001b[1meventloop\u001b[22m\u001b[22m\u001b[1m(\u001b[22m\u001b[22m::ZMQ.Socket\u001b[1m)\u001b[22m\u001b[22m at \u001b[1mD:\\Software\\JULIA_PKG\\v0.6\\IJulia\\src\\eventloop.jl:8\u001b[22m\u001b[22m",
      " [8] \u001b[1m(::IJulia.##14#17)\u001b[22m\u001b[22m\u001b[1m(\u001b[22m\u001b[22m\u001b[1m)\u001b[22m\u001b[22m at \u001b[1m.\\task.jl:335\u001b[22m\u001b[22m"
     ]
    }
   ],
   "source": [
    "DataFrame([Int, Float64, String], [:A, :B, :C], 1) # it was created OK, only value for String is #undef"
   ]
  },
  {
   "cell_type": "code",
   "execution_count": 59,
   "metadata": {
    "collapsed": false
   },
   "outputs": [
    {
     "data": {
      "text/html": [
       "<table class=\"data-frame\"><thead><tr><th></th><th>A</th><th>B</th><th>C</th></tr></thead><tbody></tbody></table>"
      ],
      "text/plain": [
       "0×3 DataFrames.DataFrame\n"
      ]
     },
     "execution_count": 59,
     "metadata": {},
     "output_type": "execute_result"
    }
   ],
   "source": [
    "DataFrame([Int, Float64, String], [:A, :B, :C], 0) # columns are created, but there are no rows"
   ]
  },
  {
   "cell_type": "code",
   "execution_count": 60,
   "metadata": {
    "collapsed": false
   },
   "outputs": [
    {
     "data": {
      "text/html": [
       "<table class=\"data-frame\"><thead><tr><th></th><th>x1</th><th>x2</th><th>x3</th><th>x4</th><th>x5</th></tr></thead><tbody><tr><th>1</th><td>110625264</td><td>110625264</td><td>178772168</td><td>439436208</td><td>111804272</td></tr><tr><th>2</th><td>0</td><td>0</td><td>178121912</td><td>439436272</td><td>138878000</td></tr><tr><th>3</th><td>110641176</td><td>110641176</td><td>179724552</td><td>439436336</td><td>110626704</td></tr></tbody></table>"
      ],
      "text/plain": [
       "3×5 DataFrames.DataFrame\n",
       "│ Row │ x1        │ x2        │ x3        │ x4        │ x5        │\n",
       "├─────┼───────────┼───────────┼───────────┼───────────┼───────────┤\n",
       "│ 1   │ 110625264 │ 110625264 │ 178772168 │ 439436208 │ 111804272 │\n",
       "│ 2   │ 0         │ 0         │ 178121912 │ 439436272 │ 138878000 │\n",
       "│ 3   │ 110641176 │ 110641176 │ 179724552 │ 439436336 │ 110626704 │"
      ]
     },
     "execution_count": 60,
     "metadata": {},
     "output_type": "execute_result"
    }
   ],
   "source": [
    "DataFrame(Int, 3, 5) # a quick way to create homogenous DataFrame"
   ]
  },
  {
   "cell_type": "code",
   "execution_count": 61,
   "metadata": {
    "collapsed": false
   },
   "outputs": [
    {
     "data": {
      "text/html": [
       "<table class=\"data-frame\"><thead><tr><th></th><th>x1</th><th>x2</th></tr></thead><tbody><tr><th>1</th><td>439442864</td><td>6.36269e-316</td></tr><tr><th>2</th><td>110632080</td><td>5.46595e-316</td></tr><tr><th>3</th><td>439442960</td><td>5.46569e-316</td></tr><tr><th>4</th><td>110625264</td><td>5.46591e-316</td></tr></tbody></table>"
      ],
      "text/plain": [
       "4×2 DataFrames.DataFrame\n",
       "│ Row │ x1        │ x2           │\n",
       "├─────┼───────────┼──────────────┤\n",
       "│ 1   │ 439442864 │ 6.36269e-316 │\n",
       "│ 2   │ 110632080 │ 5.46595e-316 │\n",
       "│ 3   │ 439442960 │ 5.46569e-316 │\n",
       "│ 4   │ 110625264 │ 5.46591e-316 │"
      ]
     },
     "execution_count": 61,
     "metadata": {},
     "output_type": "execute_result"
    }
   ],
   "source": [
    "DataFrame([Int, Float64], 4) # similar, but with nonhomogenous columns"
   ]
  },
  {
   "cell_type": "code",
   "execution_count": 62,
   "metadata": {
    "collapsed": false
   },
   "outputs": [
    {
     "data": {
      "text/plain": [
       "2×4 Array{Any,2}:\n",
       " 1  1.0       \"a\"  1   \n",
       " 2   missing  \"b\"   \"a\""
      ]
     },
     "execution_count": 62,
     "metadata": {},
     "output_type": "execute_result"
    }
   ],
   "source": [
    "x = DataFrame(A = [1, 2], B = [1.0, missing], C = [\"a\", \"b\"], D = [1, \"a\"])\n",
    "convert(Array, x) # convert DataFrame to Matrix"
   ]
  },
  {
   "cell_type": "markdown",
   "metadata": {},
   "source": [
    "## Getting basic information about a data frame"
   ]
  },
  {
   "cell_type": "code",
   "execution_count": 63,
   "metadata": {
    "collapsed": false
   },
   "outputs": [
    {
     "data": {
      "text/html": [
       "<table class=\"data-frame\"><thead><tr><th></th><th>A</th><th>B</th><th>C</th><th>D</th></tr></thead><tbody><tr><th>1</th><td>1</td><td>1.0</td><td>a</td><td>1</td></tr><tr><th>2</th><td>2</td><td>missing</td><td>b</td><td>a</td></tr></tbody></table>"
      ],
      "text/plain": [
       "2×4 DataFrames.DataFrame\n",
       "│ Row │ A │ B       │ C │ D │\n",
       "├─────┼───┼─────────┼───┼───┤\n",
       "│ 1   │ 1 │ 1.0     │ a │ 1 │\n",
       "│ 2   │ 2 │ \u001b[90mmissing\u001b[39m │ b │ a │"
      ]
     },
     "execution_count": 63,
     "metadata": {},
     "output_type": "execute_result"
    }
   ],
   "source": [
    "x = DataFrame(A = [1, 2], B = [1.0, missing], C = [\"a\", \"b\"], D = [1, \"a\"])"
   ]
  },
  {
   "cell_type": "code",
   "execution_count": 64,
   "metadata": {
    "collapsed": false
   },
   "outputs": [
    {
     "data": {
      "text/plain": [
       "((2, 4), 2, 4)"
      ]
     },
     "execution_count": 64,
     "metadata": {},
     "output_type": "execute_result"
    }
   ],
   "source": [
    "size(x), size(x, 1), size(x, 2)"
   ]
  },
  {
   "cell_type": "code",
   "execution_count": 65,
   "metadata": {
    "collapsed": false
   },
   "outputs": [
    {
     "data": {
      "text/plain": [
       "(2, 4, 4)"
      ]
     },
     "execution_count": 65,
     "metadata": {},
     "output_type": "execute_result"
    }
   ],
   "source": [
    "nrow(x), ncol(x), length(x)"
   ]
  },
  {
   "cell_type": "code",
   "execution_count": 66,
   "metadata": {
    "collapsed": false
   },
   "outputs": [
    {
     "name": "stdout",
     "output_type": "stream",
     "text": [
      "A\n",
      "Summary Stats:\n",
      "Mean:           1.500000\n",
      "Minimum:        1.000000\n",
      "1st Quartile:   1.250000\n",
      "Median:         1.500000\n",
      "3rd Quartile:   1.750000\n",
      "Maximum:        2.000000\n",
      "Length:         2\n",
      "Type:           Int64\n",
      "\n",
      "B\n",
      "Summary Stats:\n",
      "Mean:           1.000000\n",
      "Minimum:        1.000000\n",
      "1st Quartile:   1.000000\n",
      "Median:         1.000000\n",
      "3rd Quartile:   1.000000\n",
      "Maximum:        1.000000\n",
      "Length:         2\n",
      "Type:           Union{Float64, Missings.Missing}\n",
      "Number Missing: 1\n",
      "% Missing:      50.000000\n",
      "\n",
      "C\n",
      "Summary Stats:\n",
      "Length:         2\n",
      "Type:           String\n",
      "Number Unique:  2\n",
      "\n",
      "D\n",
      "Summary Stats:\n",
      "Length:         2\n",
      "Type:           Any\n",
      "Number Unique:  2\n",
      "Number Missing: 0\n",
      "% Missing:      0.000000\n",
      "\n"
     ]
    }
   ],
   "source": [
    "describe(x)"
   ]
  },
  {
   "cell_type": "code",
   "execution_count": 67,
   "metadata": {
    "collapsed": false
   },
   "outputs": [
    {
     "name": "stdout",
     "output_type": "stream",
     "text": [
      "2×4 DataFrames.DataFrame\n",
      "│ Col # │ Name │ Eltype                           │ Missing │ Values          │\n",
      "├───────┼──────┼──────────────────────────────────┼─────────┼─────────────────┤\n",
      "│ 1     │ A    │ Int64                            │ 0       │ 1  …  2         │\n",
      "│ 2     │ B    │ Union{Float64, Missings.Missing} │ 1       │ 1.0  …  missing │\n",
      "│ 3     │ C    │ String                           │ 0       │ a  …  b         │\n",
      "│ 4     │ D    │ Any                              │ 0       │ 1  …  a         │"
     ]
    }
   ],
   "source": [
    "showcols(x)"
   ]
  },
  {
   "cell_type": "code",
   "execution_count": 68,
   "metadata": {
    "collapsed": false
   },
   "outputs": [
    {
     "data": {
      "text/plain": [
       "4-element Array{Symbol,1}:\n",
       " :A\n",
       " :B\n",
       " :C\n",
       " :D"
      ]
     },
     "execution_count": 68,
     "metadata": {},
     "output_type": "execute_result"
    }
   ],
   "source": [
    "names(x)"
   ]
  },
  {
   "cell_type": "code",
   "execution_count": 69,
   "metadata": {
    "collapsed": false
   },
   "outputs": [
    {
     "data": {
      "text/plain": [
       "4-element Array{Type,1}:\n",
       " Int64                           \n",
       " Union{Float64, Missings.Missing}\n",
       " String                          \n",
       " Any                             "
      ]
     },
     "execution_count": 69,
     "metadata": {},
     "output_type": "execute_result"
    }
   ],
   "source": [
    "eltypes(x)"
   ]
  },
  {
   "cell_type": "code",
   "execution_count": 70,
   "metadata": {
    "collapsed": false
   },
   "outputs": [
    {
     "data": {
      "text/html": [
       "<table class=\"data-frame\"><thead><tr><th></th><th>x1</th><th>x2</th><th>x3</th><th>x4</th><th>x5</th><th>x6</th><th>x7</th><th>x8</th><th>x9</th><th>x10</th></tr></thead><tbody><tr><th>1</th><td>110641192</td><td>466319824</td><td>110641192</td><td>110641168</td><td>110641192</td><td>466986288</td><td>110641192</td><td>110641192</td><td>110641168</td><td>110641192</td></tr><tr><th>2</th><td>110641192</td><td>466319824</td><td>110641192</td><td>463421072</td><td>110641192</td><td>466986288</td><td>110641192</td><td>110641192</td><td>473394416</td><td>110641192</td></tr><tr><th>3</th><td>110641192</td><td>466320176</td><td>110641192</td><td>140141120</td><td>110641192</td><td>466986640</td><td>110641192</td><td>110641192</td><td>148243104</td><td>110641192</td></tr><tr><th>4</th><td>469982416</td><td>466320352</td><td>110641192</td><td>463421104</td><td>473559808</td><td>466986816</td><td>110641192</td><td>470758224</td><td>473394448</td><td>477538640</td></tr><tr><th>5</th><td>110641192</td><td>466320528</td><td>110641192</td><td>463421168</td><td>110641192</td><td>466986992</td><td>110641192</td><td>110641192</td><td>473394512</td><td>110641192</td></tr><tr><th>6</th><td>469984176</td><td>466320704</td><td>110641192</td><td>463421200</td><td>473559888</td><td>466987168</td><td>110641192</td><td>470760144</td><td>473394544</td><td>477538720</td></tr><tr><th>7</th><td>110641192</td><td>466321056</td><td>110641192</td><td>140141136</td><td>110641192</td><td>466987520</td><td>110641192</td><td>110641192</td><td>148243120</td><td>110641192</td></tr><tr><th>8</th><td>110641192</td><td>466321232</td><td>110641192</td><td>140141152</td><td>110641192</td><td>466987696</td><td>110641192</td><td>110641192</td><td>148243136</td><td>110641192</td></tr><tr><th>9</th><td>110641192</td><td>466320880</td><td>110641192</td><td>463421328</td><td>110641192</td><td>466987344</td><td>110641192</td><td>110641192</td><td>473394640</td><td>110641192</td></tr><tr><th>10</th><td>110641192</td><td>466911424</td><td>110641192</td><td>140141168</td><td>110641192</td><td>466988048</td><td>110641192</td><td>110641192</td><td>148243152</td><td>110641192</td></tr><tr><th>11</th><td>110641192</td><td>466911248</td><td>110641192</td><td>463421360</td><td>110641192</td><td>466987872</td><td>110641192</td><td>473302160</td><td>473394672</td><td>110641192</td></tr><tr><th>12</th><td>110641192</td><td>466911600</td><td>110641192</td><td>140141184</td><td>110641192</td><td>466988224</td><td>110641192</td><td>473302160</td><td>148243168</td><td>110641192</td></tr><tr><th>13</th><td>471531696</td><td>466911952</td><td>110641192</td><td>463421392</td><td>474298048</td><td>466988576</td><td>110641192</td><td>473305008</td><td>473394704</td><td>477538800</td></tr><tr><th>14</th><td>110641192</td><td>466912128</td><td>110641192</td><td>140141216</td><td>110641192</td><td>466988752</td><td>110641192</td><td>473304944</td><td>148243200</td><td>110641192</td></tr><tr><th>15</th><td>110641192</td><td>466911776</td><td>110641192</td><td>140141232</td><td>110641192</td><td>466988400</td><td>110641192</td><td>473302832</td><td>148243216</td><td>110641192</td></tr><tr><th>16</th><td>471531776</td><td>466915120</td><td>110641192</td><td>471815536</td><td>474298208</td><td>466991920</td><td>110641192</td><td>473302864</td><td>473585328</td><td>477538880</td></tr><tr><th>17</th><td>110641192</td><td>466915296</td><td>110641192</td><td>463585328</td><td>110641192</td><td>466992096</td><td>110641192</td><td>473303024</td><td>473394768</td><td>110641192</td></tr><tr><th>18</th><td>471531856</td><td>466915648</td><td>110641192</td><td>140141280</td><td>474298288</td><td>466992448</td><td>110641192</td><td>473303152</td><td>148243264</td><td>477539040</td></tr><tr><th>19</th><td>110641192</td><td>466915824</td><td>110641192</td><td>463585424</td><td>110641192</td><td>466992624</td><td>110641192</td><td>473303312</td><td>473394864</td><td>110641192</td></tr><tr><th>20</th><td>110641192</td><td>466915472</td><td>110641192</td><td>140141328</td><td>110641192</td><td>466992272</td><td>110641192</td><td>473304976</td><td>148243312</td><td>110641192</td></tr><tr><th>21</th><td>471531936</td><td>466916000</td><td>110641192</td><td>140141344</td><td>474298368</td><td>466992800</td><td>110641192</td><td>473305040</td><td>148243328</td><td>477539120</td></tr><tr><th>22</th><td>471532016</td><td>466916176</td><td>110641192</td><td>463585520</td><td>474298448</td><td>466992976</td><td>110641192</td><td>447689552</td><td>473394960</td><td>477539200</td></tr><tr><th>23</th><td>471532096</td><td>466916528</td><td>110641192</td><td>463585584</td><td>474298608</td><td>468811968</td><td>110641192</td><td>131535856</td><td>473395024</td><td>477539360</td></tr><tr><th>24</th><td>110641192</td><td>466916880</td><td>110641192</td><td>463585648</td><td>110641192</td><td>468812320</td><td>110641192</td><td>447689712</td><td>473395088</td><td>110641192</td></tr><tr><th>25</th><td>110641192</td><td>466917056</td><td>110641192</td><td>140141392</td><td>110641192</td><td>468812496</td><td>110641192</td><td>131535872</td><td>148243376</td><td>110641192</td></tr><tr><th>26</th><td>110641192</td><td>466916704</td><td>110641192</td><td>140141408</td><td>110641192</td><td>468812144</td><td>110641192</td><td>447689776</td><td>148243392</td><td>110641192</td></tr><tr><th>27</th><td>110641192</td><td>466917408</td><td>110641192</td><td>463585744</td><td>110641192</td><td>468812848</td><td>110641192</td><td>473306512</td><td>473395184</td><td>110641192</td></tr><tr><th>28</th><td>110641192</td><td>466917232</td><td>110641192</td><td>140141424</td><td>110641192</td><td>468812672</td><td>110641192</td><td>147993872</td><td>148243408</td><td>110641192</td></tr><tr><th>29</th><td>110641192</td><td>466917584</td><td>110641192</td><td>463585776</td><td>110641192</td><td>468813024</td><td>110641192</td><td>131535904</td><td>473395216</td><td>110641192</td></tr><tr><th>30</th><td>110641192</td><td>466917760</td><td>110641192</td><td>140141440</td><td>110641192</td><td>468813200</td><td>110641192</td><td>447689904</td><td>148243424</td><td>110641192</td></tr><tr><th>&vellip;</th><td>&vellip;</td><td>&vellip;</td><td>&vellip;</td><td>&vellip;</td><td>&vellip;</td><td>&vellip;</td><td>&vellip;</td><td>&vellip;</td><td>&vellip;</td><td>&vellip;</td></tr></tbody></table>"
      ],
      "text/plain": [
       "100×10 DataFrames.DataFrame. Omitted printing of 4 columns\n",
       "│ Row │ x1        │ x2        │ x3        │ x4        │ x5        │ x6        │\n",
       "├─────┼───────────┼───────────┼───────────┼───────────┼───────────┼───────────┤\n",
       "│ 1   │ 110641192 │ 466319824 │ 110641192 │ 110641168 │ 110641192 │ 466986288 │\n",
       "│ 2   │ 110641192 │ 466319824 │ 110641192 │ 463421072 │ 110641192 │ 466986288 │\n",
       "│ 3   │ 110641192 │ 466320176 │ 110641192 │ 140141120 │ 110641192 │ 466986640 │\n",
       "│ 4   │ 469982416 │ 466320352 │ 110641192 │ 463421104 │ 473559808 │ 466986816 │\n",
       "│ 5   │ 110641192 │ 466320528 │ 110641192 │ 463421168 │ 110641192 │ 466986992 │\n",
       "│ 6   │ 469984176 │ 466320704 │ 110641192 │ 463421200 │ 473559888 │ 466987168 │\n",
       "│ 7   │ 110641192 │ 466321056 │ 110641192 │ 140141136 │ 110641192 │ 466987520 │\n",
       "│ 8   │ 110641192 │ 466321232 │ 110641192 │ 140141152 │ 110641192 │ 466987696 │\n",
       "│ 9   │ 110641192 │ 466320880 │ 110641192 │ 463421328 │ 110641192 │ 466987344 │\n",
       "│ 10  │ 110641192 │ 466911424 │ 110641192 │ 140141168 │ 110641192 │ 466988048 │\n",
       "│ 11  │ 110641192 │ 466911248 │ 110641192 │ 463421360 │ 110641192 │ 466987872 │\n",
       "⋮\n",
       "│ 89  │ 472724064 │ 466982944 │ 110641192 │ 463587568 │ 474982176 │ 468827104 │\n",
       "│ 90  │ 472971104 │ 466921104 │ 110641192 │ 140142464 │ 475193488 │ 468815840 │\n",
       "│ 91  │ 110641192 │ 466984176 │ 110641192 │ 140142480 │ 110641192 │ 474104000 │\n",
       "│ 92  │ 110641192 │ 466984352 │ 110641192 │ 463587632 │ 110641192 │ 474104176 │\n",
       "│ 93  │ 110641192 │ 466984880 │ 110641192 │ 140142512 │ 110641192 │ 474104528 │\n",
       "│ 94  │ 110641192 │ 466985056 │ 110641192 │ 463587664 │ 110641192 │ 474104704 │\n",
       "│ 95  │ 473356960 │ 466984704 │ 110641192 │ 140142544 │ 475198928 │ 474104352 │\n",
       "│ 96  │ 110641192 │ 466985408 │ 110641192 │ 463587728 │ 110641192 │ 474104880 │\n",
       "│ 97  │ 473357360 │ 466985408 │ 110641192 │ 463587728 │ 475199168 │ 474104880 │\n",
       "│ 98  │ 0         │ 471589872 │ 471589872 │ 0         │ 100       │ 9         │\n",
       "│ 99  │ 0         │ 471589904 │ 471589904 │ 0         │ 100       │ 9         │\n",
       "│ 100 │ 0         │ 471589936 │ 471589936 │ 0         │ 100       │ 9         │"
      ]
     },
     "execution_count": 70,
     "metadata": {},
     "output_type": "execute_result"
    }
   ],
   "source": [
    "y = DataFrame(Int, 100, 10)"
   ]
  },
  {
   "cell_type": "code",
   "execution_count": 71,
   "metadata": {
    "collapsed": false
   },
   "outputs": [
    {
     "data": {
      "text/html": [
       "<table class=\"data-frame\"><thead><tr><th></th><th>x1</th><th>x2</th><th>x3</th><th>x4</th><th>x5</th><th>x6</th><th>x7</th><th>x8</th><th>x9</th><th>x10</th></tr></thead><tbody><tr><th>1</th><td>110641192</td><td>466319824</td><td>110641192</td><td>110641168</td><td>110641192</td><td>466986288</td><td>110641192</td><td>110641192</td><td>110641168</td><td>110641192</td></tr><tr><th>2</th><td>110641192</td><td>466319824</td><td>110641192</td><td>463421072</td><td>110641192</td><td>466986288</td><td>110641192</td><td>110641192</td><td>473394416</td><td>110641192</td></tr><tr><th>3</th><td>110641192</td><td>466320176</td><td>110641192</td><td>140141120</td><td>110641192</td><td>466986640</td><td>110641192</td><td>110641192</td><td>148243104</td><td>110641192</td></tr><tr><th>4</th><td>469982416</td><td>466320352</td><td>110641192</td><td>463421104</td><td>473559808</td><td>466986816</td><td>110641192</td><td>470758224</td><td>473394448</td><td>477538640</td></tr><tr><th>5</th><td>110641192</td><td>466320528</td><td>110641192</td><td>463421168</td><td>110641192</td><td>466986992</td><td>110641192</td><td>110641192</td><td>473394512</td><td>110641192</td></tr><tr><th>6</th><td>469984176</td><td>466320704</td><td>110641192</td><td>463421200</td><td>473559888</td><td>466987168</td><td>110641192</td><td>470760144</td><td>473394544</td><td>477538720</td></tr></tbody></table>"
      ],
      "text/plain": [
       "6×10 DataFrames.DataFrame. Omitted printing of 4 columns\n",
       "│ Row │ x1        │ x2        │ x3        │ x4        │ x5        │ x6        │\n",
       "├─────┼───────────┼───────────┼───────────┼───────────┼───────────┼───────────┤\n",
       "│ 1   │ 110641192 │ 466319824 │ 110641192 │ 110641168 │ 110641192 │ 466986288 │\n",
       "│ 2   │ 110641192 │ 466319824 │ 110641192 │ 463421072 │ 110641192 │ 466986288 │\n",
       "│ 3   │ 110641192 │ 466320176 │ 110641192 │ 140141120 │ 110641192 │ 466986640 │\n",
       "│ 4   │ 469982416 │ 466320352 │ 110641192 │ 463421104 │ 473559808 │ 466986816 │\n",
       "│ 5   │ 110641192 │ 466320528 │ 110641192 │ 463421168 │ 110641192 │ 466986992 │\n",
       "│ 6   │ 469984176 │ 466320704 │ 110641192 │ 463421200 │ 473559888 │ 466987168 │"
      ]
     },
     "execution_count": 71,
     "metadata": {},
     "output_type": "execute_result"
    }
   ],
   "source": [
    "head(y)"
   ]
  },
  {
   "cell_type": "code",
   "execution_count": 72,
   "metadata": {
    "collapsed": false
   },
   "outputs": [
    {
     "data": {
      "text/html": [
       "<table class=\"data-frame\"><thead><tr><th></th><th>x1</th><th>x2</th><th>x3</th><th>x4</th><th>x5</th><th>x6</th><th>x7</th><th>x8</th><th>x9</th><th>x10</th></tr></thead><tbody><tr><th>1</th><td>473356960</td><td>466984704</td><td>110641192</td><td>140142544</td><td>475198928</td><td>474104352</td><td>110641192</td><td>473896192</td><td>148244352</td><td>477541520</td></tr><tr><th>2</th><td>110641192</td><td>466985408</td><td>110641192</td><td>463587728</td><td>110641192</td><td>474104880</td><td>110641192</td><td>110641192</td><td>473397200</td><td>110641192</td></tr><tr><th>3</th><td>473357360</td><td>466985408</td><td>110641192</td><td>463587728</td><td>475199168</td><td>474104880</td><td>110641192</td><td>473896432</td><td>473397200</td><td>477541920</td></tr><tr><th>4</th><td>0</td><td>471589872</td><td>471589872</td><td>0</td><td>100</td><td>9</td><td>442280784</td><td>442280784</td><td>442280784</td><td>179790488</td></tr><tr><th>5</th><td>0</td><td>471589904</td><td>471589904</td><td>0</td><td>100</td><td>9</td><td>442280400</td><td>442280400</td><td>442280400</td><td>179790536</td></tr><tr><th>6</th><td>0</td><td>471589936</td><td>471589936</td><td>0</td><td>100</td><td>9</td><td>443180880</td><td>443180880</td><td>443180880</td><td>179790584</td></tr></tbody></table>"
      ],
      "text/plain": [
       "6×10 DataFrames.DataFrame. Omitted printing of 4 columns\n",
       "│ Row │ x1        │ x2        │ x3        │ x4        │ x5        │ x6        │\n",
       "├─────┼───────────┼───────────┼───────────┼───────────┼───────────┼───────────┤\n",
       "│ 1   │ 473356960 │ 466984704 │ 110641192 │ 140142544 │ 475198928 │ 474104352 │\n",
       "│ 2   │ 110641192 │ 466985408 │ 110641192 │ 463587728 │ 110641192 │ 474104880 │\n",
       "│ 3   │ 473357360 │ 466985408 │ 110641192 │ 463587728 │ 475199168 │ 474104880 │\n",
       "│ 4   │ 0         │ 471589872 │ 471589872 │ 0         │ 100       │ 9         │\n",
       "│ 5   │ 0         │ 471589904 │ 471589904 │ 0         │ 100       │ 9         │\n",
       "│ 6   │ 0         │ 471589936 │ 471589936 │ 0         │ 100       │ 9         │"
      ]
     },
     "execution_count": 72,
     "metadata": {},
     "output_type": "execute_result"
    }
   ],
   "source": [
    "tail(y)"
   ]
  }
 ],
 "metadata": {
  "kernelspec": {
   "display_name": "Julia 0.6.0",
   "language": "julia",
   "name": "julia-0.6"
  },
  "language_info": {
   "file_extension": ".jl",
   "mimetype": "application/julia",
   "name": "julia",
   "version": "0.6.1"
  }
 },
 "nbformat": 4,
 "nbformat_minor": 0
}
