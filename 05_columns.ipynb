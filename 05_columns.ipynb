{
 "cells": [
  {
   "cell_type": "markdown",
   "metadata": {},
   "source": [
    "# Introduction to DataFrames\n",
    "**[Bogumił Kamiński](http://bogumilkaminski.pl/about/), Dec 2, 2017**\n",
    "\n",
    "A brief introduction to basic usage of `DataFrames`. Tested under version `0.11`.\n",
    "I will try to keep it up to date as the package evolves."
   ]
  },
  {
   "cell_type": "code",
   "execution_count": 1,
   "metadata": {
    "collapsed": false
   },
   "outputs": [],
   "source": [
    "using DataFrames # load package"
   ]
  },
  {
   "cell_type": "markdown",
   "metadata": {},
   "source": [
    "## Manipulating columns of DataFrame"
   ]
  },
  {
   "cell_type": "markdown",
   "metadata": {},
   "source": [
    "### Renaming columns"
   ]
  },
  {
   "cell_type": "code",
   "execution_count": 2,
   "metadata": {
    "collapsed": false
   },
   "outputs": [
    {
     "data": {
      "text/html": [
       "<table class=\"data-frame\"><thead><tr><th></th><th>x1</th><th>x2</th><th>x3</th><th>x4</th></tr></thead><tbody><tr><th>1</th><td>false</td><td>false</td><td>false</td><td>false</td></tr><tr><th>2</th><td>false</td><td>false</td><td>false</td><td>false</td></tr><tr><th>3</th><td>false</td><td>false</td><td>false</td><td>false</td></tr></tbody></table>"
      ],
      "text/plain": [
       "3×4 DataFrames.DataFrame\n",
       "│ Row │ x1    │ x2    │ x3    │ x4    │\n",
       "├─────┼───────┼───────┼───────┼───────┤\n",
       "│ 1   │ false │ false │ false │ false │\n",
       "│ 2   │ false │ false │ false │ false │\n",
       "│ 3   │ false │ false │ false │ false │"
      ]
     },
     "execution_count": 2,
     "metadata": {},
     "output_type": "execute_result"
    }
   ],
   "source": [
    "x = DataFrame(Bool, 3, 4)"
   ]
  },
  {
   "cell_type": "code",
   "execution_count": 3,
   "metadata": {
    "collapsed": false
   },
   "outputs": [
    {
     "data": {
      "text/html": [
       "<table class=\"data-frame\"><thead><tr><th></th><th>A</th><th>x2</th><th>x3</th><th>x4</th></tr></thead><tbody><tr><th>1</th><td>false</td><td>false</td><td>false</td><td>false</td></tr><tr><th>2</th><td>false</td><td>false</td><td>false</td><td>false</td></tr><tr><th>3</th><td>false</td><td>false</td><td>false</td><td>false</td></tr></tbody></table>"
      ],
      "text/plain": [
       "3×4 DataFrames.DataFrame\n",
       "│ Row │ A     │ x2    │ x3    │ x4    │\n",
       "├─────┼───────┼───────┼───────┼───────┤\n",
       "│ 1   │ false │ false │ false │ false │\n",
       "│ 2   │ false │ false │ false │ false │\n",
       "│ 3   │ false │ false │ false │ false │"
      ]
     },
     "execution_count": 3,
     "metadata": {},
     "output_type": "execute_result"
    }
   ],
   "source": [
    "rename(x, :x1 => :A) # new data frame, also accepts collections of Pairs"
   ]
  },
  {
   "cell_type": "code",
   "execution_count": 4,
   "metadata": {
    "collapsed": false
   },
   "outputs": [
    {
     "data": {
      "text/html": [
       "<table class=\"data-frame\"><thead><tr><th></th><th>x1x1</th><th>x2x2</th><th>x3x3</th><th>x4x4</th></tr></thead><tbody><tr><th>1</th><td>false</td><td>false</td><td>false</td><td>false</td></tr><tr><th>2</th><td>false</td><td>false</td><td>false</td><td>false</td></tr><tr><th>3</th><td>false</td><td>false</td><td>false</td><td>false</td></tr></tbody></table>"
      ],
      "text/plain": [
       "3×4 DataFrames.DataFrame\n",
       "│ Row │ x1x1  │ x2x2  │ x3x3  │ x4x4  │\n",
       "├─────┼───────┼───────┼───────┼───────┤\n",
       "│ 1   │ false │ false │ false │ false │\n",
       "│ 2   │ false │ false │ false │ false │\n",
       "│ 3   │ false │ false │ false │ false │"
      ]
     },
     "execution_count": 4,
     "metadata": {},
     "output_type": "execute_result"
    }
   ],
   "source": [
    "rename!(c -> Symbol(string(c)^2), x) # in place transofmation by applying a function"
   ]
  },
  {
   "cell_type": "code",
   "execution_count": 5,
   "metadata": {
    "collapsed": false
   },
   "outputs": [
    {
     "data": {
      "text/html": [
       "<table class=\"data-frame\"><thead><tr><th></th><th>x1x1</th><th>x2x2</th><th>third</th><th>x4x4</th></tr></thead><tbody><tr><th>1</th><td>false</td><td>false</td><td>false</td><td>false</td></tr><tr><th>2</th><td>false</td><td>false</td><td>false</td><td>false</td></tr><tr><th>3</th><td>false</td><td>false</td><td>false</td><td>false</td></tr></tbody></table>"
      ],
      "text/plain": [
       "3×4 DataFrames.DataFrame\n",
       "│ Row │ x1x1  │ x2x2  │ third │ x4x4  │\n",
       "├─────┼───────┼───────┼───────┼───────┤\n",
       "│ 1   │ false │ false │ false │ false │\n",
       "│ 2   │ false │ false │ false │ false │\n",
       "│ 3   │ false │ false │ false │ false │"
      ]
     },
     "execution_count": 5,
     "metadata": {},
     "output_type": "execute_result"
    }
   ],
   "source": [
    "rename(x, names(x)[3] => :third) # change name of third variable, new data frame"
   ]
  },
  {
   "cell_type": "code",
   "execution_count": 6,
   "metadata": {
    "collapsed": false
   },
   "outputs": [
    {
     "data": {
      "text/html": [
       "<table class=\"data-frame\"><thead><tr><th></th><th>a</th><th>b</th><th>c</th><th>d</th></tr></thead><tbody><tr><th>1</th><td>false</td><td>false</td><td>false</td><td>false</td></tr><tr><th>2</th><td>false</td><td>false</td><td>false</td><td>false</td></tr><tr><th>3</th><td>false</td><td>false</td><td>false</td><td>false</td></tr></tbody></table>"
      ],
      "text/plain": [
       "3×4 DataFrames.DataFrame\n",
       "│ Row │ a     │ b     │ c     │ d     │\n",
       "├─────┼───────┼───────┼───────┼───────┤\n",
       "│ 1   │ false │ false │ false │ false │\n",
       "│ 2   │ false │ false │ false │ false │\n",
       "│ 3   │ false │ false │ false │ false │"
      ]
     },
     "execution_count": 6,
     "metadata": {},
     "output_type": "execute_result"
    }
   ],
   "source": [
    "names!(x, [:a, :b, :c, :d]) # change all names of variables"
   ]
  },
  {
   "cell_type": "code",
   "execution_count": 7,
   "metadata": {
    "collapsed": false
   },
   "outputs": [
    {
     "data": {
      "text/html": [
       "<table class=\"data-frame\"><thead><tr><th></th><th>a</th><th>a_1</th><th>a_2</th><th>a_3</th></tr></thead><tbody><tr><th>1</th><td>false</td><td>false</td><td>false</td><td>false</td></tr><tr><th>2</th><td>false</td><td>false</td><td>false</td><td>false</td></tr><tr><th>3</th><td>false</td><td>false</td><td>false</td><td>false</td></tr></tbody></table>"
      ],
      "text/plain": [
       "3×4 DataFrames.DataFrame\n",
       "│ Row │ a     │ a_1   │ a_2   │ a_3   │\n",
       "├─────┼───────┼───────┼───────┼───────┤\n",
       "│ 1   │ false │ false │ false │ false │\n",
       "│ 2   │ false │ false │ false │ false │\n",
       "│ 3   │ false │ false │ false │ false │"
      ]
     },
     "execution_count": 7,
     "metadata": {},
     "output_type": "execute_result"
    }
   ],
   "source": [
    "names!(x, fill(:a, 4), allow_duplicates=true) # handle duplicates in passed names"
   ]
  },
  {
   "cell_type": "markdown",
   "metadata": {
    "collapsed": true
   },
   "source": [
    "### Reordering columns"
   ]
  },
  {
   "cell_type": "code",
   "execution_count": 8,
   "metadata": {
    "collapsed": false
   },
   "outputs": [
    {
     "data": {
      "text/html": [
       "<table class=\"data-frame\"><thead><tr><th></th><th>a_2</th><th>a</th><th>a_3</th><th>a_1</th></tr></thead><tbody><tr><th>1</th><td>false</td><td>false</td><td>false</td><td>false</td></tr><tr><th>2</th><td>false</td><td>false</td><td>false</td><td>false</td></tr><tr><th>3</th><td>false</td><td>false</td><td>false</td><td>false</td></tr></tbody></table>"
      ],
      "text/plain": [
       "3×4 DataFrames.DataFrame\n",
       "│ Row │ a_2   │ a     │ a_3   │ a_1   │\n",
       "├─────┼───────┼───────┼───────┼───────┤\n",
       "│ 1   │ false │ false │ false │ false │\n",
       "│ 2   │ false │ false │ false │ false │\n",
       "│ 3   │ false │ false │ false │ false │"
      ]
     },
     "execution_count": 8,
     "metadata": {},
     "output_type": "execute_result"
    }
   ],
   "source": [
    "x[shuffle(names(x))] # new DataFrame, reorder names(x) vector as needed"
   ]
  },
  {
   "cell_type": "markdown",
   "metadata": {},
   "source": [
    "### Merging/adding columns"
   ]
  },
  {
   "cell_type": "code",
   "execution_count": 9,
   "metadata": {
    "collapsed": false
   },
   "outputs": [
    {
     "data": {
      "text/html": [
       "<table class=\"data-frame\"><thead><tr><th></th><th>x1</th><th>x2</th><th>x3</th><th>x4</th></tr></thead><tbody><tr><th>1</th><td>(1, 1)</td><td>(1, 2)</td><td>(1, 3)</td><td>(1, 4)</td></tr><tr><th>2</th><td>(2, 1)</td><td>(2, 2)</td><td>(2, 3)</td><td>(2, 4)</td></tr><tr><th>3</th><td>(3, 1)</td><td>(3, 2)</td><td>(3, 3)</td><td>(3, 4)</td></tr></tbody></table>"
      ],
      "text/plain": [
       "3×4 DataFrames.DataFrame\n",
       "│ Row │ x1     │ x2     │ x3     │ x4     │\n",
       "├─────┼────────┼────────┼────────┼────────┤\n",
       "│ 1   │ (1, 1) │ (1, 2) │ (1, 3) │ (1, 4) │\n",
       "│ 2   │ (2, 1) │ (2, 2) │ (2, 3) │ (2, 4) │\n",
       "│ 3   │ (3, 1) │ (3, 2) │ (3, 3) │ (3, 4) │"
      ]
     },
     "execution_count": 9,
     "metadata": {},
     "output_type": "execute_result"
    }
   ],
   "source": [
    "x = DataFrame([(i,j) for i in 1:3, j in 1:4])"
   ]
  },
  {
   "cell_type": "code",
   "execution_count": 10,
   "metadata": {
    "collapsed": false
   },
   "outputs": [
    {
     "data": {
      "text/html": [
       "<table class=\"data-frame\"><thead><tr><th></th><th>x1</th><th>x2</th><th>x3</th><th>x4</th><th>x1_1</th><th>x2_1</th><th>x3_1</th><th>x4_1</th></tr></thead><tbody><tr><th>1</th><td>(1, 1)</td><td>(1, 2)</td><td>(1, 3)</td><td>(1, 4)</td><td>(1, 1)</td><td>(1, 2)</td><td>(1, 3)</td><td>(1, 4)</td></tr><tr><th>2</th><td>(2, 1)</td><td>(2, 2)</td><td>(2, 3)</td><td>(2, 4)</td><td>(2, 1)</td><td>(2, 2)</td><td>(2, 3)</td><td>(2, 4)</td></tr><tr><th>3</th><td>(3, 1)</td><td>(3, 2)</td><td>(3, 3)</td><td>(3, 4)</td><td>(3, 1)</td><td>(3, 2)</td><td>(3, 3)</td><td>(3, 4)</td></tr></tbody></table>"
      ],
      "text/plain": [
       "3×8 DataFrames.DataFrame\n",
       "│ Row │ x1     │ x2     │ x3     │ x4     │ x1_1   │ x2_1   │ x3_1   │ x4_1   │\n",
       "├─────┼────────┼────────┼────────┼────────┼────────┼────────┼────────┼────────┤\n",
       "│ 1   │ (1, 1) │ (1, 2) │ (1, 3) │ (1, 4) │ (1, 1) │ (1, 2) │ (1, 3) │ (1, 4) │\n",
       "│ 2   │ (2, 1) │ (2, 2) │ (2, 3) │ (2, 4) │ (2, 1) │ (2, 2) │ (2, 3) │ (2, 4) │\n",
       "│ 3   │ (3, 1) │ (3, 2) │ (3, 3) │ (3, 4) │ (3, 1) │ (3, 2) │ (3, 3) │ (3, 4) │"
      ]
     },
     "execution_count": 10,
     "metadata": {},
     "output_type": "execute_result"
    }
   ],
   "source": [
    "[x x] # merge two data frames, also hcat if you have many columns to merge"
   ]
  },
  {
   "cell_type": "code",
   "execution_count": 11,
   "metadata": {
    "collapsed": false
   },
   "outputs": [
    {
     "data": {
      "text/html": [
       "<table class=\"data-frame\"><thead><tr><th></th><th>x1</th><th>x2</th><th>x3</th><th>x4</th><th>x1_1</th></tr></thead><tbody><tr><th>1</th><td>(1, 1)</td><td>(1, 2)</td><td>(1, 3)</td><td>(1, 4)</td><td>1</td></tr><tr><th>2</th><td>(2, 1)</td><td>(2, 2)</td><td>(2, 3)</td><td>(2, 4)</td><td>2</td></tr><tr><th>3</th><td>(3, 1)</td><td>(3, 2)</td><td>(3, 3)</td><td>(3, 4)</td><td>3</td></tr></tbody></table>"
      ],
      "text/plain": [
       "3×5 DataFrames.DataFrame\n",
       "│ Row │ x1     │ x2     │ x3     │ x4     │ x1_1 │\n",
       "├─────┼────────┼────────┼────────┼────────┼──────┤\n",
       "│ 1   │ (1, 1) │ (1, 2) │ (1, 3) │ (1, 4) │ 1    │\n",
       "│ 2   │ (2, 1) │ (2, 2) │ (2, 3) │ (2, 4) │ 2    │\n",
       "│ 3   │ (3, 1) │ (3, 2) │ (3, 3) │ (3, 4) │ 3    │"
      ]
     },
     "execution_count": 11,
     "metadata": {},
     "output_type": "execute_result"
    }
   ],
   "source": [
    "y = hcat(x, [1,2,3]) # add a new column without a name"
   ]
  },
  {
   "cell_type": "markdown",
   "metadata": {},
   "source": [
    "*TODO: what will be changed hcat with leading vector*"
   ]
  },
  {
   "cell_type": "code",
   "execution_count": 12,
   "metadata": {
    "collapsed": false
   },
   "outputs": [
    {
     "data": {
      "text/html": [
       "<table class=\"data-frame\"><thead><tr><th></th><th>x1</th><th>x2</th><th>x3</th><th>x4</th><th>A</th></tr></thead><tbody><tr><th>1</th><td>(1, 1)</td><td>(1, 2)</td><td>(1, 3)</td><td>(1, 4)</td><td>1</td></tr><tr><th>2</th><td>(2, 1)</td><td>(2, 2)</td><td>(2, 3)</td><td>(2, 4)</td><td>2</td></tr><tr><th>3</th><td>(3, 1)</td><td>(3, 2)</td><td>(3, 3)</td><td>(3, 4)</td><td>3</td></tr></tbody></table>"
      ],
      "text/plain": [
       "3×5 DataFrames.DataFrame\n",
       "│ Row │ x1     │ x2     │ x3     │ x4     │ A │\n",
       "├─────┼────────┼────────┼────────┼────────┼───┤\n",
       "│ 1   │ (1, 1) │ (1, 2) │ (1, 3) │ (1, 4) │ 1 │\n",
       "│ 2   │ (2, 1) │ (2, 2) │ (2, 3) │ (2, 4) │ 2 │\n",
       "│ 3   │ (3, 1) │ (3, 2) │ (3, 3) │ (3, 4) │ 3 │"
      ]
     },
     "execution_count": 12,
     "metadata": {},
     "output_type": "execute_result"
    }
   ],
   "source": [
    "y = hcat(x, DataFrame(A=[1,2,3])) # this is a bit more verbose but cleaner"
   ]
  },
  {
   "cell_type": "code",
   "execution_count": 13,
   "metadata": {
    "collapsed": false
   },
   "outputs": [
    {
     "data": {
      "text/html": [
       "<table class=\"data-frame\"><thead><tr><th></th><th>A</th><th>x1</th><th>x2</th><th>x3</th><th>x4</th></tr></thead><tbody><tr><th>1</th><td>1</td><td>(1, 1)</td><td>(1, 2)</td><td>(1, 3)</td><td>(1, 4)</td></tr><tr><th>2</th><td>2</td><td>(2, 1)</td><td>(2, 2)</td><td>(2, 3)</td><td>(2, 4)</td></tr><tr><th>3</th><td>3</td><td>(3, 1)</td><td>(3, 2)</td><td>(3, 3)</td><td>(3, 4)</td></tr></tbody></table>"
      ],
      "text/plain": [
       "3×5 DataFrames.DataFrame\n",
       "│ Row │ A │ x1     │ x2     │ x3     │ x4     │\n",
       "├─────┼───┼────────┼────────┼────────┼────────┤\n",
       "│ 1   │ 1 │ (1, 1) │ (1, 2) │ (1, 3) │ (1, 4) │\n",
       "│ 2   │ 2 │ (2, 1) │ (2, 2) │ (2, 3) │ (2, 4) │\n",
       "│ 3   │ 3 │ (3, 1) │ (3, 2) │ (3, 3) │ (3, 4) │"
      ]
     },
     "execution_count": 13,
     "metadata": {},
     "output_type": "execute_result"
    }
   ],
   "source": [
    "y = [DataFrame(A=[1,2,3]) x] # a way to append a vector at the start of the DataFrame"
   ]
  },
  {
   "cell_type": "code",
   "execution_count": 14,
   "metadata": {
    "collapsed": false
   },
   "outputs": [
    {
     "name": "stdout",
     "output_type": "stream",
     "text": [
      "  17.261 μs (125 allocations: 9.17 KiB)\n"
     ]
    },
    {
     "data": {
      "text/html": [
       "<table class=\"data-frame\"><thead><tr><th></th><th>x1</th><th>x2</th><th>A</th><th>x3</th><th>x4</th></tr></thead><tbody><tr><th>1</th><td>(1, 1)</td><td>(1, 2)</td><td>1</td><td>(1, 3)</td><td>(1, 4)</td></tr><tr><th>2</th><td>(2, 1)</td><td>(2, 2)</td><td>2</td><td>(2, 3)</td><td>(2, 4)</td></tr><tr><th>3</th><td>(3, 1)</td><td>(3, 2)</td><td>3</td><td>(3, 3)</td><td>(3, 4)</td></tr></tbody></table>"
      ],
      "text/plain": [
       "3×5 DataFrames.DataFrame\n",
       "│ Row │ x1     │ x2     │ A │ x3     │ x4     │\n",
       "├─────┼────────┼────────┼───┼────────┼────────┤\n",
       "│ 1   │ (1, 1) │ (1, 2) │ 1 │ (1, 3) │ (1, 4) │\n",
       "│ 2   │ (2, 1) │ (2, 2) │ 2 │ (2, 3) │ (2, 4) │\n",
       "│ 3   │ (3, 1) │ (3, 2) │ 3 │ (3, 3) │ (3, 4) │"
      ]
     },
     "execution_count": 14,
     "metadata": {},
     "output_type": "execute_result"
    }
   ],
   "source": [
    "using BenchmarkTools\n",
    "@btime [$x[1:2] DataFrame(A=[1,2,3]) $x[3:4]] # and in the middle, method 1"
   ]
  },
  {
   "cell_type": "code",
   "execution_count": 15,
   "metadata": {
    "collapsed": false
   },
   "outputs": [
    {
     "name": "stdout",
     "output_type": "stream",
     "text": [
      "  9.797 μs (60 allocations: 4.41 KiB)\n"
     ]
    },
    {
     "data": {
      "text/html": [
       "<table class=\"data-frame\"><thead><tr><th></th><th>A</th><th>x1</th><th>x4</th><th>x2</th><th>x3</th></tr></thead><tbody><tr><th>1</th><td>1</td><td>(1, 1)</td><td>(1, 4)</td><td>(1, 2)</td><td>(1, 3)</td></tr><tr><th>2</th><td>2</td><td>(2, 1)</td><td>(2, 4)</td><td>(2, 2)</td><td>(2, 3)</td></tr><tr><th>3</th><td>3</td><td>(3, 1)</td><td>(3, 4)</td><td>(3, 2)</td><td>(3, 3)</td></tr></tbody></table>"
      ],
      "text/plain": [
       "3×5 DataFrames.DataFrame\n",
       "│ Row │ A │ x1     │ x4     │ x2     │ x3     │\n",
       "├─────┼───┼────────┼────────┼────────┼────────┤\n",
       "│ 1   │ 1 │ (1, 1) │ (1, 4) │ (1, 2) │ (1, 3) │\n",
       "│ 2   │ 2 │ (2, 1) │ (2, 4) │ (2, 2) │ (2, 3) │\n",
       "│ 3   │ 3 │ (3, 1) │ (3, 4) │ (3, 2) │ (3, 3) │"
      ]
     },
     "execution_count": 15,
     "metadata": {},
     "output_type": "execute_result"
    }
   ],
   "source": [
    "@btime y = [$x DataFrame(A=[1,2,3])]; y[names(y)[[1,2,5,3,4]]] # method 2, faster but more messy"
   ]
  },
  {
   "cell_type": "code",
   "execution_count": 16,
   "metadata": {
    "collapsed": false
   },
   "outputs": [
    {
     "data": {
      "text/html": [
       "<table class=\"data-frame\"><thead><tr><th></th><th>x1</th><th>x2</th><th>x3</th><th>x4</th><th>x1_1</th></tr></thead><tbody><tr><th>1</th><td>(1, 1)</td><td>(1, 2)</td><td>(1, 3)</td><td>(1, 4)</td><td>1</td></tr><tr><th>2</th><td>(2, 1)</td><td>(2, 2)</td><td>(2, 3)</td><td>(2, 4)</td><td>2</td></tr><tr><th>3</th><td>(3, 1)</td><td>(3, 2)</td><td>(3, 3)</td><td>(3, 4)</td><td>3</td></tr></tbody></table>"
      ],
      "text/plain": [
       "3×5 DataFrames.DataFrame\n",
       "│ Row │ x1     │ x2     │ x3     │ x4     │ x1_1 │\n",
       "├─────┼────────┼────────┼────────┼────────┼──────┤\n",
       "│ 1   │ (1, 1) │ (1, 2) │ (1, 3) │ (1, 4) │ 1    │\n",
       "│ 2   │ (2, 1) │ (2, 2) │ (2, 3) │ (2, 4) │ 2    │\n",
       "│ 3   │ (3, 1) │ (3, 2) │ (3, 3) │ (3, 4) │ 3    │"
      ]
     },
     "execution_count": 16,
     "metadata": {},
     "output_type": "execute_result"
    }
   ],
   "source": [
    "DataFrames.hcat!(x, [1,2,3]) # modify x in place"
   ]
  },
  {
   "cell_type": "markdown",
   "metadata": {},
   "source": [
    "### Subsetting/removing columns"
   ]
  },
  {
   "cell_type": "code",
   "execution_count": 17,
   "metadata": {
    "collapsed": false
   },
   "outputs": [
    {
     "data": {
      "text/html": [
       "<table class=\"data-frame\"><thead><tr><th></th><th>x1</th><th>x2</th><th>x4</th><th>x1_1</th></tr></thead><tbody><tr><th>1</th><td>(1, 1)</td><td>(1, 2)</td><td>(1, 4)</td><td>1</td></tr><tr><th>2</th><td>(2, 1)</td><td>(2, 2)</td><td>(2, 4)</td><td>2</td></tr><tr><th>3</th><td>(3, 1)</td><td>(3, 2)</td><td>(3, 4)</td><td>3</td></tr></tbody></table>"
      ],
      "text/plain": [
       "3×4 DataFrames.DataFrame\n",
       "│ Row │ x1     │ x2     │ x4     │ x1_1 │\n",
       "├─────┼────────┼────────┼────────┼──────┤\n",
       "│ 1   │ (1, 1) │ (1, 2) │ (1, 4) │ 1    │\n",
       "│ 2   │ (2, 1) │ (2, 2) │ (2, 4) │ 2    │\n",
       "│ 3   │ (3, 1) │ (3, 2) │ (3, 4) │ 3    │"
      ]
     },
     "execution_count": 17,
     "metadata": {},
     "output_type": "execute_result"
    }
   ],
   "source": [
    "x[[1,2,4,5]] # by index"
   ]
  },
  {
   "cell_type": "code",
   "execution_count": 18,
   "metadata": {
    "collapsed": false
   },
   "outputs": [
    {
     "data": {
      "text/html": [
       "<table class=\"data-frame\"><thead><tr><th></th><th>x1</th><th>x4</th></tr></thead><tbody><tr><th>1</th><td>(1, 1)</td><td>(1, 4)</td></tr><tr><th>2</th><td>(2, 1)</td><td>(2, 4)</td></tr><tr><th>3</th><td>(3, 1)</td><td>(3, 4)</td></tr></tbody></table>"
      ],
      "text/plain": [
       "3×2 DataFrames.DataFrame\n",
       "│ Row │ x1     │ x4     │\n",
       "├─────┼────────┼────────┤\n",
       "│ 1   │ (1, 1) │ (1, 4) │\n",
       "│ 2   │ (2, 1) │ (2, 4) │\n",
       "│ 3   │ (3, 1) │ (3, 4) │"
      ]
     },
     "execution_count": 18,
     "metadata": {},
     "output_type": "execute_result"
    }
   ],
   "source": [
    "x[[:x1, :x4]] # by name"
   ]
  },
  {
   "cell_type": "code",
   "execution_count": 19,
   "metadata": {
    "collapsed": false
   },
   "outputs": [
    {
     "data": {
      "text/html": [
       "<table class=\"data-frame\"><thead><tr><th></th><th>x1</th><th>x3</th></tr></thead><tbody><tr><th>1</th><td>(1, 1)</td><td>(1, 3)</td></tr><tr><th>2</th><td>(2, 1)</td><td>(2, 3)</td></tr><tr><th>3</th><td>(3, 1)</td><td>(3, 3)</td></tr></tbody></table>"
      ],
      "text/plain": [
       "3×2 DataFrames.DataFrame\n",
       "│ Row │ x1     │ x3     │\n",
       "├─────┼────────┼────────┤\n",
       "│ 1   │ (1, 1) │ (1, 3) │\n",
       "│ 2   │ (2, 1) │ (2, 3) │\n",
       "│ 3   │ (3, 1) │ (3, 3) │"
      ]
     },
     "execution_count": 19,
     "metadata": {},
     "output_type": "execute_result"
    }
   ],
   "source": [
    "x[[true, false, true]] # by Bool - does not have to have exact length"
   ]
  },
  {
   "cell_type": "code",
   "execution_count": 20,
   "metadata": {
    "collapsed": false
   },
   "outputs": [
    {
     "data": {
      "text/html": [
       "<table class=\"data-frame\"><thead><tr><th></th><th>x1</th></tr></thead><tbody><tr><th>1</th><td>(1, 1)</td></tr><tr><th>2</th><td>(2, 1)</td></tr><tr><th>3</th><td>(3, 1)</td></tr></tbody></table>"
      ],
      "text/plain": [
       "3×1 DataFrames.DataFrame\n",
       "│ Row │ x1     │\n",
       "├─────┼────────┤\n",
       "│ 1   │ (1, 1) │\n",
       "│ 2   │ (2, 1) │\n",
       "│ 3   │ (3, 1) │"
      ]
     },
     "execution_count": 20,
     "metadata": {},
     "output_type": "execute_result"
    }
   ],
   "source": [
    "x[[:x1]] # single column Data Frame"
   ]
  },
  {
   "cell_type": "code",
   "execution_count": 21,
   "metadata": {
    "collapsed": false
   },
   "outputs": [
    {
     "data": {
      "text/plain": [
       "3-element Array{Tuple{Int64,Int64},1}:\n",
       " (1, 1)\n",
       " (2, 1)\n",
       " (3, 1)"
      ]
     },
     "execution_count": 21,
     "metadata": {},
     "output_type": "execute_result"
    }
   ],
   "source": [
    "x[:x1] # vector contained in column :x1"
   ]
  },
  {
   "cell_type": "code",
   "execution_count": 22,
   "metadata": {
    "collapsed": false
   },
   "outputs": [
    {
     "data": {
      "text/plain": [
       "3-element Array{Tuple{Int64,Int64},1}:\n",
       " (1, 1)\n",
       " (2, 1)\n",
       " (3, 1)"
      ]
     },
     "execution_count": 22,
     "metadata": {},
     "output_type": "execute_result"
    }
   ],
   "source": [
    "x[1] # the same by column number"
   ]
  },
  {
   "cell_type": "markdown",
   "metadata": {},
   "source": [
    "### Modify column by name"
   ]
  },
  {
   "cell_type": "code",
   "execution_count": 23,
   "metadata": {
    "collapsed": false
   },
   "outputs": [
    {
     "data": {
      "text/html": [
       "<table class=\"data-frame\"><thead><tr><th></th><th>x1</th><th>x2</th><th>x3</th><th>x4</th><th>x1_1</th></tr></thead><tbody><tr><th>1</th><td>(1, 2)</td><td>(1, 2)</td><td>(1, 3)</td><td>(1, 4)</td><td>1</td></tr><tr><th>2</th><td>(2, 2)</td><td>(2, 2)</td><td>(2, 3)</td><td>(2, 4)</td><td>2</td></tr><tr><th>3</th><td>(3, 2)</td><td>(3, 2)</td><td>(3, 3)</td><td>(3, 4)</td><td>3</td></tr></tbody></table>"
      ],
      "text/plain": [
       "3×5 DataFrames.DataFrame\n",
       "│ Row │ x1     │ x2     │ x3     │ x4     │ x1_1 │\n",
       "├─────┼────────┼────────┼────────┼────────┼──────┤\n",
       "│ 1   │ (1, 2) │ (1, 2) │ (1, 3) │ (1, 4) │ 1    │\n",
       "│ 2   │ (2, 2) │ (2, 2) │ (2, 3) │ (2, 4) │ 2    │\n",
       "│ 3   │ (3, 2) │ (3, 2) │ (3, 3) │ (3, 4) │ 3    │"
      ]
     },
     "execution_count": 23,
     "metadata": {},
     "output_type": "execute_result"
    }
   ],
   "source": [
    "x[:x1] = x[:x2] # existing column is modified\n",
    "x"
   ]
  },
  {
   "cell_type": "code",
   "execution_count": 24,
   "metadata": {
    "collapsed": false
   },
   "outputs": [
    {
     "data": {
      "text/html": [
       "<table class=\"data-frame\"><thead><tr><th></th><th>x1</th><th>x2</th><th>x3</th><th>x4</th><th>x1_1</th><th>A</th></tr></thead><tbody><tr><th>1</th><td>(1, 2)</td><td>(1, 2)</td><td>(1, 3)</td><td>(1, 4)</td><td>1</td><td>1</td></tr><tr><th>2</th><td>(2, 2)</td><td>(2, 2)</td><td>(2, 3)</td><td>(2, 4)</td><td>2</td><td>2</td></tr><tr><th>3</th><td>(3, 2)</td><td>(3, 2)</td><td>(3, 3)</td><td>(3, 4)</td><td>3</td><td>3</td></tr></tbody></table>"
      ],
      "text/plain": [
       "3×6 DataFrames.DataFrame\n",
       "│ Row │ x1     │ x2     │ x3     │ x4     │ x1_1 │ A │\n",
       "├─────┼────────┼────────┼────────┼────────┼──────┼───┤\n",
       "│ 1   │ (1, 2) │ (1, 2) │ (1, 3) │ (1, 4) │ 1    │ 1 │\n",
       "│ 2   │ (2, 2) │ (2, 2) │ (2, 3) │ (2, 4) │ 2    │ 2 │\n",
       "│ 3   │ (3, 2) │ (3, 2) │ (3, 3) │ (3, 4) │ 3    │ 3 │"
      ]
     },
     "execution_count": 24,
     "metadata": {},
     "output_type": "execute_result"
    }
   ],
   "source": [
    "x[:A] = [1,2,3] # new column - added at the end\n",
    "x"
   ]
  },
  {
   "cell_type": "markdown",
   "metadata": {},
   "source": [
    "### Find column name"
   ]
  },
  {
   "cell_type": "code",
   "execution_count": 25,
   "metadata": {
    "collapsed": false
   },
   "outputs": [
    {
     "data": {
      "text/plain": [
       "true"
      ]
     },
     "execution_count": 25,
     "metadata": {},
     "output_type": "execute_result"
    }
   ],
   "source": [
    ":x1 in names(x) # does column exist?"
   ]
  },
  {
   "cell_type": "code",
   "execution_count": 26,
   "metadata": {
    "collapsed": false
   },
   "outputs": [
    {
     "data": {
      "text/plain": [
       "2"
      ]
     },
     "execution_count": 26,
     "metadata": {},
     "output_type": "execute_result"
    }
   ],
   "source": [
    "findfirst(names(x), :x2) # what is its number"
   ]
  }
 ],
 "metadata": {
  "kernelspec": {
   "display_name": "Julia 0.6.0",
   "language": "julia",
   "name": "julia-0.6"
  },
  "language_info": {
   "file_extension": ".jl",
   "mimetype": "application/julia",
   "name": "julia",
   "version": "0.6.1"
  }
 },
 "nbformat": 4,
 "nbformat_minor": 0
}
