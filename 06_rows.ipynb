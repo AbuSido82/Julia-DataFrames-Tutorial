{
 "cells": [
  {
   "cell_type": "markdown",
   "metadata": {},
   "source": [
    "# Introduction to DataFrames\n",
    "**[Bogumił Kamiński](http://bogumilkaminski.pl/about/), Dec 2, 2017**\n",
    "\n",
    "A brief introduction to basic usage of `DataFrames`. Tested under version `0.11`.\n",
    "I will try to keep it up to date as the package evolves."
   ]
  },
  {
   "cell_type": "code",
   "execution_count": 55,
   "metadata": {
    "collapsed": false
   },
   "outputs": [],
   "source": [
    "using DataFrames # load package"
   ]
  },
  {
   "cell_type": "markdown",
   "metadata": {},
   "source": [
    "## Manipulating rows of DataFrame"
   ]
  },
  {
   "cell_type": "markdown",
   "metadata": {},
   "source": [
    "### Reordering rows"
   ]
  },
  {
   "cell_type": "code",
   "execution_count": 56,
   "metadata": {
    "collapsed": false
   },
   "outputs": [
    {
     "data": {
      "text/html": [
       "<table class=\"data-frame\"><thead><tr><th></th><th>id</th><th>x</th><th>y</th></tr></thead><tbody><tr><th>1</th><td>1</td><td>0.581494</td><td>0.0</td></tr><tr><th>2</th><td>2</td><td>0.378324</td><td>0.0</td></tr><tr><th>3</th><td>3</td><td>0.828198</td><td>0.0</td></tr><tr><th>4</th><td>4</td><td>0.29051</td><td>0.0</td></tr><tr><th>5</th><td>5</td><td>0.611678</td><td>0.0</td></tr><tr><th>6</th><td>6</td><td>0.239892</td><td>1.0</td></tr><tr><th>7</th><td>7</td><td>0.307028</td><td>1.0</td></tr><tr><th>8</th><td>8</td><td>0.314251</td><td>1.0</td></tr><tr><th>9</th><td>9</td><td>0.681489</td><td>1.0</td></tr><tr><th>10</th><td>10</td><td>0.027058</td><td>1.0</td></tr></tbody></table>"
      ],
      "text/plain": [
       "10×3 DataFrames.DataFrame\n",
       "│ Row │ id │ x        │ y   │\n",
       "├─────┼────┼──────────┼─────┤\n",
       "│ 1   │ 1  │ 0.581494 │ 0.0 │\n",
       "│ 2   │ 2  │ 0.378324 │ 0.0 │\n",
       "│ 3   │ 3  │ 0.828198 │ 0.0 │\n",
       "│ 4   │ 4  │ 0.29051  │ 0.0 │\n",
       "│ 5   │ 5  │ 0.611678 │ 0.0 │\n",
       "│ 6   │ 6  │ 0.239892 │ 1.0 │\n",
       "│ 7   │ 7  │ 0.307028 │ 1.0 │\n",
       "│ 8   │ 8  │ 0.314251 │ 1.0 │\n",
       "│ 9   │ 9  │ 0.681489 │ 1.0 │\n",
       "│ 10  │ 10 │ 0.027058 │ 1.0 │"
      ]
     },
     "execution_count": 56,
     "metadata": {},
     "output_type": "execute_result"
    }
   ],
   "source": [
    "x = DataFrame(id=1:10, x = rand(10), y = [zeros(5); ones(5)]) # and we hope that x[:x] is not sorted :)"
   ]
  },
  {
   "cell_type": "code",
   "execution_count": 57,
   "metadata": {
    "collapsed": false
   },
   "outputs": [
    {
     "data": {
      "text/html": [
       "<table class=\"data-frame\"><thead><tr><th></th><th>id</th><th>x</th><th>y</th></tr></thead><tbody><tr><th>1</th><td>10</td><td>0.027058</td><td>1.0</td></tr><tr><th>2</th><td>6</td><td>0.239892</td><td>1.0</td></tr><tr><th>3</th><td>4</td><td>0.29051</td><td>0.0</td></tr><tr><th>4</th><td>7</td><td>0.307028</td><td>1.0</td></tr><tr><th>5</th><td>8</td><td>0.314251</td><td>1.0</td></tr><tr><th>6</th><td>2</td><td>0.378324</td><td>0.0</td></tr><tr><th>7</th><td>1</td><td>0.581494</td><td>0.0</td></tr><tr><th>8</th><td>5</td><td>0.611678</td><td>0.0</td></tr><tr><th>9</th><td>9</td><td>0.681489</td><td>1.0</td></tr><tr><th>10</th><td>3</td><td>0.828198</td><td>0.0</td></tr></tbody></table>"
      ],
      "text/plain": [
       "10×3 DataFrames.DataFrame\n",
       "│ Row │ id │ x        │ y   │\n",
       "├─────┼────┼──────────┼─────┤\n",
       "│ 1   │ 10 │ 0.027058 │ 1.0 │\n",
       "│ 2   │ 6  │ 0.239892 │ 1.0 │\n",
       "│ 3   │ 4  │ 0.29051  │ 0.0 │\n",
       "│ 4   │ 7  │ 0.307028 │ 1.0 │\n",
       "│ 5   │ 8  │ 0.314251 │ 1.0 │\n",
       "│ 6   │ 2  │ 0.378324 │ 0.0 │\n",
       "│ 7   │ 1  │ 0.581494 │ 0.0 │\n",
       "│ 8   │ 5  │ 0.611678 │ 0.0 │\n",
       "│ 9   │ 9  │ 0.681489 │ 1.0 │\n",
       "│ 10  │ 3  │ 0.828198 │ 0.0 │"
      ]
     },
     "execution_count": 57,
     "metadata": {},
     "output_type": "execute_result"
    }
   ],
   "source": [
    "sort!(x, cols=:x) # sort x in place"
   ]
  },
  {
   "cell_type": "code",
   "execution_count": 58,
   "metadata": {
    "collapsed": false
   },
   "outputs": [
    {
     "data": {
      "text/html": [
       "<table class=\"data-frame\"><thead><tr><th></th><th>id</th><th>x</th><th>y</th></tr></thead><tbody><tr><th>1</th><td>1</td><td>0.581494</td><td>0.0</td></tr><tr><th>2</th><td>2</td><td>0.378324</td><td>0.0</td></tr><tr><th>3</th><td>3</td><td>0.828198</td><td>0.0</td></tr><tr><th>4</th><td>4</td><td>0.29051</td><td>0.0</td></tr><tr><th>5</th><td>5</td><td>0.611678</td><td>0.0</td></tr><tr><th>6</th><td>6</td><td>0.239892</td><td>1.0</td></tr><tr><th>7</th><td>7</td><td>0.307028</td><td>1.0</td></tr><tr><th>8</th><td>8</td><td>0.314251</td><td>1.0</td></tr><tr><th>9</th><td>9</td><td>0.681489</td><td>1.0</td></tr><tr><th>10</th><td>10</td><td>0.027058</td><td>1.0</td></tr></tbody></table>"
      ],
      "text/plain": [
       "10×3 DataFrames.DataFrame\n",
       "│ Row │ id │ x        │ y   │\n",
       "├─────┼────┼──────────┼─────┤\n",
       "│ 1   │ 1  │ 0.581494 │ 0.0 │\n",
       "│ 2   │ 2  │ 0.378324 │ 0.0 │\n",
       "│ 3   │ 3  │ 0.828198 │ 0.0 │\n",
       "│ 4   │ 4  │ 0.29051  │ 0.0 │\n",
       "│ 5   │ 5  │ 0.611678 │ 0.0 │\n",
       "│ 6   │ 6  │ 0.239892 │ 1.0 │\n",
       "│ 7   │ 7  │ 0.307028 │ 1.0 │\n",
       "│ 8   │ 8  │ 0.314251 │ 1.0 │\n",
       "│ 9   │ 9  │ 0.681489 │ 1.0 │\n",
       "│ 10  │ 10 │ 0.027058 │ 1.0 │"
      ]
     },
     "execution_count": 58,
     "metadata": {},
     "output_type": "execute_result"
    }
   ],
   "source": [
    "y = sort(x, cols=:id) # new DataFrame"
   ]
  },
  {
   "cell_type": "code",
   "execution_count": 59,
   "metadata": {
    "collapsed": false
   },
   "outputs": [
    {
     "data": {
      "text/html": [
       "<table class=\"data-frame\"><thead><tr><th></th><th>id</th><th>x</th><th>y</th></tr></thead><tbody><tr><th>1</th><td>10</td><td>0.027058</td><td>1.0</td></tr><tr><th>2</th><td>6</td><td>0.239892</td><td>1.0</td></tr><tr><th>3</th><td>7</td><td>0.307028</td><td>1.0</td></tr><tr><th>4</th><td>8</td><td>0.314251</td><td>1.0</td></tr><tr><th>5</th><td>9</td><td>0.681489</td><td>1.0</td></tr><tr><th>6</th><td>4</td><td>0.29051</td><td>0.0</td></tr><tr><th>7</th><td>2</td><td>0.378324</td><td>0.0</td></tr><tr><th>8</th><td>1</td><td>0.581494</td><td>0.0</td></tr><tr><th>9</th><td>5</td><td>0.611678</td><td>0.0</td></tr><tr><th>10</th><td>3</td><td>0.828198</td><td>0.0</td></tr></tbody></table>"
      ],
      "text/plain": [
       "10×3 DataFrames.DataFrame\n",
       "│ Row │ id │ x        │ y   │\n",
       "├─────┼────┼──────────┼─────┤\n",
       "│ 1   │ 10 │ 0.027058 │ 1.0 │\n",
       "│ 2   │ 6  │ 0.239892 │ 1.0 │\n",
       "│ 3   │ 7  │ 0.307028 │ 1.0 │\n",
       "│ 4   │ 8  │ 0.314251 │ 1.0 │\n",
       "│ 5   │ 9  │ 0.681489 │ 1.0 │\n",
       "│ 6   │ 4  │ 0.29051  │ 0.0 │\n",
       "│ 7   │ 2  │ 0.378324 │ 0.0 │\n",
       "│ 8   │ 1  │ 0.581494 │ 0.0 │\n",
       "│ 9   │ 5  │ 0.611678 │ 0.0 │\n",
       "│ 10  │ 3  │ 0.828198 │ 0.0 │"
      ]
     },
     "execution_count": 59,
     "metadata": {},
     "output_type": "execute_result"
    }
   ],
   "source": [
    "sort(x, cols = (:y, :x), rev=(true, false))"
   ]
  },
  {
   "cell_type": "code",
   "execution_count": 60,
   "metadata": {
    "collapsed": false
   },
   "outputs": [
    {
     "data": {
      "text/html": [
       "<table class=\"data-frame\"><thead><tr><th></th><th>id</th><th>x</th><th>y</th></tr></thead><tbody><tr><th>1</th><td>10</td><td>0.027058</td><td>1.0</td></tr><tr><th>2</th><td>6</td><td>0.239892</td><td>1.0</td></tr><tr><th>3</th><td>7</td><td>0.307028</td><td>1.0</td></tr><tr><th>4</th><td>8</td><td>0.314251</td><td>1.0</td></tr><tr><th>5</th><td>9</td><td>0.681489</td><td>1.0</td></tr><tr><th>6</th><td>4</td><td>0.29051</td><td>0.0</td></tr><tr><th>7</th><td>2</td><td>0.378324</td><td>0.0</td></tr><tr><th>8</th><td>1</td><td>0.581494</td><td>0.0</td></tr><tr><th>9</th><td>5</td><td>0.611678</td><td>0.0</td></tr><tr><th>10</th><td>3</td><td>0.828198</td><td>0.0</td></tr></tbody></table>"
      ],
      "text/plain": [
       "10×3 DataFrames.DataFrame\n",
       "│ Row │ id │ x        │ y   │\n",
       "├─────┼────┼──────────┼─────┤\n",
       "│ 1   │ 10 │ 0.027058 │ 1.0 │\n",
       "│ 2   │ 6  │ 0.239892 │ 1.0 │\n",
       "│ 3   │ 7  │ 0.307028 │ 1.0 │\n",
       "│ 4   │ 8  │ 0.314251 │ 1.0 │\n",
       "│ 5   │ 9  │ 0.681489 │ 1.0 │\n",
       "│ 6   │ 4  │ 0.29051  │ 0.0 │\n",
       "│ 7   │ 2  │ 0.378324 │ 0.0 │\n",
       "│ 8   │ 1  │ 0.581494 │ 0.0 │\n",
       "│ 9   │ 5  │ 0.611678 │ 0.0 │\n",
       "│ 10  │ 3  │ 0.828198 │ 0.0 │"
      ]
     },
     "execution_count": 60,
     "metadata": {},
     "output_type": "execute_result"
    }
   ],
   "source": [
    "sort(x, cols = (order(:y, rev=true), :x)) # the same as above"
   ]
  },
  {
   "cell_type": "code",
   "execution_count": 61,
   "metadata": {
    "collapsed": false
   },
   "outputs": [
    {
     "data": {
      "text/html": [
       "<table class=\"data-frame\"><thead><tr><th></th><th>id</th><th>x</th><th>y</th></tr></thead><tbody><tr><th>1</th><td>10</td><td>0.027058</td><td>1.0</td></tr><tr><th>2</th><td>6</td><td>0.239892</td><td>1.0</td></tr><tr><th>3</th><td>7</td><td>0.307028</td><td>1.0</td></tr><tr><th>4</th><td>8</td><td>0.314251</td><td>1.0</td></tr><tr><th>5</th><td>9</td><td>0.681489</td><td>1.0</td></tr><tr><th>6</th><td>4</td><td>0.29051</td><td>0.0</td></tr><tr><th>7</th><td>2</td><td>0.378324</td><td>0.0</td></tr><tr><th>8</th><td>1</td><td>0.581494</td><td>0.0</td></tr><tr><th>9</th><td>5</td><td>0.611678</td><td>0.0</td></tr><tr><th>10</th><td>3</td><td>0.828198</td><td>0.0</td></tr></tbody></table>"
      ],
      "text/plain": [
       "10×3 DataFrames.DataFrame\n",
       "│ Row │ id │ x        │ y   │\n",
       "├─────┼────┼──────────┼─────┤\n",
       "│ 1   │ 10 │ 0.027058 │ 1.0 │\n",
       "│ 2   │ 6  │ 0.239892 │ 1.0 │\n",
       "│ 3   │ 7  │ 0.307028 │ 1.0 │\n",
       "│ 4   │ 8  │ 0.314251 │ 1.0 │\n",
       "│ 5   │ 9  │ 0.681489 │ 1.0 │\n",
       "│ 6   │ 4  │ 0.29051  │ 0.0 │\n",
       "│ 7   │ 2  │ 0.378324 │ 0.0 │\n",
       "│ 8   │ 1  │ 0.581494 │ 0.0 │\n",
       "│ 9   │ 5  │ 0.611678 │ 0.0 │\n",
       "│ 10  │ 3  │ 0.828198 │ 0.0 │"
      ]
     },
     "execution_count": 61,
     "metadata": {},
     "output_type": "execute_result"
    }
   ],
   "source": [
    "sort(x, cols = (order(:y, rev=true), order(:x, by=v->rem(v,1)))) # some more fancy sorting stuff"
   ]
  },
  {
   "cell_type": "code",
   "execution_count": 62,
   "metadata": {
    "collapsed": false
   },
   "outputs": [
    {
     "data": {
      "text/html": [
       "<table class=\"data-frame\"><thead><tr><th></th><th>id</th><th>x</th><th>y</th></tr></thead><tbody><tr><th>1</th><td>6</td><td>0.239892</td><td>1.0</td></tr><tr><th>2</th><td>3</td><td>0.828198</td><td>0.0</td></tr><tr><th>3</th><td>5</td><td>0.611678</td><td>0.0</td></tr><tr><th>4</th><td>9</td><td>0.681489</td><td>1.0</td></tr><tr><th>5</th><td>7</td><td>0.307028</td><td>1.0</td></tr><tr><th>6</th><td>2</td><td>0.378324</td><td>0.0</td></tr><tr><th>7</th><td>4</td><td>0.29051</td><td>0.0</td></tr><tr><th>8</th><td>8</td><td>0.314251</td><td>1.0</td></tr><tr><th>9</th><td>1</td><td>0.581494</td><td>0.0</td></tr><tr><th>10</th><td>10</td><td>0.027058</td><td>1.0</td></tr></tbody></table>"
      ],
      "text/plain": [
       "10×3 DataFrames.DataFrame\n",
       "│ Row │ id │ x        │ y   │\n",
       "├─────┼────┼──────────┼─────┤\n",
       "│ 1   │ 6  │ 0.239892 │ 1.0 │\n",
       "│ 2   │ 3  │ 0.828198 │ 0.0 │\n",
       "│ 3   │ 5  │ 0.611678 │ 0.0 │\n",
       "│ 4   │ 9  │ 0.681489 │ 1.0 │\n",
       "│ 5   │ 7  │ 0.307028 │ 1.0 │\n",
       "│ 6   │ 2  │ 0.378324 │ 0.0 │\n",
       "│ 7   │ 4  │ 0.29051  │ 0.0 │\n",
       "│ 8   │ 8  │ 0.314251 │ 1.0 │\n",
       "│ 9   │ 1  │ 0.581494 │ 0.0 │\n",
       "│ 10  │ 10 │ 0.027058 │ 1.0 │"
      ]
     },
     "execution_count": 62,
     "metadata": {},
     "output_type": "execute_result"
    }
   ],
   "source": [
    "x[shuffle(1:10), :] # reorder rows (here randomly)"
   ]
  },
  {
   "cell_type": "code",
   "execution_count": 63,
   "metadata": {
    "collapsed": false,
    "scrolled": true
   },
   "outputs": [
    {
     "data": {
      "text/html": [
       "<table class=\"data-frame\"><thead><tr><th></th><th>id</th><th>x</th><th>y</th></tr></thead><tbody><tr><th>1</th><td>10</td><td>0.027058</td><td>1.0</td></tr><tr><th>2</th><td>2</td><td>0.378324</td><td>0.0</td></tr><tr><th>3</th><td>3</td><td>0.828198</td><td>0.0</td></tr><tr><th>4</th><td>4</td><td>0.29051</td><td>0.0</td></tr><tr><th>5</th><td>5</td><td>0.611678</td><td>0.0</td></tr><tr><th>6</th><td>6</td><td>0.239892</td><td>1.0</td></tr><tr><th>7</th><td>7</td><td>0.307028</td><td>1.0</td></tr><tr><th>8</th><td>8</td><td>0.314251</td><td>1.0</td></tr><tr><th>9</th><td>9</td><td>0.681489</td><td>1.0</td></tr><tr><th>10</th><td>1</td><td>0.581494</td><td>0.0</td></tr></tbody></table>"
      ],
      "text/plain": [
       "10×3 DataFrames.DataFrame\n",
       "│ Row │ id │ x        │ y   │\n",
       "├─────┼────┼──────────┼─────┤\n",
       "│ 1   │ 10 │ 0.027058 │ 1.0 │\n",
       "│ 2   │ 2  │ 0.378324 │ 0.0 │\n",
       "│ 3   │ 3  │ 0.828198 │ 0.0 │\n",
       "│ 4   │ 4  │ 0.29051  │ 0.0 │\n",
       "│ 5   │ 5  │ 0.611678 │ 0.0 │\n",
       "│ 6   │ 6  │ 0.239892 │ 1.0 │\n",
       "│ 7   │ 7  │ 0.307028 │ 1.0 │\n",
       "│ 8   │ 8  │ 0.314251 │ 1.0 │\n",
       "│ 9   │ 9  │ 0.681489 │ 1.0 │\n",
       "│ 10  │ 1  │ 0.581494 │ 0.0 │"
      ]
     },
     "execution_count": 63,
     "metadata": {},
     "output_type": "execute_result"
    }
   ],
   "source": [
    "sort!(x, cols=:id)\n",
    "x[[1,10],:] = x[[10,1],:] # swap rows\n",
    "x"
   ]
  },
  {
   "cell_type": "code",
   "execution_count": 64,
   "metadata": {
    "collapsed": false
   },
   "outputs": [
    {
     "data": {
      "text/html": [
       "<table class=\"data-frame\"><thead><tr><th></th><th>id</th><th>x</th><th>y</th></tr></thead><tbody><tr><th>1</th><td>1</td><td>0.581494</td><td>0.0</td></tr><tr><th>2</th><td>2</td><td>0.378324</td><td>0.0</td></tr><tr><th>3</th><td>3</td><td>0.828198</td><td>0.0</td></tr><tr><th>4</th><td>4</td><td>0.29051</td><td>0.0</td></tr><tr><th>5</th><td>5</td><td>0.611678</td><td>0.0</td></tr><tr><th>6</th><td>6</td><td>0.239892</td><td>1.0</td></tr><tr><th>7</th><td>7</td><td>0.307028</td><td>1.0</td></tr><tr><th>8</th><td>8</td><td>0.314251</td><td>1.0</td></tr><tr><th>9</th><td>9</td><td>0.681489</td><td>1.0</td></tr><tr><th>10</th><td>10</td><td>0.027058</td><td>1.0</td></tr></tbody></table>"
      ],
      "text/plain": [
       "10×3 DataFrames.DataFrame\n",
       "│ Row │ id │ x        │ y   │\n",
       "├─────┼────┼──────────┼─────┤\n",
       "│ 1   │ 1  │ 0.581494 │ 0.0 │\n",
       "│ 2   │ 2  │ 0.378324 │ 0.0 │\n",
       "│ 3   │ 3  │ 0.828198 │ 0.0 │\n",
       "│ 4   │ 4  │ 0.29051  │ 0.0 │\n",
       "│ 5   │ 5  │ 0.611678 │ 0.0 │\n",
       "│ 6   │ 6  │ 0.239892 │ 1.0 │\n",
       "│ 7   │ 7  │ 0.307028 │ 1.0 │\n",
       "│ 8   │ 8  │ 0.314251 │ 1.0 │\n",
       "│ 9   │ 9  │ 0.681489 │ 1.0 │\n",
       "│ 10  │ 10 │ 0.027058 │ 1.0 │"
      ]
     },
     "execution_count": 64,
     "metadata": {},
     "output_type": "execute_result"
    }
   ],
   "source": [
    "x[1,:], x[10,:] = x[10,:], x[1,:] # and swap again\n",
    "x"
   ]
  },
  {
   "cell_type": "markdown",
   "metadata": {},
   "source": [
    "### Merging/adding rows"
   ]
  },
  {
   "cell_type": "code",
   "execution_count": 65,
   "metadata": {
    "collapsed": false
   },
   "outputs": [
    {
     "data": {
      "text/html": [
       "<table class=\"data-frame\"><thead><tr><th></th><th>x1</th><th>x2</th><th>x3</th><th>x4</th><th>x5</th></tr></thead><tbody><tr><th>1</th><td>0.918193</td><td>0.730542</td><td>0.17528</td><td>0.290656</td><td>0.32454</td></tr><tr><th>2</th><td>0.99533</td><td>0.0354157</td><td>0.317524</td><td>0.873675</td><td>0.43646</td></tr><tr><th>3</th><td>0.00393182</td><td>0.613515</td><td>0.571327</td><td>0.399088</td><td>0.704549</td></tr></tbody></table>"
      ],
      "text/plain": [
       "3×5 DataFrames.DataFrame\n",
       "│ Row │ x1         │ x2        │ x3       │ x4       │ x5       │\n",
       "├─────┼────────────┼───────────┼──────────┼──────────┼──────────┤\n",
       "│ 1   │ 0.918193   │ 0.730542  │ 0.17528  │ 0.290656 │ 0.32454  │\n",
       "│ 2   │ 0.99533    │ 0.0354157 │ 0.317524 │ 0.873675 │ 0.43646  │\n",
       "│ 3   │ 0.00393182 │ 0.613515  │ 0.571327 │ 0.399088 │ 0.704549 │"
      ]
     },
     "execution_count": 65,
     "metadata": {},
     "output_type": "execute_result"
    }
   ],
   "source": [
    "x = DataFrame(rand(3, 5))"
   ]
  },
  {
   "cell_type": "code",
   "execution_count": 66,
   "metadata": {
    "collapsed": false
   },
   "outputs": [
    {
     "data": {
      "text/html": [
       "<table class=\"data-frame\"><thead><tr><th></th><th>x1</th><th>x2</th><th>x3</th><th>x4</th><th>x5</th></tr></thead><tbody><tr><th>1</th><td>0.918193</td><td>0.730542</td><td>0.17528</td><td>0.290656</td><td>0.32454</td></tr><tr><th>2</th><td>0.99533</td><td>0.0354157</td><td>0.317524</td><td>0.873675</td><td>0.43646</td></tr><tr><th>3</th><td>0.00393182</td><td>0.613515</td><td>0.571327</td><td>0.399088</td><td>0.704549</td></tr><tr><th>4</th><td>0.918193</td><td>0.730542</td><td>0.17528</td><td>0.290656</td><td>0.32454</td></tr><tr><th>5</th><td>0.99533</td><td>0.0354157</td><td>0.317524</td><td>0.873675</td><td>0.43646</td></tr><tr><th>6</th><td>0.00393182</td><td>0.613515</td><td>0.571327</td><td>0.399088</td><td>0.704549</td></tr></tbody></table>"
      ],
      "text/plain": [
       "6×5 DataFrames.DataFrame\n",
       "│ Row │ x1         │ x2        │ x3       │ x4       │ x5       │\n",
       "├─────┼────────────┼───────────┼──────────┼──────────┼──────────┤\n",
       "│ 1   │ 0.918193   │ 0.730542  │ 0.17528  │ 0.290656 │ 0.32454  │\n",
       "│ 2   │ 0.99533    │ 0.0354157 │ 0.317524 │ 0.873675 │ 0.43646  │\n",
       "│ 3   │ 0.00393182 │ 0.613515  │ 0.571327 │ 0.399088 │ 0.704549 │\n",
       "│ 4   │ 0.918193   │ 0.730542  │ 0.17528  │ 0.290656 │ 0.32454  │\n",
       "│ 5   │ 0.99533    │ 0.0354157 │ 0.317524 │ 0.873675 │ 0.43646  │\n",
       "│ 6   │ 0.00393182 │ 0.613515  │ 0.571327 │ 0.399088 │ 0.704549 │"
      ]
     },
     "execution_count": 66,
     "metadata": {},
     "output_type": "execute_result"
    }
   ],
   "source": [
    "[x; x] # merge by rows - data frames must have the same column names; the same is vcat"
   ]
  },
  {
   "cell_type": "code",
   "execution_count": 67,
   "metadata": {
    "collapsed": false
   },
   "outputs": [
    {
     "data": {
      "text/html": [
       "<table class=\"data-frame\"><thead><tr><th></th><th>x1</th><th>x2</th><th>x3</th><th>x4</th><th>x5</th></tr></thead><tbody><tr><th>1</th><td>0.918193</td><td>0.730542</td><td>0.17528</td><td>0.290656</td><td>0.32454</td></tr><tr><th>2</th><td>0.99533</td><td>0.0354157</td><td>0.317524</td><td>0.873675</td><td>0.43646</td></tr><tr><th>3</th><td>0.00393182</td><td>0.613515</td><td>0.571327</td><td>0.399088</td><td>0.704549</td></tr><tr><th>4</th><td>0.918193</td><td>0.730542</td><td>0.17528</td><td>0.290656</td><td>0.32454</td></tr><tr><th>5</th><td>0.99533</td><td>0.0354157</td><td>0.317524</td><td>0.873675</td><td>0.43646</td></tr><tr><th>6</th><td>0.00393182</td><td>0.613515</td><td>0.571327</td><td>0.399088</td><td>0.704549</td></tr></tbody></table>"
      ],
      "text/plain": [
       "6×5 DataFrames.DataFrame\n",
       "│ Row │ x1         │ x2        │ x3       │ x4       │ x5       │\n",
       "├─────┼────────────┼───────────┼──────────┼──────────┼──────────┤\n",
       "│ 1   │ 0.918193   │ 0.730542  │ 0.17528  │ 0.290656 │ 0.32454  │\n",
       "│ 2   │ 0.99533    │ 0.0354157 │ 0.317524 │ 0.873675 │ 0.43646  │\n",
       "│ 3   │ 0.00393182 │ 0.613515  │ 0.571327 │ 0.399088 │ 0.704549 │\n",
       "│ 4   │ 0.918193   │ 0.730542  │ 0.17528  │ 0.290656 │ 0.32454  │\n",
       "│ 5   │ 0.99533    │ 0.0354157 │ 0.317524 │ 0.873675 │ 0.43646  │\n",
       "│ 6   │ 0.00393182 │ 0.613515  │ 0.571327 │ 0.399088 │ 0.704549 │"
      ]
     },
     "execution_count": 67,
     "metadata": {},
     "output_type": "execute_result"
    }
   ],
   "source": [
    "append!(x, x) # the same but modifies x"
   ]
  },
  {
   "cell_type": "code",
   "execution_count": 68,
   "metadata": {
    "collapsed": false
   },
   "outputs": [
    {
     "data": {
      "text/html": [
       "<table class=\"data-frame\"><thead><tr><th></th><th>x1</th><th>x2</th><th>x3</th><th>x4</th><th>x5</th></tr></thead><tbody><tr><th>1</th><td>0.918193</td><td>0.730542</td><td>0.17528</td><td>0.290656</td><td>0.32454</td></tr><tr><th>2</th><td>0.99533</td><td>0.0354157</td><td>0.317524</td><td>0.873675</td><td>0.43646</td></tr><tr><th>3</th><td>0.00393182</td><td>0.613515</td><td>0.571327</td><td>0.399088</td><td>0.704549</td></tr><tr><th>4</th><td>0.918193</td><td>0.730542</td><td>0.17528</td><td>0.290656</td><td>0.32454</td></tr><tr><th>5</th><td>0.99533</td><td>0.0354157</td><td>0.317524</td><td>0.873675</td><td>0.43646</td></tr><tr><th>6</th><td>0.00393182</td><td>0.613515</td><td>0.571327</td><td>0.399088</td><td>0.704549</td></tr><tr><th>7</th><td>1.0</td><td>2.0</td><td>3.0</td><td>4.0</td><td>5.0</td></tr></tbody></table>"
      ],
      "text/plain": [
       "7×5 DataFrames.DataFrame\n",
       "│ Row │ x1         │ x2        │ x3       │ x4       │ x5       │\n",
       "├─────┼────────────┼───────────┼──────────┼──────────┼──────────┤\n",
       "│ 1   │ 0.918193   │ 0.730542  │ 0.17528  │ 0.290656 │ 0.32454  │\n",
       "│ 2   │ 0.99533    │ 0.0354157 │ 0.317524 │ 0.873675 │ 0.43646  │\n",
       "│ 3   │ 0.00393182 │ 0.613515  │ 0.571327 │ 0.399088 │ 0.704549 │\n",
       "│ 4   │ 0.918193   │ 0.730542  │ 0.17528  │ 0.290656 │ 0.32454  │\n",
       "│ 5   │ 0.99533    │ 0.0354157 │ 0.317524 │ 0.873675 │ 0.43646  │\n",
       "│ 6   │ 0.00393182 │ 0.613515  │ 0.571327 │ 0.399088 │ 0.704549 │\n",
       "│ 7   │ 1.0        │ 2.0       │ 3.0      │ 4.0      │ 5.0      │"
      ]
     },
     "execution_count": 68,
     "metadata": {},
     "output_type": "execute_result"
    }
   ],
   "source": [
    "push!(x, 1:5) # add one row to x at the end; must give correct number of values and correct types\n",
    "x"
   ]
  },
  {
   "cell_type": "code",
   "execution_count": 69,
   "metadata": {
    "collapsed": false
   },
   "outputs": [
    {
     "data": {
      "text/html": [
       "<table class=\"data-frame\"><thead><tr><th></th><th>x1</th><th>x2</th><th>x3</th><th>x4</th><th>x5</th></tr></thead><tbody><tr><th>1</th><td>0.918193</td><td>0.730542</td><td>0.17528</td><td>0.290656</td><td>0.32454</td></tr><tr><th>2</th><td>0.99533</td><td>0.0354157</td><td>0.317524</td><td>0.873675</td><td>0.43646</td></tr><tr><th>3</th><td>0.00393182</td><td>0.613515</td><td>0.571327</td><td>0.399088</td><td>0.704549</td></tr><tr><th>4</th><td>0.918193</td><td>0.730542</td><td>0.17528</td><td>0.290656</td><td>0.32454</td></tr><tr><th>5</th><td>0.99533</td><td>0.0354157</td><td>0.317524</td><td>0.873675</td><td>0.43646</td></tr><tr><th>6</th><td>0.00393182</td><td>0.613515</td><td>0.571327</td><td>0.399088</td><td>0.704549</td></tr><tr><th>7</th><td>1.0</td><td>2.0</td><td>3.0</td><td>4.0</td><td>5.0</td></tr><tr><th>8</th><td>11.0</td><td>12.0</td><td>13.0</td><td>14.0</td><td>15.0</td></tr></tbody></table>"
      ],
      "text/plain": [
       "8×5 DataFrames.DataFrame\n",
       "│ Row │ x1         │ x2        │ x3       │ x4       │ x5       │\n",
       "├─────┼────────────┼───────────┼──────────┼──────────┼──────────┤\n",
       "│ 1   │ 0.918193   │ 0.730542  │ 0.17528  │ 0.290656 │ 0.32454  │\n",
       "│ 2   │ 0.99533    │ 0.0354157 │ 0.317524 │ 0.873675 │ 0.43646  │\n",
       "│ 3   │ 0.00393182 │ 0.613515  │ 0.571327 │ 0.399088 │ 0.704549 │\n",
       "│ 4   │ 0.918193   │ 0.730542  │ 0.17528  │ 0.290656 │ 0.32454  │\n",
       "│ 5   │ 0.99533    │ 0.0354157 │ 0.317524 │ 0.873675 │ 0.43646  │\n",
       "│ 6   │ 0.00393182 │ 0.613515  │ 0.571327 │ 0.399088 │ 0.704549 │\n",
       "│ 7   │ 1.0        │ 2.0       │ 3.0      │ 4.0      │ 5.0      │\n",
       "│ 8   │ 11.0       │ 12.0      │ 13.0     │ 14.0     │ 15.0     │"
      ]
     },
     "execution_count": 69,
     "metadata": {},
     "output_type": "execute_result"
    }
   ],
   "source": [
    "push!(x, Dict(:x1=> 11, :x2=> 12, :x3=> 13, :x4=> 14, :x5=> 15)) # also works with dictionaries\n",
    "x"
   ]
  },
  {
   "cell_type": "markdown",
   "metadata": {},
   "source": [
    "### Subsetting/removing rows"
   ]
  },
  {
   "cell_type": "code",
   "execution_count": 70,
   "metadata": {
    "collapsed": false
   },
   "outputs": [
    {
     "data": {
      "text/html": [
       "<table class=\"data-frame\"><thead><tr><th></th><th>x1</th><th>x2</th><th>x3</th><th>x4</th><th>x5</th></tr></thead><tbody><tr><th>1</th><td>0.918193</td><td>0.730542</td><td>0.17528</td><td>0.290656</td><td>0.32454</td></tr><tr><th>2</th><td>0.99533</td><td>0.0354157</td><td>0.317524</td><td>0.873675</td><td>0.43646</td></tr></tbody></table>"
      ],
      "text/plain": [
       "2×5 DataFrames.DataFrame\n",
       "│ Row │ x1       │ x2        │ x3       │ x4       │ x5      │\n",
       "├─────┼──────────┼───────────┼──────────┼──────────┼─────────┤\n",
       "│ 1   │ 0.918193 │ 0.730542  │ 0.17528  │ 0.290656 │ 0.32454 │\n",
       "│ 2   │ 0.99533  │ 0.0354157 │ 0.317524 │ 0.873675 │ 0.43646 │"
      ]
     },
     "execution_count": 70,
     "metadata": {},
     "output_type": "execute_result"
    }
   ],
   "source": [
    "x[1:2, :] # by index"
   ]
  },
  {
   "cell_type": "code",
   "execution_count": 71,
   "metadata": {
    "collapsed": false
   },
   "outputs": [
    {
     "data": {
      "text/html": [
       "<table class=\"data-frame\"><thead><tr><th></th><th>x1</th><th>x2</th><th>x3</th><th>x4</th><th>x5</th></tr></thead><tbody><tr><th>1</th><td>0.918193</td><td>0.730542</td><td>0.17528</td><td>0.290656</td><td>0.32454</td></tr><tr><th>2</th><td>0.00393182</td><td>0.613515</td><td>0.571327</td><td>0.399088</td><td>0.704549</td></tr><tr><th>3</th><td>0.99533</td><td>0.0354157</td><td>0.317524</td><td>0.873675</td><td>0.43646</td></tr><tr><th>4</th><td>1.0</td><td>2.0</td><td>3.0</td><td>4.0</td><td>5.0</td></tr></tbody></table>"
      ],
      "text/plain": [
       "4×5 DataFrames.DataFrame\n",
       "│ Row │ x1         │ x2        │ x3       │ x4       │ x5       │\n",
       "├─────┼────────────┼───────────┼──────────┼──────────┼──────────┤\n",
       "│ 1   │ 0.918193   │ 0.730542  │ 0.17528  │ 0.290656 │ 0.32454  │\n",
       "│ 2   │ 0.00393182 │ 0.613515  │ 0.571327 │ 0.399088 │ 0.704549 │\n",
       "│ 3   │ 0.99533    │ 0.0354157 │ 0.317524 │ 0.873675 │ 0.43646  │\n",
       "│ 4   │ 1.0        │ 2.0       │ 3.0      │ 4.0      │ 5.0      │"
      ]
     },
     "execution_count": 71,
     "metadata": {},
     "output_type": "execute_result"
    }
   ],
   "source": [
    "x[repmat([true, false], 4), :] # by Bool, exact length required"
   ]
  },
  {
   "cell_type": "code",
   "execution_count": 72,
   "metadata": {
    "collapsed": false
   },
   "outputs": [
    {
     "data": {
      "text/html": [
       "<table class=\"data-frame\"><thead><tr><th></th><th>x1</th><th>x2</th><th>x3</th><th>x4</th><th>x5</th></tr></thead><tbody><tr><th>1</th><td>0.918193</td><td>0.730542</td><td>0.17528</td><td>0.290656</td><td>0.32454</td></tr><tr><th>2</th><td>0.99533</td><td>0.0354157</td><td>0.317524</td><td>0.873675</td><td>0.43646</td></tr><tr><th>3</th><td>0.00393182</td><td>0.613515</td><td>0.571327</td><td>0.399088</td><td>0.704549</td></tr><tr><th>4</th><td>0.918193</td><td>0.730542</td><td>0.17528</td><td>0.290656</td><td>0.32454</td></tr><tr><th>5</th><td>0.99533</td><td>0.0354157</td><td>0.317524</td><td>0.873675</td><td>0.43646</td></tr><tr><th>6</th><td>0.00393182</td><td>0.613515</td><td>0.571327</td><td>0.399088</td><td>0.704549</td></tr><tr><th>7</th><td>11.0</td><td>12.0</td><td>13.0</td><td>14.0</td><td>15.0</td></tr></tbody></table>"
      ],
      "text/plain": [
       "7×5 DataFrames.DataFrame\n",
       "│ Row │ x1         │ x2        │ x3       │ x4       │ x5       │\n",
       "├─────┼────────────┼───────────┼──────────┼──────────┼──────────┤\n",
       "│ 1   │ 0.918193   │ 0.730542  │ 0.17528  │ 0.290656 │ 0.32454  │\n",
       "│ 2   │ 0.99533    │ 0.0354157 │ 0.317524 │ 0.873675 │ 0.43646  │\n",
       "│ 3   │ 0.00393182 │ 0.613515  │ 0.571327 │ 0.399088 │ 0.704549 │\n",
       "│ 4   │ 0.918193   │ 0.730542  │ 0.17528  │ 0.290656 │ 0.32454  │\n",
       "│ 5   │ 0.99533    │ 0.0354157 │ 0.317524 │ 0.873675 │ 0.43646  │\n",
       "│ 6   │ 0.00393182 │ 0.613515  │ 0.571327 │ 0.399088 │ 0.704549 │\n",
       "│ 7   │ 11.0       │ 12.0      │ 13.0     │ 14.0     │ 15.0     │"
      ]
     },
     "execution_count": 72,
     "metadata": {},
     "output_type": "execute_result"
    }
   ],
   "source": [
    "deleterows!(x, 7) # delete one row"
   ]
  },
  {
   "cell_type": "code",
   "execution_count": 73,
   "metadata": {
    "collapsed": false
   },
   "outputs": [
    {
     "data": {
      "text/html": [
       "<table class=\"data-frame\"><thead><tr><th></th><th>x1</th><th>x2</th><th>x3</th><th>x4</th><th>x5</th></tr></thead><tbody><tr><th>1</th><td>0.918193</td><td>0.730542</td><td>0.17528</td><td>0.290656</td><td>0.32454</td></tr><tr><th>2</th><td>0.99533</td><td>0.0354157</td><td>0.317524</td><td>0.873675</td><td>0.43646</td></tr><tr><th>3</th><td>0.00393182</td><td>0.613515</td><td>0.571327</td><td>0.399088</td><td>0.704549</td></tr><tr><th>4</th><td>0.918193</td><td>0.730542</td><td>0.17528</td><td>0.290656</td><td>0.32454</td></tr><tr><th>5</th><td>0.99533</td><td>0.0354157</td><td>0.317524</td><td>0.873675</td><td>0.43646</td></tr></tbody></table>"
      ],
      "text/plain": [
       "5×5 DataFrames.DataFrame\n",
       "│ Row │ x1         │ x2        │ x3       │ x4       │ x5       │\n",
       "├─────┼────────────┼───────────┼──────────┼──────────┼──────────┤\n",
       "│ 1   │ 0.918193   │ 0.730542  │ 0.17528  │ 0.290656 │ 0.32454  │\n",
       "│ 2   │ 0.99533    │ 0.0354157 │ 0.317524 │ 0.873675 │ 0.43646  │\n",
       "│ 3   │ 0.00393182 │ 0.613515  │ 0.571327 │ 0.399088 │ 0.704549 │\n",
       "│ 4   │ 0.918193   │ 0.730542  │ 0.17528  │ 0.290656 │ 0.32454  │\n",
       "│ 5   │ 0.99533    │ 0.0354157 │ 0.317524 │ 0.873675 │ 0.43646  │"
      ]
     },
     "execution_count": 73,
     "metadata": {},
     "output_type": "execute_result"
    }
   ],
   "source": [
    "deleterows!(x, 6:7) # delete collection of rows"
   ]
  },
  {
   "cell_type": "markdown",
   "metadata": {},
   "source": [
    "### Deduplicating"
   ]
  },
  {
   "cell_type": "code",
   "execution_count": 75,
   "metadata": {
    "collapsed": false
   },
   "outputs": [
    {
     "data": {
      "text/html": [
       "<table class=\"data-frame\"><thead><tr><th></th><th>A</th><th>B</th><th>C</th></tr></thead><tbody><tr><th>1</th><td>1</td><td>x</td><td>1</td></tr><tr><th>2</th><td>2</td><td>y</td><td>2</td></tr><tr><th>3</th><td>1</td><td>x</td><td>3</td></tr><tr><th>4</th><td>2</td><td>y</td><td>4</td></tr></tbody></table>"
      ],
      "text/plain": [
       "4×3 DataFrames.DataFrame\n",
       "│ Row │ A │ B │ C │\n",
       "├─────┼───┼───┼───┤\n",
       "│ 1   │ 1 │ x │ 1 │\n",
       "│ 2   │ 2 │ y │ 2 │\n",
       "│ 3   │ 1 │ x │ 3 │\n",
       "│ 4   │ 2 │ y │ 4 │"
      ]
     },
     "execution_count": 75,
     "metadata": {},
     "output_type": "execute_result"
    }
   ],
   "source": [
    "x = DataFrame(A=[1,2], B=[\"x\",\"y\"])\n",
    "append!(x, x)\n",
    "x[:C] = 1:4\n",
    "x"
   ]
  },
  {
   "cell_type": "code",
   "execution_count": 78,
   "metadata": {
    "collapsed": false
   },
   "outputs": [
    {
     "data": {
      "text/html": [
       "<table class=\"data-frame\"><thead><tr><th></th><th>A</th><th>B</th><th>C</th></tr></thead><tbody><tr><th>1</th><td>1</td><td>x</td><td>1</td></tr><tr><th>2</th><td>2</td><td>y</td><td>2</td></tr></tbody></table>"
      ],
      "text/plain": [
       "2×3 DataFrames.DataFrame\n",
       "│ Row │ A │ B │ C │\n",
       "├─────┼───┼───┼───┤\n",
       "│ 1   │ 1 │ x │ 1 │\n",
       "│ 2   │ 2 │ y │ 2 │"
      ]
     },
     "execution_count": 78,
     "metadata": {},
     "output_type": "execute_result"
    }
   ],
   "source": [
    "unique(x, [1,2]) # get first unique rows for given index"
   ]
  },
  {
   "cell_type": "code",
   "execution_count": 79,
   "metadata": {
    "collapsed": false
   },
   "outputs": [
    {
     "data": {
      "text/html": [
       "<table class=\"data-frame\"><thead><tr><th></th><th>A</th><th>B</th><th>C</th></tr></thead><tbody><tr><th>1</th><td>1</td><td>x</td><td>1</td></tr><tr><th>2</th><td>2</td><td>y</td><td>2</td></tr><tr><th>3</th><td>1</td><td>x</td><td>3</td></tr><tr><th>4</th><td>2</td><td>y</td><td>4</td></tr></tbody></table>"
      ],
      "text/plain": [
       "4×3 DataFrames.DataFrame\n",
       "│ Row │ A │ B │ C │\n",
       "├─────┼───┼───┼───┤\n",
       "│ 1   │ 1 │ x │ 1 │\n",
       "│ 2   │ 2 │ y │ 2 │\n",
       "│ 3   │ 1 │ x │ 3 │\n",
       "│ 4   │ 2 │ y │ 4 │"
      ]
     },
     "execution_count": 79,
     "metadata": {},
     "output_type": "execute_result"
    }
   ],
   "source": [
    "unique(x) # now we look at whole rows"
   ]
  },
  {
   "cell_type": "code",
   "execution_count": 81,
   "metadata": {
    "collapsed": false
   },
   "outputs": [
    {
     "data": {
      "text/plain": [
       "4-element Array{Bool,1}:\n",
       " false\n",
       " false\n",
       "  true\n",
       "  true"
      ]
     },
     "execution_count": 81,
     "metadata": {},
     "output_type": "execute_result"
    }
   ],
   "source": [
    "nonunique(x, :A) # get indicators of non-unique rows"
   ]
  },
  {
   "cell_type": "code",
   "execution_count": 82,
   "metadata": {
    "collapsed": false
   },
   "outputs": [
    {
     "data": {
      "text/html": [
       "<table class=\"data-frame\"><thead><tr><th></th><th>A</th><th>B</th><th>C</th></tr></thead><tbody><tr><th>1</th><td>1</td><td>x</td><td>1</td></tr><tr><th>2</th><td>2</td><td>y</td><td>2</td></tr></tbody></table>"
      ],
      "text/plain": [
       "2×3 DataFrames.DataFrame\n",
       "│ Row │ A │ B │ C │\n",
       "├─────┼───┼───┼───┤\n",
       "│ 1   │ 1 │ x │ 1 │\n",
       "│ 2   │ 2 │ y │ 2 │"
      ]
     },
     "execution_count": 82,
     "metadata": {},
     "output_type": "execute_result"
    }
   ],
   "source": [
    "unique!(x, :B) # modify x in place"
   ]
  }
 ],
 "metadata": {
  "kernelspec": {
   "display_name": "Julia 0.6.0",
   "language": "julia",
   "name": "julia-0.6"
  },
  "language_info": {
   "file_extension": ".jl",
   "mimetype": "application/julia",
   "name": "julia",
   "version": "0.6.1"
  }
 },
 "nbformat": 4,
 "nbformat_minor": 0
}
