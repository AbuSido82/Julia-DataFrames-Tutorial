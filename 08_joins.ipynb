{
 "cells": [
  {
   "cell_type": "markdown",
   "metadata": {},
   "source": [
    "# Introduction to DataFrames\n",
    "**[Bogumił Kamiński](http://bogumilkaminski.pl/about/), Dec 2, 2017**\n",
    "\n",
    "A brief introduction to basic usage of `DataFrames`. Tested under version `0.11`.\n",
    "I will try to keep it up to date as the package evolves."
   ]
  },
  {
   "cell_type": "code",
   "execution_count": 2,
   "metadata": {
    "collapsed": false
   },
   "outputs": [],
   "source": [
    "using DataFrames # load package"
   ]
  },
  {
   "cell_type": "markdown",
   "metadata": {},
   "source": [
    "## Joining DataFrames"
   ]
  },
  {
   "cell_type": "markdown",
   "metadata": {},
   "source": [
    "### Cross join"
   ]
  },
  {
   "cell_type": "code",
   "execution_count": 4,
   "metadata": {
    "collapsed": false
   },
   "outputs": [
    {
     "data": {
      "text/html": [
       "<table class=\"data-frame\"><thead><tr><th></th><th>a</th><th>b</th><th>c</th></tr></thead><tbody><tr><th>1</th><td>1</td><td>a</td><td>true</td></tr><tr><th>2</th><td>1</td><td>a</td><td>false</td></tr><tr><th>3</th><td>1</td><td>b</td><td>true</td></tr><tr><th>4</th><td>1</td><td>b</td><td>false</td></tr><tr><th>5</th><td>1</td><td>c</td><td>true</td></tr><tr><th>6</th><td>1</td><td>c</td><td>false</td></tr><tr><th>7</th><td>2</td><td>a</td><td>true</td></tr><tr><th>8</th><td>2</td><td>a</td><td>false</td></tr><tr><th>9</th><td>2</td><td>b</td><td>true</td></tr><tr><th>10</th><td>2</td><td>b</td><td>false</td></tr><tr><th>11</th><td>2</td><td>c</td><td>true</td></tr><tr><th>12</th><td>2</td><td>c</td><td>false</td></tr></tbody></table>"
      ],
      "text/plain": [
       "12×3 DataFrames.DataFrame\n",
       "│ Row │ a │ b │ c     │\n",
       "├─────┼───┼───┼───────┤\n",
       "│ 1   │ 1 │ a │ true  │\n",
       "│ 2   │ 1 │ a │ false │\n",
       "│ 3   │ 1 │ b │ true  │\n",
       "│ 4   │ 1 │ b │ false │\n",
       "│ 5   │ 1 │ c │ true  │\n",
       "│ 6   │ 1 │ c │ false │\n",
       "│ 7   │ 2 │ a │ true  │\n",
       "│ 8   │ 2 │ a │ false │\n",
       "│ 9   │ 2 │ b │ true  │\n",
       "│ 10  │ 2 │ b │ false │\n",
       "│ 11  │ 2 │ c │ true  │\n",
       "│ 12  │ 2 │ c │ false │"
      ]
     },
     "execution_count": 4,
     "metadata": {},
     "output_type": "execute_result"
    }
   ],
   "source": [
    "# cross-join does tor require on argument\n",
    "# it produces a Cartesian product or arguments\n",
    "function expand_grid(;xs...) # a simple replacement for expand.grid in R\n",
    "    reduce((x,y) -> join(x, DataFrame(Pair(y...)), kind=:cross),\n",
    "           DataFrame(Pair(xs[1]...)), xs[2:end])\n",
    "end\n",
    "\n",
    "expand_grid(a=[1,2], b=[\"a\",\"b\",\"c\"], c=[true,false])"
   ]
  }
 ],
 "metadata": {
  "kernelspec": {
   "display_name": "Julia 0.6.0",
   "language": "julia",
   "name": "julia-0.6"
  },
  "language_info": {
   "file_extension": ".jl",
   "mimetype": "application/julia",
   "name": "julia",
   "version": "0.6.1"
  }
 },
 "nbformat": 4,
 "nbformat_minor": 0
}
