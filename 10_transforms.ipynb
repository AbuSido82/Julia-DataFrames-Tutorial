{
 "cells": [
  {
   "cell_type": "markdown",
   "metadata": {},
   "source": [
    "# Introduction to DataFrames\n",
    "**[Bogumił Kamiński](http://bogumilkaminski.pl/about/), September 26, 2018**"
   ]
  },
  {
   "cell_type": "code",
   "execution_count": 1,
   "metadata": {},
   "outputs": [],
   "source": [
    "using DataFrames # load package"
   ]
  },
  {
   "cell_type": "markdown",
   "metadata": {},
   "source": [
    "## Split-apply-combine"
   ]
  },
  {
   "cell_type": "code",
   "execution_count": 2,
   "metadata": {},
   "outputs": [
    {
     "data": {
      "text/html": [
       "<table class=\"data-frame\"><thead><tr><th></th><th>id</th><th>id2</th><th>v</th></tr></thead><tbody><tr><th>1</th><td>1</td><td>1</td><td>0.928275</td></tr><tr><th>2</th><td>2</td><td>2</td><td>0.982743</td></tr><tr><th>3</th><td>3</td><td>1</td><td>0.236876</td></tr><tr><th>4</th><td>4</td><td>2</td><td>0.969184</td></tr><tr><th>5</th><td>1</td><td>1</td><td>0.0272118</td></tr><tr><th>6</th><td>2</td><td>2</td><td>0.342781</td></tr><tr><th>7</th><td>3</td><td>1</td><td>0.0338346</td></tr><tr><th>8</th><td>4</td><td>2</td><td>0.701404</td></tr></tbody></table>"
      ],
      "text/plain": [
       "8×3 DataFrame\n",
       "│ Row │ id    │ id2   │ v         │\n",
       "│     │ \u001b[90mInt64\u001b[39m │ \u001b[90mInt64\u001b[39m │ \u001b[90mFloat64\u001b[39m   │\n",
       "├─────┼───────┼───────┼───────────┤\n",
       "│ 1   │ 1     │ 1     │ 0.928275  │\n",
       "│ 2   │ 2     │ 2     │ 0.982743  │\n",
       "│ 3   │ 3     │ 1     │ 0.236876  │\n",
       "│ 4   │ 4     │ 2     │ 0.969184  │\n",
       "│ 5   │ 1     │ 1     │ 0.0272118 │\n",
       "│ 6   │ 2     │ 2     │ 0.342781  │\n",
       "│ 7   │ 3     │ 1     │ 0.0338346 │\n",
       "│ 8   │ 4     │ 2     │ 0.701404  │"
      ]
     },
     "execution_count": 2,
     "metadata": {},
     "output_type": "execute_result"
    }
   ],
   "source": [
    "x = DataFrame(id=[1,2,3,4,1,2,3,4], id2=[1,2,1,2,1,2,1,2], v=rand(8))"
   ]
  },
  {
   "cell_type": "code",
   "execution_count": 3,
   "metadata": {
    "scrolled": true
   },
   "outputs": [
    {
     "data": {
      "text/plain": [
       "GroupedDataFrame with 4 groups based on keys: :A, :B\n",
       "First Group: 2 rows\n",
       "│ Row │ id    │ id2   │ v         │\n",
       "│     │ \u001b[90mInt64\u001b[39m │ \u001b[90mInt64\u001b[39m │ \u001b[90mFloat64\u001b[39m   │\n",
       "├─────┼───────┼───────┼───────────┤\n",
       "│ 1   │ 1     │ 1     │ 0.928275  │\n",
       "│ 2   │ 1     │ 1     │ 0.0272118 │\n",
       "⋮\n",
       "Last Group: 2 rows\n",
       "│ Row │ id    │ id2   │ v        │\n",
       "│     │ \u001b[90mInt64\u001b[39m │ \u001b[90mInt64\u001b[39m │ \u001b[90mFloat64\u001b[39m  │\n",
       "├─────┼───────┼───────┼──────────┤\n",
       "│ 1   │ 4     │ 2     │ 0.969184 │\n",
       "│ 2   │ 4     │ 2     │ 0.701404 │"
      ]
     },
     "execution_count": 3,
     "metadata": {},
     "output_type": "execute_result"
    }
   ],
   "source": [
    "gx1 = groupby(x, :id)"
   ]
  },
  {
   "cell_type": "code",
   "execution_count": 4,
   "metadata": {},
   "outputs": [
    {
     "data": {
      "text/plain": [
       "GroupedDataFrame with 4 groups based on keys: :A, :B\n",
       "First Group: 2 rows\n",
       "│ Row │ id    │ id2   │ v         │\n",
       "│     │ \u001b[90mInt64\u001b[39m │ \u001b[90mInt64\u001b[39m │ \u001b[90mFloat64\u001b[39m   │\n",
       "├─────┼───────┼───────┼───────────┤\n",
       "│ 1   │ 1     │ 1     │ 0.928275  │\n",
       "│ 2   │ 1     │ 1     │ 0.0272118 │\n",
       "⋮\n",
       "Last Group: 2 rows\n",
       "│ Row │ id    │ id2   │ v        │\n",
       "│     │ \u001b[90mInt64\u001b[39m │ \u001b[90mInt64\u001b[39m │ \u001b[90mFloat64\u001b[39m  │\n",
       "├─────┼───────┼───────┼──────────┤\n",
       "│ 1   │ 4     │ 2     │ 0.969184 │\n",
       "│ 2   │ 4     │ 2     │ 0.701404 │"
      ]
     },
     "execution_count": 4,
     "metadata": {},
     "output_type": "execute_result"
    }
   ],
   "source": [
    "gx2 = groupby(x, [:id, :id2])"
   ]
  },
  {
   "cell_type": "code",
   "execution_count": 5,
   "metadata": {},
   "outputs": [
    {
     "data": {
      "text/html": [
       "<table class=\"data-frame\"><thead><tr><th></th><th>id</th><th>id2</th><th>v</th></tr></thead><tbody><tr><th>1</th><td>1</td><td>1</td><td>0.928275</td></tr><tr><th>2</th><td>1</td><td>1</td><td>0.0272118</td></tr><tr><th>3</th><td>2</td><td>2</td><td>0.982743</td></tr><tr><th>4</th><td>2</td><td>2</td><td>0.342781</td></tr><tr><th>5</th><td>3</td><td>1</td><td>0.236876</td></tr><tr><th>6</th><td>3</td><td>1</td><td>0.0338346</td></tr><tr><th>7</th><td>4</td><td>2</td><td>0.969184</td></tr><tr><th>8</th><td>4</td><td>2</td><td>0.701404</td></tr></tbody></table>"
      ],
      "text/plain": [
       "8×3 DataFrame\n",
       "│ Row │ id    │ id2   │ v         │\n",
       "│     │ \u001b[90mInt64\u001b[39m │ \u001b[90mInt64\u001b[39m │ \u001b[90mFloat64\u001b[39m   │\n",
       "├─────┼───────┼───────┼───────────┤\n",
       "│ 1   │ 1     │ 1     │ 0.928275  │\n",
       "│ 2   │ 1     │ 1     │ 0.0272118 │\n",
       "│ 3   │ 2     │ 2     │ 0.982743  │\n",
       "│ 4   │ 2     │ 2     │ 0.342781  │\n",
       "│ 5   │ 3     │ 1     │ 0.236876  │\n",
       "│ 6   │ 3     │ 1     │ 0.0338346 │\n",
       "│ 7   │ 4     │ 2     │ 0.969184  │\n",
       "│ 8   │ 4     │ 2     │ 0.701404  │"
      ]
     },
     "execution_count": 5,
     "metadata": {},
     "output_type": "execute_result"
    }
   ],
   "source": [
    "vcat(gx2...) # back to the original DataFrame"
   ]
  },
  {
   "cell_type": "code",
   "execution_count": 6,
   "metadata": {},
   "outputs": [
    {
     "data": {
      "text/html": [
       "<table class=\"data-frame\"><thead><tr><th></th><th>id</th><th>x</th></tr></thead><tbody><tr><th>1</th><td>missing</td><td>1</td></tr><tr><th>2</th><td>5</td><td>2</td></tr><tr><th>3</th><td>1</td><td>3</td></tr><tr><th>4</th><td>3</td><td>4</td></tr><tr><th>5</th><td>missing</td><td>5</td></tr></tbody></table>"
      ],
      "text/plain": [
       "5×2 DataFrame\n",
       "│ Row │ id      │ x     │\n",
       "│     │ \u001b[90mInt64⍰\u001b[39m  │ \u001b[90mInt64\u001b[39m │\n",
       "├─────┼─────────┼───────┤\n",
       "│ 1   │ \u001b[90mmissing\u001b[39m │ 1     │\n",
       "│ 2   │ 5       │ 2     │\n",
       "│ 3   │ 1       │ 3     │\n",
       "│ 4   │ 3       │ 4     │\n",
       "│ 5   │ \u001b[90mmissing\u001b[39m │ 5     │"
      ]
     },
     "execution_count": 6,
     "metadata": {},
     "output_type": "execute_result"
    }
   ],
   "source": [
    "x = DataFrame(id = [missing, 5, 1, 3, missing], x = 1:5)"
   ]
  },
  {
   "cell_type": "code",
   "execution_count": 7,
   "metadata": {},
   "outputs": [
    {
     "data": {
      "text/plain": [
       "GroupedDataFrame with 4 groups based on keys: :A, :B\n",
       "First Group: 2 rows\n",
       "│ Row │ id      │ x     │\n",
       "│     │ \u001b[90mInt64⍰\u001b[39m  │ \u001b[90mInt64\u001b[39m │\n",
       "├─────┼─────────┼───────┤\n",
       "│ 1   │ \u001b[90mmissing\u001b[39m │ 1     │\n",
       "│ 2   │ \u001b[90mmissing\u001b[39m │ 5     │\n",
       "⋮\n",
       "Last Group: 2 rows\n",
       "│ Row │ id     │ x     │\n",
       "│     │ \u001b[90mInt64⍰\u001b[39m │ \u001b[90mInt64\u001b[39m │\n",
       "├─────┼────────┼───────┤\n",
       "│ 1   │ 3      │ 4     │"
      ]
     },
     "execution_count": 7,
     "metadata": {},
     "output_type": "execute_result"
    }
   ],
   "source": [
    "groupby(x, :id) # by default groups include mising values and are not sorted"
   ]
  },
  {
   "cell_type": "code",
   "execution_count": 8,
   "metadata": {},
   "outputs": [
    {
     "data": {
      "text/plain": [
       "GroupedDataFrame with 3 groups based on keys: :A, :B\n",
       "First Group: 1 row\n",
       "│ Row │ id     │ x     │\n",
       "│     │ \u001b[90mInt64⍰\u001b[39m │ \u001b[90mInt64\u001b[39m │\n",
       "├─────┼────────┼───────┤\n",
       "│ 1   │ 1      │ 3     │\n",
       "⋮\n",
       "Last Group: 1 row\n",
       "│ Row │ id     │ x     │\n",
       "│     │ \u001b[90mInt64⍰\u001b[39m │ \u001b[90mInt64\u001b[39m │\n",
       "├─────┼────────┼───────┤\n",
       "│ 1   │ 5      │ 2     │"
      ]
     },
     "execution_count": 8,
     "metadata": {},
     "output_type": "execute_result"
    }
   ],
   "source": [
    "groupby(x, :id, sort=true, skipmissing=true) # but we can change it :)"
   ]
  },
  {
   "cell_type": "code",
   "execution_count": 9,
   "metadata": {},
   "outputs": [
    {
     "data": {
      "text/html": [
       "<table class=\"data-frame\"><thead><tr><th></th><th>id</th><th>x1</th></tr></thead><tbody><tr><th>1</th><td>'b'</td><td>0.504804</td></tr><tr><th>2</th><td>'c'</td><td>0.495727</td></tr><tr><th>3</th><td>'d'</td><td>0.519711</td></tr><tr><th>4</th><td>'a'</td><td>0.556148</td></tr></tbody></table>"
      ],
      "text/plain": [
       "4×2 DataFrame\n",
       "│ Row │ id   │ x1       │\n",
       "│     │ \u001b[90mChar\u001b[39m │ \u001b[90mFloat64\u001b[39m  │\n",
       "├─────┼──────┼──────────┤\n",
       "│ 1   │ 'b'  │ 0.504804 │\n",
       "│ 2   │ 'c'  │ 0.495727 │\n",
       "│ 3   │ 'd'  │ 0.519711 │\n",
       "│ 4   │ 'a'  │ 0.556148 │"
      ]
     },
     "execution_count": 9,
     "metadata": {},
     "output_type": "execute_result"
    }
   ],
   "source": [
    "using Statistics\n",
    "x = DataFrame(id=rand('a':'d', 100), v=rand(100));\n",
    "by(x, :id, y->mean(y.v)) # apply a function to each group of a data frame"
   ]
  },
  {
   "cell_type": "code",
   "execution_count": 10,
   "metadata": {},
   "outputs": [
    {
     "data": {
      "text/html": [
       "<table class=\"data-frame\"><thead><tr><th></th><th>id</th><th>x1</th></tr></thead><tbody><tr><th>1</th><td>'a'</td><td>0.556148</td></tr><tr><th>2</th><td>'b'</td><td>0.504804</td></tr><tr><th>3</th><td>'c'</td><td>0.495727</td></tr><tr><th>4</th><td>'d'</td><td>0.519711</td></tr></tbody></table>"
      ],
      "text/plain": [
       "4×2 DataFrame\n",
       "│ Row │ id   │ x1       │\n",
       "│     │ \u001b[90mChar\u001b[39m │ \u001b[90mFloat64\u001b[39m  │\n",
       "├─────┼──────┼──────────┤\n",
       "│ 1   │ 'a'  │ 0.556148 │\n",
       "│ 2   │ 'b'  │ 0.504804 │\n",
       "│ 3   │ 'c'  │ 0.495727 │\n",
       "│ 4   │ 'd'  │ 0.519711 │"
      ]
     },
     "execution_count": 10,
     "metadata": {},
     "output_type": "execute_result"
    }
   ],
   "source": [
    "by(x, :id, y->mean(y.v), sort=true) # we can sort the output"
   ]
  },
  {
   "cell_type": "code",
   "execution_count": 11,
   "metadata": {},
   "outputs": [
    {
     "data": {
      "text/html": [
       "<table class=\"data-frame\"><thead><tr><th></th><th>id</th><th>res</th></tr></thead><tbody><tr><th>1</th><td>'b'</td><td>0.504804</td></tr><tr><th>2</th><td>'c'</td><td>0.495727</td></tr><tr><th>3</th><td>'d'</td><td>0.519711</td></tr><tr><th>4</th><td>'a'</td><td>0.556148</td></tr></tbody></table>"
      ],
      "text/plain": [
       "4×2 DataFrame\n",
       "│ Row │ id   │ res      │\n",
       "│     │ \u001b[90mChar\u001b[39m │ \u001b[90mFloat64\u001b[39m  │\n",
       "├─────┼──────┼──────────┤\n",
       "│ 1   │ 'b'  │ 0.504804 │\n",
       "│ 2   │ 'c'  │ 0.495727 │\n",
       "│ 3   │ 'd'  │ 0.519711 │\n",
       "│ 4   │ 'a'  │ 0.556148 │"
      ]
     },
     "execution_count": 11,
     "metadata": {},
     "output_type": "execute_result"
    }
   ],
   "source": [
    "by(x, :id, y->DataFrame(res=mean(y.v))) # this way we can set a name for a column - DataFramesMeta @by is better"
   ]
  },
  {
   "cell_type": "code",
   "execution_count": 12,
   "metadata": {},
   "outputs": [
    {
     "data": {
      "text/html": [
       "<table class=\"data-frame\"><thead><tr><th></th><th>id</th><th>x1_sum</th><th>x2_sum</th></tr></thead><tbody><tr><th>1</th><td>'a'</td><td>11.7049</td><td>14.2657</td></tr><tr><th>2</th><td>'b'</td><td>12.1979</td><td>12.9316</td></tr><tr><th>3</th><td>'d'</td><td>9.63083</td><td>13.0482</td></tr><tr><th>4</th><td>'c'</td><td>12.1058</td><td>17.3369</td></tr></tbody></table>"
      ],
      "text/plain": [
       "4×3 DataFrame\n",
       "│ Row │ id   │ x1_sum  │ x2_sum  │\n",
       "│     │ \u001b[90mChar\u001b[39m │ \u001b[90mFloat64\u001b[39m │ \u001b[90mFloat64\u001b[39m │\n",
       "├─────┼──────┼─────────┼─────────┤\n",
       "│ 1   │ 'a'  │ 11.7049 │ 14.2657 │\n",
       "│ 2   │ 'b'  │ 12.1979 │ 12.9316 │\n",
       "│ 3   │ 'd'  │ 9.63083 │ 13.0482 │\n",
       "│ 4   │ 'c'  │ 12.1058 │ 17.3369 │"
      ]
     },
     "execution_count": 12,
     "metadata": {},
     "output_type": "execute_result"
    }
   ],
   "source": [
    "x = DataFrame(id=rand('a':'d', 100), x1=rand(100), x2=rand(100))\n",
    "aggregate(x, :id, sum) # apply a function over all columns of a data frame in groups given by id"
   ]
  },
  {
   "cell_type": "code",
   "execution_count": 13,
   "metadata": {},
   "outputs": [
    {
     "data": {
      "text/html": [
       "<table class=\"data-frame\"><thead><tr><th></th><th>id</th><th>x1_sum</th><th>x2_sum</th></tr></thead><tbody><tr><th>1</th><td>'a'</td><td>11.7049</td><td>14.2657</td></tr><tr><th>2</th><td>'b'</td><td>12.1979</td><td>12.9316</td></tr><tr><th>3</th><td>'c'</td><td>12.1058</td><td>17.3369</td></tr><tr><th>4</th><td>'d'</td><td>9.63083</td><td>13.0482</td></tr></tbody></table>"
      ],
      "text/plain": [
       "4×3 DataFrame\n",
       "│ Row │ id   │ x1_sum  │ x2_sum  │\n",
       "│     │ \u001b[90mChar\u001b[39m │ \u001b[90mFloat64\u001b[39m │ \u001b[90mFloat64\u001b[39m │\n",
       "├─────┼──────┼─────────┼─────────┤\n",
       "│ 1   │ 'a'  │ 11.7049 │ 14.2657 │\n",
       "│ 2   │ 'b'  │ 12.1979 │ 12.9316 │\n",
       "│ 3   │ 'c'  │ 12.1058 │ 17.3369 │\n",
       "│ 4   │ 'd'  │ 9.63083 │ 13.0482 │"
      ]
     },
     "execution_count": 13,
     "metadata": {},
     "output_type": "execute_result"
    }
   ],
   "source": [
    "aggregate(x, :id, sum, sort=true) # also can be sorted"
   ]
  },
  {
   "cell_type": "markdown",
   "metadata": {},
   "source": [
    "*We omit the discussion of of map/combine as I do not find them very useful (better to use by)*"
   ]
  },
  {
   "cell_type": "code",
   "execution_count": 14,
   "metadata": {},
   "outputs": [
    {
     "data": {
      "text/html": [
       "<table class=\"data-frame\"><thead><tr><th></th><th>x1</th><th>x2</th><th>x3</th><th>x4</th><th>x5</th></tr></thead><tbody><tr><th>1</th><td>0.620795</td><td>0.0494765</td><td>0.328397</td><td>0.430159</td><td>0.526294</td></tr><tr><th>2</th><td>0.410581</td><td>0.64937</td><td>0.41514</td><td>0.735231</td><td>0.887564</td></tr><tr><th>3</th><td>0.148496</td><td>0.840524</td><td>0.394913</td><td>0.541614</td><td>0.046687</td></tr></tbody></table>"
      ],
      "text/plain": [
       "3×5 DataFrame\n",
       "│ Row │ x1       │ x2        │ x3       │ x4       │ x5       │\n",
       "│     │ \u001b[90mFloat64\u001b[39m  │ \u001b[90mFloat64\u001b[39m   │ \u001b[90mFloat64\u001b[39m  │ \u001b[90mFloat64\u001b[39m  │ \u001b[90mFloat64\u001b[39m  │\n",
       "├─────┼──────────┼───────────┼──────────┼──────────┼──────────┤\n",
       "│ 1   │ 0.620795 │ 0.0494765 │ 0.328397 │ 0.430159 │ 0.526294 │\n",
       "│ 2   │ 0.410581 │ 0.64937   │ 0.41514  │ 0.735231 │ 0.887564 │\n",
       "│ 3   │ 0.148496 │ 0.840524  │ 0.394913 │ 0.541614 │ 0.046687 │"
      ]
     },
     "execution_count": 14,
     "metadata": {},
     "output_type": "execute_result"
    }
   ],
   "source": [
    "x = DataFrame(rand(3, 5))"
   ]
  },
  {
   "cell_type": "code",
   "execution_count": 15,
   "metadata": {},
   "outputs": [
    {
     "data": {
      "text/html": [
       "<table class=\"data-frame\"><thead><tr><th></th><th>x1</th><th>x2</th><th>x3</th><th>x4</th><th>x5</th></tr></thead><tbody><tr><th>1</th><td>0.393291</td><td>0.513123</td><td>0.379483</td><td>0.569001</td><td>0.486848</td></tr></tbody></table>"
      ],
      "text/plain": [
       "1×5 DataFrame\n",
       "│ Row │ x1       │ x2       │ x3       │ x4       │ x5       │\n",
       "│     │ \u001b[90mFloat64\u001b[39m  │ \u001b[90mFloat64\u001b[39m  │ \u001b[90mFloat64\u001b[39m  │ \u001b[90mFloat64\u001b[39m  │ \u001b[90mFloat64\u001b[39m  │\n",
       "├─────┼──────────┼──────────┼──────────┼──────────┼──────────┤\n",
       "│ 1   │ 0.393291 │ 0.513123 │ 0.379483 │ 0.569001 │ 0.486848 │"
      ]
     },
     "execution_count": 15,
     "metadata": {},
     "output_type": "execute_result"
    }
   ],
   "source": [
    "map(mean, eachcol(x)) # map a function over each column and return a data frame"
   ]
  },
  {
   "cell_type": "code",
   "execution_count": 16,
   "metadata": {},
   "outputs": [
    {
     "name": "stdout",
     "output_type": "stream",
     "text": [
      "x1: 0.3932907243889327\n",
      "x2: 0.5131234204230393\n",
      "x3: 0.37948323368781134\n",
      "x4: 0.5690013138736149\n",
      "x5: 0.4868481864188075\n"
     ]
    }
   ],
   "source": [
    "foreach(c -> println(c[1], \": \", mean(c[2])), eachcol(x)) # a raw iteration returns a tuple with column name and values"
   ]
  },
  {
   "cell_type": "code",
   "execution_count": 17,
   "metadata": {},
   "outputs": [
    {
     "data": {
      "text/plain": [
       "5-element Array{Float64,1}:\n",
       " 0.3932907243889327 \n",
       " 0.5131234204230393 \n",
       " 0.37948323368781134\n",
       " 0.5690013138736149 \n",
       " 0.4868481864188075 "
      ]
     },
     "execution_count": 17,
     "metadata": {},
     "output_type": "execute_result"
    }
   ],
   "source": [
    "colwise(mean, x) # colwise is similar, but produces a vector"
   ]
  },
  {
   "cell_type": "code",
   "execution_count": 18,
   "metadata": {},
   "outputs": [
    {
     "data": {
      "text/plain": [
       "2-element Array{Array{Float64,1},1}:\n",
       " [0.515688, 0.349423, 0.371768, 0.582695, 0.706929, 1.0]\n",
       " [0.148496, 0.840524, 0.394913, 0.541614, 0.046687, 2.0]"
      ]
     },
     "execution_count": 18,
     "metadata": {},
     "output_type": "execute_result"
    }
   ],
   "source": [
    "x[:id] = [1,1,2]\n",
    "colwise(mean,groupby(x, :id)) # and works on GroupedDataFrame"
   ]
  },
  {
   "cell_type": "code",
   "execution_count": 19,
   "metadata": {},
   "outputs": [
    {
     "data": {
      "text/plain": [
       "3-element Array{Float64,1}:\n",
       " 12.54727988062303  \n",
       "  0.6322765626507335\n",
       "  0.176670179811385 "
      ]
     },
     "execution_count": 19,
     "metadata": {},
     "output_type": "execute_result"
    }
   ],
   "source": [
    "map(r -> r.x1/r.x2, eachrow(x)) # now the returned value is DataFrameRow which works similarly to a one-row DataFrame"
   ]
  }
 ],
 "metadata": {
  "kernelspec": {
   "display_name": "Julia 1.0.0",
   "language": "julia",
   "name": "julia-1.0"
  },
  "language_info": {
   "file_extension": ".jl",
   "mimetype": "application/julia",
   "name": "julia",
   "version": "1.0.0"
  }
 },
 "nbformat": 4,
 "nbformat_minor": 1
}
