{
 "cells": [
  {
   "cell_type": "markdown",
   "metadata": {},
   "source": [
    "# Introduction to DataFrames\n",
    "**[Bogumił Kamiński](http://bogumilkaminski.pl/about/), January 3, 2019**"
   ]
  },
  {
   "cell_type": "code",
   "execution_count": 1,
   "metadata": {},
   "outputs": [],
   "source": [
    "using DataFrames # load package"
   ]
  },
  {
   "cell_type": "markdown",
   "metadata": {},
   "source": [
    "## Split-apply-combine"
   ]
  },
  {
   "cell_type": "code",
   "execution_count": 2,
   "metadata": {},
   "outputs": [
    {
     "data": {
      "text/html": [
       "<table class=\"data-frame\"><thead><tr><th></th><th>id</th><th>id2</th><th>v</th></tr><tr><th></th><th>Int64</th><th>Int64</th><th>Float64</th></tr></thead><tbody><p>8 rows × 3 columns</p><tr><th>1</th><td>1</td><td>1</td><td>0.309601</td></tr><tr><th>2</th><td>2</td><td>2</td><td>0.53993</td></tr><tr><th>3</th><td>3</td><td>1</td><td>0.560226</td></tr><tr><th>4</th><td>4</td><td>2</td><td>0.949346</td></tr><tr><th>5</th><td>1</td><td>1</td><td>0.0227493</td></tr><tr><th>6</th><td>2</td><td>2</td><td>0.387667</td></tr><tr><th>7</th><td>3</td><td>1</td><td>0.629157</td></tr><tr><th>8</th><td>4</td><td>2</td><td>0.0943663</td></tr></tbody></table>"
      ],
      "text/latex": [
       "\\begin{tabular}{r|ccc}\n",
       "\t& id & id2 & v\\\\\n",
       "\t\\hline\n",
       "\t1 & 1 & 1 & 0.309601 \\\\\n",
       "\t2 & 2 & 2 & 0.53993 \\\\\n",
       "\t3 & 3 & 1 & 0.560226 \\\\\n",
       "\t4 & 4 & 2 & 0.949346 \\\\\n",
       "\t5 & 1 & 1 & 0.0227493 \\\\\n",
       "\t6 & 2 & 2 & 0.387667 \\\\\n",
       "\t7 & 3 & 1 & 0.629157 \\\\\n",
       "\t8 & 4 & 2 & 0.0943663 \\\\\n",
       "\\end{tabular}\n"
      ],
      "text/plain": [
       "8×3 DataFrame\n",
       "│ Row │ id    │ id2   │ v         │\n",
       "│     │ \u001b[90mInt64\u001b[39m │ \u001b[90mInt64\u001b[39m │ \u001b[90mFloat64\u001b[39m   │\n",
       "├─────┼───────┼───────┼───────────┤\n",
       "│ 1   │ 1     │ 1     │ 0.309601  │\n",
       "│ 2   │ 2     │ 2     │ 0.53993   │\n",
       "│ 3   │ 3     │ 1     │ 0.560226  │\n",
       "│ 4   │ 4     │ 2     │ 0.949346  │\n",
       "│ 5   │ 1     │ 1     │ 0.0227493 │\n",
       "│ 6   │ 2     │ 2     │ 0.387667  │\n",
       "│ 7   │ 3     │ 1     │ 0.629157  │\n",
       "│ 8   │ 4     │ 2     │ 0.0943663 │"
      ]
     },
     "execution_count": 2,
     "metadata": {},
     "output_type": "execute_result"
    }
   ],
   "source": [
    "x = DataFrame(id=[1,2,3,4,1,2,3,4], id2=[1,2,1,2,1,2,1,2], v=rand(8))"
   ]
  },
  {
   "cell_type": "code",
   "execution_count": 3,
   "metadata": {
    "scrolled": true
   },
   "outputs": [
    {
     "data": {
      "text/plain": [
       "GroupedDataFrame{DataFrame} with 4 groups based on key: :id\n",
       "First Group (2 rows): :id = 1\n",
       "│ Row │ id    │ id2   │ v         │\n",
       "│     │ \u001b[90mInt64\u001b[39m │ \u001b[90mInt64\u001b[39m │ \u001b[90mFloat64\u001b[39m   │\n",
       "├─────┼───────┼───────┼───────────┤\n",
       "│ 1   │ 1     │ 1     │ 0.309601  │\n",
       "│ 2   │ 1     │ 1     │ 0.0227493 │\n",
       "⋮\n",
       "Last Group (2 rows): :id = 4\n",
       "│ Row │ id    │ id2   │ v         │\n",
       "│     │ \u001b[90mInt64\u001b[39m │ \u001b[90mInt64\u001b[39m │ \u001b[90mFloat64\u001b[39m   │\n",
       "├─────┼───────┼───────┼───────────┤\n",
       "│ 1   │ 4     │ 2     │ 0.949346  │\n",
       "│ 2   │ 4     │ 2     │ 0.0943663 │"
      ]
     },
     "execution_count": 3,
     "metadata": {},
     "output_type": "execute_result"
    }
   ],
   "source": [
    "gx1 = groupby(x, :id)"
   ]
  },
  {
   "cell_type": "code",
   "execution_count": 4,
   "metadata": {},
   "outputs": [
    {
     "data": {
      "text/plain": [
       "GroupedDataFrame{DataFrame} with 4 groups based on keys: :id, :id2\n",
       "First Group (2 rows): :id = 1, :id2 = 1\n",
       "│ Row │ id    │ id2   │ v         │\n",
       "│     │ \u001b[90mInt64\u001b[39m │ \u001b[90mInt64\u001b[39m │ \u001b[90mFloat64\u001b[39m   │\n",
       "├─────┼───────┼───────┼───────────┤\n",
       "│ 1   │ 1     │ 1     │ 0.309601  │\n",
       "│ 2   │ 1     │ 1     │ 0.0227493 │\n",
       "⋮\n",
       "Last Group (2 rows): :id = 4, :id2 = 2\n",
       "│ Row │ id    │ id2   │ v         │\n",
       "│     │ \u001b[90mInt64\u001b[39m │ \u001b[90mInt64\u001b[39m │ \u001b[90mFloat64\u001b[39m   │\n",
       "├─────┼───────┼───────┼───────────┤\n",
       "│ 1   │ 4     │ 2     │ 0.949346  │\n",
       "│ 2   │ 4     │ 2     │ 0.0943663 │"
      ]
     },
     "execution_count": 4,
     "metadata": {},
     "output_type": "execute_result"
    }
   ],
   "source": [
    "gx2 = groupby(x, [:id, :id2])"
   ]
  },
  {
   "cell_type": "code",
   "execution_count": 5,
   "metadata": {},
   "outputs": [
    {
     "data": {
      "text/html": [
       "<table class=\"data-frame\"><thead><tr><th></th><th>id</th><th>id2</th><th>v</th></tr><tr><th></th><th>Int64</th><th>Int64</th><th>Float64</th></tr></thead><tbody><p>8 rows × 3 columns</p><tr><th>1</th><td>1</td><td>1</td><td>0.309601</td></tr><tr><th>2</th><td>1</td><td>1</td><td>0.0227493</td></tr><tr><th>3</th><td>2</td><td>2</td><td>0.53993</td></tr><tr><th>4</th><td>2</td><td>2</td><td>0.387667</td></tr><tr><th>5</th><td>3</td><td>1</td><td>0.560226</td></tr><tr><th>6</th><td>3</td><td>1</td><td>0.629157</td></tr><tr><th>7</th><td>4</td><td>2</td><td>0.949346</td></tr><tr><th>8</th><td>4</td><td>2</td><td>0.0943663</td></tr></tbody></table>"
      ],
      "text/latex": [
       "\\begin{tabular}{r|ccc}\n",
       "\t& id & id2 & v\\\\\n",
       "\t\\hline\n",
       "\t1 & 1 & 1 & 0.309601 \\\\\n",
       "\t2 & 1 & 1 & 0.0227493 \\\\\n",
       "\t3 & 2 & 2 & 0.53993 \\\\\n",
       "\t4 & 2 & 2 & 0.387667 \\\\\n",
       "\t5 & 3 & 1 & 0.560226 \\\\\n",
       "\t6 & 3 & 1 & 0.629157 \\\\\n",
       "\t7 & 4 & 2 & 0.949346 \\\\\n",
       "\t8 & 4 & 2 & 0.0943663 \\\\\n",
       "\\end{tabular}\n"
      ],
      "text/plain": [
       "8×3 DataFrame\n",
       "│ Row │ id    │ id2   │ v         │\n",
       "│     │ \u001b[90mInt64\u001b[39m │ \u001b[90mInt64\u001b[39m │ \u001b[90mFloat64\u001b[39m   │\n",
       "├─────┼───────┼───────┼───────────┤\n",
       "│ 1   │ 1     │ 1     │ 0.309601  │\n",
       "│ 2   │ 1     │ 1     │ 0.0227493 │\n",
       "│ 3   │ 2     │ 2     │ 0.53993   │\n",
       "│ 4   │ 2     │ 2     │ 0.387667  │\n",
       "│ 5   │ 3     │ 1     │ 0.560226  │\n",
       "│ 6   │ 3     │ 1     │ 0.629157  │\n",
       "│ 7   │ 4     │ 2     │ 0.949346  │\n",
       "│ 8   │ 4     │ 2     │ 0.0943663 │"
      ]
     },
     "execution_count": 5,
     "metadata": {},
     "output_type": "execute_result"
    }
   ],
   "source": [
    "vcat(gx2...) # back to the original DataFrame"
   ]
  },
  {
   "cell_type": "code",
   "execution_count": 6,
   "metadata": {},
   "outputs": [
    {
     "data": {
      "text/html": [
       "<table class=\"data-frame\"><thead><tr><th></th><th>id</th><th>id2</th><th>id_1</th><th>id2_1</th><th>v</th></tr><tr><th></th><th>Int64</th><th>Int64</th><th>Int64</th><th>Int64</th><th>Float64</th></tr></thead><tbody><p>8 rows × 5 columns</p><tr><th>1</th><td>1</td><td>1</td><td>1</td><td>1</td><td>0.309601</td></tr><tr><th>2</th><td>1</td><td>1</td><td>1</td><td>1</td><td>0.0227493</td></tr><tr><th>3</th><td>2</td><td>2</td><td>2</td><td>2</td><td>0.53993</td></tr><tr><th>4</th><td>2</td><td>2</td><td>2</td><td>2</td><td>0.387667</td></tr><tr><th>5</th><td>3</td><td>1</td><td>3</td><td>1</td><td>0.560226</td></tr><tr><th>6</th><td>3</td><td>1</td><td>3</td><td>1</td><td>0.629157</td></tr><tr><th>7</th><td>4</td><td>2</td><td>4</td><td>2</td><td>0.949346</td></tr><tr><th>8</th><td>4</td><td>2</td><td>4</td><td>2</td><td>0.0943663</td></tr></tbody></table>"
      ],
      "text/latex": [
       "\\begin{tabular}{r|ccccc}\n",
       "\t& id & id2 & id\\_1 & id2\\_1 & v\\\\\n",
       "\t\\hline\n",
       "\t1 & 1 & 1 & 1 & 1 & 0.309601 \\\\\n",
       "\t2 & 1 & 1 & 1 & 1 & 0.0227493 \\\\\n",
       "\t3 & 2 & 2 & 2 & 2 & 0.53993 \\\\\n",
       "\t4 & 2 & 2 & 2 & 2 & 0.387667 \\\\\n",
       "\t5 & 3 & 1 & 3 & 1 & 0.560226 \\\\\n",
       "\t6 & 3 & 1 & 3 & 1 & 0.629157 \\\\\n",
       "\t7 & 4 & 2 & 4 & 2 & 0.949346 \\\\\n",
       "\t8 & 4 & 2 & 4 & 2 & 0.0943663 \\\\\n",
       "\\end{tabular}\n"
      ],
      "text/plain": [
       "8×5 DataFrame\n",
       "│ Row │ id    │ id2   │ id_1  │ id2_1 │ v         │\n",
       "│     │ \u001b[90mInt64\u001b[39m │ \u001b[90mInt64\u001b[39m │ \u001b[90mInt64\u001b[39m │ \u001b[90mInt64\u001b[39m │ \u001b[90mFloat64\u001b[39m   │\n",
       "├─────┼───────┼───────┼───────┼───────┼───────────┤\n",
       "│ 1   │ 1     │ 1     │ 1     │ 1     │ 0.309601  │\n",
       "│ 2   │ 1     │ 1     │ 1     │ 1     │ 0.0227493 │\n",
       "│ 3   │ 2     │ 2     │ 2     │ 2     │ 0.53993   │\n",
       "│ 4   │ 2     │ 2     │ 2     │ 2     │ 0.387667  │\n",
       "│ 5   │ 3     │ 1     │ 3     │ 1     │ 0.560226  │\n",
       "│ 6   │ 3     │ 1     │ 3     │ 1     │ 0.629157  │\n",
       "│ 7   │ 4     │ 2     │ 4     │ 2     │ 0.949346  │\n",
       "│ 8   │ 4     │ 2     │ 4     │ 2     │ 0.0943663 │"
      ]
     },
     "execution_count": 6,
     "metadata": {},
     "output_type": "execute_result"
    }
   ],
   "source": [
    "combine(gx2) # the same"
   ]
  },
  {
   "cell_type": "code",
   "execution_count": 7,
   "metadata": {},
   "outputs": [
    {
     "data": {
      "text/html": [
       "<table class=\"data-frame\"><thead><tr><th></th><th>id</th><th>x</th></tr><tr><th></th><th>Int64⍰</th><th>Int64</th></tr></thead><tbody><p>5 rows × 2 columns</p><tr><th>1</th><td>missing</td><td>1</td></tr><tr><th>2</th><td>5</td><td>2</td></tr><tr><th>3</th><td>1</td><td>3</td></tr><tr><th>4</th><td>3</td><td>4</td></tr><tr><th>5</th><td>missing</td><td>5</td></tr></tbody></table>"
      ],
      "text/latex": [
       "\\begin{tabular}{r|cc}\n",
       "\t& id & x\\\\\n",
       "\t\\hline\n",
       "\t1 &  & 1 \\\\\n",
       "\t2 & 5 & 2 \\\\\n",
       "\t3 & 1 & 3 \\\\\n",
       "\t4 & 3 & 4 \\\\\n",
       "\t5 &  & 5 \\\\\n",
       "\\end{tabular}\n"
      ],
      "text/plain": [
       "5×2 DataFrame\n",
       "│ Row │ id      │ x     │\n",
       "│     │ \u001b[90mInt64⍰\u001b[39m  │ \u001b[90mInt64\u001b[39m │\n",
       "├─────┼─────────┼───────┤\n",
       "│ 1   │ \u001b[90mmissing\u001b[39m │ 1     │\n",
       "│ 2   │ 5       │ 2     │\n",
       "│ 3   │ 1       │ 3     │\n",
       "│ 4   │ 3       │ 4     │\n",
       "│ 5   │ \u001b[90mmissing\u001b[39m │ 5     │"
      ]
     },
     "execution_count": 7,
     "metadata": {},
     "output_type": "execute_result"
    }
   ],
   "source": [
    "x = DataFrame(id = [missing, 5, 1, 3, missing], x = 1:5)"
   ]
  },
  {
   "cell_type": "code",
   "execution_count": 8,
   "metadata": {},
   "outputs": [
    {
     "data": {
      "text/plain": [
       "GroupedDataFrame{DataFrame} with 4 groups based on key: :id\n",
       "First Group (2 rows): :id = missing\n",
       "│ Row │ id      │ x     │\n",
       "│     │ \u001b[90mInt64⍰\u001b[39m  │ \u001b[90mInt64\u001b[39m │\n",
       "├─────┼─────────┼───────┤\n",
       "│ 1   │ \u001b[90mmissing\u001b[39m │ 1     │\n",
       "│ 2   │ \u001b[90mmissing\u001b[39m │ 5     │\n",
       "⋮\n",
       "Last Group (1 row): :id = 3\n",
       "│ Row │ id     │ x     │\n",
       "│     │ \u001b[90mInt64⍰\u001b[39m │ \u001b[90mInt64\u001b[39m │\n",
       "├─────┼────────┼───────┤\n",
       "│ 1   │ 3      │ 4     │"
      ]
     },
     "execution_count": 8,
     "metadata": {},
     "output_type": "execute_result"
    }
   ],
   "source": [
    "groupby(x, :id) # by default groups include mising values and are not sorted"
   ]
  },
  {
   "cell_type": "code",
   "execution_count": 9,
   "metadata": {},
   "outputs": [
    {
     "data": {
      "text/plain": [
       "GroupedDataFrame{DataFrame} with 3 groups based on key: :id\n",
       "First Group (1 row): :id = 1\n",
       "│ Row │ id     │ x     │\n",
       "│     │ \u001b[90mInt64⍰\u001b[39m │ \u001b[90mInt64\u001b[39m │\n",
       "├─────┼────────┼───────┤\n",
       "│ 1   │ 1      │ 3     │\n",
       "⋮\n",
       "Last Group (1 row): :id = 5\n",
       "│ Row │ id     │ x     │\n",
       "│     │ \u001b[90mInt64⍰\u001b[39m │ \u001b[90mInt64\u001b[39m │\n",
       "├─────┼────────┼───────┤\n",
       "│ 1   │ 5      │ 2     │"
      ]
     },
     "execution_count": 9,
     "metadata": {},
     "output_type": "execute_result"
    }
   ],
   "source": [
    "groupby(x, :id, sort=true, skipmissing=true) # but we can change it"
   ]
  },
  {
   "cell_type": "code",
   "execution_count": 10,
   "metadata": {},
   "outputs": [
    {
     "data": {
      "text/html": [
       "<table class=\"data-frame\"><thead><tr><th></th><th>id</th><th>v_mean</th></tr><tr><th></th><th>Char</th><th>Float64</th></tr></thead><tbody><p>4 rows × 2 columns</p><tr><th>1</th><td>'a'</td><td>0.445712</td></tr><tr><th>2</th><td>'d'</td><td>0.527654</td></tr><tr><th>3</th><td>'b'</td><td>0.517119</td></tr><tr><th>4</th><td>'c'</td><td>0.498448</td></tr></tbody></table>"
      ],
      "text/latex": [
       "\\begin{tabular}{r|cc}\n",
       "\t& id & v\\_mean\\\\\n",
       "\t\\hline\n",
       "\t1 & 'a' & 0.445712 \\\\\n",
       "\t2 & 'd' & 0.527654 \\\\\n",
       "\t3 & 'b' & 0.517119 \\\\\n",
       "\t4 & 'c' & 0.498448 \\\\\n",
       "\\end{tabular}\n"
      ],
      "text/plain": [
       "4×2 DataFrame\n",
       "│ Row │ id   │ v_mean   │\n",
       "│     │ \u001b[90mChar\u001b[39m │ \u001b[90mFloat64\u001b[39m  │\n",
       "├─────┼──────┼──────────┤\n",
       "│ 1   │ 'a'  │ 0.445712 │\n",
       "│ 2   │ 'd'  │ 0.527654 │\n",
       "│ 3   │ 'b'  │ 0.517119 │\n",
       "│ 4   │ 'c'  │ 0.498448 │"
      ]
     },
     "execution_count": 10,
     "metadata": {},
     "output_type": "execute_result"
    }
   ],
   "source": [
    "using Statistics\n",
    "x = DataFrame(id=rand('a':'d', 100), v=rand(100));\n",
    "by(x, :id, :v=>mean) # apply a function to each group of a data frame"
   ]
  },
  {
   "cell_type": "code",
   "execution_count": 11,
   "metadata": {},
   "outputs": [
    {
     "data": {
      "text/html": [
       "<table class=\"data-frame\"><thead><tr><th></th><th>id</th><th>v_mean</th></tr><tr><th></th><th>Char</th><th>Float64</th></tr></thead><tbody><p>4 rows × 2 columns</p><tr><th>1</th><td>'a'</td><td>0.445712</td></tr><tr><th>2</th><td>'b'</td><td>0.517119</td></tr><tr><th>3</th><td>'c'</td><td>0.498448</td></tr><tr><th>4</th><td>'d'</td><td>0.527654</td></tr></tbody></table>"
      ],
      "text/latex": [
       "\\begin{tabular}{r|cc}\n",
       "\t& id & v\\_mean\\\\\n",
       "\t\\hline\n",
       "\t1 & 'a' & 0.445712 \\\\\n",
       "\t2 & 'b' & 0.517119 \\\\\n",
       "\t3 & 'c' & 0.498448 \\\\\n",
       "\t4 & 'd' & 0.527654 \\\\\n",
       "\\end{tabular}\n"
      ],
      "text/plain": [
       "4×2 DataFrame\n",
       "│ Row │ id   │ v_mean   │\n",
       "│     │ \u001b[90mChar\u001b[39m │ \u001b[90mFloat64\u001b[39m  │\n",
       "├─────┼──────┼──────────┤\n",
       "│ 1   │ 'a'  │ 0.445712 │\n",
       "│ 2   │ 'b'  │ 0.517119 │\n",
       "│ 3   │ 'c'  │ 0.498448 │\n",
       "│ 4   │ 'd'  │ 0.527654 │"
      ]
     },
     "execution_count": 11,
     "metadata": {},
     "output_type": "execute_result"
    }
   ],
   "source": [
    "by(x, :id, :v=>mean, sort=true) # we can sort the output"
   ]
  },
  {
   "cell_type": "code",
   "execution_count": 12,
   "metadata": {},
   "outputs": [
    {
     "data": {
      "text/html": [
       "<table class=\"data-frame\"><thead><tr><th></th><th>id</th><th>res</th></tr><tr><th></th><th>Char</th><th>Float64</th></tr></thead><tbody><p>4 rows × 2 columns</p><tr><th>1</th><td>'a'</td><td>0.445712</td></tr><tr><th>2</th><td>'d'</td><td>0.527654</td></tr><tr><th>3</th><td>'b'</td><td>0.517119</td></tr><tr><th>4</th><td>'c'</td><td>0.498448</td></tr></tbody></table>"
      ],
      "text/latex": [
       "\\begin{tabular}{r|cc}\n",
       "\t& id & res\\\\\n",
       "\t\\hline\n",
       "\t1 & 'a' & 0.445712 \\\\\n",
       "\t2 & 'd' & 0.527654 \\\\\n",
       "\t3 & 'b' & 0.517119 \\\\\n",
       "\t4 & 'c' & 0.498448 \\\\\n",
       "\\end{tabular}\n"
      ],
      "text/plain": [
       "4×2 DataFrame\n",
       "│ Row │ id   │ res      │\n",
       "│     │ \u001b[90mChar\u001b[39m │ \u001b[90mFloat64\u001b[39m  │\n",
       "├─────┼──────┼──────────┤\n",
       "│ 1   │ 'a'  │ 0.445712 │\n",
       "│ 2   │ 'd'  │ 0.527654 │\n",
       "│ 3   │ 'b'  │ 0.517119 │\n",
       "│ 4   │ 'c'  │ 0.498448 │"
      ]
     },
     "execution_count": 12,
     "metadata": {},
     "output_type": "execute_result"
    }
   ],
   "source": [
    "by(x, :id, res=:v=>mean) # this way we can set a name for a column"
   ]
  },
  {
   "cell_type": "code",
   "execution_count": 13,
   "metadata": {},
   "outputs": [
    {
     "data": {
      "text/html": [
       "<table class=\"data-frame\"><thead><tr><th></th><th>id</th><th>res1</th><th>res2</th></tr><tr><th></th><th>Char</th><th>Float64</th><th>Float64</th></tr></thead><tbody><p>4 rows × 3 columns</p><tr><th>1</th><td>'a'</td><td>0.445712</td><td>9.35996</td></tr><tr><th>2</th><td>'d'</td><td>0.527654</td><td>16.8849</td></tr><tr><th>3</th><td>'b'</td><td>0.517119</td><td>11.8937</td></tr><tr><th>4</th><td>'c'</td><td>0.498448</td><td>11.9627</td></tr></tbody></table>"
      ],
      "text/latex": [
       "\\begin{tabular}{r|ccc}\n",
       "\t& id & res1 & res2\\\\\n",
       "\t\\hline\n",
       "\t1 & 'a' & 0.445712 & 9.35996 \\\\\n",
       "\t2 & 'd' & 0.527654 & 16.8849 \\\\\n",
       "\t3 & 'b' & 0.517119 & 11.8937 \\\\\n",
       "\t4 & 'c' & 0.498448 & 11.9627 \\\\\n",
       "\\end{tabular}\n"
      ],
      "text/plain": [
       "4×3 DataFrame\n",
       "│ Row │ id   │ res1     │ res2    │\n",
       "│     │ \u001b[90mChar\u001b[39m │ \u001b[90mFloat64\u001b[39m  │ \u001b[90mFloat64\u001b[39m │\n",
       "├─────┼──────┼──────────┼─────────┤\n",
       "│ 1   │ 'a'  │ 0.445712 │ 9.35996 │\n",
       "│ 2   │ 'd'  │ 0.527654 │ 16.8849 │\n",
       "│ 3   │ 'b'  │ 0.517119 │ 11.8937 │\n",
       "│ 4   │ 'c'  │ 0.498448 │ 11.9627 │"
      ]
     },
     "execution_count": 13,
     "metadata": {},
     "output_type": "execute_result"
    }
   ],
   "source": [
    "by(x, :id, res1=:v=>mean, res2=:v=>sum) # you can have multiple operations"
   ]
  },
  {
   "cell_type": "code",
   "execution_count": 14,
   "metadata": {},
   "outputs": [
    {
     "data": {
      "text/html": [
       "<table class=\"data-frame\"><thead><tr><th></th><th>id</th><th>x1_sum</th><th>x2_sum</th></tr><tr><th></th><th>Char</th><th>Float64</th><th>Float64</th></tr></thead><tbody><p>4 rows × 3 columns</p><tr><th>1</th><td>'c'</td><td>15.5543</td><td>10.8053</td></tr><tr><th>2</th><td>'b'</td><td>12.6932</td><td>11.9198</td></tr><tr><th>3</th><td>'d'</td><td>7.47519</td><td>9.23485</td></tr><tr><th>4</th><td>'a'</td><td>15.4637</td><td>16.1987</td></tr></tbody></table>"
      ],
      "text/latex": [
       "\\begin{tabular}{r|ccc}\n",
       "\t& id & x1\\_sum & x2\\_sum\\\\\n",
       "\t\\hline\n",
       "\t1 & 'c' & 15.5543 & 10.8053 \\\\\n",
       "\t2 & 'b' & 12.6932 & 11.9198 \\\\\n",
       "\t3 & 'd' & 7.47519 & 9.23485 \\\\\n",
       "\t4 & 'a' & 15.4637 & 16.1987 \\\\\n",
       "\\end{tabular}\n"
      ],
      "text/plain": [
       "4×3 DataFrame\n",
       "│ Row │ id   │ x1_sum  │ x2_sum  │\n",
       "│     │ \u001b[90mChar\u001b[39m │ \u001b[90mFloat64\u001b[39m │ \u001b[90mFloat64\u001b[39m │\n",
       "├─────┼──────┼─────────┼─────────┤\n",
       "│ 1   │ 'c'  │ 15.5543 │ 10.8053 │\n",
       "│ 2   │ 'b'  │ 12.6932 │ 11.9198 │\n",
       "│ 3   │ 'd'  │ 7.47519 │ 9.23485 │\n",
       "│ 4   │ 'a'  │ 15.4637 │ 16.1987 │"
      ]
     },
     "execution_count": 14,
     "metadata": {},
     "output_type": "execute_result"
    }
   ],
   "source": [
    "x = DataFrame(id=rand('a':'d', 100), x1=rand(100), x2=rand(100))\n",
    "aggregate(x, :id, sum) # apply a function over all columns of a data frame in groups given by id"
   ]
  },
  {
   "cell_type": "code",
   "execution_count": 15,
   "metadata": {},
   "outputs": [
    {
     "data": {
      "text/html": [
       "<table class=\"data-frame\"><thead><tr><th></th><th>id</th><th>x1_sum</th><th>x2_sum</th></tr><tr><th></th><th>Char</th><th>Float64</th><th>Float64</th></tr></thead><tbody><p>4 rows × 3 columns</p><tr><th>1</th><td>'a'</td><td>15.4637</td><td>16.1987</td></tr><tr><th>2</th><td>'b'</td><td>12.6932</td><td>11.9198</td></tr><tr><th>3</th><td>'c'</td><td>15.5543</td><td>10.8053</td></tr><tr><th>4</th><td>'d'</td><td>7.47519</td><td>9.23485</td></tr></tbody></table>"
      ],
      "text/latex": [
       "\\begin{tabular}{r|ccc}\n",
       "\t& id & x1\\_sum & x2\\_sum\\\\\n",
       "\t\\hline\n",
       "\t1 & 'a' & 15.4637 & 16.1987 \\\\\n",
       "\t2 & 'b' & 12.6932 & 11.9198 \\\\\n",
       "\t3 & 'c' & 15.5543 & 10.8053 \\\\\n",
       "\t4 & 'd' & 7.47519 & 9.23485 \\\\\n",
       "\\end{tabular}\n"
      ],
      "text/plain": [
       "4×3 DataFrame\n",
       "│ Row │ id   │ x1_sum  │ x2_sum  │\n",
       "│     │ \u001b[90mChar\u001b[39m │ \u001b[90mFloat64\u001b[39m │ \u001b[90mFloat64\u001b[39m │\n",
       "├─────┼──────┼─────────┼─────────┤\n",
       "│ 1   │ 'a'  │ 15.4637 │ 16.1987 │\n",
       "│ 2   │ 'b'  │ 12.6932 │ 11.9198 │\n",
       "│ 3   │ 'c'  │ 15.5543 │ 10.8053 │\n",
       "│ 4   │ 'd'  │ 7.47519 │ 9.23485 │"
      ]
     },
     "execution_count": 15,
     "metadata": {},
     "output_type": "execute_result"
    }
   ],
   "source": [
    "aggregate(x, :id, sum, sort=true) # also can be sorted"
   ]
  },
  {
   "cell_type": "markdown",
   "metadata": {},
   "source": [
    "A new feature is `mapcols` convinience function"
   ]
  },
  {
   "cell_type": "code",
   "execution_count": 16,
   "metadata": {},
   "outputs": [
    {
     "data": {
      "text/html": [
       "<table class=\"data-frame\"><thead><tr><th></th><th>x1</th><th>x2</th><th>x3</th><th>x4</th><th>x5</th></tr><tr><th></th><th>Float64</th><th>Float64</th><th>Float64</th><th>Float64</th><th>Float64</th></tr></thead><tbody><p>3 rows × 5 columns</p><tr><th>1</th><td>0.569699</td><td>0.297867</td><td>0.526604</td><td>0.970632</td><td>0.474076</td></tr><tr><th>2</th><td>0.580745</td><td>0.00741397</td><td>0.196166</td><td>0.906289</td><td>0.757872</td></tr><tr><th>3</th><td>0.0545064</td><td>0.227071</td><td>0.472087</td><td>0.411805</td><td>0.618873</td></tr></tbody></table>"
      ],
      "text/latex": [
       "\\begin{tabular}{r|ccccc}\n",
       "\t& x1 & x2 & x3 & x4 & x5\\\\\n",
       "\t\\hline\n",
       "\t1 & 0.569699 & 0.297867 & 0.526604 & 0.970632 & 0.474076 \\\\\n",
       "\t2 & 0.580745 & 0.00741397 & 0.196166 & 0.906289 & 0.757872 \\\\\n",
       "\t3 & 0.0545064 & 0.227071 & 0.472087 & 0.411805 & 0.618873 \\\\\n",
       "\\end{tabular}\n"
      ],
      "text/plain": [
       "3×5 DataFrame\n",
       "│ Row │ x1        │ x2         │ x3       │ x4       │ x5       │\n",
       "│     │ \u001b[90mFloat64\u001b[39m   │ \u001b[90mFloat64\u001b[39m    │ \u001b[90mFloat64\u001b[39m  │ \u001b[90mFloat64\u001b[39m  │ \u001b[90mFloat64\u001b[39m  │\n",
       "├─────┼───────────┼────────────┼──────────┼──────────┼──────────┤\n",
       "│ 1   │ 0.569699  │ 0.297867   │ 0.526604 │ 0.970632 │ 0.474076 │\n",
       "│ 2   │ 0.580745  │ 0.00741397 │ 0.196166 │ 0.906289 │ 0.757872 │\n",
       "│ 3   │ 0.0545064 │ 0.227071   │ 0.472087 │ 0.411805 │ 0.618873 │"
      ]
     },
     "execution_count": 16,
     "metadata": {},
     "output_type": "execute_result"
    }
   ],
   "source": [
    "x = DataFrame(rand(3, 5))"
   ]
  },
  {
   "cell_type": "code",
   "execution_count": 17,
   "metadata": {},
   "outputs": [
    {
     "data": {
      "text/html": [
       "<table class=\"data-frame\"><thead><tr><th></th><th>x1</th><th>x2</th><th>x3</th><th>x4</th><th>x5</th></tr><tr><th></th><th>Float64</th><th>Float64</th><th>Float64</th><th>Float64</th><th>Float64</th></tr></thead><tbody><p>1 rows × 5 columns</p><tr><th>1</th><td>0.40165</td><td>0.177451</td><td>0.398286</td><td>0.762909</td><td>0.61694</td></tr></tbody></table>"
      ],
      "text/latex": [
       "\\begin{tabular}{r|ccccc}\n",
       "\t& x1 & x2 & x3 & x4 & x5\\\\\n",
       "\t\\hline\n",
       "\t1 & 0.40165 & 0.177451 & 0.398286 & 0.762909 & 0.61694 \\\\\n",
       "\\end{tabular}\n"
      ],
      "text/plain": [
       "1×5 DataFrame\n",
       "│ Row │ x1      │ x2       │ x3       │ x4       │ x5      │\n",
       "│     │ \u001b[90mFloat64\u001b[39m │ \u001b[90mFloat64\u001b[39m  │ \u001b[90mFloat64\u001b[39m  │ \u001b[90mFloat64\u001b[39m  │ \u001b[90mFloat64\u001b[39m │\n",
       "├─────┼─────────┼──────────┼──────────┼──────────┼─────────┤\n",
       "│ 1   │ 0.40165 │ 0.177451 │ 0.398286 │ 0.762909 │ 0.61694 │"
      ]
     },
     "execution_count": 17,
     "metadata": {},
     "output_type": "execute_result"
    }
   ],
   "source": [
    "mapcols(mean, x)"
   ]
  },
  {
   "cell_type": "code",
   "execution_count": 18,
   "metadata": {},
   "outputs": [
    {
     "data": {
      "text/plain": [
       "5-element Array{Float64,1}:\n",
       " 0.40164989440640103\n",
       " 0.17745077318753447\n",
       " 0.39828573939784045\n",
       " 0.7629086652300364 \n",
       " 0.6169403523612847 "
      ]
     },
     "execution_count": 18,
     "metadata": {},
     "output_type": "execute_result"
    }
   ],
   "source": [
    "map(mean, eachcol(x, false)) # map a function over each column and return a vector"
   ]
  },
  {
   "cell_type": "code",
   "execution_count": 19,
   "metadata": {},
   "outputs": [
    {
     "name": "stdout",
     "output_type": "stream",
     "text": [
      "x1: 0.40164989440640103\n",
      "x2: 0.17745077318753447\n",
      "x3: 0.39828573939784045\n",
      "x4: 0.7629086652300364\n",
      "x5: 0.6169403523612847\n"
     ]
    }
   ],
   "source": [
    "foreach(c -> println(c[1], \": \", mean(c[2])), eachcol(x, true)) # an iteration returns a Pair with column name and values"
   ]
  },
  {
   "cell_type": "code",
   "execution_count": 20,
   "metadata": {},
   "outputs": [
    {
     "data": {
      "text/plain": [
       "3×5 Array{Float64,2}:\n",
       " 0.40165    0.177451    0.398286  0.762909  0.61694 \n",
       " 0.0545064  0.00741397  0.196166  0.411805  0.474076\n",
       " 0.580745   0.297867    0.526604  0.970632  0.757872"
      ]
     },
     "execution_count": 20,
     "metadata": {},
     "output_type": "execute_result"
    }
   ],
   "source": [
    "colwise([mean,minimum,maximum], x) # colwise is similar but accepts a vector of functions"
   ]
  },
  {
   "cell_type": "code",
   "execution_count": 21,
   "metadata": {},
   "outputs": [
    {
     "data": {
      "text/plain": [
       "2-element Array{Array{Float64,1},1}:\n",
       " [0.575222, 0.152641, 0.361385, 0.93846, 0.615974, 1.0]  \n",
       " [0.0545064, 0.227071, 0.472087, 0.411805, 0.618873, 2.0]"
      ]
     },
     "execution_count": 21,
     "metadata": {},
     "output_type": "execute_result"
    }
   ],
   "source": [
    "x[:id] = [1,1,2]\n",
    "colwise(mean,groupby(x, :id)) # and it also works on GroupedDataFrame"
   ]
  },
  {
   "cell_type": "code",
   "execution_count": 22,
   "metadata": {},
   "outputs": [
    {
     "data": {
      "text/plain": [
       "3-element Array{Float64,1}:\n",
       "  1.912591271273047  \n",
       " 78.33115962528011   \n",
       "  0.24004117109896686"
      ]
     },
     "execution_count": 22,
     "metadata": {},
     "output_type": "execute_result"
    }
   ],
   "source": [
    "map(r -> r.x1/r.x2, eachrow(x)) # now the returned value is DataFrameRow which works similarly to a one-row DataFrame"
   ]
  }
 ],
 "metadata": {
  "kernelspec": {
   "display_name": "Julia 1.0.2",
   "language": "julia",
   "name": "julia-1.0"
  },
  "language_info": {
   "file_extension": ".jl",
   "mimetype": "application/julia",
   "name": "julia",
   "version": "1.0.3"
  }
 },
 "nbformat": 4,
 "nbformat_minor": 1
}
