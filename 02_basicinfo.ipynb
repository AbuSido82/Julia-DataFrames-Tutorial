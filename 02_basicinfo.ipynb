{
 "cells": [
  {
   "cell_type": "markdown",
   "metadata": {},
   "source": [
    "# Introduction to DataFrames\n",
    "**[Bogumił Kamiński](http://bogumilkaminski.pl/about/), December 12, 2018**"
   ]
  },
  {
   "cell_type": "code",
   "execution_count": 1,
   "metadata": {},
   "outputs": [],
   "source": [
    "using DataFrames # load package"
   ]
  },
  {
   "cell_type": "markdown",
   "metadata": {},
   "source": [
    "## Getting basic information about a data frame\n",
    "\n",
    "Let's start by creating a `DataFrame` object, `x`, so that we can learn how to get information on that data frame."
   ]
  },
  {
   "cell_type": "code",
   "execution_count": 2,
   "metadata": {},
   "outputs": [
    {
     "data": {
      "text/html": [
       "<table class=\"data-frame\"><thead><tr><th></th><th>A</th><th>B</th><th>C</th></tr><tr><th></th><th>Int64</th><th>Float64⍰</th><th>String</th></tr></thead><tbody><p>2 rows × 3 columns</p><tr><th>1</th><td>1</td><td>1.0</td><td>a</td></tr><tr><th>2</th><td>2</td><td>missing</td><td>b</td></tr></tbody></table>"
      ],
      "text/latex": [
       "\\begin{tabular}{r|ccc}\n",
       "\t& A & B & C\\\\\n",
       "\t\\hline\n",
       "\t1 & 1 & 1.0 & a \\\\\n",
       "\t2 & 2 &  & b \\\\\n",
       "\\end{tabular}\n"
      ],
      "text/plain": [
       "2×3 DataFrame\n",
       "│ Row │ A     │ B        │ C      │\n",
       "│     │ \u001b[90mInt64\u001b[39m │ \u001b[90mFloat64⍰\u001b[39m │ \u001b[90mString\u001b[39m │\n",
       "├─────┼───────┼──────────┼────────┤\n",
       "│ 1   │ 1     │ 1.0      │ a      │\n",
       "│ 2   │ 2     │ \u001b[90mmissing\u001b[39m  │ b      │"
      ]
     },
     "execution_count": 2,
     "metadata": {},
     "output_type": "execute_result"
    }
   ],
   "source": [
    "x = DataFrame(A = [1, 2], B = [1.0, missing], C = [\"a\", \"b\"])"
   ]
  },
  {
   "cell_type": "markdown",
   "metadata": {},
   "source": [
    "The standard `size` function works to get dimensions of the `DataFrame`,"
   ]
  },
  {
   "cell_type": "code",
   "execution_count": 3,
   "metadata": {},
   "outputs": [
    {
     "data": {
      "text/plain": [
       "((2, 3), 2, 3)"
      ]
     },
     "execution_count": 3,
     "metadata": {},
     "output_type": "execute_result"
    }
   ],
   "source": [
    "size(x), size(x, 1), size(x, 2)"
   ]
  },
  {
   "cell_type": "markdown",
   "metadata": {},
   "source": [
    "as well as `nrow` and `ncol` from R (`length` in the past gave the number of columns but now is deprecated)."
   ]
  },
  {
   "cell_type": "code",
   "execution_count": 4,
   "metadata": {},
   "outputs": [
    {
     "data": {
      "text/plain": [
       "(2, 3)"
      ]
     },
     "execution_count": 4,
     "metadata": {},
     "output_type": "execute_result"
    }
   ],
   "source": [
    "nrow(x), ncol(x)"
   ]
  },
  {
   "cell_type": "markdown",
   "metadata": {},
   "source": [
    "`describe` gives basic summary statistics of data in your `DataFrame` (check out the help of `describe` for information how to customize shown statistics)."
   ]
  },
  {
   "cell_type": "code",
   "execution_count": 5,
   "metadata": {},
   "outputs": [
    {
     "data": {
      "text/html": [
       "<table class=\"data-frame\"><thead><tr><th></th><th>variable</th><th>mean</th><th>std</th><th>min</th><th>q25</th><th>median</th><th>q75</th><th>max</th><th>nunique</th><th>nmissing</th><th>first</th><th>last</th><th>eltype</th></tr><tr><th></th><th>Symbol</th><th>Union…</th><th>Union…</th><th>Any</th><th>Union…</th><th>Union…</th><th>Union…</th><th>Any</th><th>Union…</th><th>Union…</th><th>Any</th><th>Any</th><th>DataType</th></tr></thead><tbody><p>3 rows × 13 columns</p><tr><th>1</th><td>A</td><td>1.5</td><td>0.707107</td><td>1</td><td>1.25</td><td>1.5</td><td>1.75</td><td>2</td><td></td><td></td><td>1</td><td>2</td><td>Int64</td></tr><tr><th>2</th><td>B</td><td>1.0</td><td>NaN</td><td>1.0</td><td>1.0</td><td>1.0</td><td>1.0</td><td>1.0</td><td></td><td>1</td><td>1.0</td><td>missing</td><td>Float64</td></tr><tr><th>3</th><td>C</td><td></td><td></td><td>a</td><td></td><td></td><td></td><td>b</td><td>2</td><td></td><td>a</td><td>b</td><td>String</td></tr></tbody></table>"
      ],
      "text/latex": [
       "\\begin{tabular}{r|ccccccccccccc}\n",
       "\t& variable & mean & std & min & q25 & median & q75 & max & nunique & nmissing & first & last & eltype\\\\\n",
       "\t\\hline\n",
       "\t1 & A & 1.5 & 0.707107 & 1 & 1.25 & 1.5 & 1.75 & 2 &  &  & 1 & 2 & Int64 \\\\\n",
       "\t2 & B & 1.0 & NaN & 1.0 & 1.0 & 1.0 & 1.0 & 1.0 &  & 1 & 1.0 &  & Float64 \\\\\n",
       "\t3 & C &  &  & a &  &  &  & b & 2 &  & a & b & String \\\\\n",
       "\\end{tabular}\n"
      ],
      "text/plain": [
       "3×13 DataFrame. Omitted printing of 5 columns\n",
       "│ Row │ variable │ mean   │ std      │ min │ q25    │ median │ q75    │ max │\n",
       "│     │ \u001b[90mSymbol\u001b[39m   │ \u001b[90mUnion…\u001b[39m │ \u001b[90mUnion…\u001b[39m   │ \u001b[90mAny\u001b[39m │ \u001b[90mUnion…\u001b[39m │ \u001b[90mUnion…\u001b[39m │ \u001b[90mUnion…\u001b[39m │ \u001b[90mAny\u001b[39m │\n",
       "├─────┼──────────┼────────┼──────────┼─────┼────────┼────────┼────────┼─────┤\n",
       "│ 1   │ A        │ 1.5    │ 0.707107 │ 1   │ 1.25   │ 1.5    │ 1.75   │ 2   │\n",
       "│ 2   │ B        │ 1.0    │ NaN      │ 1.0 │ 1.0    │ 1.0    │ 1.0    │ 1.0 │\n",
       "│ 3   │ C        │        │          │ a   │        │        │        │ b   │"
      ]
     },
     "execution_count": 5,
     "metadata": {},
     "output_type": "execute_result"
    }
   ],
   "source": [
    "describe(x, stats=:all)"
   ]
  },
  {
   "cell_type": "markdown",
   "metadata": {},
   "source": [
    "`names` will return the names of all columns,"
   ]
  },
  {
   "cell_type": "code",
   "execution_count": 6,
   "metadata": {},
   "outputs": [
    {
     "data": {
      "text/plain": [
       "3-element Array{Symbol,1}:\n",
       " :A\n",
       " :B\n",
       " :C"
      ]
     },
     "execution_count": 6,
     "metadata": {},
     "output_type": "execute_result"
    }
   ],
   "source": [
    "names(x)"
   ]
  },
  {
   "cell_type": "markdown",
   "metadata": {},
   "source": [
    "and `eltypes` returns their types."
   ]
  },
  {
   "cell_type": "code",
   "execution_count": 7,
   "metadata": {},
   "outputs": [
    {
     "data": {
      "text/plain": [
       "3-element Array{Type,1}:\n",
       " Int64                  \n",
       " Union{Missing, Float64}\n",
       " String                 "
      ]
     },
     "execution_count": 7,
     "metadata": {},
     "output_type": "execute_result"
    }
   ],
   "source": [
    "eltypes(x)"
   ]
  },
  {
   "cell_type": "markdown",
   "metadata": {},
   "source": [
    "Here we create some large `DataFrame`"
   ]
  },
  {
   "cell_type": "code",
   "execution_count": 8,
   "metadata": {},
   "outputs": [],
   "source": [
    "y = DataFrame(rand(1:10, 1000, 10));"
   ]
  },
  {
   "cell_type": "markdown",
   "metadata": {},
   "source": [
    "and then we can use `first` to peek into its first few rows"
   ]
  },
  {
   "cell_type": "code",
   "execution_count": 9,
   "metadata": {},
   "outputs": [
    {
     "data": {
      "text/html": [
       "<table class=\"data-frame\"><thead><tr><th></th><th>x1</th><th>x2</th><th>x3</th><th>x4</th><th>x5</th><th>x6</th><th>x7</th><th>x8</th><th>x9</th><th>x10</th></tr><tr><th></th><th>Int64</th><th>Int64</th><th>Int64</th><th>Int64</th><th>Int64</th><th>Int64</th><th>Int64</th><th>Int64</th><th>Int64</th><th>Int64</th></tr></thead><tbody><p>5 rows × 10 columns</p><tr><th>1</th><td>9</td><td>2</td><td>8</td><td>8</td><td>5</td><td>8</td><td>10</td><td>7</td><td>4</td><td>8</td></tr><tr><th>2</th><td>9</td><td>4</td><td>6</td><td>4</td><td>4</td><td>1</td><td>9</td><td>1</td><td>2</td><td>6</td></tr><tr><th>3</th><td>5</td><td>5</td><td>4</td><td>3</td><td>9</td><td>6</td><td>8</td><td>7</td><td>4</td><td>3</td></tr><tr><th>4</th><td>6</td><td>2</td><td>5</td><td>7</td><td>8</td><td>6</td><td>1</td><td>3</td><td>9</td><td>2</td></tr><tr><th>5</th><td>10</td><td>9</td><td>9</td><td>7</td><td>9</td><td>9</td><td>4</td><td>9</td><td>8</td><td>8</td></tr></tbody></table>"
      ],
      "text/latex": [
       "\\begin{tabular}{r|cccccccccc}\n",
       "\t& x1 & x2 & x3 & x4 & x5 & x6 & x7 & x8 & x9 & x10\\\\\n",
       "\t\\hline\n",
       "\t1 & 9 & 2 & 8 & 8 & 5 & 8 & 10 & 7 & 4 & 8 \\\\\n",
       "\t2 & 9 & 4 & 6 & 4 & 4 & 1 & 9 & 1 & 2 & 6 \\\\\n",
       "\t3 & 5 & 5 & 4 & 3 & 9 & 6 & 8 & 7 & 4 & 3 \\\\\n",
       "\t4 & 6 & 2 & 5 & 7 & 8 & 6 & 1 & 3 & 9 & 2 \\\\\n",
       "\t5 & 10 & 9 & 9 & 7 & 9 & 9 & 4 & 9 & 8 & 8 \\\\\n",
       "\\end{tabular}\n"
      ],
      "text/plain": [
       "5×10 DataFrame. Omitted printing of 1 columns\n",
       "│ Row │ x1    │ x2    │ x3    │ x4    │ x5    │ x6    │ x7    │ x8    │ x9    │\n",
       "│     │ \u001b[90mInt64\u001b[39m │ \u001b[90mInt64\u001b[39m │ \u001b[90mInt64\u001b[39m │ \u001b[90mInt64\u001b[39m │ \u001b[90mInt64\u001b[39m │ \u001b[90mInt64\u001b[39m │ \u001b[90mInt64\u001b[39m │ \u001b[90mInt64\u001b[39m │ \u001b[90mInt64\u001b[39m │\n",
       "├─────┼───────┼───────┼───────┼───────┼───────┼───────┼───────┼───────┼───────┤\n",
       "│ 1   │ 9     │ 2     │ 8     │ 8     │ 5     │ 8     │ 10    │ 7     │ 4     │\n",
       "│ 2   │ 9     │ 4     │ 6     │ 4     │ 4     │ 1     │ 9     │ 1     │ 2     │\n",
       "│ 3   │ 5     │ 5     │ 4     │ 3     │ 9     │ 6     │ 8     │ 7     │ 4     │\n",
       "│ 4   │ 6     │ 2     │ 5     │ 7     │ 8     │ 6     │ 1     │ 3     │ 9     │\n",
       "│ 5   │ 10    │ 9     │ 9     │ 7     │ 9     │ 9     │ 4     │ 9     │ 8     │"
      ]
     },
     "execution_count": 9,
     "metadata": {},
     "output_type": "execute_result"
    }
   ],
   "source": [
    "first(y, 5)"
   ]
  },
  {
   "cell_type": "markdown",
   "metadata": {},
   "source": [
    "and `last` to see its bottom rows."
   ]
  },
  {
   "cell_type": "code",
   "execution_count": 10,
   "metadata": {},
   "outputs": [
    {
     "data": {
      "text/html": [
       "<table class=\"data-frame\"><thead><tr><th></th><th>x1</th><th>x2</th><th>x3</th><th>x4</th><th>x5</th><th>x6</th><th>x7</th><th>x8</th><th>x9</th><th>x10</th></tr><tr><th></th><th>Int64</th><th>Int64</th><th>Int64</th><th>Int64</th><th>Int64</th><th>Int64</th><th>Int64</th><th>Int64</th><th>Int64</th><th>Int64</th></tr></thead><tbody><p>3 rows × 10 columns</p><tr><th>1</th><td>5</td><td>5</td><td>1</td><td>7</td><td>1</td><td>5</td><td>2</td><td>1</td><td>9</td><td>6</td></tr><tr><th>2</th><td>4</td><td>1</td><td>4</td><td>1</td><td>4</td><td>1</td><td>7</td><td>6</td><td>8</td><td>1</td></tr><tr><th>3</th><td>9</td><td>8</td><td>9</td><td>2</td><td>4</td><td>3</td><td>3</td><td>1</td><td>4</td><td>6</td></tr></tbody></table>"
      ],
      "text/latex": [
       "\\begin{tabular}{r|cccccccccc}\n",
       "\t& x1 & x2 & x3 & x4 & x5 & x6 & x7 & x8 & x9 & x10\\\\\n",
       "\t\\hline\n",
       "\t1 & 5 & 5 & 1 & 7 & 1 & 5 & 2 & 1 & 9 & 6 \\\\\n",
       "\t2 & 4 & 1 & 4 & 1 & 4 & 1 & 7 & 6 & 8 & 1 \\\\\n",
       "\t3 & 9 & 8 & 9 & 2 & 4 & 3 & 3 & 1 & 4 & 6 \\\\\n",
       "\\end{tabular}\n"
      ],
      "text/plain": [
       "3×10 DataFrame. Omitted printing of 1 columns\n",
       "│ Row │ x1    │ x2    │ x3    │ x4    │ x5    │ x6    │ x7    │ x8    │ x9    │\n",
       "│     │ \u001b[90mInt64\u001b[39m │ \u001b[90mInt64\u001b[39m │ \u001b[90mInt64\u001b[39m │ \u001b[90mInt64\u001b[39m │ \u001b[90mInt64\u001b[39m │ \u001b[90mInt64\u001b[39m │ \u001b[90mInt64\u001b[39m │ \u001b[90mInt64\u001b[39m │ \u001b[90mInt64\u001b[39m │\n",
       "├─────┼───────┼───────┼───────┼───────┼───────┼───────┼───────┼───────┼───────┤\n",
       "│ 1   │ 5     │ 5     │ 1     │ 7     │ 1     │ 5     │ 2     │ 1     │ 9     │\n",
       "│ 2   │ 4     │ 1     │ 4     │ 1     │ 4     │ 1     │ 7     │ 6     │ 8     │\n",
       "│ 3   │ 9     │ 8     │ 9     │ 2     │ 4     │ 3     │ 3     │ 1     │ 4     │"
      ]
     },
     "execution_count": 10,
     "metadata": {},
     "output_type": "execute_result"
    }
   ],
   "source": [
    "last(y, 3)"
   ]
  },
  {
   "cell_type": "markdown",
   "metadata": {},
   "source": [
    "Using `first` and `last` without number of rows will return a first/last `DataFrameRow` in the `DataFrame` in the future"
   ]
  },
  {
   "cell_type": "code",
   "execution_count": 11,
   "metadata": {},
   "outputs": [
    {
     "name": "stderr",
     "output_type": "stream",
     "text": [
      "┌ Warning: Selecting a single row from a `DataFrame` will return a `DataFrameRow` in the future. To get a `DataFrame` use `df[row_ind:row_ind, :]`.\n",
      "│   caller = first(::DataFrame) at abstractdataframe.jl:296\n",
      "└ @ DataFrames C:\\Users\\bogum\\.julia\\packages\\DataFrames\\KUWId\\src\\abstractdataframe\\abstractdataframe.jl:296\n"
     ]
    },
    {
     "data": {
      "text/html": [
       "<table class=\"data-frame\"><thead><tr><th></th><th>x1</th><th>x2</th><th>x3</th><th>x4</th><th>x5</th><th>x6</th><th>x7</th><th>x8</th><th>x9</th><th>x10</th></tr><tr><th></th><th>Int64</th><th>Int64</th><th>Int64</th><th>Int64</th><th>Int64</th><th>Int64</th><th>Int64</th><th>Int64</th><th>Int64</th><th>Int64</th></tr></thead><tbody><p>1 rows × 10 columns</p><tr><th>1</th><td>9</td><td>2</td><td>8</td><td>8</td><td>5</td><td>8</td><td>10</td><td>7</td><td>4</td><td>8</td></tr></tbody></table>"
      ],
      "text/latex": [
       "\\begin{tabular}{r|cccccccccc}\n",
       "\t& x1 & x2 & x3 & x4 & x5 & x6 & x7 & x8 & x9 & x10\\\\\n",
       "\t\\hline\n",
       "\t1 & 9 & 2 & 8 & 8 & 5 & 8 & 10 & 7 & 4 & 8 \\\\\n",
       "\\end{tabular}\n"
      ],
      "text/plain": [
       "1×10 DataFrame. Omitted printing of 1 columns\n",
       "│ Row │ x1    │ x2    │ x3    │ x4    │ x5    │ x6    │ x7    │ x8    │ x9    │\n",
       "│     │ \u001b[90mInt64\u001b[39m │ \u001b[90mInt64\u001b[39m │ \u001b[90mInt64\u001b[39m │ \u001b[90mInt64\u001b[39m │ \u001b[90mInt64\u001b[39m │ \u001b[90mInt64\u001b[39m │ \u001b[90mInt64\u001b[39m │ \u001b[90mInt64\u001b[39m │ \u001b[90mInt64\u001b[39m │\n",
       "├─────┼───────┼───────┼───────┼───────┼───────┼───────┼───────┼───────┼───────┤\n",
       "│ 1   │ 9     │ 2     │ 8     │ 8     │ 5     │ 8     │ 10    │ 7     │ 4     │"
      ]
     },
     "execution_count": 11,
     "metadata": {},
     "output_type": "execute_result"
    }
   ],
   "source": [
    "first(y)"
   ]
  },
  {
   "cell_type": "code",
   "execution_count": 12,
   "metadata": {},
   "outputs": [
    {
     "name": "stderr",
     "output_type": "stream",
     "text": [
      "┌ Warning: Selecting a single row from a `DataFrame` will return a `DataFrameRow` in the future. To get a `DataFrame` use `df[row_ind:row_ind, :]`.\n",
      "│   caller = last(::DataFrame) at abstractdataframe.jl:310\n",
      "└ @ DataFrames C:\\Users\\bogum\\.julia\\packages\\DataFrames\\KUWId\\src\\abstractdataframe\\abstractdataframe.jl:310\n"
     ]
    },
    {
     "data": {
      "text/html": [
       "<table class=\"data-frame\"><thead><tr><th></th><th>x1</th><th>x2</th><th>x3</th><th>x4</th><th>x5</th><th>x6</th><th>x7</th><th>x8</th><th>x9</th><th>x10</th></tr><tr><th></th><th>Int64</th><th>Int64</th><th>Int64</th><th>Int64</th><th>Int64</th><th>Int64</th><th>Int64</th><th>Int64</th><th>Int64</th><th>Int64</th></tr></thead><tbody><p>1 rows × 10 columns</p><tr><th>1</th><td>9</td><td>8</td><td>9</td><td>2</td><td>4</td><td>3</td><td>3</td><td>1</td><td>4</td><td>6</td></tr></tbody></table>"
      ],
      "text/latex": [
       "\\begin{tabular}{r|cccccccccc}\n",
       "\t& x1 & x2 & x3 & x4 & x5 & x6 & x7 & x8 & x9 & x10\\\\\n",
       "\t\\hline\n",
       "\t1 & 9 & 8 & 9 & 2 & 4 & 3 & 3 & 1 & 4 & 6 \\\\\n",
       "\\end{tabular}\n"
      ],
      "text/plain": [
       "1×10 DataFrame. Omitted printing of 1 columns\n",
       "│ Row │ x1    │ x2    │ x3    │ x4    │ x5    │ x6    │ x7    │ x8    │ x9    │\n",
       "│     │ \u001b[90mInt64\u001b[39m │ \u001b[90mInt64\u001b[39m │ \u001b[90mInt64\u001b[39m │ \u001b[90mInt64\u001b[39m │ \u001b[90mInt64\u001b[39m │ \u001b[90mInt64\u001b[39m │ \u001b[90mInt64\u001b[39m │ \u001b[90mInt64\u001b[39m │ \u001b[90mInt64\u001b[39m │\n",
       "├─────┼───────┼───────┼───────┼───────┼───────┼───────┼───────┼───────┼───────┤\n",
       "│ 1   │ 9     │ 8     │ 9     │ 2     │ 4     │ 3     │ 3     │ 1     │ 4     │"
      ]
     },
     "execution_count": 12,
     "metadata": {},
     "output_type": "execute_result"
    }
   ],
   "source": [
    "last(y)"
   ]
  },
  {
   "cell_type": "markdown",
   "metadata": {},
   "source": [
    "### Most elementary get and set operations\n",
    "\n",
    "Given the `DataFrame`, `x`, here are four ways to grab one of its columns as a `Vector`.\n",
    "\n",
    "*Note that since Julia 1.0 you can access column name using `.` operator.*"
   ]
  },
  {
   "cell_type": "code",
   "execution_count": 13,
   "metadata": {},
   "outputs": [
    {
     "data": {
      "text/html": [
       "<table class=\"data-frame\"><thead><tr><th></th><th>A</th><th>B</th><th>C</th></tr><tr><th></th><th>Int64</th><th>Float64⍰</th><th>String</th></tr></thead><tbody><p>2 rows × 3 columns</p><tr><th>1</th><td>1</td><td>1.0</td><td>a</td></tr><tr><th>2</th><td>2</td><td>missing</td><td>b</td></tr></tbody></table>"
      ],
      "text/latex": [
       "\\begin{tabular}{r|ccc}\n",
       "\t& A & B & C\\\\\n",
       "\t\\hline\n",
       "\t1 & 1 & 1.0 & a \\\\\n",
       "\t2 & 2 &  & b \\\\\n",
       "\\end{tabular}\n"
      ],
      "text/plain": [
       "2×3 DataFrame\n",
       "│ Row │ A     │ B        │ C      │\n",
       "│     │ \u001b[90mInt64\u001b[39m │ \u001b[90mFloat64⍰\u001b[39m │ \u001b[90mString\u001b[39m │\n",
       "├─────┼───────┼──────────┼────────┤\n",
       "│ 1   │ 1     │ 1.0      │ a      │\n",
       "│ 2   │ 2     │ \u001b[90mmissing\u001b[39m  │ b      │"
      ]
     },
     "execution_count": 13,
     "metadata": {},
     "output_type": "execute_result"
    }
   ],
   "source": [
    "x"
   ]
  },
  {
   "cell_type": "code",
   "execution_count": 14,
   "metadata": {},
   "outputs": [
    {
     "data": {
      "text/plain": [
       "([1, 2], [1, 2], [1, 2])"
      ]
     },
     "execution_count": 14,
     "metadata": {},
     "output_type": "execute_result"
    }
   ],
   "source": [
    "x[1], x[:A], x.A # all get the vector stored in our DataFrame"
   ]
  },
  {
   "cell_type": "code",
   "execution_count": 15,
   "metadata": {},
   "outputs": [
    {
     "name": "stderr",
     "output_type": "stream",
     "text": [
      "┌ Warning: Indexing with colon as row will create a copy in the future. Use `df[col_inds]` to get the columns without copying\n",
      "│   caller = top-level scope at In[15]:1\n",
      "└ @ Core In[15]:1\n"
     ]
    },
    {
     "data": {
      "text/plain": [
       "2-element Array{Int64,1}:\n",
       " 1\n",
       " 2"
      ]
     },
     "execution_count": 15,
     "metadata": {},
     "output_type": "execute_result"
    }
   ],
   "source": [
    "x[:, 1] # note that this will create a copy in the future"
   ]
  },
  {
   "cell_type": "markdown",
   "metadata": {},
   "source": [
    "To grab one row as a `DataFrame`, we can index as follows."
   ]
  },
  {
   "cell_type": "code",
   "execution_count": 16,
   "metadata": {},
   "outputs": [
    {
     "data": {
      "text/html": [
       "<table class=\"data-frame\"><thead><tr><th></th><th>A</th><th>B</th><th>C</th></tr><tr><th></th><th>Int64</th><th>Float64⍰</th><th>String</th></tr></thead><tbody><p>1 rows × 3 columns</p><tr><th>1</th><td>1</td><td>1.0</td><td>a</td></tr></tbody></table>"
      ],
      "text/latex": [
       "\\begin{tabular}{r|ccc}\n",
       "\t& A & B & C\\\\\n",
       "\t\\hline\n",
       "\t1 & 1 & 1.0 & a \\\\\n",
       "\\end{tabular}\n"
      ],
      "text/plain": [
       "1×3 DataFrame\n",
       "│ Row │ A     │ B        │ C      │\n",
       "│     │ \u001b[90mInt64\u001b[39m │ \u001b[90mFloat64⍰\u001b[39m │ \u001b[90mString\u001b[39m │\n",
       "├─────┼───────┼──────────┼────────┤\n",
       "│ 1   │ 1     │ 1.0      │ a      │"
      ]
     },
     "execution_count": 16,
     "metadata": {},
     "output_type": "execute_result"
    }
   ],
   "source": [
    "x[1:1, :]"
   ]
  },
  {
   "cell_type": "code",
   "execution_count": 17,
   "metadata": {},
   "outputs": [
    {
     "name": "stderr",
     "output_type": "stream",
     "text": [
      "┌ Warning: Selecting a single row from a `DataFrame` will return a `DataFrameRow` in the future. To get a `DataFrame` use `df[row_ind:row_ind, :]`.\n",
      "│   caller = top-level scope at In[17]:1\n",
      "└ @ Core In[17]:1\n"
     ]
    },
    {
     "data": {
      "text/html": [
       "<table class=\"data-frame\"><thead><tr><th></th><th>A</th><th>B</th><th>C</th></tr><tr><th></th><th>Int64</th><th>Float64</th><th>String</th></tr></thead><tbody><p>1 rows × 3 columns</p><tr><th>1</th><td>1</td><td>1.0</td><td>a</td></tr></tbody></table>"
      ],
      "text/latex": [
       "\\begin{tabular}{r|ccc}\n",
       "\t& A & B & C\\\\\n",
       "\t\\hline\n",
       "\t1 & 1 & 1.0 & a \\\\\n",
       "\\end{tabular}\n"
      ],
      "text/plain": [
       "1×3 DataFrame\n",
       "│ Row │ A     │ B       │ C      │\n",
       "│     │ \u001b[90mInt64\u001b[39m │ \u001b[90mFloat64\u001b[39m │ \u001b[90mString\u001b[39m │\n",
       "├─────┼───────┼─────────┼────────┤\n",
       "│ 1   │ 1     │ 1.0     │ a      │"
      ]
     },
     "execution_count": 17,
     "metadata": {},
     "output_type": "execute_result"
    }
   ],
   "source": [
    "x[1, :] # in the future this will produce a DataFrameRow"
   ]
  },
  {
   "cell_type": "markdown",
   "metadata": {},
   "source": [
    "We can grab a single cell or element with the same syntax to grab an element of an array."
   ]
  },
  {
   "cell_type": "code",
   "execution_count": 18,
   "metadata": {},
   "outputs": [
    {
     "data": {
      "text/plain": [
       "1"
      ]
     },
     "execution_count": 18,
     "metadata": {},
     "output_type": "execute_result"
    }
   ],
   "source": [
    "x[1, 1]"
   ]
  },
  {
   "cell_type": "markdown",
   "metadata": {},
   "source": [
    "Assignment can be done in ranges to a scalar,"
   ]
  },
  {
   "cell_type": "code",
   "execution_count": 19,
   "metadata": {},
   "outputs": [
    {
     "data": {
      "text/html": [
       "<table class=\"data-frame\"><thead><tr><th></th><th>A</th><th>B</th><th>C</th></tr><tr><th></th><th>Int64</th><th>Float64⍰</th><th>String</th></tr></thead><tbody><p>2 rows × 3 columns</p><tr><th>1</th><td>1</td><td>1.0</td><td>a</td></tr><tr><th>2</th><td>1</td><td>1.0</td><td>b</td></tr></tbody></table>"
      ],
      "text/latex": [
       "\\begin{tabular}{r|ccc}\n",
       "\t& A & B & C\\\\\n",
       "\t\\hline\n",
       "\t1 & 1 & 1.0 & a \\\\\n",
       "\t2 & 1 & 1.0 & b \\\\\n",
       "\\end{tabular}\n"
      ],
      "text/plain": [
       "2×3 DataFrame\n",
       "│ Row │ A     │ B        │ C      │\n",
       "│     │ \u001b[90mInt64\u001b[39m │ \u001b[90mFloat64⍰\u001b[39m │ \u001b[90mString\u001b[39m │\n",
       "├─────┼───────┼──────────┼────────┤\n",
       "│ 1   │ 1     │ 1.0      │ a      │\n",
       "│ 2   │ 1     │ 1.0      │ b      │"
      ]
     },
     "execution_count": 19,
     "metadata": {},
     "output_type": "execute_result"
    }
   ],
   "source": [
    "x[1:2, 1:2] = 1\n",
    "x"
   ]
  },
  {
   "cell_type": "markdown",
   "metadata": {},
   "source": [
    "to a vector of length equal to the number of assigned rows,"
   ]
  },
  {
   "cell_type": "code",
   "execution_count": 20,
   "metadata": {},
   "outputs": [
    {
     "data": {
      "text/html": [
       "<table class=\"data-frame\"><thead><tr><th></th><th>A</th><th>B</th><th>C</th></tr><tr><th></th><th>Int64</th><th>Float64⍰</th><th>String</th></tr></thead><tbody><p>2 rows × 3 columns</p><tr><th>1</th><td>1</td><td>1.0</td><td>a</td></tr><tr><th>2</th><td>2</td><td>2.0</td><td>b</td></tr></tbody></table>"
      ],
      "text/latex": [
       "\\begin{tabular}{r|ccc}\n",
       "\t& A & B & C\\\\\n",
       "\t\\hline\n",
       "\t1 & 1 & 1.0 & a \\\\\n",
       "\t2 & 2 & 2.0 & b \\\\\n",
       "\\end{tabular}\n"
      ],
      "text/plain": [
       "2×3 DataFrame\n",
       "│ Row │ A     │ B        │ C      │\n",
       "│     │ \u001b[90mInt64\u001b[39m │ \u001b[90mFloat64⍰\u001b[39m │ \u001b[90mString\u001b[39m │\n",
       "├─────┼───────┼──────────┼────────┤\n",
       "│ 1   │ 1     │ 1.0      │ a      │\n",
       "│ 2   │ 2     │ 2.0      │ b      │"
      ]
     },
     "execution_count": 20,
     "metadata": {},
     "output_type": "execute_result"
    }
   ],
   "source": [
    "x[1:2, 1:2] = [1,2]\n",
    "x"
   ]
  },
  {
   "cell_type": "markdown",
   "metadata": {},
   "source": [
    "or to another data frame of matching size."
   ]
  },
  {
   "cell_type": "code",
   "execution_count": 21,
   "metadata": {},
   "outputs": [
    {
     "data": {
      "text/html": [
       "<table class=\"data-frame\"><thead><tr><th></th><th>A</th><th>B</th><th>C</th></tr><tr><th></th><th>Int64</th><th>Float64⍰</th><th>String</th></tr></thead><tbody><p>2 rows × 3 columns</p><tr><th>1</th><td>5</td><td>6.0</td><td>a</td></tr><tr><th>2</th><td>7</td><td>8.0</td><td>b</td></tr></tbody></table>"
      ],
      "text/latex": [
       "\\begin{tabular}{r|ccc}\n",
       "\t& A & B & C\\\\\n",
       "\t\\hline\n",
       "\t1 & 5 & 6.0 & a \\\\\n",
       "\t2 & 7 & 8.0 & b \\\\\n",
       "\\end{tabular}\n"
      ],
      "text/plain": [
       "2×3 DataFrame\n",
       "│ Row │ A     │ B        │ C      │\n",
       "│     │ \u001b[90mInt64\u001b[39m │ \u001b[90mFloat64⍰\u001b[39m │ \u001b[90mString\u001b[39m │\n",
       "├─────┼───────┼──────────┼────────┤\n",
       "│ 1   │ 5     │ 6.0      │ a      │\n",
       "│ 2   │ 7     │ 8.0      │ b      │"
      ]
     },
     "execution_count": 21,
     "metadata": {},
     "output_type": "execute_result"
    }
   ],
   "source": [
    "x[1:2, 1:2] = DataFrame([5 6; 7 8])\n",
    "x"
   ]
  }
 ],
 "metadata": {
  "kernelspec": {
   "display_name": "Julia 1.0.2",
   "language": "julia",
   "name": "julia-1.0"
  },
  "language_info": {
   "file_extension": ".jl",
   "mimetype": "application/julia",
   "name": "julia",
   "version": "1.0.2"
  }
 },
 "nbformat": 4,
 "nbformat_minor": 1
}
