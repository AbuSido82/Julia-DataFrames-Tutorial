{
 "cells": [
  {
   "cell_type": "markdown",
   "metadata": {},
   "source": [
    "# Introduction to DataFrames\n",
    "**[Bogumił Kamiński](http://bogumilkaminski.pl/about/), August 16, 2019**"
   ]
  },
  {
   "cell_type": "code",
   "execution_count": 1,
   "metadata": {},
   "outputs": [
    {
     "data": {
      "text/plain": [
       "\"d:\\\\Dev\\\\Julia\\\\DataFrames_Tutorial\\\\Project.toml\""
      ]
     },
     "execution_count": 1,
     "metadata": {},
     "output_type": "execute_result"
    }
   ],
   "source": [
    "using Pkg\n",
    "Pkg.activate(\".\")"
   ]
  },
  {
   "cell_type": "code",
   "execution_count": 2,
   "metadata": {},
   "outputs": [],
   "source": [
    "using DataFrames"
   ]
  },
  {
   "cell_type": "markdown",
   "metadata": {},
   "source": [
    "## Split-apply-combine"
   ]
  },
  {
   "cell_type": "code",
   "execution_count": 3,
   "metadata": {},
   "outputs": [
    {
     "data": {
      "text/html": [
       "<table class=\"data-frame\"><thead><tr><th></th><th>id</th><th>id2</th><th>v</th></tr><tr><th></th><th>Int64</th><th>Int64</th><th>Float64</th></tr></thead><tbody><p>8 rows × 3 columns</p><tr><th>1</th><td>1</td><td>1</td><td>0.769761</td></tr><tr><th>2</th><td>2</td><td>2</td><td>0.995803</td></tr><tr><th>3</th><td>3</td><td>1</td><td>0.183738</td></tr><tr><th>4</th><td>4</td><td>2</td><td>0.521405</td></tr><tr><th>5</th><td>1</td><td>1</td><td>0.823801</td></tr><tr><th>6</th><td>2</td><td>2</td><td>0.145952</td></tr><tr><th>7</th><td>3</td><td>1</td><td>0.430041</td></tr><tr><th>8</th><td>4</td><td>2</td><td>0.6081</td></tr></tbody></table>"
      ],
      "text/latex": [
       "\\begin{tabular}{r|ccc}\n",
       "\t& id & id2 & v\\\\\n",
       "\t\\hline\n",
       "\t& Int64 & Int64 & Float64\\\\\n",
       "\t\\hline\n",
       "\t1 & 1 & 1 & 0.769761 \\\\\n",
       "\t2 & 2 & 2 & 0.995803 \\\\\n",
       "\t3 & 3 & 1 & 0.183738 \\\\\n",
       "\t4 & 4 & 2 & 0.521405 \\\\\n",
       "\t5 & 1 & 1 & 0.823801 \\\\\n",
       "\t6 & 2 & 2 & 0.145952 \\\\\n",
       "\t7 & 3 & 1 & 0.430041 \\\\\n",
       "\t8 & 4 & 2 & 0.6081 \\\\\n",
       "\\end{tabular}\n"
      ],
      "text/plain": [
       "8×3 DataFrame\n",
       "│ Row │ id    │ id2   │ v        │\n",
       "│     │ \u001b[90mInt64\u001b[39m │ \u001b[90mInt64\u001b[39m │ \u001b[90mFloat64\u001b[39m  │\n",
       "├─────┼───────┼───────┼──────────┤\n",
       "│ 1   │ 1     │ 1     │ 0.769761 │\n",
       "│ 2   │ 2     │ 2     │ 0.995803 │\n",
       "│ 3   │ 3     │ 1     │ 0.183738 │\n",
       "│ 4   │ 4     │ 2     │ 0.521405 │\n",
       "│ 5   │ 1     │ 1     │ 0.823801 │\n",
       "│ 6   │ 2     │ 2     │ 0.145952 │\n",
       "│ 7   │ 3     │ 1     │ 0.430041 │\n",
       "│ 8   │ 4     │ 2     │ 0.6081   │"
      ]
     },
     "execution_count": 3,
     "metadata": {},
     "output_type": "execute_result"
    }
   ],
   "source": [
    "x = DataFrame(id=[1,2,3,4,1,2,3,4], id2=[1,2,1,2,1,2,1,2], v=rand(8))"
   ]
  },
  {
   "cell_type": "code",
   "execution_count": 4,
   "metadata": {
    "scrolled": true
   },
   "outputs": [
    {
     "data": {
      "text/html": [
       "<p><b>GroupedDataFrame with 4 groups based on key: id</b></p><p><i>First Group (2 rows): id = 1</i></p><table class=\"data-frame\"><thead><tr><th></th><th>id</th><th>id2</th><th>v</th></tr><tr><th></th><th>Int64</th><th>Int64</th><th>Float64</th></tr></thead><tbody><tr><th>1</th><td>1</td><td>1</td><td>0.769761</td></tr><tr><th>2</th><td>1</td><td>1</td><td>0.823801</td></tr></tbody></table><p>&vellip;</p><p><i>Last Group (2 rows): id = 4</i></p><table class=\"data-frame\"><thead><tr><th></th><th>id</th><th>id2</th><th>v</th></tr><tr><th></th><th>Int64</th><th>Int64</th><th>Float64</th></tr></thead><tbody><tr><th>1</th><td>4</td><td>2</td><td>0.521405</td></tr><tr><th>2</th><td>4</td><td>2</td><td>0.6081</td></tr></tbody></table>"
      ],
      "text/latex": [
       "GroupedDataFrame with 4 groups based on key: id\n",
       "\n",
       "First Group (2 rows): id = 1\n",
       "\n",
       "\\begin{tabular}{r|ccc}\n",
       "\t& id & id2 & v\\\\\n",
       "\t\\hline\n",
       "\t& Int64 & Int64 & Float64\\\\\n",
       "\t\\hline\n",
       "\t1 & 1 & 1 & 0.769761 \\\\\n",
       "\t2 & 1 & 1 & 0.823801 \\\\\n",
       "\\end{tabular}\n",
       "\n",
       "$\\dots$\n",
       "\n",
       "Last Group (2 rows): id = 4\n",
       "\n",
       "\\begin{tabular}{r|ccc}\n",
       "\t& id & id2 & v\\\\\n",
       "\t\\hline\n",
       "\t& Int64 & Int64 & Float64\\\\\n",
       "\t\\hline\n",
       "\t1 & 4 & 2 & 0.521405 \\\\\n",
       "\t2 & 4 & 2 & 0.6081 \\\\\n",
       "\\end{tabular}\n"
      ],
      "text/plain": [
       "GroupedDataFrame with 4 groups based on key: id\n",
       "First Group (2 rows): id = 1\n",
       "│ Row │ id    │ id2   │ v        │\n",
       "│     │ \u001b[90mInt64\u001b[39m │ \u001b[90mInt64\u001b[39m │ \u001b[90mFloat64\u001b[39m  │\n",
       "├─────┼───────┼───────┼──────────┤\n",
       "│ 1   │ 1     │ 1     │ 0.769761 │\n",
       "│ 2   │ 1     │ 1     │ 0.823801 │\n",
       "⋮\n",
       "Last Group (2 rows): id = 4\n",
       "│ Row │ id    │ id2   │ v        │\n",
       "│     │ \u001b[90mInt64\u001b[39m │ \u001b[90mInt64\u001b[39m │ \u001b[90mFloat64\u001b[39m  │\n",
       "├─────┼───────┼───────┼──────────┤\n",
       "│ 1   │ 4     │ 2     │ 0.521405 │\n",
       "│ 2   │ 4     │ 2     │ 0.6081   │"
      ]
     },
     "execution_count": 4,
     "metadata": {},
     "output_type": "execute_result"
    }
   ],
   "source": [
    "gx1 = groupby(x, :id)"
   ]
  },
  {
   "cell_type": "code",
   "execution_count": 5,
   "metadata": {},
   "outputs": [
    {
     "data": {
      "text/html": [
       "<p><b>GroupedDataFrame with 4 groups based on keys: id, id2</b></p><p><i>First Group (2 rows): id = 1, id2 = 1</i></p><table class=\"data-frame\"><thead><tr><th></th><th>id</th><th>id2</th><th>v</th></tr><tr><th></th><th>Int64</th><th>Int64</th><th>Float64</th></tr></thead><tbody><tr><th>1</th><td>1</td><td>1</td><td>0.769761</td></tr><tr><th>2</th><td>1</td><td>1</td><td>0.823801</td></tr></tbody></table><p>&vellip;</p><p><i>Last Group (2 rows): id = 4, id2 = 2</i></p><table class=\"data-frame\"><thead><tr><th></th><th>id</th><th>id2</th><th>v</th></tr><tr><th></th><th>Int64</th><th>Int64</th><th>Float64</th></tr></thead><tbody><tr><th>1</th><td>4</td><td>2</td><td>0.521405</td></tr><tr><th>2</th><td>4</td><td>2</td><td>0.6081</td></tr></tbody></table>"
      ],
      "text/latex": [
       "GroupedDataFrame with 4 groups based on keys: id, id2\n",
       "\n",
       "First Group (2 rows): id = 1, id2 = 1\n",
       "\n",
       "\\begin{tabular}{r|ccc}\n",
       "\t& id & id2 & v\\\\\n",
       "\t\\hline\n",
       "\t& Int64 & Int64 & Float64\\\\\n",
       "\t\\hline\n",
       "\t1 & 1 & 1 & 0.769761 \\\\\n",
       "\t2 & 1 & 1 & 0.823801 \\\\\n",
       "\\end{tabular}\n",
       "\n",
       "$\\dots$\n",
       "\n",
       "Last Group (2 rows): id = 4, id2 = 2\n",
       "\n",
       "\\begin{tabular}{r|ccc}\n",
       "\t& id & id2 & v\\\\\n",
       "\t\\hline\n",
       "\t& Int64 & Int64 & Float64\\\\\n",
       "\t\\hline\n",
       "\t1 & 4 & 2 & 0.521405 \\\\\n",
       "\t2 & 4 & 2 & 0.6081 \\\\\n",
       "\\end{tabular}\n"
      ],
      "text/plain": [
       "GroupedDataFrame with 4 groups based on keys: id, id2\n",
       "First Group (2 rows): id = 1, id2 = 1\n",
       "│ Row │ id    │ id2   │ v        │\n",
       "│     │ \u001b[90mInt64\u001b[39m │ \u001b[90mInt64\u001b[39m │ \u001b[90mFloat64\u001b[39m  │\n",
       "├─────┼───────┼───────┼──────────┤\n",
       "│ 1   │ 1     │ 1     │ 0.769761 │\n",
       "│ 2   │ 1     │ 1     │ 0.823801 │\n",
       "⋮\n",
       "Last Group (2 rows): id = 4, id2 = 2\n",
       "│ Row │ id    │ id2   │ v        │\n",
       "│     │ \u001b[90mInt64\u001b[39m │ \u001b[90mInt64\u001b[39m │ \u001b[90mFloat64\u001b[39m  │\n",
       "├─────┼───────┼───────┼──────────┤\n",
       "│ 1   │ 4     │ 2     │ 0.521405 │\n",
       "│ 2   │ 4     │ 2     │ 0.6081   │"
      ]
     },
     "execution_count": 5,
     "metadata": {},
     "output_type": "execute_result"
    }
   ],
   "source": [
    "gx2 = groupby(x, [:id, :id2])"
   ]
  },
  {
   "cell_type": "code",
   "execution_count": 6,
   "metadata": {},
   "outputs": [
    {
     "data": {
      "text/html": [
       "<table class=\"data-frame\"><thead><tr><th></th><th>id</th><th>id2</th><th>v</th></tr><tr><th></th><th>Int64</th><th>Int64</th><th>Float64</th></tr></thead><tbody><p>8 rows × 3 columns</p><tr><th>1</th><td>1</td><td>1</td><td>0.769761</td></tr><tr><th>2</th><td>2</td><td>2</td><td>0.995803</td></tr><tr><th>3</th><td>3</td><td>1</td><td>0.183738</td></tr><tr><th>4</th><td>4</td><td>2</td><td>0.521405</td></tr><tr><th>5</th><td>1</td><td>1</td><td>0.823801</td></tr><tr><th>6</th><td>2</td><td>2</td><td>0.145952</td></tr><tr><th>7</th><td>3</td><td>1</td><td>0.430041</td></tr><tr><th>8</th><td>4</td><td>2</td><td>0.6081</td></tr></tbody></table>"
      ],
      "text/latex": [
       "\\begin{tabular}{r|ccc}\n",
       "\t& id & id2 & v\\\\\n",
       "\t\\hline\n",
       "\t& Int64 & Int64 & Float64\\\\\n",
       "\t\\hline\n",
       "\t1 & 1 & 1 & 0.769761 \\\\\n",
       "\t2 & 2 & 2 & 0.995803 \\\\\n",
       "\t3 & 3 & 1 & 0.183738 \\\\\n",
       "\t4 & 4 & 2 & 0.521405 \\\\\n",
       "\t5 & 1 & 1 & 0.823801 \\\\\n",
       "\t6 & 2 & 2 & 0.145952 \\\\\n",
       "\t7 & 3 & 1 & 0.430041 \\\\\n",
       "\t8 & 4 & 2 & 0.6081 \\\\\n",
       "\\end{tabular}\n"
      ],
      "text/plain": [
       "8×3 DataFrame\n",
       "│ Row │ id    │ id2   │ v        │\n",
       "│     │ \u001b[90mInt64\u001b[39m │ \u001b[90mInt64\u001b[39m │ \u001b[90mFloat64\u001b[39m  │\n",
       "├─────┼───────┼───────┼──────────┤\n",
       "│ 1   │ 1     │ 1     │ 0.769761 │\n",
       "│ 2   │ 2     │ 2     │ 0.995803 │\n",
       "│ 3   │ 3     │ 1     │ 0.183738 │\n",
       "│ 4   │ 4     │ 2     │ 0.521405 │\n",
       "│ 5   │ 1     │ 1     │ 0.823801 │\n",
       "│ 6   │ 2     │ 2     │ 0.145952 │\n",
       "│ 7   │ 3     │ 1     │ 0.430041 │\n",
       "│ 8   │ 4     │ 2     │ 0.6081   │"
      ]
     },
     "execution_count": 6,
     "metadata": {},
     "output_type": "execute_result"
    }
   ],
   "source": [
    "parent(gx2) # get the parent DataFrame "
   ]
  },
  {
   "cell_type": "code",
   "execution_count": 7,
   "metadata": {},
   "outputs": [
    {
     "data": {
      "text/html": [
       "<table class=\"data-frame\"><thead><tr><th></th><th>id</th><th>id2</th><th>v</th></tr><tr><th></th><th>Int64</th><th>Int64</th><th>Float64</th></tr></thead><tbody><p>8 rows × 3 columns</p><tr><th>1</th><td>1</td><td>1</td><td>0.769761</td></tr><tr><th>2</th><td>1</td><td>1</td><td>0.823801</td></tr><tr><th>3</th><td>2</td><td>2</td><td>0.995803</td></tr><tr><th>4</th><td>2</td><td>2</td><td>0.145952</td></tr><tr><th>5</th><td>3</td><td>1</td><td>0.183738</td></tr><tr><th>6</th><td>3</td><td>1</td><td>0.430041</td></tr><tr><th>7</th><td>4</td><td>2</td><td>0.521405</td></tr><tr><th>8</th><td>4</td><td>2</td><td>0.6081</td></tr></tbody></table>"
      ],
      "text/latex": [
       "\\begin{tabular}{r|ccc}\n",
       "\t& id & id2 & v\\\\\n",
       "\t\\hline\n",
       "\t& Int64 & Int64 & Float64\\\\\n",
       "\t\\hline\n",
       "\t1 & 1 & 1 & 0.769761 \\\\\n",
       "\t2 & 1 & 1 & 0.823801 \\\\\n",
       "\t3 & 2 & 2 & 0.995803 \\\\\n",
       "\t4 & 2 & 2 & 0.145952 \\\\\n",
       "\t5 & 3 & 1 & 0.183738 \\\\\n",
       "\t6 & 3 & 1 & 0.430041 \\\\\n",
       "\t7 & 4 & 2 & 0.521405 \\\\\n",
       "\t8 & 4 & 2 & 0.6081 \\\\\n",
       "\\end{tabular}\n"
      ],
      "text/plain": [
       "8×3 DataFrame\n",
       "│ Row │ id    │ id2   │ v        │\n",
       "│     │ \u001b[90mInt64\u001b[39m │ \u001b[90mInt64\u001b[39m │ \u001b[90mFloat64\u001b[39m  │\n",
       "├─────┼───────┼───────┼──────────┤\n",
       "│ 1   │ 1     │ 1     │ 0.769761 │\n",
       "│ 2   │ 1     │ 1     │ 0.823801 │\n",
       "│ 3   │ 2     │ 2     │ 0.995803 │\n",
       "│ 4   │ 2     │ 2     │ 0.145952 │\n",
       "│ 5   │ 3     │ 1     │ 0.183738 │\n",
       "│ 6   │ 3     │ 1     │ 0.430041 │\n",
       "│ 7   │ 4     │ 2     │ 0.521405 │\n",
       "│ 8   │ 4     │ 2     │ 0.6081   │"
      ]
     },
     "execution_count": 7,
     "metadata": {},
     "output_type": "execute_result"
    }
   ],
   "source": [
    "vcat(gx2...) # back to the DataFrame, but in a different order of rows than the original"
   ]
  },
  {
   "cell_type": "code",
   "execution_count": 8,
   "metadata": {},
   "outputs": [
    {
     "data": {
      "text/html": [
       "<table class=\"data-frame\"><thead><tr><th></th><th>id</th><th>id2</th><th>v</th></tr><tr><th></th><th>Int64</th><th>Int64</th><th>Float64</th></tr></thead><tbody><p>8 rows × 3 columns</p><tr><th>1</th><td>1</td><td>1</td><td>0.769761</td></tr><tr><th>2</th><td>1</td><td>1</td><td>0.823801</td></tr><tr><th>3</th><td>2</td><td>2</td><td>0.995803</td></tr><tr><th>4</th><td>2</td><td>2</td><td>0.145952</td></tr><tr><th>5</th><td>3</td><td>1</td><td>0.183738</td></tr><tr><th>6</th><td>3</td><td>1</td><td>0.430041</td></tr><tr><th>7</th><td>4</td><td>2</td><td>0.521405</td></tr><tr><th>8</th><td>4</td><td>2</td><td>0.6081</td></tr></tbody></table>"
      ],
      "text/latex": [
       "\\begin{tabular}{r|ccc}\n",
       "\t& id & id2 & v\\\\\n",
       "\t\\hline\n",
       "\t& Int64 & Int64 & Float64\\\\\n",
       "\t\\hline\n",
       "\t1 & 1 & 1 & 0.769761 \\\\\n",
       "\t2 & 1 & 1 & 0.823801 \\\\\n",
       "\t3 & 2 & 2 & 0.995803 \\\\\n",
       "\t4 & 2 & 2 & 0.145952 \\\\\n",
       "\t5 & 3 & 1 & 0.183738 \\\\\n",
       "\t6 & 3 & 1 & 0.430041 \\\\\n",
       "\t7 & 4 & 2 & 0.521405 \\\\\n",
       "\t8 & 4 & 2 & 0.6081 \\\\\n",
       "\\end{tabular}\n"
      ],
      "text/plain": [
       "8×3 DataFrame\n",
       "│ Row │ id    │ id2   │ v        │\n",
       "│     │ \u001b[90mInt64\u001b[39m │ \u001b[90mInt64\u001b[39m │ \u001b[90mFloat64\u001b[39m  │\n",
       "├─────┼───────┼───────┼──────────┤\n",
       "│ 1   │ 1     │ 1     │ 0.769761 │\n",
       "│ 2   │ 1     │ 1     │ 0.823801 │\n",
       "│ 3   │ 2     │ 2     │ 0.995803 │\n",
       "│ 4   │ 2     │ 2     │ 0.145952 │\n",
       "│ 5   │ 3     │ 1     │ 0.183738 │\n",
       "│ 6   │ 3     │ 1     │ 0.430041 │\n",
       "│ 7   │ 4     │ 2     │ 0.521405 │\n",
       "│ 8   │ 4     │ 2     │ 0.6081   │"
      ]
     },
     "execution_count": 8,
     "metadata": {},
     "output_type": "execute_result"
    }
   ],
   "source": [
    "DataFrame(gx2) # the same"
   ]
  },
  {
   "cell_type": "code",
   "execution_count": 9,
   "metadata": {},
   "outputs": [
    {
     "data": {
      "text/plain": [
       "2-element Array{Symbol,1}:\n",
       " :id \n",
       " :id2"
      ]
     },
     "execution_count": 9,
     "metadata": {},
     "output_type": "execute_result"
    }
   ],
   "source": [
    "groupvars(gx2) # vector of names of grouping variables"
   ]
  },
  {
   "cell_type": "code",
   "execution_count": 10,
   "metadata": {},
   "outputs": [
    {
     "data": {
      "text/plain": [
       "8-element Array{Union{Missing, Int64},1}:\n",
       " 1\n",
       " 2\n",
       " 3\n",
       " 4\n",
       " 1\n",
       " 2\n",
       " 3\n",
       " 4"
      ]
     },
     "execution_count": 10,
     "metadata": {},
     "output_type": "execute_result"
    }
   ],
   "source": [
    "groupindices(gx2) # group indices in parent(gx2)"
   ]
  },
  {
   "cell_type": "code",
   "execution_count": 11,
   "metadata": {},
   "outputs": [
    {
     "data": {
      "text/html": [
       "<table class=\"data-frame\"><thead><tr><th></th><th>id</th><th>x</th></tr><tr><th></th><th>Int64⍰</th><th>Int64</th></tr></thead><tbody><p>5 rows × 2 columns</p><tr><th>1</th><td>missing</td><td>1</td></tr><tr><th>2</th><td>5</td><td>2</td></tr><tr><th>3</th><td>1</td><td>3</td></tr><tr><th>4</th><td>3</td><td>4</td></tr><tr><th>5</th><td>missing</td><td>5</td></tr></tbody></table>"
      ],
      "text/latex": [
       "\\begin{tabular}{r|cc}\n",
       "\t& id & x\\\\\n",
       "\t\\hline\n",
       "\t& Int64⍰ & Int64\\\\\n",
       "\t\\hline\n",
       "\t1 &  & 1 \\\\\n",
       "\t2 & 5 & 2 \\\\\n",
       "\t3 & 1 & 3 \\\\\n",
       "\t4 & 3 & 4 \\\\\n",
       "\t5 &  & 5 \\\\\n",
       "\\end{tabular}\n"
      ],
      "text/plain": [
       "5×2 DataFrame\n",
       "│ Row │ id      │ x     │\n",
       "│     │ \u001b[90mInt64⍰\u001b[39m  │ \u001b[90mInt64\u001b[39m │\n",
       "├─────┼─────────┼───────┤\n",
       "│ 1   │ \u001b[90mmissing\u001b[39m │ 1     │\n",
       "│ 2   │ 5       │ 2     │\n",
       "│ 3   │ 1       │ 3     │\n",
       "│ 4   │ 3       │ 4     │\n",
       "│ 5   │ \u001b[90mmissing\u001b[39m │ 5     │"
      ]
     },
     "execution_count": 11,
     "metadata": {},
     "output_type": "execute_result"
    }
   ],
   "source": [
    "x = DataFrame(id = [missing, 5, 1, 3, missing], x = 1:5)"
   ]
  },
  {
   "cell_type": "code",
   "execution_count": 12,
   "metadata": {},
   "outputs": [
    {
     "data": {
      "text/html": [
       "<p><b>GroupedDataFrame with 4 groups based on key: id</b></p><p><i>First Group (2 rows): id = missing</i></p><table class=\"data-frame\"><thead><tr><th></th><th>id</th><th>x</th></tr><tr><th></th><th>Int64⍰</th><th>Int64</th></tr></thead><tbody><tr><th>1</th><td>missing</td><td>1</td></tr><tr><th>2</th><td>missing</td><td>5</td></tr></tbody></table><p>&vellip;</p><p><i>Last Group (1 row): id = 3</i></p><table class=\"data-frame\"><thead><tr><th></th><th>id</th><th>x</th></tr><tr><th></th><th>Int64⍰</th><th>Int64</th></tr></thead><tbody><tr><th>1</th><td>3</td><td>4</td></tr></tbody></table>"
      ],
      "text/latex": [
       "GroupedDataFrame with 4 groups based on key: id\n",
       "\n",
       "First Group (2 rows): id = missing\n",
       "\n",
       "\\begin{tabular}{r|cc}\n",
       "\t& id & x\\\\\n",
       "\t\\hline\n",
       "\t& Int64⍰ & Int64\\\\\n",
       "\t\\hline\n",
       "\t1 &  & 1 \\\\\n",
       "\t2 &  & 5 \\\\\n",
       "\\end{tabular}\n",
       "\n",
       "$\\dots$\n",
       "\n",
       "Last Group (1 row): id = 3\n",
       "\n",
       "\\begin{tabular}{r|cc}\n",
       "\t& id & x\\\\\n",
       "\t\\hline\n",
       "\t& Int64⍰ & Int64\\\\\n",
       "\t\\hline\n",
       "\t1 & 3 & 4 \\\\\n",
       "\\end{tabular}\n"
      ],
      "text/plain": [
       "GroupedDataFrame with 4 groups based on key: id\n",
       "First Group (2 rows): id = missing\n",
       "│ Row │ id      │ x     │\n",
       "│     │ \u001b[90mInt64⍰\u001b[39m  │ \u001b[90mInt64\u001b[39m │\n",
       "├─────┼─────────┼───────┤\n",
       "│ 1   │ \u001b[90mmissing\u001b[39m │ 1     │\n",
       "│ 2   │ \u001b[90mmissing\u001b[39m │ 5     │\n",
       "⋮\n",
       "Last Group (1 row): id = 3\n",
       "│ Row │ id     │ x     │\n",
       "│     │ \u001b[90mInt64⍰\u001b[39m │ \u001b[90mInt64\u001b[39m │\n",
       "├─────┼────────┼───────┤\n",
       "│ 1   │ 3      │ 4     │"
      ]
     },
     "execution_count": 12,
     "metadata": {},
     "output_type": "execute_result"
    }
   ],
   "source": [
    "groupby(x, :id) # by default groups include mising values and are not sorted"
   ]
  },
  {
   "cell_type": "code",
   "execution_count": 13,
   "metadata": {},
   "outputs": [
    {
     "data": {
      "text/html": [
       "<p><b>GroupedDataFrame with 3 groups based on key: id</b></p><p><i>First Group (1 row): id = 1</i></p><table class=\"data-frame\"><thead><tr><th></th><th>id</th><th>x</th></tr><tr><th></th><th>Int64⍰</th><th>Int64</th></tr></thead><tbody><tr><th>1</th><td>1</td><td>3</td></tr></tbody></table><p>&vellip;</p><p><i>Last Group (1 row): id = 5</i></p><table class=\"data-frame\"><thead><tr><th></th><th>id</th><th>x</th></tr><tr><th></th><th>Int64⍰</th><th>Int64</th></tr></thead><tbody><tr><th>1</th><td>5</td><td>2</td></tr></tbody></table>"
      ],
      "text/latex": [
       "GroupedDataFrame with 3 groups based on key: id\n",
       "\n",
       "First Group (1 row): id = 1\n",
       "\n",
       "\\begin{tabular}{r|cc}\n",
       "\t& id & x\\\\\n",
       "\t\\hline\n",
       "\t& Int64⍰ & Int64\\\\\n",
       "\t\\hline\n",
       "\t1 & 1 & 3 \\\\\n",
       "\\end{tabular}\n",
       "\n",
       "$\\dots$\n",
       "\n",
       "Last Group (1 row): id = 5\n",
       "\n",
       "\\begin{tabular}{r|cc}\n",
       "\t& id & x\\\\\n",
       "\t\\hline\n",
       "\t& Int64⍰ & Int64\\\\\n",
       "\t\\hline\n",
       "\t1 & 5 & 2 \\\\\n",
       "\\end{tabular}\n"
      ],
      "text/plain": [
       "GroupedDataFrame with 3 groups based on key: id\n",
       "First Group (1 row): id = 1\n",
       "│ Row │ id     │ x     │\n",
       "│     │ \u001b[90mInt64⍰\u001b[39m │ \u001b[90mInt64\u001b[39m │\n",
       "├─────┼────────┼───────┤\n",
       "│ 1   │ 1      │ 3     │\n",
       "⋮\n",
       "Last Group (1 row): id = 5\n",
       "│ Row │ id     │ x     │\n",
       "│     │ \u001b[90mInt64⍰\u001b[39m │ \u001b[90mInt64\u001b[39m │\n",
       "├─────┼────────┼───────┤\n",
       "│ 1   │ 5      │ 2     │"
      ]
     },
     "execution_count": 13,
     "metadata": {},
     "output_type": "execute_result"
    }
   ],
   "source": [
    "groupby(x, :id, sort=true, skipmissing=true) # but we can change it"
   ]
  },
  {
   "cell_type": "code",
   "execution_count": 14,
   "metadata": {},
   "outputs": [
    {
     "data": {
      "text/html": [
       "<table class=\"data-frame\"><thead><tr><th></th><th>id</th><th>v_mean</th></tr><tr><th></th><th>Char</th><th>Float64</th></tr></thead><tbody><p>4 rows × 2 columns</p><tr><th>1</th><td>'a'</td><td>0.479599</td></tr><tr><th>2</th><td>'b'</td><td>0.49334</td></tr><tr><th>3</th><td>'c'</td><td>0.332933</td></tr><tr><th>4</th><td>'d'</td><td>0.540456</td></tr></tbody></table>"
      ],
      "text/latex": [
       "\\begin{tabular}{r|cc}\n",
       "\t& id & v\\_mean\\\\\n",
       "\t\\hline\n",
       "\t& Char & Float64\\\\\n",
       "\t\\hline\n",
       "\t1 & 'a' & 0.479599 \\\\\n",
       "\t2 & 'b' & 0.49334 \\\\\n",
       "\t3 & 'c' & 0.332933 \\\\\n",
       "\t4 & 'd' & 0.540456 \\\\\n",
       "\\end{tabular}\n"
      ],
      "text/plain": [
       "4×2 DataFrame\n",
       "│ Row │ id   │ v_mean   │\n",
       "│     │ \u001b[90mChar\u001b[39m │ \u001b[90mFloat64\u001b[39m  │\n",
       "├─────┼──────┼──────────┤\n",
       "│ 1   │ 'a'  │ 0.479599 │\n",
       "│ 2   │ 'b'  │ 0.49334  │\n",
       "│ 3   │ 'c'  │ 0.332933 │\n",
       "│ 4   │ 'd'  │ 0.540456 │"
      ]
     },
     "execution_count": 14,
     "metadata": {},
     "output_type": "execute_result"
    }
   ],
   "source": [
    "using Statistics\n",
    "x = DataFrame(id=rand('a':'d', 100), v=rand(100));\n",
    "by(x, :id, :v=>mean) # apply a function to each group of a data frame"
   ]
  },
  {
   "cell_type": "code",
   "execution_count": 15,
   "metadata": {},
   "outputs": [
    {
     "data": {
      "text/html": [
       "<table class=\"data-frame\"><thead><tr><th></th><th>id</th><th>v_mean</th></tr><tr><th></th><th>Char</th><th>Float64</th></tr></thead><tbody><p>4 rows × 2 columns</p><tr><th>1</th><td>'a'</td><td>0.479599</td></tr><tr><th>2</th><td>'b'</td><td>0.49334</td></tr><tr><th>3</th><td>'c'</td><td>0.332933</td></tr><tr><th>4</th><td>'d'</td><td>0.540456</td></tr></tbody></table>"
      ],
      "text/latex": [
       "\\begin{tabular}{r|cc}\n",
       "\t& id & v\\_mean\\\\\n",
       "\t\\hline\n",
       "\t& Char & Float64\\\\\n",
       "\t\\hline\n",
       "\t1 & 'a' & 0.479599 \\\\\n",
       "\t2 & 'b' & 0.49334 \\\\\n",
       "\t3 & 'c' & 0.332933 \\\\\n",
       "\t4 & 'd' & 0.540456 \\\\\n",
       "\\end{tabular}\n"
      ],
      "text/plain": [
       "4×2 DataFrame\n",
       "│ Row │ id   │ v_mean   │\n",
       "│     │ \u001b[90mChar\u001b[39m │ \u001b[90mFloat64\u001b[39m  │\n",
       "├─────┼──────┼──────────┤\n",
       "│ 1   │ 'a'  │ 0.479599 │\n",
       "│ 2   │ 'b'  │ 0.49334  │\n",
       "│ 3   │ 'c'  │ 0.332933 │\n",
       "│ 4   │ 'd'  │ 0.540456 │"
      ]
     },
     "execution_count": 15,
     "metadata": {},
     "output_type": "execute_result"
    }
   ],
   "source": [
    "by(x, :id, :v=>mean, sort=true) # we can sort the output"
   ]
  },
  {
   "cell_type": "code",
   "execution_count": 16,
   "metadata": {},
   "outputs": [
    {
     "data": {
      "text/html": [
       "<table class=\"data-frame\"><thead><tr><th></th><th>id</th><th>res</th></tr><tr><th></th><th>Char</th><th>Float64</th></tr></thead><tbody><p>4 rows × 2 columns</p><tr><th>1</th><td>'a'</td><td>0.479599</td></tr><tr><th>2</th><td>'b'</td><td>0.49334</td></tr><tr><th>3</th><td>'c'</td><td>0.332933</td></tr><tr><th>4</th><td>'d'</td><td>0.540456</td></tr></tbody></table>"
      ],
      "text/latex": [
       "\\begin{tabular}{r|cc}\n",
       "\t& id & res\\\\\n",
       "\t\\hline\n",
       "\t& Char & Float64\\\\\n",
       "\t\\hline\n",
       "\t1 & 'a' & 0.479599 \\\\\n",
       "\t2 & 'b' & 0.49334 \\\\\n",
       "\t3 & 'c' & 0.332933 \\\\\n",
       "\t4 & 'd' & 0.540456 \\\\\n",
       "\\end{tabular}\n"
      ],
      "text/plain": [
       "4×2 DataFrame\n",
       "│ Row │ id   │ res      │\n",
       "│     │ \u001b[90mChar\u001b[39m │ \u001b[90mFloat64\u001b[39m  │\n",
       "├─────┼──────┼──────────┤\n",
       "│ 1   │ 'a'  │ 0.479599 │\n",
       "│ 2   │ 'b'  │ 0.49334  │\n",
       "│ 3   │ 'c'  │ 0.332933 │\n",
       "│ 4   │ 'd'  │ 0.540456 │"
      ]
     },
     "execution_count": 16,
     "metadata": {},
     "output_type": "execute_result"
    }
   ],
   "source": [
    "by(x, :id, res=:v=>mean) # this way we can set a name for a column"
   ]
  },
  {
   "cell_type": "code",
   "execution_count": 17,
   "metadata": {},
   "outputs": [
    {
     "data": {
      "text/html": [
       "<table class=\"data-frame\"><thead><tr><th></th><th>id</th><th>res1</th><th>res2</th></tr><tr><th></th><th>Char</th><th>Float64</th><th>Float64</th></tr></thead><tbody><p>4 rows × 3 columns</p><tr><th>1</th><td>'a'</td><td>0.479599</td><td>10.0716</td></tr><tr><th>2</th><td>'b'</td><td>0.49334</td><td>17.2669</td></tr><tr><th>3</th><td>'c'</td><td>0.332933</td><td>6.9916</td></tr><tr><th>4</th><td>'d'</td><td>0.540456</td><td>12.4305</td></tr></tbody></table>"
      ],
      "text/latex": [
       "\\begin{tabular}{r|ccc}\n",
       "\t& id & res1 & res2\\\\\n",
       "\t\\hline\n",
       "\t& Char & Float64 & Float64\\\\\n",
       "\t\\hline\n",
       "\t1 & 'a' & 0.479599 & 10.0716 \\\\\n",
       "\t2 & 'b' & 0.49334 & 17.2669 \\\\\n",
       "\t3 & 'c' & 0.332933 & 6.9916 \\\\\n",
       "\t4 & 'd' & 0.540456 & 12.4305 \\\\\n",
       "\\end{tabular}\n"
      ],
      "text/plain": [
       "4×3 DataFrame\n",
       "│ Row │ id   │ res1     │ res2    │\n",
       "│     │ \u001b[90mChar\u001b[39m │ \u001b[90mFloat64\u001b[39m  │ \u001b[90mFloat64\u001b[39m │\n",
       "├─────┼──────┼──────────┼─────────┤\n",
       "│ 1   │ 'a'  │ 0.479599 │ 10.0716 │\n",
       "│ 2   │ 'b'  │ 0.49334  │ 17.2669 │\n",
       "│ 3   │ 'c'  │ 0.332933 │ 6.9916  │\n",
       "│ 4   │ 'd'  │ 0.540456 │ 12.4305 │"
      ]
     },
     "execution_count": 17,
     "metadata": {},
     "output_type": "execute_result"
    }
   ],
   "source": [
    "by(x, :id, res1=:v=>mean, res2=:v=>sum) # you can have multiple operations"
   ]
  },
  {
   "cell_type": "code",
   "execution_count": 18,
   "metadata": {},
   "outputs": [
    {
     "data": {
      "text/html": [
       "<table class=\"data-frame\"><thead><tr><th></th><th>id</th><th>x1_sum</th><th>x2_sum</th></tr><tr><th></th><th>Char</th><th>Float64</th><th>Float64</th></tr></thead><tbody><p>4 rows × 3 columns</p><tr><th>1</th><td>'c'</td><td>13.6124</td><td>12.0201</td></tr><tr><th>2</th><td>'b'</td><td>16.9866</td><td>15.7279</td></tr><tr><th>3</th><td>'d'</td><td>14.9035</td><td>11.719</td></tr><tr><th>4</th><td>'a'</td><td>8.61909</td><td>9.08808</td></tr></tbody></table>"
      ],
      "text/latex": [
       "\\begin{tabular}{r|ccc}\n",
       "\t& id & x1\\_sum & x2\\_sum\\\\\n",
       "\t\\hline\n",
       "\t& Char & Float64 & Float64\\\\\n",
       "\t\\hline\n",
       "\t1 & 'c' & 13.6124 & 12.0201 \\\\\n",
       "\t2 & 'b' & 16.9866 & 15.7279 \\\\\n",
       "\t3 & 'd' & 14.9035 & 11.719 \\\\\n",
       "\t4 & 'a' & 8.61909 & 9.08808 \\\\\n",
       "\\end{tabular}\n"
      ],
      "text/plain": [
       "4×3 DataFrame\n",
       "│ Row │ id   │ x1_sum  │ x2_sum  │\n",
       "│     │ \u001b[90mChar\u001b[39m │ \u001b[90mFloat64\u001b[39m │ \u001b[90mFloat64\u001b[39m │\n",
       "├─────┼──────┼─────────┼─────────┤\n",
       "│ 1   │ 'c'  │ 13.6124 │ 12.0201 │\n",
       "│ 2   │ 'b'  │ 16.9866 │ 15.7279 │\n",
       "│ 3   │ 'd'  │ 14.9035 │ 11.719  │\n",
       "│ 4   │ 'a'  │ 8.61909 │ 9.08808 │"
      ]
     },
     "execution_count": 18,
     "metadata": {},
     "output_type": "execute_result"
    }
   ],
   "source": [
    "x = DataFrame(id=rand('a':'d', 100), x1=rand(100), x2=rand(100))\n",
    "aggregate(x, :id, sum) # apply a function over all columns of a data frame in groups given by id"
   ]
  },
  {
   "cell_type": "code",
   "execution_count": 19,
   "metadata": {},
   "outputs": [
    {
     "data": {
      "text/html": [
       "<table class=\"data-frame\"><thead><tr><th></th><th>id</th><th>x1_sum</th><th>x2_sum</th></tr><tr><th></th><th>Char</th><th>Float64</th><th>Float64</th></tr></thead><tbody><p>4 rows × 3 columns</p><tr><th>1</th><td>'a'</td><td>8.61909</td><td>9.08808</td></tr><tr><th>2</th><td>'b'</td><td>16.9866</td><td>15.7279</td></tr><tr><th>3</th><td>'c'</td><td>13.6124</td><td>12.0201</td></tr><tr><th>4</th><td>'d'</td><td>14.9035</td><td>11.719</td></tr></tbody></table>"
      ],
      "text/latex": [
       "\\begin{tabular}{r|ccc}\n",
       "\t& id & x1\\_sum & x2\\_sum\\\\\n",
       "\t\\hline\n",
       "\t& Char & Float64 & Float64\\\\\n",
       "\t\\hline\n",
       "\t1 & 'a' & 8.61909 & 9.08808 \\\\\n",
       "\t2 & 'b' & 16.9866 & 15.7279 \\\\\n",
       "\t3 & 'c' & 13.6124 & 12.0201 \\\\\n",
       "\t4 & 'd' & 14.9035 & 11.719 \\\\\n",
       "\\end{tabular}\n"
      ],
      "text/plain": [
       "4×3 DataFrame\n",
       "│ Row │ id   │ x1_sum  │ x2_sum  │\n",
       "│     │ \u001b[90mChar\u001b[39m │ \u001b[90mFloat64\u001b[39m │ \u001b[90mFloat64\u001b[39m │\n",
       "├─────┼──────┼─────────┼─────────┤\n",
       "│ 1   │ 'a'  │ 8.61909 │ 9.08808 │\n",
       "│ 2   │ 'b'  │ 16.9866 │ 15.7279 │\n",
       "│ 3   │ 'c'  │ 13.6124 │ 12.0201 │\n",
       "│ 4   │ 'd'  │ 14.9035 │ 11.719  │"
      ]
     },
     "execution_count": 19,
     "metadata": {},
     "output_type": "execute_result"
    }
   ],
   "source": [
    "aggregate(x, :id, sum, sort=true) # also can be sorted"
   ]
  },
  {
   "cell_type": "markdown",
   "metadata": {},
   "source": [
    "A new feature is `mapcols` convinience function"
   ]
  },
  {
   "cell_type": "code",
   "execution_count": 20,
   "metadata": {},
   "outputs": [
    {
     "data": {
      "text/html": [
       "<table class=\"data-frame\"><thead><tr><th></th><th>x1</th><th>x2</th><th>x3</th><th>x4</th><th>x5</th></tr><tr><th></th><th>Float64</th><th>Float64</th><th>Float64</th><th>Float64</th><th>Float64</th></tr></thead><tbody><p>3 rows × 5 columns</p><tr><th>1</th><td>0.866454</td><td>0.563247</td><td>0.237481</td><td>0.51449</td><td>0.177154</td></tr><tr><th>2</th><td>0.261381</td><td>0.49776</td><td>0.20027</td><td>0.124694</td><td>0.670961</td></tr><tr><th>3</th><td>0.454035</td><td>0.859636</td><td>0.644986</td><td>0.890991</td><td>0.326333</td></tr></tbody></table>"
      ],
      "text/latex": [
       "\\begin{tabular}{r|ccccc}\n",
       "\t& x1 & x2 & x3 & x4 & x5\\\\\n",
       "\t\\hline\n",
       "\t& Float64 & Float64 & Float64 & Float64 & Float64\\\\\n",
       "\t\\hline\n",
       "\t1 & 0.866454 & 0.563247 & 0.237481 & 0.51449 & 0.177154 \\\\\n",
       "\t2 & 0.261381 & 0.49776 & 0.20027 & 0.124694 & 0.670961 \\\\\n",
       "\t3 & 0.454035 & 0.859636 & 0.644986 & 0.890991 & 0.326333 \\\\\n",
       "\\end{tabular}\n"
      ],
      "text/plain": [
       "3×5 DataFrame\n",
       "│ Row │ x1       │ x2       │ x3       │ x4       │ x5       │\n",
       "│     │ \u001b[90mFloat64\u001b[39m  │ \u001b[90mFloat64\u001b[39m  │ \u001b[90mFloat64\u001b[39m  │ \u001b[90mFloat64\u001b[39m  │ \u001b[90mFloat64\u001b[39m  │\n",
       "├─────┼──────────┼──────────┼──────────┼──────────┼──────────┤\n",
       "│ 1   │ 0.866454 │ 0.563247 │ 0.237481 │ 0.51449  │ 0.177154 │\n",
       "│ 2   │ 0.261381 │ 0.49776  │ 0.20027  │ 0.124694 │ 0.670961 │\n",
       "│ 3   │ 0.454035 │ 0.859636 │ 0.644986 │ 0.890991 │ 0.326333 │"
      ]
     },
     "execution_count": 20,
     "metadata": {},
     "output_type": "execute_result"
    }
   ],
   "source": [
    "x = DataFrame(rand(3, 5))"
   ]
  },
  {
   "cell_type": "code",
   "execution_count": 21,
   "metadata": {},
   "outputs": [
    {
     "data": {
      "text/html": [
       "<table class=\"data-frame\"><thead><tr><th></th><th>x1</th><th>x2</th><th>x3</th><th>x4</th><th>x5</th></tr><tr><th></th><th>Float64</th><th>Float64</th><th>Float64</th><th>Float64</th><th>Float64</th></tr></thead><tbody><p>1 rows × 5 columns</p><tr><th>1</th><td>0.52729</td><td>0.640214</td><td>0.360912</td><td>0.510058</td><td>0.391482</td></tr></tbody></table>"
      ],
      "text/latex": [
       "\\begin{tabular}{r|ccccc}\n",
       "\t& x1 & x2 & x3 & x4 & x5\\\\\n",
       "\t\\hline\n",
       "\t& Float64 & Float64 & Float64 & Float64 & Float64\\\\\n",
       "\t\\hline\n",
       "\t1 & 0.52729 & 0.640214 & 0.360912 & 0.510058 & 0.391482 \\\\\n",
       "\\end{tabular}\n"
      ],
      "text/plain": [
       "1×5 DataFrame\n",
       "│ Row │ x1      │ x2       │ x3       │ x4       │ x5       │\n",
       "│     │ \u001b[90mFloat64\u001b[39m │ \u001b[90mFloat64\u001b[39m  │ \u001b[90mFloat64\u001b[39m  │ \u001b[90mFloat64\u001b[39m  │ \u001b[90mFloat64\u001b[39m  │\n",
       "├─────┼─────────┼──────────┼──────────┼──────────┼──────────┤\n",
       "│ 1   │ 0.52729 │ 0.640214 │ 0.360912 │ 0.510058 │ 0.391482 │"
      ]
     },
     "execution_count": 21,
     "metadata": {},
     "output_type": "execute_result"
    }
   ],
   "source": [
    "mapcols(mean, x)"
   ]
  },
  {
   "cell_type": "code",
   "execution_count": 22,
   "metadata": {},
   "outputs": [
    {
     "data": {
      "text/plain": [
       "5-element Array{Float64,1}:\n",
       " 0.527290199248489  \n",
       " 0.6402144516572263 \n",
       " 0.3609121004250527 \n",
       " 0.5100580048189808 \n",
       " 0.39148240242535187"
      ]
     },
     "execution_count": 22,
     "metadata": {},
     "output_type": "execute_result"
    }
   ],
   "source": [
    "map(mean, eachcol(x, false)) # map a function over each column and return a vector"
   ]
  },
  {
   "cell_type": "code",
   "execution_count": 23,
   "metadata": {},
   "outputs": [
    {
     "name": "stdout",
     "output_type": "stream",
     "text": [
      "x1: 0.527290199248489\n",
      "x2: 0.6402144516572263\n",
      "x3: 0.3609121004250527\n",
      "x4: 0.5100580048189808\n",
      "x5: 0.39148240242535187\n"
     ]
    }
   ],
   "source": [
    "foreach(c -> println(c[1], \": \", mean(c[2])), eachcol(x, true)) # an iteration returns a Pair with column name and values"
   ]
  },
  {
   "cell_type": "code",
   "execution_count": 24,
   "metadata": {},
   "outputs": [
    {
     "data": {
      "text/plain": [
       "3-element Array{Float64,1}:\n",
       " 1.5383185037363456\n",
       " 0.5251151656268269\n",
       " 0.5281715855978556"
      ]
     },
     "execution_count": 24,
     "metadata": {},
     "output_type": "execute_result"
    }
   ],
   "source": [
    "map(r -> r.x1/r.x2, eachrow(x)) # now the returned value is DataFrameRow which works similarly to a one-row DataFrame"
   ]
  }
 ],
 "metadata": {
  "@webio": {
   "lastCommId": null,
   "lastKernelId": null
  },
  "kernelspec": {
   "display_name": "Julia 1.1.0",
   "language": "julia",
   "name": "julia-1.1"
  },
  "language_info": {
   "file_extension": ".jl",
   "mimetype": "application/julia",
   "name": "julia",
   "version": "1.1.0"
  }
 },
 "nbformat": 4,
 "nbformat_minor": 1
}
