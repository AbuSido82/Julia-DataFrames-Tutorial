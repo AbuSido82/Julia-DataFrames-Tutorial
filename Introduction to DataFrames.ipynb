{
 "cells": [
  {
   "cell_type": "markdown",
   "metadata": {},
   "source": [
    "# Introduction to DataFrames\n",
    "**Bogumił Kamiński, 2017**"
   ]
  },
  {
   "cell_type": "code",
   "execution_count": 2,
   "metadata": {
    "collapsed": true
   },
   "outputs": [],
   "source": [
    "using DataFrames # load package"
   ]
  },
  {
   "cell_type": "markdown",
   "metadata": {},
   "source": [
    "## Constructors"
   ]
  },
  {
   "cell_type": "code",
   "execution_count": 3,
   "metadata": {
    "collapsed": false
   },
   "outputs": [
    {
     "data": {
      "text/html": [
       "<table class=\"data-frame\"><thead><tr><th></th></tr></thead><tbody></tbody></table>"
      ],
      "text/plain": [
       "0×0 DataFrames.DataFrame\n"
      ]
     },
     "execution_count": 3,
     "metadata": {},
     "output_type": "execute_result"
    }
   ],
   "source": [
    "DataFrame() # empty DataFrame"
   ]
  },
  {
   "cell_type": "code",
   "execution_count": 4,
   "metadata": {
    "collapsed": false
   },
   "outputs": [
    {
     "data": {
      "text/html": [
       "<table class=\"data-frame\"><thead><tr><th></th><th>A</th><th>B</th><th>C</th></tr></thead><tbody><tr><th>1</th><td>1</td><td>0.936671</td><td>LVC</td></tr><tr><th>2</th><td>2</td><td>0.941741</td><td>XyM</td></tr><tr><th>3</th><td>3</td><td>0.914977</td><td>Ujd</td></tr></tbody></table>"
      ],
      "text/plain": [
       "3×3 DataFrames.DataFrame\n",
       "│ Row │ A │ B        │ C   │\n",
       "├─────┼───┼──────────┼─────┤\n",
       "│ 1   │ 1 │ 0.936671 │ LVC │\n",
       "│ 2   │ 2 │ 0.941741 │ XyM │\n",
       "│ 3   │ 3 │ 0.914977 │ Ujd │"
      ]
     },
     "execution_count": 4,
     "metadata": {},
     "output_type": "execute_result"
    }
   ],
   "source": [
    "DataFrame(A=1:3, B=rand(3), C=randstring.([3,3,3])) # keyword arguments"
   ]
  },
  {
   "cell_type": "code",
   "execution_count": 5,
   "metadata": {
    "collapsed": false
   },
   "outputs": [
    {
     "data": {
      "text/html": [
       "<table class=\"data-frame\"><thead><tr><th></th><th>A</th><th>B</th><th>C</th></tr></thead><tbody><tr><th>1</th><td>1</td><td>true</td><td>'a'</td></tr><tr><th>2</th><td>2</td><td>false</td><td>'b'</td></tr></tbody></table>"
      ],
      "text/plain": [
       "2×3 DataFrames.DataFrame\n",
       "│ Row │ A │ B     │ C   │\n",
       "├─────┼───┼───────┼─────┤\n",
       "│ 1   │ 1 │ true  │ 'a' │\n",
       "│ 2   │ 2 │ false │ 'b' │"
      ]
     },
     "execution_count": 5,
     "metadata": {},
     "output_type": "execute_result"
    }
   ],
   "source": [
    "x = Dict(\"A\" => [1,2], \"B\" => [true, false], \"C\" => ['a', 'b'])\n",
    "DataFrame(x) # from dictionary, columns will be sorted"
   ]
  },
  {
   "cell_type": "code",
   "execution_count": 6,
   "metadata": {
    "collapsed": false
   },
   "outputs": [
    {
     "data": {
      "text/html": [
       "<table class=\"data-frame\"><thead><tr><th></th><th>A</th><th>B</th><th>C</th></tr></thead><tbody><tr><th>1</th><td>1</td><td>true</td><td>'a'</td></tr><tr><th>2</th><td>2</td><td>false</td><td>'b'</td></tr></tbody></table>"
      ],
      "text/plain": [
       "2×3 DataFrames.DataFrame\n",
       "│ Row │ A │ B     │ C   │\n",
       "├─────┼───┼───────┼─────┤\n",
       "│ 1   │ 1 │ true  │ 'a' │\n",
       "│ 2   │ 2 │ false │ 'b' │"
      ]
     },
     "execution_count": 6,
     "metadata": {},
     "output_type": "execute_result"
    }
   ],
   "source": [
    "DataFrame(:A => [1,2], :B => [true, false], :C => ['a', 'b']) # from pairs"
   ]
  },
  {
   "cell_type": "code",
   "execution_count": 7,
   "metadata": {
    "collapsed": false
   },
   "outputs": [
    {
     "data": {
      "text/html": [
       "<table class=\"data-frame\"><thead><tr><th></th><th>x1</th><th>x2</th><th>x3</th></tr></thead><tbody><tr><th>1</th><td>0.00322929</td><td>0.0838389</td><td>0.747746</td></tr><tr><th>2</th><td>0.872693</td><td>0.906353</td><td>0.979596</td></tr><tr><th>3</th><td>0.261985</td><td>0.47891</td><td>0.843912</td></tr></tbody></table>"
      ],
      "text/plain": [
       "3×3 DataFrames.DataFrame\n",
       "│ Row │ x1         │ x2        │ x3       │\n",
       "├─────┼────────────┼───────────┼──────────┤\n",
       "│ 1   │ 0.00322929 │ 0.0838389 │ 0.747746 │\n",
       "│ 2   │ 0.872693   │ 0.906353  │ 0.979596 │\n",
       "│ 3   │ 0.261985   │ 0.47891   │ 0.843912 │"
      ]
     },
     "execution_count": 7,
     "metadata": {},
     "output_type": "execute_result"
    }
   ],
   "source": [
    "DataFrame([rand(3) for i in 1:3]) # from vector of vectors"
   ]
  },
  {
   "cell_type": "code",
   "execution_count": 8,
   "metadata": {
    "collapsed": false
   },
   "outputs": [
    {
     "data": {
      "text/html": [
       "<table class=\"data-frame\"><thead><tr><th></th><th>x1</th><th>x2</th><th>x3</th></tr></thead><tbody><tr><th>1</th><td>0.15738</td><td>0.132175</td><td>0.583478</td></tr></tbody></table>"
      ],
      "text/plain": [
       "1×3 DataFrames.DataFrame\n",
       "│ Row │ x1      │ x2       │ x3       │\n",
       "├─────┼─────────┼──────────┼──────────┤\n",
       "│ 1   │ 0.15738 │ 0.132175 │ 0.583478 │"
      ]
     },
     "execution_count": 8,
     "metadata": {},
     "output_type": "execute_result"
    }
   ],
   "source": [
    "DataFrame(rand(3)) # edge case vector of atoms"
   ]
  },
  {
   "cell_type": "code",
   "execution_count": 9,
   "metadata": {
    "collapsed": false
   },
   "outputs": [
    {
     "data": {
      "text/html": [
       "<table class=\"data-frame\"><thead><tr><th></th><th>A</th><th>B</th><th>C</th></tr></thead><tbody><tr><th>1</th><td>0.569573</td><td>0.487466</td><td>0.461863</td></tr></tbody></table>"
      ],
      "text/plain": [
       "1×3 DataFrames.DataFrame\n",
       "│ Row │ A        │ B        │ C        │\n",
       "├─────┼──────────┼──────────┼──────────┤\n",
       "│ 1   │ 0.569573 │ 0.487466 │ 0.461863 │"
      ]
     },
     "execution_count": 9,
     "metadata": {},
     "output_type": "execute_result"
    }
   ],
   "source": [
    "DataFrame(rand(3), [:A, :B, :C]) # pass second argument to give column names"
   ]
  },
  {
   "cell_type": "code",
   "execution_count": 10,
   "metadata": {
    "collapsed": false
   },
   "outputs": [
    {
     "data": {
      "text/html": [
       "<table class=\"data-frame\"><thead><tr><th></th><th>x1</th><th>x2</th><th>x3</th><th>x4</th></tr></thead><tbody><tr><th>1</th><td>0.261217</td><td>0.484157</td><td>0.721347</td><td>0.718433</td></tr><tr><th>2</th><td>0.925508</td><td>0.0346365</td><td>0.679817</td><td>0.46339</td></tr><tr><th>3</th><td>0.0781544</td><td>0.486668</td><td>0.522358</td><td>0.774114</td></tr></tbody></table>"
      ],
      "text/plain": [
       "3×4 DataFrames.DataFrame\n",
       "│ Row │ x1        │ x2        │ x3       │ x4       │\n",
       "├─────┼───────────┼───────────┼──────────┼──────────┤\n",
       "│ 1   │ 0.261217  │ 0.484157  │ 0.721347 │ 0.718433 │\n",
       "│ 2   │ 0.925508  │ 0.0346365 │ 0.679817 │ 0.46339  │\n",
       "│ 3   │ 0.0781544 │ 0.486668  │ 0.522358 │ 0.774114 │"
      ]
     },
     "execution_count": 10,
     "metadata": {},
     "output_type": "execute_result"
    }
   ],
   "source": [
    "DataFrame(rand(3,4)) # from matrix"
   ]
  },
  {
   "cell_type": "code",
   "execution_count": 11,
   "metadata": {
    "collapsed": false
   },
   "outputs": [
    {
     "data": {
      "text/html": [
       "<table class=\"data-frame\"><thead><tr><th></th><th>A</th><th>B</th><th>C</th></tr></thead><tbody><tr><th>1</th><td>17</td><td>NaN</td><td>missing</td></tr></tbody></table>"
      ],
      "text/plain": [
       "1×3 DataFrames.DataFrame\n",
       "│ Row │ A  │ B   │ C       │\n",
       "├─────┼────┼─────┼─────────┤\n",
       "│ 1   │ 17 │ NaN │ \u001b[90mmissing\u001b[39m │"
      ]
     },
     "execution_count": 11,
     "metadata": {},
     "output_type": "execute_result"
    }
   ],
   "source": [
    "DataFrame([Int, Float64, Any], [:A, :B, :C], 1) # pass column types, names and number of rows\n",
    "# we get missing because Any >: Missing"
   ]
  },
  {
   "cell_type": "code",
   "execution_count": 12,
   "metadata": {
    "collapsed": false
   },
   "outputs": [
    {
     "ename": "UndefRefError",
     "evalue": "\u001b[91mUndefRefError: access to undefined reference\u001b[39m",
     "output_type": "error",
     "traceback": [
      "\u001b[91mUndefRefError: access to undefined reference\u001b[39m",
      "",
      "Stacktrace:",
      " [1] \u001b[1mgetindex\u001b[22m\u001b[22m\u001b[1m(\u001b[22m\u001b[22m::Array{String,1}, ::Int64\u001b[1m)\u001b[22m\u001b[22m at \u001b[1m.\\array.jl:554\u001b[22m\u001b[22m",
      " [2] \u001b[1mgetindex\u001b[22m\u001b[22m\u001b[1m(\u001b[22m\u001b[22m::DataFrames.DataFrame, ::Int64, ::Symbol\u001b[1m)\u001b[22m\u001b[22m at \u001b[1mD:\\Software\\JULIA_PKG\\v0.6\\DataFrames\\src\\dataframe\\dataframe.jl:233\u001b[22m\u001b[22m",
      " [3] \u001b[1mshow\u001b[22m\u001b[22m\u001b[1m(\u001b[22m\u001b[22m::IOContext{Base.AbstractIOBuffer{Array{UInt8,1}}}, ::MIME{Symbol(\"text/html\")}, ::DataFrames.DataFrame\u001b[1m)\u001b[22m\u001b[22m at \u001b[1mD:\\Software\\JULIA_PKG\\v0.6\\DataFrames\\src\\abstractdataframe\\io.jl:110\u001b[22m\u001b[22m",
      " [4] \u001b[1mlimitstringmime\u001b[22m\u001b[22m\u001b[1m(\u001b[22m\u001b[22m::MIME{Symbol(\"text/html\")}, ::DataFrames.DataFrame\u001b[1m)\u001b[22m\u001b[22m at \u001b[1mD:\\Software\\JULIA_PKG\\v0.6\\IJulia\\src\\inline.jl:24\u001b[22m\u001b[22m",
      " [5] \u001b[1mdisplay_dict\u001b[22m\u001b[22m\u001b[1m(\u001b[22m\u001b[22m::DataFrames.DataFrame\u001b[1m)\u001b[22m\u001b[22m at \u001b[1mD:\\Software\\JULIA_PKG\\v0.6\\IJulia\\src\\execute_request.jl:39\u001b[22m\u001b[22m",
      " [6] \u001b[1mexecute_request\u001b[22m\u001b[22m\u001b[1m(\u001b[22m\u001b[22m::ZMQ.Socket, ::IJulia.Msg\u001b[1m)\u001b[22m\u001b[22m at \u001b[1mD:\\Software\\JULIA_PKG\\v0.6\\IJulia\\src\\execute_request.jl:182\u001b[22m\u001b[22m",
      " [7] \u001b[1meventloop\u001b[22m\u001b[22m\u001b[1m(\u001b[22m\u001b[22m::ZMQ.Socket\u001b[1m)\u001b[22m\u001b[22m at \u001b[1mD:\\Software\\JULIA_PKG\\v0.6\\IJulia\\src\\eventloop.jl:8\u001b[22m\u001b[22m",
      " [8] \u001b[1m(::IJulia.##14#17)\u001b[22m\u001b[22m\u001b[1m(\u001b[22m\u001b[22m\u001b[1m)\u001b[22m\u001b[22m at \u001b[1m.\\task.jl:335\u001b[22m\u001b[22m"
     ]
    }
   ],
   "source": [
    "DataFrame([Int, Float64, String], [:A, :B, :C], 1) # it was created OK, only value for String is #undef"
   ]
  },
  {
   "cell_type": "code",
   "execution_count": 13,
   "metadata": {
    "collapsed": false
   },
   "outputs": [
    {
     "data": {
      "text/html": [
       "<table class=\"data-frame\"><thead><tr><th></th><th>A</th><th>B</th><th>C</th></tr></thead><tbody></tbody></table>"
      ],
      "text/plain": [
       "0×3 DataFrames.DataFrame\n"
      ]
     },
     "execution_count": 13,
     "metadata": {},
     "output_type": "execute_result"
    }
   ],
   "source": [
    "DataFrame([Int, Float64, String], [:A, :B, :C], 0) # columns are created, but there are no rows"
   ]
  },
  {
   "cell_type": "code",
   "execution_count": 14,
   "metadata": {
    "collapsed": false
   },
   "outputs": [
    {
     "data": {
      "text/html": [
       "<table class=\"data-frame\"><thead><tr><th></th><th>x1</th><th>x2</th><th>x3</th><th>x4</th><th>x5</th></tr></thead><tbody><tr><th>1</th><td>147437264</td><td>147437264</td><td>128468752</td><td>147437264</td><td>109259368</td></tr><tr><th>2</th><td>116621520</td><td>116621520</td><td>171576752</td><td>116621520</td><td>109264904</td></tr><tr><th>3</th><td>121016992</td><td>121017024</td><td>116622736</td><td>121017088</td><td>109260056</td></tr></tbody></table>"
      ],
      "text/plain": [
       "3×5 DataFrames.DataFrame\n",
       "│ Row │ x1        │ x2        │ x3        │ x4        │ x5        │\n",
       "├─────┼───────────┼───────────┼───────────┼───────────┼───────────┤\n",
       "│ 1   │ 147437264 │ 147437264 │ 128468752 │ 147437264 │ 109259368 │\n",
       "│ 2   │ 116621520 │ 116621520 │ 171576752 │ 116621520 │ 109264904 │\n",
       "│ 3   │ 121016992 │ 121017024 │ 116622736 │ 121017088 │ 109260056 │"
      ]
     },
     "execution_count": 14,
     "metadata": {},
     "output_type": "execute_result"
    }
   ],
   "source": [
    "DataFrame(Int, 3, 5) # a quick way to create homogenous DataFrame"
   ]
  },
  {
   "cell_type": "code",
   "execution_count": 15,
   "metadata": {
    "collapsed": false
   },
   "outputs": [
    {
     "data": {
      "text/html": [
       "<table class=\"data-frame\"><thead><tr><th></th><th>x1</th><th>x2</th></tr></thead><tbody><tr><th>1</th><td>109259368</td><td>8.44305e-316</td></tr><tr><th>2</th><td>109264904</td><td>5.77805e-316</td></tr><tr><th>3</th><td>109261144</td><td>2.02364e-315</td></tr><tr><th>4</th><td>116735696</td><td>0.0</td></tr></tbody></table>"
      ],
      "text/plain": [
       "4×2 DataFrames.DataFrame\n",
       "│ Row │ x1        │ x2           │\n",
       "├─────┼───────────┼──────────────┤\n",
       "│ 1   │ 109259368 │ 8.44305e-316 │\n",
       "│ 2   │ 109264904 │ 5.77805e-316 │\n",
       "│ 3   │ 109261144 │ 2.02364e-315 │\n",
       "│ 4   │ 116735696 │ 0.0          │"
      ]
     },
     "execution_count": 15,
     "metadata": {},
     "output_type": "execute_result"
    }
   ],
   "source": [
    "DataFrame([Int, Float64], 4) # similar, but with nonhomogenous columns"
   ]
  },
  {
   "cell_type": "code",
   "execution_count": 16,
   "metadata": {
    "collapsed": false
   },
   "outputs": [
    {
     "data": {
      "text/plain": [
       "2×4 Array{Any,2}:\n",
       " 1  1.0       \"a\"  1   \n",
       " 2   missing  \"b\"   \"a\""
      ]
     },
     "execution_count": 16,
     "metadata": {},
     "output_type": "execute_result"
    }
   ],
   "source": [
    "x = DataFrame(A = [1, 2], B = [1.0, missing], C = [\"a\", \"b\"], D = [1, \"a\"])\n",
    "convert(Array, x) # convert DataFrame to Matrix"
   ]
  },
  {
   "cell_type": "markdown",
   "metadata": {},
   "source": [
    "## Getting basic information about a data frame"
   ]
  },
  {
   "cell_type": "code",
   "execution_count": 17,
   "metadata": {
    "collapsed": false
   },
   "outputs": [
    {
     "data": {
      "text/html": [
       "<table class=\"data-frame\"><thead><tr><th></th><th>A</th><th>B</th><th>C</th><th>D</th></tr></thead><tbody><tr><th>1</th><td>1</td><td>1.0</td><td>a</td><td>1</td></tr><tr><th>2</th><td>2</td><td>missing</td><td>b</td><td>a</td></tr></tbody></table>"
      ],
      "text/plain": [
       "2×4 DataFrames.DataFrame\n",
       "│ Row │ A │ B       │ C │ D │\n",
       "├─────┼───┼─────────┼───┼───┤\n",
       "│ 1   │ 1 │ 1.0     │ a │ 1 │\n",
       "│ 2   │ 2 │ \u001b[90mmissing\u001b[39m │ b │ a │"
      ]
     },
     "execution_count": 17,
     "metadata": {},
     "output_type": "execute_result"
    }
   ],
   "source": [
    "x = DataFrame(A = [1, 2], B = [1.0, missing], C = [\"a\", \"b\"], D = [1, \"a\"])"
   ]
  },
  {
   "cell_type": "code",
   "execution_count": 18,
   "metadata": {
    "collapsed": false
   },
   "outputs": [
    {
     "data": {
      "text/plain": [
       "((2, 4), 2, 4)"
      ]
     },
     "execution_count": 18,
     "metadata": {},
     "output_type": "execute_result"
    }
   ],
   "source": [
    "size(x), size(x, 1), size(x, 2)"
   ]
  },
  {
   "cell_type": "code",
   "execution_count": 19,
   "metadata": {
    "collapsed": false
   },
   "outputs": [
    {
     "data": {
      "text/plain": [
       "(2, 4, 4)"
      ]
     },
     "execution_count": 19,
     "metadata": {},
     "output_type": "execute_result"
    }
   ],
   "source": [
    "nrow(x), ncol(x), length(x)"
   ]
  },
  {
   "cell_type": "code",
   "execution_count": 20,
   "metadata": {
    "collapsed": false
   },
   "outputs": [
    {
     "name": "stdout",
     "output_type": "stream",
     "text": [
      "A\n",
      "Summary Stats:\n",
      "Mean:           1.500000\n",
      "Minimum:        1.000000\n",
      "1st Quartile:   1.250000\n",
      "Median:         1.500000\n",
      "3rd Quartile:   1.750000\n",
      "Maximum:        2.000000\n",
      "Length:         2\n",
      "Type:           Int64\n",
      "\n",
      "B\n",
      "Summary Stats:\n",
      "Mean:           1.000000\n",
      "Minimum:        1.000000\n",
      "1st Quartile:   1.000000\n",
      "Median:         1.000000\n",
      "3rd Quartile:   1.000000\n",
      "Maximum:        1.000000\n",
      "Length:         2\n",
      "Type:           Union{Float64, Missings.Missing}\n",
      "Number Missing: 1\n",
      "% Missing:      50.000000\n",
      "\n",
      "C\n",
      "Summary Stats:\n",
      "Length:         2\n",
      "Type:           String\n",
      "Number Unique:  2\n",
      "\n",
      "D\n",
      "Summary Stats:\n",
      "Length:         2\n",
      "Type:           Any\n",
      "Number Unique:  2\n",
      "Number Missing: 0\n",
      "% Missing:      0.000000\n",
      "\n"
     ]
    }
   ],
   "source": [
    "describe(x)"
   ]
  },
  {
   "cell_type": "code",
   "execution_count": 21,
   "metadata": {
    "collapsed": false
   },
   "outputs": [
    {
     "name": "stdout",
     "output_type": "stream",
     "text": [
      "2×4 DataFrames.DataFrame\n",
      "│ Col # │ Name │ Eltype                           │ Missing │ Values          │\n",
      "├───────┼──────┼──────────────────────────────────┼─────────┼─────────────────┤\n",
      "│ 1     │ A    │ Int64                            │ 0       │ 1  …  2         │\n",
      "│ 2     │ B    │ Union{Float64, Missings.Missing} │ 1       │ 1.0  …  missing │\n",
      "│ 3     │ C    │ String                           │ 0       │ a  …  b         │\n",
      "│ 4     │ D    │ Any                              │ 0       │ 1  …  a         │"
     ]
    }
   ],
   "source": [
    "showcols(x)"
   ]
  },
  {
   "cell_type": "code",
   "execution_count": 22,
   "metadata": {
    "collapsed": false
   },
   "outputs": [
    {
     "data": {
      "text/plain": [
       "4-element Array{Symbol,1}:\n",
       " :A\n",
       " :B\n",
       " :C\n",
       " :D"
      ]
     },
     "execution_count": 22,
     "metadata": {},
     "output_type": "execute_result"
    }
   ],
   "source": [
    "names(x)"
   ]
  },
  {
   "cell_type": "code",
   "execution_count": 23,
   "metadata": {
    "collapsed": false
   },
   "outputs": [
    {
     "data": {
      "text/plain": [
       "4-element Array{Type,1}:\n",
       " Int64                           \n",
       " Union{Float64, Missings.Missing}\n",
       " String                          \n",
       " Any                             "
      ]
     },
     "execution_count": 23,
     "metadata": {},
     "output_type": "execute_result"
    }
   ],
   "source": [
    "eltypes(x)"
   ]
  },
  {
   "cell_type": "code",
   "execution_count": 27,
   "metadata": {
    "collapsed": false
   },
   "outputs": [
    {
     "data": {
      "text/html": [
       "<table class=\"data-frame\"><thead><tr><th></th><th>x1</th><th>x2</th><th>x3</th><th>x4</th><th>x5</th><th>x6</th><th>x7</th><th>x8</th><th>x9</th><th>x10</th></tr></thead><tbody><tr><th>1</th><td>1</td><td>10</td><td>3</td><td>7</td><td>9</td><td>2</td><td>7</td><td>8</td><td>8</td><td>3</td></tr><tr><th>2</th><td>4</td><td>4</td><td>7</td><td>6</td><td>1</td><td>4</td><td>10</td><td>6</td><td>7</td><td>4</td></tr><tr><th>3</th><td>1</td><td>1</td><td>1</td><td>10</td><td>8</td><td>5</td><td>3</td><td>3</td><td>8</td><td>10</td></tr><tr><th>4</th><td>2</td><td>8</td><td>9</td><td>2</td><td>1</td><td>4</td><td>5</td><td>8</td><td>5</td><td>9</td></tr><tr><th>5</th><td>1</td><td>1</td><td>4</td><td>7</td><td>5</td><td>4</td><td>7</td><td>6</td><td>4</td><td>10</td></tr><tr><th>6</th><td>8</td><td>3</td><td>8</td><td>4</td><td>3</td><td>6</td><td>3</td><td>7</td><td>1</td><td>3</td></tr><tr><th>7</th><td>1</td><td>4</td><td>10</td><td>10</td><td>9</td><td>8</td><td>7</td><td>6</td><td>8</td><td>5</td></tr><tr><th>8</th><td>8</td><td>4</td><td>7</td><td>6</td><td>2</td><td>1</td><td>1</td><td>10</td><td>10</td><td>5</td></tr><tr><th>9</th><td>8</td><td>6</td><td>3</td><td>8</td><td>10</td><td>6</td><td>3</td><td>2</td><td>3</td><td>1</td></tr><tr><th>10</th><td>6</td><td>7</td><td>3</td><td>10</td><td>1</td><td>3</td><td>3</td><td>10</td><td>10</td><td>3</td></tr><tr><th>11</th><td>6</td><td>8</td><td>5</td><td>2</td><td>1</td><td>7</td><td>10</td><td>9</td><td>7</td><td>3</td></tr><tr><th>12</th><td>9</td><td>6</td><td>7</td><td>4</td><td>5</td><td>3</td><td>4</td><td>10</td><td>1</td><td>5</td></tr><tr><th>13</th><td>2</td><td>2</td><td>7</td><td>10</td><td>6</td><td>4</td><td>9</td><td>5</td><td>6</td><td>4</td></tr><tr><th>14</th><td>7</td><td>9</td><td>7</td><td>9</td><td>3</td><td>6</td><td>2</td><td>1</td><td>9</td><td>9</td></tr><tr><th>15</th><td>3</td><td>7</td><td>5</td><td>4</td><td>7</td><td>10</td><td>4</td><td>5</td><td>7</td><td>2</td></tr><tr><th>16</th><td>3</td><td>4</td><td>9</td><td>9</td><td>9</td><td>9</td><td>1</td><td>9</td><td>4</td><td>1</td></tr><tr><th>17</th><td>5</td><td>8</td><td>8</td><td>9</td><td>1</td><td>10</td><td>4</td><td>3</td><td>10</td><td>5</td></tr><tr><th>18</th><td>5</td><td>7</td><td>1</td><td>9</td><td>4</td><td>10</td><td>10</td><td>6</td><td>9</td><td>4</td></tr><tr><th>19</th><td>10</td><td>6</td><td>7</td><td>1</td><td>6</td><td>3</td><td>6</td><td>10</td><td>4</td><td>10</td></tr><tr><th>20</th><td>1</td><td>4</td><td>3</td><td>4</td><td>8</td><td>1</td><td>4</td><td>6</td><td>5</td><td>4</td></tr></tbody></table>"
      ],
      "text/plain": [
       "20×10 DataFrames.DataFrame\n",
       "│ Row │ x1 │ x2 │ x3 │ x4 │ x5 │ x6 │ x7 │ x8 │ x9 │ x10 │\n",
       "├─────┼────┼────┼────┼────┼────┼────┼────┼────┼────┼─────┤\n",
       "│ 1   │ 1  │ 10 │ 3  │ 7  │ 9  │ 2  │ 7  │ 8  │ 8  │ 3   │\n",
       "│ 2   │ 4  │ 4  │ 7  │ 6  │ 1  │ 4  │ 10 │ 6  │ 7  │ 4   │\n",
       "│ 3   │ 1  │ 1  │ 1  │ 10 │ 8  │ 5  │ 3  │ 3  │ 8  │ 10  │\n",
       "│ 4   │ 2  │ 8  │ 9  │ 2  │ 1  │ 4  │ 5  │ 8  │ 5  │ 9   │\n",
       "│ 5   │ 1  │ 1  │ 4  │ 7  │ 5  │ 4  │ 7  │ 6  │ 4  │ 10  │\n",
       "│ 6   │ 8  │ 3  │ 8  │ 4  │ 3  │ 6  │ 3  │ 7  │ 1  │ 3   │\n",
       "│ 7   │ 1  │ 4  │ 10 │ 10 │ 9  │ 8  │ 7  │ 6  │ 8  │ 5   │\n",
       "│ 8   │ 8  │ 4  │ 7  │ 6  │ 2  │ 1  │ 1  │ 10 │ 10 │ 5   │\n",
       "│ 9   │ 8  │ 6  │ 3  │ 8  │ 10 │ 6  │ 3  │ 2  │ 3  │ 1   │\n",
       "│ 10  │ 6  │ 7  │ 3  │ 10 │ 1  │ 3  │ 3  │ 10 │ 10 │ 3   │\n",
       "│ 11  │ 6  │ 8  │ 5  │ 2  │ 1  │ 7  │ 10 │ 9  │ 7  │ 3   │\n",
       "│ 12  │ 9  │ 6  │ 7  │ 4  │ 5  │ 3  │ 4  │ 10 │ 1  │ 5   │\n",
       "│ 13  │ 2  │ 2  │ 7  │ 10 │ 6  │ 4  │ 9  │ 5  │ 6  │ 4   │\n",
       "│ 14  │ 7  │ 9  │ 7  │ 9  │ 3  │ 6  │ 2  │ 1  │ 9  │ 9   │\n",
       "│ 15  │ 3  │ 7  │ 5  │ 4  │ 7  │ 10 │ 4  │ 5  │ 7  │ 2   │\n",
       "│ 16  │ 3  │ 4  │ 9  │ 9  │ 9  │ 9  │ 1  │ 9  │ 4  │ 1   │\n",
       "│ 17  │ 5  │ 8  │ 8  │ 9  │ 1  │ 10 │ 4  │ 3  │ 10 │ 5   │\n",
       "│ 18  │ 5  │ 7  │ 1  │ 9  │ 4  │ 10 │ 10 │ 6  │ 9  │ 4   │\n",
       "│ 19  │ 10 │ 6  │ 7  │ 1  │ 6  │ 3  │ 6  │ 10 │ 4  │ 10  │\n",
       "│ 20  │ 1  │ 4  │ 3  │ 4  │ 8  │ 1  │ 4  │ 6  │ 5  │ 4   │"
      ]
     },
     "execution_count": 27,
     "metadata": {},
     "output_type": "execute_result"
    }
   ],
   "source": [
    "y = DataFrame(rand(1:10, 20, 10))"
   ]
  },
  {
   "cell_type": "code",
   "execution_count": 28,
   "metadata": {
    "collapsed": false
   },
   "outputs": [
    {
     "data": {
      "text/html": [
       "<table class=\"data-frame\"><thead><tr><th></th><th>x1</th><th>x2</th><th>x3</th><th>x4</th><th>x5</th><th>x6</th><th>x7</th><th>x8</th><th>x9</th><th>x10</th></tr></thead><tbody><tr><th>1</th><td>1</td><td>10</td><td>3</td><td>7</td><td>9</td><td>2</td><td>7</td><td>8</td><td>8</td><td>3</td></tr><tr><th>2</th><td>4</td><td>4</td><td>7</td><td>6</td><td>1</td><td>4</td><td>10</td><td>6</td><td>7</td><td>4</td></tr><tr><th>3</th><td>1</td><td>1</td><td>1</td><td>10</td><td>8</td><td>5</td><td>3</td><td>3</td><td>8</td><td>10</td></tr><tr><th>4</th><td>2</td><td>8</td><td>9</td><td>2</td><td>1</td><td>4</td><td>5</td><td>8</td><td>5</td><td>9</td></tr><tr><th>5</th><td>1</td><td>1</td><td>4</td><td>7</td><td>5</td><td>4</td><td>7</td><td>6</td><td>4</td><td>10</td></tr><tr><th>6</th><td>8</td><td>3</td><td>8</td><td>4</td><td>3</td><td>6</td><td>3</td><td>7</td><td>1</td><td>3</td></tr></tbody></table>"
      ],
      "text/plain": [
       "6×10 DataFrames.DataFrame\n",
       "│ Row │ x1 │ x2 │ x3 │ x4 │ x5 │ x6 │ x7 │ x8 │ x9 │ x10 │\n",
       "├─────┼────┼────┼────┼────┼────┼────┼────┼────┼────┼─────┤\n",
       "│ 1   │ 1  │ 10 │ 3  │ 7  │ 9  │ 2  │ 7  │ 8  │ 8  │ 3   │\n",
       "│ 2   │ 4  │ 4  │ 7  │ 6  │ 1  │ 4  │ 10 │ 6  │ 7  │ 4   │\n",
       "│ 3   │ 1  │ 1  │ 1  │ 10 │ 8  │ 5  │ 3  │ 3  │ 8  │ 10  │\n",
       "│ 4   │ 2  │ 8  │ 9  │ 2  │ 1  │ 4  │ 5  │ 8  │ 5  │ 9   │\n",
       "│ 5   │ 1  │ 1  │ 4  │ 7  │ 5  │ 4  │ 7  │ 6  │ 4  │ 10  │\n",
       "│ 6   │ 8  │ 3  │ 8  │ 4  │ 3  │ 6  │ 3  │ 7  │ 1  │ 3   │"
      ]
     },
     "execution_count": 28,
     "metadata": {},
     "output_type": "execute_result"
    }
   ],
   "source": [
    "head(y)"
   ]
  },
  {
   "cell_type": "code",
   "execution_count": 31,
   "metadata": {
    "collapsed": false
   },
   "outputs": [
    {
     "data": {
      "text/html": [
       "<table class=\"data-frame\"><thead><tr><th></th><th>x1</th><th>x2</th><th>x3</th><th>x4</th><th>x5</th><th>x6</th><th>x7</th><th>x8</th><th>x9</th><th>x10</th></tr></thead><tbody><tr><th>1</th><td>5</td><td>7</td><td>1</td><td>9</td><td>4</td><td>10</td><td>10</td><td>6</td><td>9</td><td>4</td></tr><tr><th>2</th><td>10</td><td>6</td><td>7</td><td>1</td><td>6</td><td>3</td><td>6</td><td>10</td><td>4</td><td>10</td></tr><tr><th>3</th><td>1</td><td>4</td><td>3</td><td>4</td><td>8</td><td>1</td><td>4</td><td>6</td><td>5</td><td>4</td></tr></tbody></table>"
      ],
      "text/plain": [
       "3×10 DataFrames.DataFrame\n",
       "│ Row │ x1 │ x2 │ x3 │ x4 │ x5 │ x6 │ x7 │ x8 │ x9 │ x10 │\n",
       "├─────┼────┼────┼────┼────┼────┼────┼────┼────┼────┼─────┤\n",
       "│ 1   │ 5  │ 7  │ 1  │ 9  │ 4  │ 10 │ 10 │ 6  │ 9  │ 4   │\n",
       "│ 2   │ 10 │ 6  │ 7  │ 1  │ 6  │ 3  │ 6  │ 10 │ 4  │ 10  │\n",
       "│ 3   │ 1  │ 4  │ 3  │ 4  │ 8  │ 1  │ 4  │ 6  │ 5  │ 4   │"
      ]
     },
     "execution_count": 31,
     "metadata": {},
     "output_type": "execute_result"
    }
   ],
   "source": [
    "tail(y, 3)"
   ]
  },
  {
   "cell_type": "markdown",
   "metadata": {},
   "source": [
    "## Handling missing values"
   ]
  },
  {
   "cell_type": "code",
   "execution_count": 32,
   "metadata": {
    "collapsed": false
   },
   "outputs": [
    {
     "data": {
      "text/plain": [
       "(missing, Missings.Missing)"
      ]
     },
     "execution_count": 32,
     "metadata": {},
     "output_type": "execute_result"
    }
   ],
   "source": [
    "missing, typeof(missing) # sinelton type"
   ]
  },
  {
   "cell_type": "code",
   "execution_count": 34,
   "metadata": {
    "collapsed": false
   },
   "outputs": [
    {
     "data": {
      "text/plain": [
       "4-element Array{Union{Int64, Missings.Missing},1}:\n",
       " 1       \n",
       " 2       \n",
       "  missing\n",
       " 3       "
      ]
     },
     "execution_count": 34,
     "metadata": {},
     "output_type": "execute_result"
    }
   ],
   "source": [
    "x = [1, 2, missing, 3] # arrays automatically create an appropriate union type"
   ]
  },
  {
   "cell_type": "code",
   "execution_count": 36,
   "metadata": {
    "collapsed": false
   },
   "outputs": [
    {
     "data": {
      "text/plain": [
       "(false, true, false, Bool[false, false, true, false])"
      ]
     },
     "execution_count": 36,
     "metadata": {},
     "output_type": "execute_result"
    }
   ],
   "source": [
    "ismissing(1), ismissing(missing), ismissing(x), ismissing.(x) # check if variable is missing"
   ]
  },
  {
   "cell_type": "code",
   "execution_count": 37,
   "metadata": {
    "collapsed": false
   },
   "outputs": [
    {
     "data": {
      "text/plain": [
       "(Union{Int64, Missings.Missing}, Int64)"
      ]
     },
     "execution_count": 37,
     "metadata": {},
     "output_type": "execute_result"
    }
   ],
   "source": [
    "eltype(x), Missings.T(eltype(x)) # extract the type combined with Missing (useful for arrays)"
   ]
  },
  {
   "cell_type": "code",
   "execution_count": 43,
   "metadata": {
    "collapsed": false
   },
   "outputs": [
    {
     "data": {
      "text/plain": [
       "(missing, missing, missing)"
      ]
     },
     "execution_count": 43,
     "metadata": {},
     "output_type": "execute_result"
    }
   ],
   "source": [
    "missing == missing, missing != missing, missing < missing # missing comparisons produce missing"
   ]
  },
  {
   "cell_type": "code",
   "execution_count": 50,
   "metadata": {
    "collapsed": false
   },
   "outputs": [
    {
     "data": {
      "text/plain": [
       "(missing, missing, missing)"
      ]
     },
     "execution_count": 50,
     "metadata": {},
     "output_type": "execute_result"
    }
   ],
   "source": [
    "1 == missing, 1 != missing, 1 < missing # the same with values of other types"
   ]
  },
  {
   "cell_type": "code",
   "execution_count": 51,
   "metadata": {
    "collapsed": false
   },
   "outputs": [
    {
     "data": {
      "text/plain": [
       "(true, true, false, true)"
      ]
     },
     "execution_count": 51,
     "metadata": {},
     "output_type": "execute_result"
    }
   ],
   "source": [
    "isequal(missing, missing), missing === missing, isequal(1, missing), isless(1, missing) # those produce Bool result"
   ]
  },
  {
   "cell_type": "code",
   "execution_count": 54,
   "metadata": {
    "collapsed": false
   },
   "outputs": [
    {
     "data": {
      "text/plain": [
       "4-element Array{Missings.Missing,1}:\n",
       " missing\n",
       " missing\n",
       " missing\n",
       " missing"
      ]
     },
     "execution_count": 54,
     "metadata": {},
     "output_type": "execute_result"
    }
   ],
   "source": [
    "map(x -> x(missing), [sin, cos, zero, sqrt]) # many (not all) functions handle missing"
   ]
  },
  {
   "cell_type": "code",
   "execution_count": 56,
   "metadata": {
    "collapsed": false
   },
   "outputs": [
    {
     "data": {
      "text/plain": [
       "5-element Array{Missings.Missing,1}:\n",
       " missing\n",
       " missing\n",
       " missing\n",
       " missing\n",
       " missing"
      ]
     },
     "execution_count": 56,
     "metadata": {},
     "output_type": "execute_result"
    }
   ],
   "source": [
    "map(x -> x(missing, 1), [+, - , *, /, div]) # part 2"
   ]
  },
  {
   "cell_type": "code",
   "execution_count": 68,
   "metadata": {
    "collapsed": false
   },
   "outputs": [
    {
     "data": {
      "text/plain": [
       "6-element Array{Any,1}:\n",
       " missing                                            \n",
       " missing                                            \n",
       " (missing, missing)                                 \n",
       " missing                                            \n",
       " missing                                            \n",
       " Union{Float64, Missings.Missing}[1.0, 2.0, missing]"
      ]
     },
     "execution_count": 68,
     "metadata": {},
     "output_type": "execute_result"
    }
   ],
   "source": [
    "map(x -> x([1,2,missing]), [minimum, maximum, extrema, mean, any, float]) # part 3"
   ]
  },
  {
   "cell_type": "code",
   "execution_count": 63,
   "metadata": {
    "collapsed": false
   },
   "outputs": [
    {
     "data": {
      "text/plain": [
       "2-element Array{Int64,1}:\n",
       " 1\n",
       " 2"
      ]
     },
     "execution_count": 63,
     "metadata": {},
     "output_type": "execute_result"
    }
   ],
   "source": [
    "collect(skipmissing([1, missing, 2, missing])) # skipmissings returns iterator skipping missing values"
   ]
  },
  {
   "cell_type": "code",
   "execution_count": 66,
   "metadata": {
    "collapsed": false
   },
   "outputs": [
    {
     "data": {
      "text/plain": [
       "4-element Array{Float64,1}:\n",
       "   1.0\n",
       " NaN  \n",
       "   2.0\n",
       " NaN  "
      ]
     },
     "execution_count": 66,
     "metadata": {},
     "output_type": "execute_result"
    }
   ],
   "source": [
    "collect(Missings.replace([1.0, missing, 2.0, missing], NaN)) # the same but replacing missings"
   ]
  },
  {
   "cell_type": "code",
   "execution_count": 67,
   "metadata": {
    "collapsed": false
   },
   "outputs": [
    {
     "data": {
      "text/plain": [
       "(Any[1, missing, 2], [1, 2])"
      ]
     },
     "execution_count": 67,
     "metadata": {},
     "output_type": "execute_result"
    }
   ],
   "source": [
    "unique([1, missing, 2, missing]), levels([1, missing, 2, missing]) # get unique values with or without missings"
   ]
  },
  {
   "cell_type": "code",
   "execution_count": null,
   "metadata": {
    "collapsed": true
   },
   "outputs": [],
   "source": []
  }
 ],
 "metadata": {
  "kernelspec": {
   "display_name": "Julia 0.6.0",
   "language": "julia",
   "name": "julia-0.6"
  },
  "language_info": {
   "file_extension": ".jl",
   "mimetype": "application/julia",
   "name": "julia",
   "version": "0.6.1"
  }
 },
 "nbformat": 4,
 "nbformat_minor": 0
}
