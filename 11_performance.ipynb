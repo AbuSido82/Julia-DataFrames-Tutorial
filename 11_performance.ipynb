{
 "cells": [
  {
   "cell_type": "markdown",
   "metadata": {},
   "source": [
    "# Introduction to DataFrames\n",
    "**[Bogumił Kamiński](http://bogumilkaminski.pl/about/), April 27, 2019**"
   ]
  },
  {
   "cell_type": "code",
   "execution_count": 1,
   "metadata": {},
   "outputs": [],
   "source": [
    "using DataFrames\n",
    "using BenchmarkTools"
   ]
  },
  {
   "cell_type": "markdown",
   "metadata": {},
   "source": [
    "## Performance tips"
   ]
  },
  {
   "cell_type": "markdown",
   "metadata": {},
   "source": [
    "### Access by column number is faster than by name"
   ]
  },
  {
   "cell_type": "code",
   "execution_count": 2,
   "metadata": {},
   "outputs": [
    {
     "name": "stdout",
     "output_type": "stream",
     "text": [
      "  4.112 ns (0 allocations: 0 bytes)\n",
      "  13.879 ns (0 allocations: 0 bytes)\n"
     ]
    }
   ],
   "source": [
    "x = DataFrame(rand(5, 1000))\n",
    "@btime $x[500];\n",
    "@btime $x.x500;"
   ]
  },
  {
   "cell_type": "markdown",
   "metadata": {},
   "source": [
    "### When working with data `DataFrame` use barrier functions or type annotation"
   ]
  },
  {
   "cell_type": "code",
   "execution_count": 3,
   "metadata": {},
   "outputs": [
    {
     "name": "stdout",
     "output_type": "stream",
     "text": [
      "  83.589 ms (5999023 allocations: 122.06 MiB)\n"
     ]
    }
   ],
   "source": [
    "using Random\n",
    "function f_bad() # this function will be slow\n",
    "    Random.seed!(1); x = DataFrame(rand(1000000,2))\n",
    "    y, z = x[1], x[2]\n",
    "    p = 0.0\n",
    "    for i in 1:nrow(x)\n",
    "        p += y[i]*z[i]\n",
    "    end\n",
    "    p\n",
    "end\n",
    "\n",
    "@btime f_bad();\n",
    "# if you run @code_warntype f_bad() then you notice\n",
    "# that Julia does not know column types of `DataFrame`\n"
   ]
  },
  {
   "cell_type": "code",
   "execution_count": 4,
   "metadata": {},
   "outputs": [
    {
     "name": "stdout",
     "output_type": "stream",
     "text": [
      "  12.459 ms (45 allocations: 30.52 MiB)\n",
      "  12.350 ms (45 allocations: 30.52 MiB)\n"
     ]
    }
   ],
   "source": [
    "# solution 1 is to use barrier function (it should be possible to use it in almost any code)\n",
    "function f_inner(y,z)\n",
    "   p = 0.0\n",
    "   for i in 1:length(y)\n",
    "       p += y[i]*z[i]\n",
    "   end\n",
    "   p\n",
    "end\n",
    "\n",
    "function f_barrier() # extract the work to an inner function\n",
    "    Random.seed!(1); x = DataFrame(rand(1000000,2))\n",
    "    f_inner(x[1], x[2])\n",
    "end\n",
    "\n",
    "using LinearAlgebra\n",
    "function f_inbuilt() # or use inbuilt function if possible\n",
    "    Random.seed!(1); x = DataFrame(rand(1000000,2))\n",
    "    dot(x[1], x[2])\n",
    "end\n",
    "\n",
    "@btime f_barrier();\n",
    "@btime f_inbuilt();"
   ]
  },
  {
   "cell_type": "code",
   "execution_count": 5,
   "metadata": {},
   "outputs": [
    {
     "name": "stdout",
     "output_type": "stream",
     "text": [
      "  12.330 ms (45 allocations: 30.52 MiB)\n"
     ]
    }
   ],
   "source": [
    "# solution 2 is to provide the types of extracted columns\n",
    "# it is simpler but there are cases in which you will not know these types\n",
    "# This example  assumes that you have DataFrames master at least from August 31, 2018\n",
    "function f_typed()\n",
    "    Random.seed!(1); x = DataFrame(rand(1000000,2))\n",
    "    y::Vector{Float64}, z::Vector{Float64} = x[1], x[2]\n",
    "    p = 0.0\n",
    "    for i in 1:nrow(x)\n",
    "        p += y[i]*z[i]\n",
    "    end\n",
    "    p\n",
    "end\n",
    "\n",
    "@btime f_typed();"
   ]
  },
  {
   "cell_type": "markdown",
   "metadata": {},
   "source": [
    "### Consider using delayed `DataFrame` creation technique"
   ]
  },
  {
   "cell_type": "markdown",
   "metadata": {},
   "source": [
    "also notice the difference in performance between `DataFrame` and `DataFrame!` (copying vs non-copying data frame creation)"
   ]
  },
  {
   "cell_type": "code",
   "execution_count": 6,
   "metadata": {},
   "outputs": [
    {
     "name": "stdout",
     "output_type": "stream",
     "text": [
      "  20.568 ms (1949837 allocations: 37.42 MiB)\n",
      "  23.942 ms (1950037 allocations: 45.06 MiB)\n",
      "  1.632 ms (937 allocations: 7.69 MiB)\n",
      "  2.739 ms (1137 allocations: 15.32 MiB)\n"
     ]
    }
   ],
   "source": [
    "function f1()\n",
    "    x = DataFrame!([Vector{Float64}(undef, 10^4) for i in 1:100]) # we work with a DataFrame directly\n",
    "    for c in 1:ncol(x)\n",
    "        d = x[c]\n",
    "        for r in 1:nrow(x)\n",
    "            d[r] = rand()\n",
    "        end\n",
    "    end\n",
    "    x\n",
    "end\n",
    "\n",
    "function f1a()\n",
    "    x = DataFrame([Vector{Float64}(undef, 10^4) for i in 1:100]) # we work with a DataFrame directly\n",
    "    for c in 1:ncol(x)\n",
    "        d = x[c]\n",
    "        for r in 1:nrow(x)\n",
    "            d[r] = rand()\n",
    "        end\n",
    "    end\n",
    "    x\n",
    "end\n",
    "\n",
    "function f2()\n",
    "    x = Vector{Any}(undef, 100)\n",
    "    for c in 1:length(x)\n",
    "        d = Vector{Float64}(undef, 10^4)\n",
    "        for r in 1:length(d)\n",
    "            d[r] = rand()\n",
    "        end\n",
    "        x[c] = d\n",
    "    end\n",
    "    DataFrame!(x) # we delay creation of DataFrame after we have our job done\n",
    "end\n",
    "\n",
    "function f2a()\n",
    "    x = Vector{Any}(undef, 100)\n",
    "    for c in 1:length(x)\n",
    "        d = Vector{Float64}(undef, 10^4)\n",
    "        for r in 1:length(d)\n",
    "            d[r] = rand()\n",
    "        end\n",
    "        x[c] = d\n",
    "    end\n",
    "    DataFrame(x) # we delay creation of DataFrame after we have our job done\n",
    "end\n",
    "\n",
    "@btime f1();\n",
    "@btime f1a();\n",
    "@btime f2();\n",
    "@btime f2a();"
   ]
  },
  {
   "cell_type": "markdown",
   "metadata": {},
   "source": [
    "### You can add rows to a `DataFrame` in place and it is fast"
   ]
  },
  {
   "cell_type": "code",
   "execution_count": 7,
   "metadata": {},
   "outputs": [
    {
     "name": "stdout",
     "output_type": "stream",
     "text": [
      "  14.224 ms (175 allocations: 38.16 MiB)\n",
      "  172.509 ns (1 allocation: 16 bytes)\n",
      "  199.227 ns (5 allocations: 80 bytes)\n"
     ]
    }
   ],
   "source": [
    "x = DataFrame(rand(10^6, 5))\n",
    "y = DataFrame(transpose(1.0:5.0))\n",
    "z = [1.0:5.0;]\n",
    "\n",
    "@btime vcat($x, $y); # creates a new DataFrame - slow\n",
    "@btime append!($x, $y); # in place - fast\n",
    "\n",
    "x = DataFrame(rand(10^6, 5)) # reset to the same starting point\n",
    "@btime push!($x, $z); # add a single row in place - fast"
   ]
  },
  {
   "cell_type": "markdown",
   "metadata": {},
   "source": [
    "### Allowing `missing` as well as `categorical` slows down computations"
   ]
  },
  {
   "cell_type": "code",
   "execution_count": 8,
   "metadata": {},
   "outputs": [
    {
     "name": "stdout",
     "output_type": "stream",
     "text": [
      "Int64\n",
      " raw:\n",
      "  4.660 ms (7 allocations: 7.63 MiB)\n",
      " categorical:\n",
      "  18.671 ms (4 allocations: 608 bytes)\n",
      "String\n",
      " raw:\n",
      "  23.233 ms (4 allocations: 608 bytes)\n",
      " categorical:\n",
      "  28.929 ms (4 allocations: 608 bytes)\n",
      "Union{Missing, Int64}\n",
      " raw:\n",
      "  10.270 ms (4 allocations: 624 bytes)\n",
      " categorical:\n",
      "  18.987 ms (4 allocations: 608 bytes)\n",
      "Union{Missing, String}\n",
      " raw:\n",
      "  19.391 ms (4 allocations: 608 bytes)\n",
      " categorical:\n",
      "  30.102 ms (4 allocations: 608 bytes)\n"
     ]
    }
   ],
   "source": [
    "using StatsBase\n",
    "\n",
    "function test(data) # uses countmap function to test performance\n",
    "    println(eltype(data))\n",
    "    x = rand(data, 10^6)\n",
    "    y = categorical(x)\n",
    "    println(\" raw:\")\n",
    "    @btime countmap($x)\n",
    "    println(\" categorical:\")\n",
    "    @btime countmap($y)\n",
    "    nothing\n",
    "end\n",
    "\n",
    "test(1:10)\n",
    "test([randstring() for i in 1:10])\n",
    "test(allowmissing(1:10))\n",
    "test(allowmissing([randstring() for i in 1:10]))\n"
   ]
  },
  {
   "cell_type": "markdown",
   "metadata": {},
   "source": [
    "### When aggregating use column selector and prefer categorical or pooled array grouping variable"
   ]
  },
  {
   "cell_type": "code",
   "execution_count": 9,
   "metadata": {},
   "outputs": [],
   "source": [
    "df = DataFrame(x=rand('a':'d', 10^7), y=1);"
   ]
  },
  {
   "cell_type": "code",
   "execution_count": 10,
   "metadata": {},
   "outputs": [
    {
     "name": "stdout",
     "output_type": "stream",
     "text": [
      "  353.072 ms (192 allocations: 471.33 MiB)\n"
     ]
    },
    {
     "data": {
      "text/html": [
       "<table class=\"data-frame\"><thead><tr><th></th><th>x</th><th>x1</th></tr><tr><th></th><th>Char</th><th>Int64</th></tr></thead><tbody><p>4 rows × 2 columns</p><tr><th>1</th><td>'b'</td><td>2498764</td></tr><tr><th>2</th><td>'d'</td><td>2499255</td></tr><tr><th>3</th><td>'a'</td><td>2500996</td></tr><tr><th>4</th><td>'c'</td><td>2500985</td></tr></tbody></table>"
      ],
      "text/latex": [
       "\\begin{tabular}{r|cc}\n",
       "\t& x & x1\\\\\n",
       "\t\\hline\n",
       "\t& Char & Int64\\\\\n",
       "\t\\hline\n",
       "\t1 & 'b' & 2498764 \\\\\n",
       "\t2 & 'd' & 2499255 \\\\\n",
       "\t3 & 'a' & 2500996 \\\\\n",
       "\t4 & 'c' & 2500985 \\\\\n",
       "\\end{tabular}\n"
      ],
      "text/plain": [
       "4×2 DataFrame\n",
       "│ Row │ x    │ x1      │\n",
       "│     │ \u001b[90mChar\u001b[39m │ \u001b[90mInt64\u001b[39m   │\n",
       "├─────┼──────┼─────────┤\n",
       "│ 1   │ 'b'  │ 2498764 │\n",
       "│ 2   │ 'd'  │ 2499255 │\n",
       "│ 3   │ 'a'  │ 2500996 │\n",
       "│ 4   │ 'c'  │ 2500985 │"
      ]
     },
     "execution_count": 10,
     "metadata": {},
     "output_type": "execute_result"
    }
   ],
   "source": [
    "@btime by($df, :x, v -> sum(v.y)) # traditional syntax, slow"
   ]
  },
  {
   "cell_type": "code",
   "execution_count": 11,
   "metadata": {},
   "outputs": [
    {
     "name": "stdout",
     "output_type": "stream",
     "text": [
      "  216.236 ms (152 allocations: 395.04 MiB)\n"
     ]
    },
    {
     "data": {
      "text/html": [
       "<table class=\"data-frame\"><thead><tr><th></th><th>x</th><th>y_sum</th></tr><tr><th></th><th>Char</th><th>Int64</th></tr></thead><tbody><p>4 rows × 2 columns</p><tr><th>1</th><td>'b'</td><td>2498764</td></tr><tr><th>2</th><td>'d'</td><td>2499255</td></tr><tr><th>3</th><td>'a'</td><td>2500996</td></tr><tr><th>4</th><td>'c'</td><td>2500985</td></tr></tbody></table>"
      ],
      "text/latex": [
       "\\begin{tabular}{r|cc}\n",
       "\t& x & y\\_sum\\\\\n",
       "\t\\hline\n",
       "\t& Char & Int64\\\\\n",
       "\t\\hline\n",
       "\t1 & 'b' & 2498764 \\\\\n",
       "\t2 & 'd' & 2499255 \\\\\n",
       "\t3 & 'a' & 2500996 \\\\\n",
       "\t4 & 'c' & 2500985 \\\\\n",
       "\\end{tabular}\n"
      ],
      "text/plain": [
       "4×2 DataFrame\n",
       "│ Row │ x    │ y_sum   │\n",
       "│     │ \u001b[90mChar\u001b[39m │ \u001b[90mInt64\u001b[39m   │\n",
       "├─────┼──────┼─────────┤\n",
       "│ 1   │ 'b'  │ 2498764 │\n",
       "│ 2   │ 'd'  │ 2499255 │\n",
       "│ 3   │ 'a'  │ 2500996 │\n",
       "│ 4   │ 'c'  │ 2500985 │"
      ]
     },
     "execution_count": 11,
     "metadata": {},
     "output_type": "execute_result"
    }
   ],
   "source": [
    "@btime by($df, :x, :y=>sum) # use column selector"
   ]
  },
  {
   "cell_type": "code",
   "execution_count": 12,
   "metadata": {},
   "outputs": [],
   "source": [
    "categorical!(df, :x);"
   ]
  },
  {
   "cell_type": "code",
   "execution_count": 13,
   "metadata": {},
   "outputs": [
    {
     "name": "stdout",
     "output_type": "stream",
     "text": [
      "  110.713 ms (187 allocations: 190.75 MiB)\n"
     ]
    },
    {
     "data": {
      "text/html": [
       "<table class=\"data-frame\"><thead><tr><th></th><th>x</th><th>y_sum</th></tr><tr><th></th><th>Categorical…</th><th>Int64</th></tr></thead><tbody><p>4 rows × 2 columns</p><tr><th>1</th><td>'a'</td><td>2500996</td></tr><tr><th>2</th><td>'b'</td><td>2498764</td></tr><tr><th>3</th><td>'c'</td><td>2500985</td></tr><tr><th>4</th><td>'d'</td><td>2499255</td></tr></tbody></table>"
      ],
      "text/latex": [
       "\\begin{tabular}{r|cc}\n",
       "\t& x & y\\_sum\\\\\n",
       "\t\\hline\n",
       "\t& Categorical… & Int64\\\\\n",
       "\t\\hline\n",
       "\t1 & 'a' & 2500996 \\\\\n",
       "\t2 & 'b' & 2498764 \\\\\n",
       "\t3 & 'c' & 2500985 \\\\\n",
       "\t4 & 'd' & 2499255 \\\\\n",
       "\\end{tabular}\n"
      ],
      "text/plain": [
       "4×2 DataFrame\n",
       "│ Row │ x            │ y_sum   │\n",
       "│     │ \u001b[90mCategorical…\u001b[39m │ \u001b[90mInt64\u001b[39m   │\n",
       "├─────┼──────────────┼─────────┤\n",
       "│ 1   │ 'a'          │ 2500996 │\n",
       "│ 2   │ 'b'          │ 2498764 │\n",
       "│ 3   │ 'c'          │ 2500985 │\n",
       "│ 4   │ 'd'          │ 2499255 │"
      ]
     },
     "execution_count": 13,
     "metadata": {},
     "output_type": "execute_result"
    }
   ],
   "source": [
    "@btime by($df, :x, :y=>sum)"
   ]
  },
  {
   "cell_type": "code",
   "execution_count": 14,
   "metadata": {},
   "outputs": [],
   "source": [
    "using PooledArrays"
   ]
  },
  {
   "cell_type": "code",
   "execution_count": 15,
   "metadata": {},
   "outputs": [
    {
     "data": {
      "text/plain": [
       "10000000-element PooledArray{Char,UInt8,1,Array{UInt8,1}}:\n",
       " 'b'\n",
       " 'd'\n",
       " 'a'\n",
       " 'd'\n",
       " 'b'\n",
       " 'c'\n",
       " 'a'\n",
       " 'd'\n",
       " 'c'\n",
       " 'a'\n",
       " 'c'\n",
       " 'c'\n",
       " 'a'\n",
       " ⋮  \n",
       " 'b'\n",
       " 'b'\n",
       " 'b'\n",
       " 'b'\n",
       " 'd'\n",
       " 'c'\n",
       " 'a'\n",
       " 'a'\n",
       " 'b'\n",
       " 'b'\n",
       " 'c'\n",
       " 'c'"
      ]
     },
     "execution_count": 15,
     "metadata": {},
     "output_type": "execute_result"
    }
   ],
   "source": [
    "df.x = PooledArray{Char}(df.x)"
   ]
  },
  {
   "cell_type": "code",
   "execution_count": 16,
   "metadata": {},
   "outputs": [
    {
     "name": "stdout",
     "output_type": "stream",
     "text": [
      "  128.121 ms (167 allocations: 162.14 MiB)\n"
     ]
    },
    {
     "data": {
      "text/html": [
       "<table class=\"data-frame\"><thead><tr><th></th><th>x</th><th>y_sum</th></tr><tr><th></th><th>Char</th><th>Int64</th></tr></thead><tbody><p>4 rows × 2 columns</p><tr><th>1</th><td>'b'</td><td>2498764</td></tr><tr><th>2</th><td>'d'</td><td>2499255</td></tr><tr><th>3</th><td>'a'</td><td>2500996</td></tr><tr><th>4</th><td>'c'</td><td>2500985</td></tr></tbody></table>"
      ],
      "text/latex": [
       "\\begin{tabular}{r|cc}\n",
       "\t& x & y\\_sum\\\\\n",
       "\t\\hline\n",
       "\t& Char & Int64\\\\\n",
       "\t\\hline\n",
       "\t1 & 'b' & 2498764 \\\\\n",
       "\t2 & 'd' & 2499255 \\\\\n",
       "\t3 & 'a' & 2500996 \\\\\n",
       "\t4 & 'c' & 2500985 \\\\\n",
       "\\end{tabular}\n"
      ],
      "text/plain": [
       "4×2 DataFrame\n",
       "│ Row │ x    │ y_sum   │\n",
       "│     │ \u001b[90mChar\u001b[39m │ \u001b[90mInt64\u001b[39m   │\n",
       "├─────┼──────┼─────────┤\n",
       "│ 1   │ 'b'  │ 2498764 │\n",
       "│ 2   │ 'd'  │ 2499255 │\n",
       "│ 3   │ 'a'  │ 2500996 │\n",
       "│ 4   │ 'c'  │ 2500985 │"
      ]
     },
     "execution_count": 16,
     "metadata": {},
     "output_type": "execute_result"
    }
   ],
   "source": [
    "@btime by($df, :x, :y=>sum)"
   ]
  },
  {
   "cell_type": "markdown",
   "metadata": {},
   "source": [
    "### Use views instead of materializing a new DataFrame"
   ]
  },
  {
   "cell_type": "code",
   "execution_count": 17,
   "metadata": {},
   "outputs": [
    {
     "data": {
      "text/html": [
       "<table class=\"data-frame\"><thead><tr><th></th><th>x1</th><th>x2</th><th>x3</th><th>x4</th><th>x5</th><th>x6</th><th>x7</th></tr><tr><th></th><th>Float64</th><th>Float64</th><th>Float64</th><th>Float64</th><th>Float64</th><th>Float64</th><th>Float64</th></tr></thead><tbody><p>100 rows × 1,000 columns (omitted printing of 993 columns)</p><tr><th>1</th><td>0.469427</td><td>0.893605</td><td>0.348301</td><td>0.189853</td><td>0.602694</td><td>0.427064</td><td>0.120058</td></tr><tr><th>2</th><td>0.774187</td><td>0.356867</td><td>0.885526</td><td>0.11275</td><td>0.780669</td><td>0.593082</td><td>0.939199</td></tr><tr><th>3</th><td>0.609714</td><td>0.288531</td><td>0.355283</td><td>0.480804</td><td>0.593935</td><td>0.893138</td><td>0.99899</td></tr><tr><th>4</th><td>0.694783</td><td>0.570324</td><td>0.0789985</td><td>0.818004</td><td>0.554942</td><td>0.0996372</td><td>0.861696</td></tr><tr><th>5</th><td>0.791302</td><td>0.905282</td><td>0.117797</td><td>0.406855</td><td>0.681548</td><td>0.819496</td><td>0.0545339</td></tr><tr><th>6</th><td>0.0740549</td><td>0.679826</td><td>0.168822</td><td>0.518838</td><td>0.335502</td><td>0.565356</td><td>0.819869</td></tr><tr><th>7</th><td>0.621834</td><td>0.759774</td><td>0.562538</td><td>0.560436</td><td>0.269123</td><td>0.340253</td><td>0.532622</td></tr><tr><th>8</th><td>0.1039</td><td>0.919697</td><td>0.418945</td><td>0.813356</td><td>0.716439</td><td>0.545716</td><td>0.783745</td></tr><tr><th>9</th><td>0.954089</td><td>0.808411</td><td>0.0782112</td><td>0.154967</td><td>0.730512</td><td>0.57385</td><td>0.0323516</td></tr><tr><th>10</th><td>0.484041</td><td>0.0670306</td><td>0.568193</td><td>0.236212</td><td>0.648555</td><td>0.282126</td><td>0.819354</td></tr><tr><th>11</th><td>0.610301</td><td>0.553308</td><td>0.464705</td><td>0.2572</td><td>0.327319</td><td>0.928381</td><td>0.677589</td></tr><tr><th>12</th><td>0.671759</td><td>0.0358856</td><td>0.662134</td><td>0.52969</td><td>0.199269</td><td>0.884487</td><td>0.724972</td></tr><tr><th>13</th><td>0.91624</td><td>0.985905</td><td>0.430527</td><td>0.582321</td><td>0.635674</td><td>0.514479</td><td>0.398271</td></tr><tr><th>14</th><td>0.598099</td><td>0.073587</td><td>0.811309</td><td>0.464078</td><td>0.043888</td><td>0.449827</td><td>0.823583</td></tr><tr><th>15</th><td>0.108107</td><td>0.993988</td><td>0.474159</td><td>0.553098</td><td>0.86545</td><td>0.796407</td><td>0.58157</td></tr><tr><th>16</th><td>0.877811</td><td>0.234663</td><td>0.780657</td><td>0.426909</td><td>0.572277</td><td>0.217617</td><td>0.0395133</td></tr><tr><th>17</th><td>0.888415</td><td>0.28329</td><td>0.695983</td><td>0.447424</td><td>0.0684627</td><td>0.427942</td><td>0.117392</td></tr><tr><th>18</th><td>0.475098</td><td>0.708805</td><td>0.000950559</td><td>0.620568</td><td>0.788072</td><td>0.983017</td><td>0.487377</td></tr><tr><th>19</th><td>0.569646</td><td>0.530991</td><td>0.414847</td><td>0.575629</td><td>0.735323</td><td>0.870151</td><td>0.639259</td></tr><tr><th>20</th><td>0.282279</td><td>0.686557</td><td>0.759713</td><td>0.442214</td><td>0.878599</td><td>0.771261</td><td>0.962957</td></tr><tr><th>21</th><td>0.621119</td><td>0.277282</td><td>0.659875</td><td>0.770778</td><td>0.0339144</td><td>0.901382</td><td>0.614408</td></tr><tr><th>22</th><td>0.00578011</td><td>0.490124</td><td>0.158736</td><td>0.0548638</td><td>0.547278</td><td>0.334688</td><td>0.645415</td></tr><tr><th>23</th><td>0.336331</td><td>0.833446</td><td>0.990959</td><td>0.819531</td><td>0.744571</td><td>0.894532</td><td>0.259292</td></tr><tr><th>24</th><td>0.818868</td><td>0.122261</td><td>0.449699</td><td>0.997103</td><td>0.991652</td><td>0.0650257</td><td>0.985957</td></tr><tr><th>25</th><td>0.751488</td><td>0.0348871</td><td>0.442447</td><td>0.811686</td><td>0.617123</td><td>0.600312</td><td>0.0492889</td></tr><tr><th>26</th><td>0.289911</td><td>0.468436</td><td>0.296111</td><td>0.309392</td><td>0.639848</td><td>0.228368</td><td>0.197872</td></tr><tr><th>27</th><td>0.246239</td><td>0.137146</td><td>0.219654</td><td>0.631327</td><td>0.151176</td><td>0.247654</td><td>0.591798</td></tr><tr><th>28</th><td>0.551238</td><td>0.785143</td><td>0.383137</td><td>0.160481</td><td>0.575538</td><td>0.212515</td><td>0.132044</td></tr><tr><th>29</th><td>0.00790199</td><td>0.243278</td><td>0.296137</td><td>0.950761</td><td>0.507507</td><td>0.895889</td><td>0.582313</td></tr><tr><th>30</th><td>0.648146</td><td>0.721099</td><td>0.987836</td><td>0.804139</td><td>0.0243184</td><td>0.460729</td><td>0.726689</td></tr><tr><th>&vellip;</th><td>&vellip;</td><td>&vellip;</td><td>&vellip;</td><td>&vellip;</td><td>&vellip;</td><td>&vellip;</td><td>&vellip;</td></tr></tbody></table>"
      ],
      "text/latex": [
       "\\begin{tabular}{r|cccccccc}\n",
       "\t& x1 & x2 & x3 & x4 & x5 & x6 & x7 & \\\\\n",
       "\t\\hline\n",
       "\t& Float64 & Float64 & Float64 & Float64 & Float64 & Float64 & Float64 & \\\\\n",
       "\t\\hline\n",
       "\t1 & 0.469427 & 0.893605 & 0.348301 & 0.189853 & 0.602694 & 0.427064 & 0.120058 & $\\dots$ \\\\\n",
       "\t2 & 0.774187 & 0.356867 & 0.885526 & 0.11275 & 0.780669 & 0.593082 & 0.939199 & $\\dots$ \\\\\n",
       "\t3 & 0.609714 & 0.288531 & 0.355283 & 0.480804 & 0.593935 & 0.893138 & 0.99899 & $\\dots$ \\\\\n",
       "\t4 & 0.694783 & 0.570324 & 0.0789985 & 0.818004 & 0.554942 & 0.0996372 & 0.861696 & $\\dots$ \\\\\n",
       "\t5 & 0.791302 & 0.905282 & 0.117797 & 0.406855 & 0.681548 & 0.819496 & 0.0545339 & $\\dots$ \\\\\n",
       "\t6 & 0.0740549 & 0.679826 & 0.168822 & 0.518838 & 0.335502 & 0.565356 & 0.819869 & $\\dots$ \\\\\n",
       "\t7 & 0.621834 & 0.759774 & 0.562538 & 0.560436 & 0.269123 & 0.340253 & 0.532622 & $\\dots$ \\\\\n",
       "\t8 & 0.1039 & 0.919697 & 0.418945 & 0.813356 & 0.716439 & 0.545716 & 0.783745 & $\\dots$ \\\\\n",
       "\t9 & 0.954089 & 0.808411 & 0.0782112 & 0.154967 & 0.730512 & 0.57385 & 0.0323516 & $\\dots$ \\\\\n",
       "\t10 & 0.484041 & 0.0670306 & 0.568193 & 0.236212 & 0.648555 & 0.282126 & 0.819354 & $\\dots$ \\\\\n",
       "\t11 & 0.610301 & 0.553308 & 0.464705 & 0.2572 & 0.327319 & 0.928381 & 0.677589 & $\\dots$ \\\\\n",
       "\t12 & 0.671759 & 0.0358856 & 0.662134 & 0.52969 & 0.199269 & 0.884487 & 0.724972 & $\\dots$ \\\\\n",
       "\t13 & 0.91624 & 0.985905 & 0.430527 & 0.582321 & 0.635674 & 0.514479 & 0.398271 & $\\dots$ \\\\\n",
       "\t14 & 0.598099 & 0.073587 & 0.811309 & 0.464078 & 0.043888 & 0.449827 & 0.823583 & $\\dots$ \\\\\n",
       "\t15 & 0.108107 & 0.993988 & 0.474159 & 0.553098 & 0.86545 & 0.796407 & 0.58157 & $\\dots$ \\\\\n",
       "\t16 & 0.877811 & 0.234663 & 0.780657 & 0.426909 & 0.572277 & 0.217617 & 0.0395133 & $\\dots$ \\\\\n",
       "\t17 & 0.888415 & 0.28329 & 0.695983 & 0.447424 & 0.0684627 & 0.427942 & 0.117392 & $\\dots$ \\\\\n",
       "\t18 & 0.475098 & 0.708805 & 0.000950559 & 0.620568 & 0.788072 & 0.983017 & 0.487377 & $\\dots$ \\\\\n",
       "\t19 & 0.569646 & 0.530991 & 0.414847 & 0.575629 & 0.735323 & 0.870151 & 0.639259 & $\\dots$ \\\\\n",
       "\t20 & 0.282279 & 0.686557 & 0.759713 & 0.442214 & 0.878599 & 0.771261 & 0.962957 & $\\dots$ \\\\\n",
       "\t21 & 0.621119 & 0.277282 & 0.659875 & 0.770778 & 0.0339144 & 0.901382 & 0.614408 & $\\dots$ \\\\\n",
       "\t22 & 0.00578011 & 0.490124 & 0.158736 & 0.0548638 & 0.547278 & 0.334688 & 0.645415 & $\\dots$ \\\\\n",
       "\t23 & 0.336331 & 0.833446 & 0.990959 & 0.819531 & 0.744571 & 0.894532 & 0.259292 & $\\dots$ \\\\\n",
       "\t24 & 0.818868 & 0.122261 & 0.449699 & 0.997103 & 0.991652 & 0.0650257 & 0.985957 & $\\dots$ \\\\\n",
       "\t25 & 0.751488 & 0.0348871 & 0.442447 & 0.811686 & 0.617123 & 0.600312 & 0.0492889 & $\\dots$ \\\\\n",
       "\t26 & 0.289911 & 0.468436 & 0.296111 & 0.309392 & 0.639848 & 0.228368 & 0.197872 & $\\dots$ \\\\\n",
       "\t27 & 0.246239 & 0.137146 & 0.219654 & 0.631327 & 0.151176 & 0.247654 & 0.591798 & $\\dots$ \\\\\n",
       "\t28 & 0.551238 & 0.785143 & 0.383137 & 0.160481 & 0.575538 & 0.212515 & 0.132044 & $\\dots$ \\\\\n",
       "\t29 & 0.00790199 & 0.243278 & 0.296137 & 0.950761 & 0.507507 & 0.895889 & 0.582313 & $\\dots$ \\\\\n",
       "\t30 & 0.648146 & 0.721099 & 0.987836 & 0.804139 & 0.0243184 & 0.460729 & 0.726689 & $\\dots$ \\\\\n",
       "\t$\\dots$ & $\\dots$ & $\\dots$ & $\\dots$ & $\\dots$ & $\\dots$ & $\\dots$ & $\\dots$ &  \\\\\n",
       "\\end{tabular}\n"
      ],
      "text/plain": [
       "100×1000 DataFrame. Omitted printing of 994 columns\n",
       "│ Row │ x1        │ x2        │ x3        │ x4         │ x5        │ x6        │\n",
       "│     │ \u001b[90mFloat64\u001b[39m   │ \u001b[90mFloat64\u001b[39m   │ \u001b[90mFloat64\u001b[39m   │ \u001b[90mFloat64\u001b[39m    │ \u001b[90mFloat64\u001b[39m   │ \u001b[90mFloat64\u001b[39m   │\n",
       "├─────┼───────────┼───────────┼───────────┼────────────┼───────────┼───────────┤\n",
       "│ 1   │ 0.469427  │ 0.893605  │ 0.348301  │ 0.189853   │ 0.602694  │ 0.427064  │\n",
       "│ 2   │ 0.774187  │ 0.356867  │ 0.885526  │ 0.11275    │ 0.780669  │ 0.593082  │\n",
       "│ 3   │ 0.609714  │ 0.288531  │ 0.355283  │ 0.480804   │ 0.593935  │ 0.893138  │\n",
       "│ 4   │ 0.694783  │ 0.570324  │ 0.0789985 │ 0.818004   │ 0.554942  │ 0.0996372 │\n",
       "│ 5   │ 0.791302  │ 0.905282  │ 0.117797  │ 0.406855   │ 0.681548  │ 0.819496  │\n",
       "│ 6   │ 0.0740549 │ 0.679826  │ 0.168822  │ 0.518838   │ 0.335502  │ 0.565356  │\n",
       "│ 7   │ 0.621834  │ 0.759774  │ 0.562538  │ 0.560436   │ 0.269123  │ 0.340253  │\n",
       "│ 8   │ 0.1039    │ 0.919697  │ 0.418945  │ 0.813356   │ 0.716439  │ 0.545716  │\n",
       "│ 9   │ 0.954089  │ 0.808411  │ 0.0782112 │ 0.154967   │ 0.730512  │ 0.57385   │\n",
       "│ 10  │ 0.484041  │ 0.0670306 │ 0.568193  │ 0.236212   │ 0.648555  │ 0.282126  │\n",
       "⋮\n",
       "│ 90  │ 0.821432  │ 0.225739  │ 0.141465  │ 0.575822   │ 0.254692  │ 0.419062  │\n",
       "│ 91  │ 0.202556  │ 0.127388  │ 0.19081   │ 0.404601   │ 0.530942  │ 0.608409  │\n",
       "│ 92  │ 0.937518  │ 0.221761  │ 0.411655  │ 0.79638    │ 0.869549  │ 0.10569   │\n",
       "│ 93  │ 0.0948212 │ 0.397172  │ 0.186674  │ 0.112636   │ 0.340852  │ 0.385897  │\n",
       "│ 94  │ 0.795611  │ 0.322295  │ 0.24501   │ 0.852741   │ 0.513223  │ 0.746023  │\n",
       "│ 95  │ 0.616807  │ 0.643675  │ 0.818222  │ 0.452144   │ 0.577498  │ 0.0275389 │\n",
       "│ 96  │ 0.941877  │ 0.274469  │ 0.568364  │ 0.673138   │ 0.498849  │ 0.0177696 │\n",
       "│ 97  │ 0.690393  │ 0.911381  │ 0.958798  │ 0.115693   │ 0.208621  │ 0.433634  │\n",
       "│ 98  │ 0.41313   │ 0.341462  │ 0.504511  │ 0.37107    │ 0.0769661 │ 0.127312  │\n",
       "│ 99  │ 0.368159  │ 0.517769  │ 0.455241  │ 0.00631866 │ 0.150526  │ 0.379844  │\n",
       "│ 100 │ 0.200116  │ 0.231079  │ 0.972762  │ 0.848786   │ 0.203343  │ 0.12242   │"
      ]
     },
     "execution_count": 17,
     "metadata": {},
     "output_type": "execute_result"
    }
   ],
   "source": [
    "x = DataFrame(rand(100, 1000))"
   ]
  },
  {
   "cell_type": "code",
   "execution_count": 18,
   "metadata": {},
   "outputs": [
    {
     "name": "stdout",
     "output_type": "stream",
     "text": [
      "  143.422 μs (1511 allocations: 194.41 KiB)\n"
     ]
    },
    {
     "data": {
      "text/html": [
       "<table class=\"data-frame\"><thead><tr><th></th><th>x1</th><th>x2</th><th>x3</th><th>x4</th><th>x5</th><th>x6</th><th>x7</th><th>x8</th></tr><tr><th></th><th>Float64</th><th>Float64</th><th>Float64</th><th>Float64</th><th>Float64</th><th>Float64</th><th>Float64</th><th>Float64</th></tr></thead><tbody><p>1 rows × 1,000 columns (omitted printing of 992 columns)</p><tr><th>1</th><td>0.469427</td><td>0.893605</td><td>0.348301</td><td>0.189853</td><td>0.602694</td><td>0.427064</td><td>0.120058</td><td>0.403865</td></tr></tbody></table>"
      ],
      "text/latex": [
       "\\begin{tabular}{r|ccccccccc}\n",
       "\t& x1 & x2 & x3 & x4 & x5 & x6 & x7 & x8 & \\\\\n",
       "\t\\hline\n",
       "\t& Float64 & Float64 & Float64 & Float64 & Float64 & Float64 & Float64 & Float64 & \\\\\n",
       "\t\\hline\n",
       "\t1 & 0.469427 & 0.893605 & 0.348301 & 0.189853 & 0.602694 & 0.427064 & 0.120058 & 0.403865 & $\\dots$ \\\\\n",
       "\\end{tabular}\n"
      ],
      "text/plain": [
       "1×1000 DataFrame. Omitted printing of 994 columns\n",
       "│ Row │ x1       │ x2       │ x3       │ x4       │ x5       │ x6       │\n",
       "│     │ \u001b[90mFloat64\u001b[39m  │ \u001b[90mFloat64\u001b[39m  │ \u001b[90mFloat64\u001b[39m  │ \u001b[90mFloat64\u001b[39m  │ \u001b[90mFloat64\u001b[39m  │ \u001b[90mFloat64\u001b[39m  │\n",
       "├─────┼──────────┼──────────┼──────────┼──────────┼──────────┼──────────┤\n",
       "│ 1   │ 0.469427 │ 0.893605 │ 0.348301 │ 0.189853 │ 0.602694 │ 0.427064 │"
      ]
     },
     "execution_count": 18,
     "metadata": {},
     "output_type": "execute_result"
    }
   ],
   "source": [
    "@btime $x[1:1, :]"
   ]
  },
  {
   "cell_type": "code",
   "execution_count": 19,
   "metadata": {},
   "outputs": [
    {
     "name": "stdout",
     "output_type": "stream",
     "text": [
      "  22.618 ns (1 allocation: 32 bytes)\n"
     ]
    },
    {
     "data": {
      "text/html": [
       "<p>DataFrameRow</p><table class=\"data-frame\"><thead><tr><th></th><th>x1</th><th>x2</th><th>x3</th><th>x4</th><th>x5</th><th>x6</th><th>x7</th><th>x8</th></tr><tr><th></th><th>Float64</th><th>Float64</th><th>Float64</th><th>Float64</th><th>Float64</th><th>Float64</th><th>Float64</th><th>Float64</th></tr></thead><tbody><p>1 rows × 1,000 columns (omitted printing of 992 columns)</p><tr><th>1</th><td>0.469427</td><td>0.893605</td><td>0.348301</td><td>0.189853</td><td>0.602694</td><td>0.427064</td><td>0.120058</td><td>0.403865</td></tr></tbody></table>"
      ],
      "text/latex": [
       "\\begin{tabular}{r|ccccccccc}\n",
       "\t& x1 & x2 & x3 & x4 & x5 & x6 & x7 & x8 & \\\\\n",
       "\t\\hline\n",
       "\t& Float64 & Float64 & Float64 & Float64 & Float64 & Float64 & Float64 & Float64 & \\\\\n",
       "\t\\hline\n",
       "\t1 & 0.469427 & 0.893605 & 0.348301 & 0.189853 & 0.602694 & 0.427064 & 0.120058 & 0.403865 & $\\dots$ \\\\\n",
       "\\end{tabular}\n"
      ],
      "text/plain": [
       "DataFrameRow. Omitted printing of 994 columns\n",
       "│ Row │ x1       │ x2       │ x3       │ x4       │ x5       │ x6       │\n",
       "│     │ \u001b[90mFloat64\u001b[39m  │ \u001b[90mFloat64\u001b[39m  │ \u001b[90mFloat64\u001b[39m  │ \u001b[90mFloat64\u001b[39m  │ \u001b[90mFloat64\u001b[39m  │ \u001b[90mFloat64\u001b[39m  │\n",
       "├─────┼──────────┼──────────┼──────────┼──────────┼──────────┼──────────┤\n",
       "│ 1   │ 0.469427 │ 0.893605 │ 0.348301 │ 0.189853 │ 0.602694 │ 0.427064 │"
      ]
     },
     "execution_count": 19,
     "metadata": {},
     "output_type": "execute_result"
    }
   ],
   "source": [
    "@btime $x[1, :]"
   ]
  },
  {
   "cell_type": "code",
   "execution_count": 20,
   "metadata": {},
   "outputs": [
    {
     "name": "stdout",
     "output_type": "stream",
     "text": [
      "  23.132 ns (1 allocation: 48 bytes)\n"
     ]
    },
    {
     "data": {
      "text/html": [
       "<table class=\"data-frame\"><thead><tr><th></th><th>x1</th><th>x2</th><th>x3</th><th>x4</th><th>x5</th><th>x6</th><th>x7</th><th>x8</th></tr><tr><th></th><th>Float64</th><th>Float64</th><th>Float64</th><th>Float64</th><th>Float64</th><th>Float64</th><th>Float64</th><th>Float64</th></tr></thead><tbody><p>1 rows × 1,000 columns (omitted printing of 992 columns)</p><tr><th>1</th><td>0.469427</td><td>0.893605</td><td>0.348301</td><td>0.189853</td><td>0.602694</td><td>0.427064</td><td>0.120058</td><td>0.403865</td></tr></tbody></table>"
      ],
      "text/latex": [
       "\\begin{tabular}{r|ccccccccc}\n",
       "\t& x1 & x2 & x3 & x4 & x5 & x6 & x7 & x8 & \\\\\n",
       "\t\\hline\n",
       "\t& Float64 & Float64 & Float64 & Float64 & Float64 & Float64 & Float64 & Float64 & \\\\\n",
       "\t\\hline\n",
       "\t1 & 0.469427 & 0.893605 & 0.348301 & 0.189853 & 0.602694 & 0.427064 & 0.120058 & 0.403865 & $\\dots$ \\\\\n",
       "\\end{tabular}\n"
      ],
      "text/plain": [
       "1×1000 SubDataFrame. Omitted printing of 994 columns\n",
       "│ Row │ x1       │ x2       │ x3       │ x4       │ x5       │ x6       │\n",
       "│     │ \u001b[90mFloat64\u001b[39m  │ \u001b[90mFloat64\u001b[39m  │ \u001b[90mFloat64\u001b[39m  │ \u001b[90mFloat64\u001b[39m  │ \u001b[90mFloat64\u001b[39m  │ \u001b[90mFloat64\u001b[39m  │\n",
       "├─────┼──────────┼──────────┼──────────┼──────────┼──────────┼──────────┤\n",
       "│ 1   │ 0.469427 │ 0.893605 │ 0.348301 │ 0.189853 │ 0.602694 │ 0.427064 │"
      ]
     },
     "execution_count": 20,
     "metadata": {},
     "output_type": "execute_result"
    }
   ],
   "source": [
    "@btime view($x, 1:1, :)"
   ]
  },
  {
   "cell_type": "code",
   "execution_count": 21,
   "metadata": {},
   "outputs": [
    {
     "name": "stdout",
     "output_type": "stream",
     "text": [
      "  4.847 μs (55 allocations: 7.23 KiB)\n"
     ]
    },
    {
     "data": {
      "text/html": [
       "<table class=\"data-frame\"><thead><tr><th></th><th>x1</th><th>x2</th><th>x3</th><th>x4</th><th>x5</th><th>x6</th><th>x7</th><th>x8</th></tr><tr><th></th><th>Float64</th><th>Float64</th><th>Float64</th><th>Float64</th><th>Float64</th><th>Float64</th><th>Float64</th><th>Float64</th></tr></thead><tbody><p>1 rows × 20 columns (omitted printing of 12 columns)</p><tr><th>1</th><td>0.469427</td><td>0.893605</td><td>0.348301</td><td>0.189853</td><td>0.602694</td><td>0.427064</td><td>0.120058</td><td>0.403865</td></tr></tbody></table>"
      ],
      "text/latex": [
       "\\begin{tabular}{r|ccccccccc}\n",
       "\t& x1 & x2 & x3 & x4 & x5 & x6 & x7 & x8 & \\\\\n",
       "\t\\hline\n",
       "\t& Float64 & Float64 & Float64 & Float64 & Float64 & Float64 & Float64 & Float64 & \\\\\n",
       "\t\\hline\n",
       "\t1 & 0.469427 & 0.893605 & 0.348301 & 0.189853 & 0.602694 & 0.427064 & 0.120058 & 0.403865 & $\\dots$ \\\\\n",
       "\\end{tabular}\n"
      ],
      "text/plain": [
       "1×20 DataFrame. Omitted printing of 14 columns\n",
       "│ Row │ x1       │ x2       │ x3       │ x4       │ x5       │ x6       │\n",
       "│     │ \u001b[90mFloat64\u001b[39m  │ \u001b[90mFloat64\u001b[39m  │ \u001b[90mFloat64\u001b[39m  │ \u001b[90mFloat64\u001b[39m  │ \u001b[90mFloat64\u001b[39m  │ \u001b[90mFloat64\u001b[39m  │\n",
       "├─────┼──────────┼──────────┼──────────┼──────────┼──────────┼──────────┤\n",
       "│ 1   │ 0.469427 │ 0.893605 │ 0.348301 │ 0.189853 │ 0.602694 │ 0.427064 │"
      ]
     },
     "execution_count": 21,
     "metadata": {},
     "output_type": "execute_result"
    }
   ],
   "source": [
    "@btime $x[1:1, 1:20]"
   ]
  },
  {
   "cell_type": "code",
   "execution_count": 22,
   "metadata": {},
   "outputs": [
    {
     "name": "stdout",
     "output_type": "stream",
     "text": [
      "  26.216 ns (2 allocations: 80 bytes)\n"
     ]
    },
    {
     "data": {
      "text/html": [
       "<p>DataFrameRow</p><table class=\"data-frame\"><thead><tr><th></th><th>x1</th><th>x2</th><th>x3</th><th>x4</th><th>x5</th><th>x6</th><th>x7</th><th>x8</th></tr><tr><th></th><th>Float64</th><th>Float64</th><th>Float64</th><th>Float64</th><th>Float64</th><th>Float64</th><th>Float64</th><th>Float64</th></tr></thead><tbody><p>1 rows × 20 columns (omitted printing of 12 columns)</p><tr><th>1</th><td>0.469427</td><td>0.893605</td><td>0.348301</td><td>0.189853</td><td>0.602694</td><td>0.427064</td><td>0.120058</td><td>0.403865</td></tr></tbody></table>"
      ],
      "text/latex": [
       "\\begin{tabular}{r|ccccccccc}\n",
       "\t& x1 & x2 & x3 & x4 & x5 & x6 & x7 & x8 & \\\\\n",
       "\t\\hline\n",
       "\t& Float64 & Float64 & Float64 & Float64 & Float64 & Float64 & Float64 & Float64 & \\\\\n",
       "\t\\hline\n",
       "\t1 & 0.469427 & 0.893605 & 0.348301 & 0.189853 & 0.602694 & 0.427064 & 0.120058 & 0.403865 & $\\dots$ \\\\\n",
       "\\end{tabular}\n"
      ],
      "text/plain": [
       "DataFrameRow. Omitted printing of 14 columns\n",
       "│ Row │ x1       │ x2       │ x3       │ x4       │ x5       │ x6       │\n",
       "│     │ \u001b[90mFloat64\u001b[39m  │ \u001b[90mFloat64\u001b[39m  │ \u001b[90mFloat64\u001b[39m  │ \u001b[90mFloat64\u001b[39m  │ \u001b[90mFloat64\u001b[39m  │ \u001b[90mFloat64\u001b[39m  │\n",
       "├─────┼──────────┼──────────┼──────────┼──────────┼──────────┼──────────┤\n",
       "│ 1   │ 0.469427 │ 0.893605 │ 0.348301 │ 0.189853 │ 0.602694 │ 0.427064 │"
      ]
     },
     "execution_count": 22,
     "metadata": {},
     "output_type": "execute_result"
    }
   ],
   "source": [
    "@btime $x[1, 1:20]"
   ]
  },
  {
   "cell_type": "code",
   "execution_count": 23,
   "metadata": {},
   "outputs": [
    {
     "name": "stdout",
     "output_type": "stream",
     "text": [
      "  26.837 ns (2 allocations: 96 bytes)\n"
     ]
    },
    {
     "data": {
      "text/html": [
       "<table class=\"data-frame\"><thead><tr><th></th><th>x1</th><th>x2</th><th>x3</th><th>x4</th><th>x5</th><th>x6</th><th>x7</th><th>x8</th></tr><tr><th></th><th>Float64</th><th>Float64</th><th>Float64</th><th>Float64</th><th>Float64</th><th>Float64</th><th>Float64</th><th>Float64</th></tr></thead><tbody><p>1 rows × 20 columns (omitted printing of 12 columns)</p><tr><th>1</th><td>0.469427</td><td>0.893605</td><td>0.348301</td><td>0.189853</td><td>0.602694</td><td>0.427064</td><td>0.120058</td><td>0.403865</td></tr></tbody></table>"
      ],
      "text/latex": [
       "\\begin{tabular}{r|ccccccccc}\n",
       "\t& x1 & x2 & x3 & x4 & x5 & x6 & x7 & x8 & \\\\\n",
       "\t\\hline\n",
       "\t& Float64 & Float64 & Float64 & Float64 & Float64 & Float64 & Float64 & Float64 & \\\\\n",
       "\t\\hline\n",
       "\t1 & 0.469427 & 0.893605 & 0.348301 & 0.189853 & 0.602694 & 0.427064 & 0.120058 & 0.403865 & $\\dots$ \\\\\n",
       "\\end{tabular}\n"
      ],
      "text/plain": [
       "1×20 SubDataFrame. Omitted printing of 14 columns\n",
       "│ Row │ x1       │ x2       │ x3       │ x4       │ x5       │ x6       │\n",
       "│     │ \u001b[90mFloat64\u001b[39m  │ \u001b[90mFloat64\u001b[39m  │ \u001b[90mFloat64\u001b[39m  │ \u001b[90mFloat64\u001b[39m  │ \u001b[90mFloat64\u001b[39m  │ \u001b[90mFloat64\u001b[39m  │\n",
       "├─────┼──────────┼──────────┼──────────┼──────────┼──────────┼──────────┤\n",
       "│ 1   │ 0.469427 │ 0.893605 │ 0.348301 │ 0.189853 │ 0.602694 │ 0.427064 │"
      ]
     },
     "execution_count": 23,
     "metadata": {},
     "output_type": "execute_result"
    }
   ],
   "source": [
    "@btime view($x, 1:1, 1:20)"
   ]
  }
 ],
 "metadata": {
  "kernelspec": {
   "display_name": "Julia 1.0.3",
   "language": "julia",
   "name": "julia-1.0"
  },
  "language_info": {
   "file_extension": ".jl",
   "mimetype": "application/julia",
   "name": "julia",
   "version": "1.1.0"
  }
 },
 "nbformat": 4,
 "nbformat_minor": 1
}
