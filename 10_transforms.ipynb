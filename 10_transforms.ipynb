{
 "cells": [
  {
   "cell_type": "markdown",
   "metadata": {},
   "source": [
    "# Introduction to DataFrames\n",
    "**[Bogumił Kamiński](http://bogumilkaminski.pl/about/), January 18, 2019**"
   ]
  },
  {
   "cell_type": "code",
   "execution_count": 1,
   "metadata": {},
   "outputs": [],
   "source": [
    "using DataFrames # load package"
   ]
  },
  {
   "cell_type": "markdown",
   "metadata": {},
   "source": [
    "## Split-apply-combine"
   ]
  },
  {
   "cell_type": "code",
   "execution_count": 2,
   "metadata": {},
   "outputs": [
    {
     "data": {
      "text/html": [
       "<table class=\"data-frame\"><thead><tr><th></th><th>id</th><th>id2</th><th>v</th></tr><tr><th></th><th>Int64</th><th>Int64</th><th>Float64</th></tr></thead><tbody><p>8 rows × 3 columns</p><tr><th>1</th><td>1</td><td>1</td><td>0.431948</td></tr><tr><th>2</th><td>2</td><td>2</td><td>0.877294</td></tr><tr><th>3</th><td>3</td><td>1</td><td>0.62008</td></tr><tr><th>4</th><td>4</td><td>2</td><td>0.400774</td></tr><tr><th>5</th><td>1</td><td>1</td><td>0.188222</td></tr><tr><th>6</th><td>2</td><td>2</td><td>0.00783845</td></tr><tr><th>7</th><td>3</td><td>1</td><td>0.533851</td></tr><tr><th>8</th><td>4</td><td>2</td><td>0.945553</td></tr></tbody></table>"
      ],
      "text/latex": [
       "\\begin{tabular}{r|ccc}\n",
       "\t& id & id2 & v\\\\\n",
       "\t\\hline\n",
       "\t& Int64 & Int64 & Float64\\\\\n",
       "\t\\hline\n",
       "\t1 & 1 & 1 & 0.431948 \\\\\n",
       "\t2 & 2 & 2 & 0.877294 \\\\\n",
       "\t3 & 3 & 1 & 0.62008 \\\\\n",
       "\t4 & 4 & 2 & 0.400774 \\\\\n",
       "\t5 & 1 & 1 & 0.188222 \\\\\n",
       "\t6 & 2 & 2 & 0.00783845 \\\\\n",
       "\t7 & 3 & 1 & 0.533851 \\\\\n",
       "\t8 & 4 & 2 & 0.945553 \\\\\n",
       "\\end{tabular}\n"
      ],
      "text/plain": [
       "8×3 DataFrame\n",
       "│ Row │ id    │ id2   │ v          │\n",
       "│     │ \u001b[90mInt64\u001b[39m │ \u001b[90mInt64\u001b[39m │ \u001b[90mFloat64\u001b[39m    │\n",
       "├─────┼───────┼───────┼────────────┤\n",
       "│ 1   │ 1     │ 1     │ 0.431948   │\n",
       "│ 2   │ 2     │ 2     │ 0.877294   │\n",
       "│ 3   │ 3     │ 1     │ 0.62008    │\n",
       "│ 4   │ 4     │ 2     │ 0.400774   │\n",
       "│ 5   │ 1     │ 1     │ 0.188222   │\n",
       "│ 6   │ 2     │ 2     │ 0.00783845 │\n",
       "│ 7   │ 3     │ 1     │ 0.533851   │\n",
       "│ 8   │ 4     │ 2     │ 0.945553   │"
      ]
     },
     "execution_count": 2,
     "metadata": {},
     "output_type": "execute_result"
    }
   ],
   "source": [
    "x = DataFrame(id=[1,2,3,4,1,2,3,4], id2=[1,2,1,2,1,2,1,2], v=rand(8))"
   ]
  },
  {
   "cell_type": "code",
   "execution_count": 3,
   "metadata": {
    "scrolled": true
   },
   "outputs": [
    {
     "data": {
      "text/html": [
       "<p><b>GroupedDataFrame with 4 groups based on key: id</b></p><p><i>First Group (2 rows): id = 1</i></p><table class=\"data-frame\"><thead><tr><th></th><th>id</th><th>id2</th><th>v</th></tr><tr><th></th><th>Int64</th><th>Int64</th><th>Float64</th></tr></thead><tbody><tr><th>1</th><td>1</td><td>1</td><td>0.431948</td></tr><tr><th>2</th><td>1</td><td>1</td><td>0.188222</td></tr></tbody></table><p>&vellip;</p><p><i>Last Group (2 rows): id = 4</i></p><table class=\"data-frame\"><thead><tr><th></th><th>id</th><th>id2</th><th>v</th></tr><tr><th></th><th>Int64</th><th>Int64</th><th>Float64</th></tr></thead><tbody><tr><th>1</th><td>4</td><td>2</td><td>0.400774</td></tr><tr><th>2</th><td>4</td><td>2</td><td>0.945553</td></tr></tbody></table>"
      ],
      "text/latex": [
       "GroupedDataFrame with 4 groups based on key: id\n",
       "\n",
       "First Group (2 rows): id = 1\n",
       "\n",
       "\\begin{tabular}{r|ccc}\n",
       "\t& id & id2 & v\\\\\n",
       "\t\\hline\n",
       "\t& Int64 & Int64 & Float64\\\\\n",
       "\t\\hline\n",
       "\t1 & 1 & 1 & 0.431948 \\\\\n",
       "\t2 & 1 & 1 & 0.188222 \\\\\n",
       "\\end{tabular}\n",
       "\n",
       "$\\dots$\n",
       "\n",
       "Last Group (2 rows): id = 4\n",
       "\n",
       "\\begin{tabular}{r|ccc}\n",
       "\t& id & id2 & v\\\\\n",
       "\t\\hline\n",
       "\t& Int64 & Int64 & Float64\\\\\n",
       "\t\\hline\n",
       "\t1 & 4 & 2 & 0.400774 \\\\\n",
       "\t2 & 4 & 2 & 0.945553 \\\\\n",
       "\\end{tabular}\n"
      ],
      "text/plain": [
       "GroupedDataFrame with 4 groups based on key: id\n",
       "First Group (2 rows): id = 1\n",
       "│ Row │ id    │ id2   │ v        │\n",
       "│     │ \u001b[90mInt64\u001b[39m │ \u001b[90mInt64\u001b[39m │ \u001b[90mFloat64\u001b[39m  │\n",
       "├─────┼───────┼───────┼──────────┤\n",
       "│ 1   │ 1     │ 1     │ 0.431948 │\n",
       "│ 2   │ 1     │ 1     │ 0.188222 │\n",
       "⋮\n",
       "Last Group (2 rows): id = 4\n",
       "│ Row │ id    │ id2   │ v        │\n",
       "│     │ \u001b[90mInt64\u001b[39m │ \u001b[90mInt64\u001b[39m │ \u001b[90mFloat64\u001b[39m  │\n",
       "├─────┼───────┼───────┼──────────┤\n",
       "│ 1   │ 4     │ 2     │ 0.400774 │\n",
       "│ 2   │ 4     │ 2     │ 0.945553 │"
      ]
     },
     "execution_count": 3,
     "metadata": {},
     "output_type": "execute_result"
    }
   ],
   "source": [
    "gx1 = groupby(x, :id)"
   ]
  },
  {
   "cell_type": "code",
   "execution_count": 4,
   "metadata": {},
   "outputs": [
    {
     "data": {
      "text/html": [
       "<p><b>GroupedDataFrame with 4 groups based on keys: id, id2</b></p><p><i>First Group (2 rows): id = 1, id2 = 1</i></p><table class=\"data-frame\"><thead><tr><th></th><th>id</th><th>id2</th><th>v</th></tr><tr><th></th><th>Int64</th><th>Int64</th><th>Float64</th></tr></thead><tbody><tr><th>1</th><td>1</td><td>1</td><td>0.431948</td></tr><tr><th>2</th><td>1</td><td>1</td><td>0.188222</td></tr></tbody></table><p>&vellip;</p><p><i>Last Group (2 rows): id = 4, id2 = 2</i></p><table class=\"data-frame\"><thead><tr><th></th><th>id</th><th>id2</th><th>v</th></tr><tr><th></th><th>Int64</th><th>Int64</th><th>Float64</th></tr></thead><tbody><tr><th>1</th><td>4</td><td>2</td><td>0.400774</td></tr><tr><th>2</th><td>4</td><td>2</td><td>0.945553</td></tr></tbody></table>"
      ],
      "text/latex": [
       "GroupedDataFrame with 4 groups based on keys: id, id2\n",
       "\n",
       "First Group (2 rows): id = 1, id2 = 1\n",
       "\n",
       "\\begin{tabular}{r|ccc}\n",
       "\t& id & id2 & v\\\\\n",
       "\t\\hline\n",
       "\t& Int64 & Int64 & Float64\\\\\n",
       "\t\\hline\n",
       "\t1 & 1 & 1 & 0.431948 \\\\\n",
       "\t2 & 1 & 1 & 0.188222 \\\\\n",
       "\\end{tabular}\n",
       "\n",
       "$\\dots$\n",
       "\n",
       "Last Group (2 rows): id = 4, id2 = 2\n",
       "\n",
       "\\begin{tabular}{r|ccc}\n",
       "\t& id & id2 & v\\\\\n",
       "\t\\hline\n",
       "\t& Int64 & Int64 & Float64\\\\\n",
       "\t\\hline\n",
       "\t1 & 4 & 2 & 0.400774 \\\\\n",
       "\t2 & 4 & 2 & 0.945553 \\\\\n",
       "\\end{tabular}\n"
      ],
      "text/plain": [
       "GroupedDataFrame with 4 groups based on keys: id, id2\n",
       "First Group (2 rows): id = 1, id2 = 1\n",
       "│ Row │ id    │ id2   │ v        │\n",
       "│     │ \u001b[90mInt64\u001b[39m │ \u001b[90mInt64\u001b[39m │ \u001b[90mFloat64\u001b[39m  │\n",
       "├─────┼───────┼───────┼──────────┤\n",
       "│ 1   │ 1     │ 1     │ 0.431948 │\n",
       "│ 2   │ 1     │ 1     │ 0.188222 │\n",
       "⋮\n",
       "Last Group (2 rows): id = 4, id2 = 2\n",
       "│ Row │ id    │ id2   │ v        │\n",
       "│     │ \u001b[90mInt64\u001b[39m │ \u001b[90mInt64\u001b[39m │ \u001b[90mFloat64\u001b[39m  │\n",
       "├─────┼───────┼───────┼──────────┤\n",
       "│ 1   │ 4     │ 2     │ 0.400774 │\n",
       "│ 2   │ 4     │ 2     │ 0.945553 │"
      ]
     },
     "execution_count": 4,
     "metadata": {},
     "output_type": "execute_result"
    }
   ],
   "source": [
    "gx2 = groupby(x, [:id, :id2])"
   ]
  },
  {
   "cell_type": "code",
   "execution_count": 5,
   "metadata": {},
   "outputs": [
    {
     "data": {
      "text/html": [
       "<table class=\"data-frame\"><thead><tr><th></th><th>id</th><th>id2</th><th>v</th></tr><tr><th></th><th>Int64</th><th>Int64</th><th>Float64</th></tr></thead><tbody><p>8 rows × 3 columns</p><tr><th>1</th><td>1</td><td>1</td><td>0.431948</td></tr><tr><th>2</th><td>2</td><td>2</td><td>0.877294</td></tr><tr><th>3</th><td>3</td><td>1</td><td>0.62008</td></tr><tr><th>4</th><td>4</td><td>2</td><td>0.400774</td></tr><tr><th>5</th><td>1</td><td>1</td><td>0.188222</td></tr><tr><th>6</th><td>2</td><td>2</td><td>0.00783845</td></tr><tr><th>7</th><td>3</td><td>1</td><td>0.533851</td></tr><tr><th>8</th><td>4</td><td>2</td><td>0.945553</td></tr></tbody></table>"
      ],
      "text/latex": [
       "\\begin{tabular}{r|ccc}\n",
       "\t& id & id2 & v\\\\\n",
       "\t\\hline\n",
       "\t& Int64 & Int64 & Float64\\\\\n",
       "\t\\hline\n",
       "\t1 & 1 & 1 & 0.431948 \\\\\n",
       "\t2 & 2 & 2 & 0.877294 \\\\\n",
       "\t3 & 3 & 1 & 0.62008 \\\\\n",
       "\t4 & 4 & 2 & 0.400774 \\\\\n",
       "\t5 & 1 & 1 & 0.188222 \\\\\n",
       "\t6 & 2 & 2 & 0.00783845 \\\\\n",
       "\t7 & 3 & 1 & 0.533851 \\\\\n",
       "\t8 & 4 & 2 & 0.945553 \\\\\n",
       "\\end{tabular}\n"
      ],
      "text/plain": [
       "8×3 DataFrame\n",
       "│ Row │ id    │ id2   │ v          │\n",
       "│     │ \u001b[90mInt64\u001b[39m │ \u001b[90mInt64\u001b[39m │ \u001b[90mFloat64\u001b[39m    │\n",
       "├─────┼───────┼───────┼────────────┤\n",
       "│ 1   │ 1     │ 1     │ 0.431948   │\n",
       "│ 2   │ 2     │ 2     │ 0.877294   │\n",
       "│ 3   │ 3     │ 1     │ 0.62008    │\n",
       "│ 4   │ 4     │ 2     │ 0.400774   │\n",
       "│ 5   │ 1     │ 1     │ 0.188222   │\n",
       "│ 6   │ 2     │ 2     │ 0.00783845 │\n",
       "│ 7   │ 3     │ 1     │ 0.533851   │\n",
       "│ 8   │ 4     │ 2     │ 0.945553   │"
      ]
     },
     "execution_count": 5,
     "metadata": {},
     "output_type": "execute_result"
    }
   ],
   "source": [
    "parent(gx2) # get the parent DataFrame "
   ]
  },
  {
   "cell_type": "code",
   "execution_count": 6,
   "metadata": {},
   "outputs": [
    {
     "data": {
      "text/html": [
       "<table class=\"data-frame\"><thead><tr><th></th><th>id</th><th>id2</th><th>v</th></tr><tr><th></th><th>Int64</th><th>Int64</th><th>Float64</th></tr></thead><tbody><p>8 rows × 3 columns</p><tr><th>1</th><td>1</td><td>1</td><td>0.431948</td></tr><tr><th>2</th><td>1</td><td>1</td><td>0.188222</td></tr><tr><th>3</th><td>2</td><td>2</td><td>0.877294</td></tr><tr><th>4</th><td>2</td><td>2</td><td>0.00783845</td></tr><tr><th>5</th><td>3</td><td>1</td><td>0.62008</td></tr><tr><th>6</th><td>3</td><td>1</td><td>0.533851</td></tr><tr><th>7</th><td>4</td><td>2</td><td>0.400774</td></tr><tr><th>8</th><td>4</td><td>2</td><td>0.945553</td></tr></tbody></table>"
      ],
      "text/latex": [
       "\\begin{tabular}{r|ccc}\n",
       "\t& id & id2 & v\\\\\n",
       "\t\\hline\n",
       "\t& Int64 & Int64 & Float64\\\\\n",
       "\t\\hline\n",
       "\t1 & 1 & 1 & 0.431948 \\\\\n",
       "\t2 & 1 & 1 & 0.188222 \\\\\n",
       "\t3 & 2 & 2 & 0.877294 \\\\\n",
       "\t4 & 2 & 2 & 0.00783845 \\\\\n",
       "\t5 & 3 & 1 & 0.62008 \\\\\n",
       "\t6 & 3 & 1 & 0.533851 \\\\\n",
       "\t7 & 4 & 2 & 0.400774 \\\\\n",
       "\t8 & 4 & 2 & 0.945553 \\\\\n",
       "\\end{tabular}\n"
      ],
      "text/plain": [
       "8×3 DataFrame\n",
       "│ Row │ id    │ id2   │ v          │\n",
       "│     │ \u001b[90mInt64\u001b[39m │ \u001b[90mInt64\u001b[39m │ \u001b[90mFloat64\u001b[39m    │\n",
       "├─────┼───────┼───────┼────────────┤\n",
       "│ 1   │ 1     │ 1     │ 0.431948   │\n",
       "│ 2   │ 1     │ 1     │ 0.188222   │\n",
       "│ 3   │ 2     │ 2     │ 0.877294   │\n",
       "│ 4   │ 2     │ 2     │ 0.00783845 │\n",
       "│ 5   │ 3     │ 1     │ 0.62008    │\n",
       "│ 6   │ 3     │ 1     │ 0.533851   │\n",
       "│ 7   │ 4     │ 2     │ 0.400774   │\n",
       "│ 8   │ 4     │ 2     │ 0.945553   │"
      ]
     },
     "execution_count": 6,
     "metadata": {},
     "output_type": "execute_result"
    }
   ],
   "source": [
    "vcat(gx2...) # back to the DataFrame, but in a different order of rows than the original"
   ]
  },
  {
   "cell_type": "code",
   "execution_count": 7,
   "metadata": {},
   "outputs": [
    {
     "data": {
      "text/html": [
       "<table class=\"data-frame\"><thead><tr><th></th><th>id</th><th>id2</th><th>id_1</th><th>id2_1</th><th>v</th></tr><tr><th></th><th>Int64</th><th>Int64</th><th>Int64</th><th>Int64</th><th>Float64</th></tr></thead><tbody><p>8 rows × 5 columns</p><tr><th>1</th><td>1</td><td>1</td><td>1</td><td>1</td><td>0.431948</td></tr><tr><th>2</th><td>1</td><td>1</td><td>1</td><td>1</td><td>0.188222</td></tr><tr><th>3</th><td>2</td><td>2</td><td>2</td><td>2</td><td>0.877294</td></tr><tr><th>4</th><td>2</td><td>2</td><td>2</td><td>2</td><td>0.00783845</td></tr><tr><th>5</th><td>3</td><td>1</td><td>3</td><td>1</td><td>0.62008</td></tr><tr><th>6</th><td>3</td><td>1</td><td>3</td><td>1</td><td>0.533851</td></tr><tr><th>7</th><td>4</td><td>2</td><td>4</td><td>2</td><td>0.400774</td></tr><tr><th>8</th><td>4</td><td>2</td><td>4</td><td>2</td><td>0.945553</td></tr></tbody></table>"
      ],
      "text/latex": [
       "\\begin{tabular}{r|ccccc}\n",
       "\t& id & id2 & id\\_1 & id2\\_1 & v\\\\\n",
       "\t\\hline\n",
       "\t& Int64 & Int64 & Int64 & Int64 & Float64\\\\\n",
       "\t\\hline\n",
       "\t1 & 1 & 1 & 1 & 1 & 0.431948 \\\\\n",
       "\t2 & 1 & 1 & 1 & 1 & 0.188222 \\\\\n",
       "\t3 & 2 & 2 & 2 & 2 & 0.877294 \\\\\n",
       "\t4 & 2 & 2 & 2 & 2 & 0.00783845 \\\\\n",
       "\t5 & 3 & 1 & 3 & 1 & 0.62008 \\\\\n",
       "\t6 & 3 & 1 & 3 & 1 & 0.533851 \\\\\n",
       "\t7 & 4 & 2 & 4 & 2 & 0.400774 \\\\\n",
       "\t8 & 4 & 2 & 4 & 2 & 0.945553 \\\\\n",
       "\\end{tabular}\n"
      ],
      "text/plain": [
       "8×5 DataFrame\n",
       "│ Row │ id    │ id2   │ id_1  │ id2_1 │ v          │\n",
       "│     │ \u001b[90mInt64\u001b[39m │ \u001b[90mInt64\u001b[39m │ \u001b[90mInt64\u001b[39m │ \u001b[90mInt64\u001b[39m │ \u001b[90mFloat64\u001b[39m    │\n",
       "├─────┼───────┼───────┼───────┼───────┼────────────┤\n",
       "│ 1   │ 1     │ 1     │ 1     │ 1     │ 0.431948   │\n",
       "│ 2   │ 1     │ 1     │ 1     │ 1     │ 0.188222   │\n",
       "│ 3   │ 2     │ 2     │ 2     │ 2     │ 0.877294   │\n",
       "│ 4   │ 2     │ 2     │ 2     │ 2     │ 0.00783845 │\n",
       "│ 5   │ 3     │ 1     │ 3     │ 1     │ 0.62008    │\n",
       "│ 6   │ 3     │ 1     │ 3     │ 1     │ 0.533851   │\n",
       "│ 7   │ 4     │ 2     │ 4     │ 2     │ 0.400774   │\n",
       "│ 8   │ 4     │ 2     │ 4     │ 2     │ 0.945553   │"
      ]
     },
     "execution_count": 7,
     "metadata": {},
     "output_type": "execute_result"
    }
   ],
   "source": [
    "combine(gx2) # the same"
   ]
  },
  {
   "cell_type": "code",
   "execution_count": 8,
   "metadata": {},
   "outputs": [
    {
     "data": {
      "text/html": [
       "<table class=\"data-frame\"><thead><tr><th></th><th>id</th><th>x</th></tr><tr><th></th><th>Int64⍰</th><th>Int64</th></tr></thead><tbody><p>5 rows × 2 columns</p><tr><th>1</th><td>missing</td><td>1</td></tr><tr><th>2</th><td>5</td><td>2</td></tr><tr><th>3</th><td>1</td><td>3</td></tr><tr><th>4</th><td>3</td><td>4</td></tr><tr><th>5</th><td>missing</td><td>5</td></tr></tbody></table>"
      ],
      "text/latex": [
       "\\begin{tabular}{r|cc}\n",
       "\t& id & x\\\\\n",
       "\t\\hline\n",
       "\t& Int64⍰ & Int64\\\\\n",
       "\t\\hline\n",
       "\t1 &  & 1 \\\\\n",
       "\t2 & 5 & 2 \\\\\n",
       "\t3 & 1 & 3 \\\\\n",
       "\t4 & 3 & 4 \\\\\n",
       "\t5 &  & 5 \\\\\n",
       "\\end{tabular}\n"
      ],
      "text/plain": [
       "5×2 DataFrame\n",
       "│ Row │ id      │ x     │\n",
       "│     │ \u001b[90mInt64⍰\u001b[39m  │ \u001b[90mInt64\u001b[39m │\n",
       "├─────┼─────────┼───────┤\n",
       "│ 1   │ \u001b[90mmissing\u001b[39m │ 1     │\n",
       "│ 2   │ 5       │ 2     │\n",
       "│ 3   │ 1       │ 3     │\n",
       "│ 4   │ 3       │ 4     │\n",
       "│ 5   │ \u001b[90mmissing\u001b[39m │ 5     │"
      ]
     },
     "execution_count": 8,
     "metadata": {},
     "output_type": "execute_result"
    }
   ],
   "source": [
    "x = DataFrame(id = [missing, 5, 1, 3, missing], x = 1:5)"
   ]
  },
  {
   "cell_type": "code",
   "execution_count": 9,
   "metadata": {},
   "outputs": [
    {
     "data": {
      "text/html": [
       "<p><b>GroupedDataFrame with 4 groups based on key: id</b></p><p><i>First Group (2 rows): id = missing</i></p><table class=\"data-frame\"><thead><tr><th></th><th>id</th><th>x</th></tr><tr><th></th><th>Int64⍰</th><th>Int64</th></tr></thead><tbody><tr><th>1</th><td>missing</td><td>1</td></tr><tr><th>2</th><td>missing</td><td>5</td></tr></tbody></table><p>&vellip;</p><p><i>Last Group (1 row): id = 3</i></p><table class=\"data-frame\"><thead><tr><th></th><th>id</th><th>x</th></tr><tr><th></th><th>Int64⍰</th><th>Int64</th></tr></thead><tbody><tr><th>1</th><td>3</td><td>4</td></tr></tbody></table>"
      ],
      "text/latex": [
       "GroupedDataFrame with 4 groups based on key: id\n",
       "\n",
       "First Group (2 rows): id = missing\n",
       "\n",
       "\\begin{tabular}{r|cc}\n",
       "\t& id & x\\\\\n",
       "\t\\hline\n",
       "\t& Int64⍰ & Int64\\\\\n",
       "\t\\hline\n",
       "\t1 &  & 1 \\\\\n",
       "\t2 &  & 5 \\\\\n",
       "\\end{tabular}\n",
       "\n",
       "$\\dots$\n",
       "\n",
       "Last Group (1 row): id = 3\n",
       "\n",
       "\\begin{tabular}{r|cc}\n",
       "\t& id & x\\\\\n",
       "\t\\hline\n",
       "\t& Int64⍰ & Int64\\\\\n",
       "\t\\hline\n",
       "\t1 & 3 & 4 \\\\\n",
       "\\end{tabular}\n"
      ],
      "text/plain": [
       "GroupedDataFrame with 4 groups based on key: id\n",
       "First Group (2 rows): id = missing\n",
       "│ Row │ id      │ x     │\n",
       "│     │ \u001b[90mInt64⍰\u001b[39m  │ \u001b[90mInt64\u001b[39m │\n",
       "├─────┼─────────┼───────┤\n",
       "│ 1   │ \u001b[90mmissing\u001b[39m │ 1     │\n",
       "│ 2   │ \u001b[90mmissing\u001b[39m │ 5     │\n",
       "⋮\n",
       "Last Group (1 row): id = 3\n",
       "│ Row │ id     │ x     │\n",
       "│     │ \u001b[90mInt64⍰\u001b[39m │ \u001b[90mInt64\u001b[39m │\n",
       "├─────┼────────┼───────┤\n",
       "│ 1   │ 3      │ 4     │"
      ]
     },
     "execution_count": 9,
     "metadata": {},
     "output_type": "execute_result"
    }
   ],
   "source": [
    "groupby(x, :id) # by default groups include mising values and are not sorted"
   ]
  },
  {
   "cell_type": "code",
   "execution_count": 10,
   "metadata": {},
   "outputs": [
    {
     "data": {
      "text/html": [
       "<p><b>GroupedDataFrame with 3 groups based on key: id</b></p><p><i>First Group (1 row): id = 1</i></p><table class=\"data-frame\"><thead><tr><th></th><th>id</th><th>x</th></tr><tr><th></th><th>Int64⍰</th><th>Int64</th></tr></thead><tbody><tr><th>1</th><td>1</td><td>3</td></tr></tbody></table><p>&vellip;</p><p><i>Last Group (1 row): id = 5</i></p><table class=\"data-frame\"><thead><tr><th></th><th>id</th><th>x</th></tr><tr><th></th><th>Int64⍰</th><th>Int64</th></tr></thead><tbody><tr><th>1</th><td>5</td><td>2</td></tr></tbody></table>"
      ],
      "text/latex": [
       "GroupedDataFrame with 3 groups based on key: id\n",
       "\n",
       "First Group (1 row): id = 1\n",
       "\n",
       "\\begin{tabular}{r|cc}\n",
       "\t& id & x\\\\\n",
       "\t\\hline\n",
       "\t& Int64⍰ & Int64\\\\\n",
       "\t\\hline\n",
       "\t1 & 1 & 3 \\\\\n",
       "\\end{tabular}\n",
       "\n",
       "$\\dots$\n",
       "\n",
       "Last Group (1 row): id = 5\n",
       "\n",
       "\\begin{tabular}{r|cc}\n",
       "\t& id & x\\\\\n",
       "\t\\hline\n",
       "\t& Int64⍰ & Int64\\\\\n",
       "\t\\hline\n",
       "\t1 & 5 & 2 \\\\\n",
       "\\end{tabular}\n"
      ],
      "text/plain": [
       "GroupedDataFrame with 3 groups based on key: id\n",
       "First Group (1 row): id = 1\n",
       "│ Row │ id     │ x     │\n",
       "│     │ \u001b[90mInt64⍰\u001b[39m │ \u001b[90mInt64\u001b[39m │\n",
       "├─────┼────────┼───────┤\n",
       "│ 1   │ 1      │ 3     │\n",
       "⋮\n",
       "Last Group (1 row): id = 5\n",
       "│ Row │ id     │ x     │\n",
       "│     │ \u001b[90mInt64⍰\u001b[39m │ \u001b[90mInt64\u001b[39m │\n",
       "├─────┼────────┼───────┤\n",
       "│ 1   │ 5      │ 2     │"
      ]
     },
     "execution_count": 10,
     "metadata": {},
     "output_type": "execute_result"
    }
   ],
   "source": [
    "groupby(x, :id, sort=true, skipmissing=true) # but we can change it"
   ]
  },
  {
   "cell_type": "code",
   "execution_count": 11,
   "metadata": {},
   "outputs": [
    {
     "data": {
      "text/html": [
       "<table class=\"data-frame\"><thead><tr><th></th><th>id</th><th>v_Statistics.mean</th></tr><tr><th></th><th>Char</th><th>Float64</th></tr></thead><tbody><p>4 rows × 2 columns</p><tr><th>1</th><td>'b'</td><td>0.524993</td></tr><tr><th>2</th><td>'a'</td><td>0.51178</td></tr><tr><th>3</th><td>'c'</td><td>0.495782</td></tr><tr><th>4</th><td>'d'</td><td>0.39401</td></tr></tbody></table>"
      ],
      "text/latex": [
       "\\begin{tabular}{r|cc}\n",
       "\t& id & v\\_Statistics.mean\\\\\n",
       "\t\\hline\n",
       "\t& Char & Float64\\\\\n",
       "\t\\hline\n",
       "\t1 & 'b' & 0.524993 \\\\\n",
       "\t2 & 'a' & 0.51178 \\\\\n",
       "\t3 & 'c' & 0.495782 \\\\\n",
       "\t4 & 'd' & 0.39401 \\\\\n",
       "\\end{tabular}\n"
      ],
      "text/plain": [
       "4×2 DataFrame\n",
       "│ Row │ id   │ v_Statistics.mean │\n",
       "│     │ \u001b[90mChar\u001b[39m │ \u001b[90mFloat64\u001b[39m           │\n",
       "├─────┼──────┼───────────────────┤\n",
       "│ 1   │ 'b'  │ 0.524993          │\n",
       "│ 2   │ 'a'  │ 0.51178           │\n",
       "│ 3   │ 'c'  │ 0.495782          │\n",
       "│ 4   │ 'd'  │ 0.39401           │"
      ]
     },
     "execution_count": 11,
     "metadata": {},
     "output_type": "execute_result"
    }
   ],
   "source": [
    "using Statistics\n",
    "x = DataFrame(id=rand('a':'d', 100), v=rand(100));\n",
    "by(x, :id, :v=>mean) # apply a function to each group of a data frame"
   ]
  },
  {
   "cell_type": "code",
   "execution_count": 12,
   "metadata": {},
   "outputs": [
    {
     "data": {
      "text/html": [
       "<table class=\"data-frame\"><thead><tr><th></th><th>id</th><th>v_Statistics.mean</th></tr><tr><th></th><th>Char</th><th>Float64</th></tr></thead><tbody><p>4 rows × 2 columns</p><tr><th>1</th><td>'a'</td><td>0.51178</td></tr><tr><th>2</th><td>'b'</td><td>0.524993</td></tr><tr><th>3</th><td>'c'</td><td>0.495782</td></tr><tr><th>4</th><td>'d'</td><td>0.39401</td></tr></tbody></table>"
      ],
      "text/latex": [
       "\\begin{tabular}{r|cc}\n",
       "\t& id & v\\_Statistics.mean\\\\\n",
       "\t\\hline\n",
       "\t& Char & Float64\\\\\n",
       "\t\\hline\n",
       "\t1 & 'a' & 0.51178 \\\\\n",
       "\t2 & 'b' & 0.524993 \\\\\n",
       "\t3 & 'c' & 0.495782 \\\\\n",
       "\t4 & 'd' & 0.39401 \\\\\n",
       "\\end{tabular}\n"
      ],
      "text/plain": [
       "4×2 DataFrame\n",
       "│ Row │ id   │ v_Statistics.mean │\n",
       "│     │ \u001b[90mChar\u001b[39m │ \u001b[90mFloat64\u001b[39m           │\n",
       "├─────┼──────┼───────────────────┤\n",
       "│ 1   │ 'a'  │ 0.51178           │\n",
       "│ 2   │ 'b'  │ 0.524993          │\n",
       "│ 3   │ 'c'  │ 0.495782          │\n",
       "│ 4   │ 'd'  │ 0.39401           │"
      ]
     },
     "execution_count": 12,
     "metadata": {},
     "output_type": "execute_result"
    }
   ],
   "source": [
    "by(x, :id, :v=>mean, sort=true) # we can sort the output"
   ]
  },
  {
   "cell_type": "code",
   "execution_count": 13,
   "metadata": {},
   "outputs": [
    {
     "data": {
      "text/html": [
       "<table class=\"data-frame\"><thead><tr><th></th><th>id</th><th>res</th></tr><tr><th></th><th>Char</th><th>Float64</th></tr></thead><tbody><p>4 rows × 2 columns</p><tr><th>1</th><td>'b'</td><td>0.524993</td></tr><tr><th>2</th><td>'a'</td><td>0.51178</td></tr><tr><th>3</th><td>'c'</td><td>0.495782</td></tr><tr><th>4</th><td>'d'</td><td>0.39401</td></tr></tbody></table>"
      ],
      "text/latex": [
       "\\begin{tabular}{r|cc}\n",
       "\t& id & res\\\\\n",
       "\t\\hline\n",
       "\t& Char & Float64\\\\\n",
       "\t\\hline\n",
       "\t1 & 'b' & 0.524993 \\\\\n",
       "\t2 & 'a' & 0.51178 \\\\\n",
       "\t3 & 'c' & 0.495782 \\\\\n",
       "\t4 & 'd' & 0.39401 \\\\\n",
       "\\end{tabular}\n"
      ],
      "text/plain": [
       "4×2 DataFrame\n",
       "│ Row │ id   │ res      │\n",
       "│     │ \u001b[90mChar\u001b[39m │ \u001b[90mFloat64\u001b[39m  │\n",
       "├─────┼──────┼──────────┤\n",
       "│ 1   │ 'b'  │ 0.524993 │\n",
       "│ 2   │ 'a'  │ 0.51178  │\n",
       "│ 3   │ 'c'  │ 0.495782 │\n",
       "│ 4   │ 'd'  │ 0.39401  │"
      ]
     },
     "execution_count": 13,
     "metadata": {},
     "output_type": "execute_result"
    }
   ],
   "source": [
    "by(x, :id, res=:v=>mean) # this way we can set a name for a column"
   ]
  },
  {
   "cell_type": "code",
   "execution_count": 14,
   "metadata": {},
   "outputs": [
    {
     "data": {
      "text/html": [
       "<table class=\"data-frame\"><thead><tr><th></th><th>id</th><th>res1</th><th>res2</th></tr><tr><th></th><th>Char</th><th>Float64</th><th>Float64</th></tr></thead><tbody><p>4 rows × 3 columns</p><tr><th>1</th><td>'b'</td><td>0.524993</td><td>13.1248</td></tr><tr><th>2</th><td>'a'</td><td>0.51178</td><td>12.7945</td></tr><tr><th>3</th><td>'c'</td><td>0.495782</td><td>13.8819</td></tr><tr><th>4</th><td>'d'</td><td>0.39401</td><td>8.66822</td></tr></tbody></table>"
      ],
      "text/latex": [
       "\\begin{tabular}{r|ccc}\n",
       "\t& id & res1 & res2\\\\\n",
       "\t\\hline\n",
       "\t& Char & Float64 & Float64\\\\\n",
       "\t\\hline\n",
       "\t1 & 'b' & 0.524993 & 13.1248 \\\\\n",
       "\t2 & 'a' & 0.51178 & 12.7945 \\\\\n",
       "\t3 & 'c' & 0.495782 & 13.8819 \\\\\n",
       "\t4 & 'd' & 0.39401 & 8.66822 \\\\\n",
       "\\end{tabular}\n"
      ],
      "text/plain": [
       "4×3 DataFrame\n",
       "│ Row │ id   │ res1     │ res2    │\n",
       "│     │ \u001b[90mChar\u001b[39m │ \u001b[90mFloat64\u001b[39m  │ \u001b[90mFloat64\u001b[39m │\n",
       "├─────┼──────┼──────────┼─────────┤\n",
       "│ 1   │ 'b'  │ 0.524993 │ 13.1248 │\n",
       "│ 2   │ 'a'  │ 0.51178  │ 12.7945 │\n",
       "│ 3   │ 'c'  │ 0.495782 │ 13.8819 │\n",
       "│ 4   │ 'd'  │ 0.39401  │ 8.66822 │"
      ]
     },
     "execution_count": 14,
     "metadata": {},
     "output_type": "execute_result"
    }
   ],
   "source": [
    "by(x, :id, res1=:v=>mean, res2=:v=>sum) # you can have multiple operations"
   ]
  },
  {
   "cell_type": "code",
   "execution_count": 15,
   "metadata": {},
   "outputs": [
    {
     "data": {
      "text/html": [
       "<table class=\"data-frame\"><thead><tr><th></th><th>id</th><th>x1_sum</th><th>x2_sum</th></tr><tr><th></th><th>Char</th><th>Float64</th><th>Float64</th></tr></thead><tbody><p>4 rows × 3 columns</p><tr><th>1</th><td>'a'</td><td>10.7951</td><td>11.0517</td></tr><tr><th>2</th><td>'b'</td><td>12.3498</td><td>13.2309</td></tr><tr><th>3</th><td>'c'</td><td>12.888</td><td>11.4458</td></tr><tr><th>4</th><td>'d'</td><td>13.3698</td><td>16.8223</td></tr></tbody></table>"
      ],
      "text/latex": [
       "\\begin{tabular}{r|ccc}\n",
       "\t& id & x1\\_sum & x2\\_sum\\\\\n",
       "\t\\hline\n",
       "\t& Char & Float64 & Float64\\\\\n",
       "\t\\hline\n",
       "\t1 & 'a' & 10.7951 & 11.0517 \\\\\n",
       "\t2 & 'b' & 12.3498 & 13.2309 \\\\\n",
       "\t3 & 'c' & 12.888 & 11.4458 \\\\\n",
       "\t4 & 'd' & 13.3698 & 16.8223 \\\\\n",
       "\\end{tabular}\n"
      ],
      "text/plain": [
       "4×3 DataFrame\n",
       "│ Row │ id   │ x1_sum  │ x2_sum  │\n",
       "│     │ \u001b[90mChar\u001b[39m │ \u001b[90mFloat64\u001b[39m │ \u001b[90mFloat64\u001b[39m │\n",
       "├─────┼──────┼─────────┼─────────┤\n",
       "│ 1   │ 'a'  │ 10.7951 │ 11.0517 │\n",
       "│ 2   │ 'b'  │ 12.3498 │ 13.2309 │\n",
       "│ 3   │ 'c'  │ 12.888  │ 11.4458 │\n",
       "│ 4   │ 'd'  │ 13.3698 │ 16.8223 │"
      ]
     },
     "execution_count": 15,
     "metadata": {},
     "output_type": "execute_result"
    }
   ],
   "source": [
    "x = DataFrame(id=rand('a':'d', 100), x1=rand(100), x2=rand(100))\n",
    "aggregate(x, :id, sum) # apply a function over all columns of a data frame in groups given by id"
   ]
  },
  {
   "cell_type": "code",
   "execution_count": 16,
   "metadata": {},
   "outputs": [
    {
     "data": {
      "text/html": [
       "<table class=\"data-frame\"><thead><tr><th></th><th>id</th><th>x1_sum</th><th>x2_sum</th></tr><tr><th></th><th>Char</th><th>Float64</th><th>Float64</th></tr></thead><tbody><p>4 rows × 3 columns</p><tr><th>1</th><td>'a'</td><td>10.7951</td><td>11.0517</td></tr><tr><th>2</th><td>'b'</td><td>12.3498</td><td>13.2309</td></tr><tr><th>3</th><td>'c'</td><td>12.888</td><td>11.4458</td></tr><tr><th>4</th><td>'d'</td><td>13.3698</td><td>16.8223</td></tr></tbody></table>"
      ],
      "text/latex": [
       "\\begin{tabular}{r|ccc}\n",
       "\t& id & x1\\_sum & x2\\_sum\\\\\n",
       "\t\\hline\n",
       "\t& Char & Float64 & Float64\\\\\n",
       "\t\\hline\n",
       "\t1 & 'a' & 10.7951 & 11.0517 \\\\\n",
       "\t2 & 'b' & 12.3498 & 13.2309 \\\\\n",
       "\t3 & 'c' & 12.888 & 11.4458 \\\\\n",
       "\t4 & 'd' & 13.3698 & 16.8223 \\\\\n",
       "\\end{tabular}\n"
      ],
      "text/plain": [
       "4×3 DataFrame\n",
       "│ Row │ id   │ x1_sum  │ x2_sum  │\n",
       "│     │ \u001b[90mChar\u001b[39m │ \u001b[90mFloat64\u001b[39m │ \u001b[90mFloat64\u001b[39m │\n",
       "├─────┼──────┼─────────┼─────────┤\n",
       "│ 1   │ 'a'  │ 10.7951 │ 11.0517 │\n",
       "│ 2   │ 'b'  │ 12.3498 │ 13.2309 │\n",
       "│ 3   │ 'c'  │ 12.888  │ 11.4458 │\n",
       "│ 4   │ 'd'  │ 13.3698 │ 16.8223 │"
      ]
     },
     "execution_count": 16,
     "metadata": {},
     "output_type": "execute_result"
    }
   ],
   "source": [
    "aggregate(x, :id, sum, sort=true) # also can be sorted"
   ]
  },
  {
   "cell_type": "markdown",
   "metadata": {},
   "source": [
    "A new feature is `mapcols` convinience function"
   ]
  },
  {
   "cell_type": "code",
   "execution_count": 17,
   "metadata": {},
   "outputs": [
    {
     "data": {
      "text/html": [
       "<table class=\"data-frame\"><thead><tr><th></th><th>x1</th><th>x2</th><th>x3</th><th>x4</th><th>x5</th></tr><tr><th></th><th>Float64</th><th>Float64</th><th>Float64</th><th>Float64</th><th>Float64</th></tr></thead><tbody><p>3 rows × 5 columns</p><tr><th>1</th><td>0.222279</td><td>0.836563</td><td>0.0240105</td><td>0.407143</td><td>0.17952</td></tr><tr><th>2</th><td>0.581014</td><td>0.189129</td><td>0.379578</td><td>0.135048</td><td>0.340468</td></tr><tr><th>3</th><td>0.661496</td><td>0.361389</td><td>0.0572603</td><td>0.0828427</td><td>0.851504</td></tr></tbody></table>"
      ],
      "text/latex": [
       "\\begin{tabular}{r|ccccc}\n",
       "\t& x1 & x2 & x3 & x4 & x5\\\\\n",
       "\t\\hline\n",
       "\t& Float64 & Float64 & Float64 & Float64 & Float64\\\\\n",
       "\t\\hline\n",
       "\t1 & 0.222279 & 0.836563 & 0.0240105 & 0.407143 & 0.17952 \\\\\n",
       "\t2 & 0.581014 & 0.189129 & 0.379578 & 0.135048 & 0.340468 \\\\\n",
       "\t3 & 0.661496 & 0.361389 & 0.0572603 & 0.0828427 & 0.851504 \\\\\n",
       "\\end{tabular}\n"
      ],
      "text/plain": [
       "3×5 DataFrame\n",
       "│ Row │ x1       │ x2       │ x3        │ x4        │ x5       │\n",
       "│     │ \u001b[90mFloat64\u001b[39m  │ \u001b[90mFloat64\u001b[39m  │ \u001b[90mFloat64\u001b[39m   │ \u001b[90mFloat64\u001b[39m   │ \u001b[90mFloat64\u001b[39m  │\n",
       "├─────┼──────────┼──────────┼───────────┼───────────┼──────────┤\n",
       "│ 1   │ 0.222279 │ 0.836563 │ 0.0240105 │ 0.407143  │ 0.17952  │\n",
       "│ 2   │ 0.581014 │ 0.189129 │ 0.379578  │ 0.135048  │ 0.340468 │\n",
       "│ 3   │ 0.661496 │ 0.361389 │ 0.0572603 │ 0.0828427 │ 0.851504 │"
      ]
     },
     "execution_count": 17,
     "metadata": {},
     "output_type": "execute_result"
    }
   ],
   "source": [
    "x = DataFrame(rand(3, 5))"
   ]
  },
  {
   "cell_type": "code",
   "execution_count": 18,
   "metadata": {},
   "outputs": [
    {
     "data": {
      "text/html": [
       "<table class=\"data-frame\"><thead><tr><th></th><th>x1</th><th>x2</th><th>x3</th><th>x4</th><th>x5</th></tr><tr><th></th><th>Float64</th><th>Float64</th><th>Float64</th><th>Float64</th><th>Float64</th></tr></thead><tbody><p>1 rows × 5 columns</p><tr><th>1</th><td>0.488263</td><td>0.462361</td><td>0.153616</td><td>0.208344</td><td>0.457164</td></tr></tbody></table>"
      ],
      "text/latex": [
       "\\begin{tabular}{r|ccccc}\n",
       "\t& x1 & x2 & x3 & x4 & x5\\\\\n",
       "\t\\hline\n",
       "\t& Float64 & Float64 & Float64 & Float64 & Float64\\\\\n",
       "\t\\hline\n",
       "\t1 & 0.488263 & 0.462361 & 0.153616 & 0.208344 & 0.457164 \\\\\n",
       "\\end{tabular}\n"
      ],
      "text/plain": [
       "1×5 DataFrame\n",
       "│ Row │ x1       │ x2       │ x3       │ x4       │ x5       │\n",
       "│     │ \u001b[90mFloat64\u001b[39m  │ \u001b[90mFloat64\u001b[39m  │ \u001b[90mFloat64\u001b[39m  │ \u001b[90mFloat64\u001b[39m  │ \u001b[90mFloat64\u001b[39m  │\n",
       "├─────┼──────────┼──────────┼──────────┼──────────┼──────────┤\n",
       "│ 1   │ 0.488263 │ 0.462361 │ 0.153616 │ 0.208344 │ 0.457164 │"
      ]
     },
     "execution_count": 18,
     "metadata": {},
     "output_type": "execute_result"
    }
   ],
   "source": [
    "mapcols(mean, x)"
   ]
  },
  {
   "cell_type": "code",
   "execution_count": 19,
   "metadata": {},
   "outputs": [
    {
     "data": {
      "text/plain": [
       "5-element Array{Float64,1}:\n",
       " 0.4882632939149169 \n",
       " 0.46236054918197445\n",
       " 0.15361644419219825\n",
       " 0.20834448031473243\n",
       " 0.45716366440042094"
      ]
     },
     "execution_count": 19,
     "metadata": {},
     "output_type": "execute_result"
    }
   ],
   "source": [
    "map(mean, eachcol(x, false)) # map a function over each column and return a vector"
   ]
  },
  {
   "cell_type": "code",
   "execution_count": 20,
   "metadata": {},
   "outputs": [
    {
     "name": "stdout",
     "output_type": "stream",
     "text": [
      "x1: 0.4882632939149169\n",
      "x2: 0.46236054918197445\n",
      "x3: 0.15361644419219825\n",
      "x4: 0.20834448031473243\n",
      "x5: 0.45716366440042094\n"
     ]
    }
   ],
   "source": [
    "foreach(c -> println(c[1], \": \", mean(c[2])), eachcol(x, true)) # an iteration returns a Pair with column name and values"
   ]
  },
  {
   "cell_type": "code",
   "execution_count": 21,
   "metadata": {},
   "outputs": [
    {
     "data": {
      "text/plain": [
       "3×5 Array{Float64,2}:\n",
       " 0.488263  0.462361  0.153616   0.208344   0.457164\n",
       " 0.222279  0.189129  0.0240105  0.0828427  0.17952 \n",
       " 0.661496  0.836563  0.379578   0.407143   0.851504"
      ]
     },
     "execution_count": 21,
     "metadata": {},
     "output_type": "execute_result"
    }
   ],
   "source": [
    "colwise([mean,minimum,maximum], x) # colwise is similar but accepts a vector of functions"
   ]
  },
  {
   "cell_type": "code",
   "execution_count": 22,
   "metadata": {},
   "outputs": [
    {
     "data": {
      "text/plain": [
       "2-element Array{Array{Float64,1},1}:\n",
       " [0.401647, 0.512846, 0.201795, 0.271095, 0.259994, 1.0]  \n",
       " [0.661496, 0.361389, 0.0572603, 0.0828427, 0.851504, 2.0]"
      ]
     },
     "execution_count": 22,
     "metadata": {},
     "output_type": "execute_result"
    }
   ],
   "source": [
    "x[:id] = [1,1,2]\n",
    "colwise(mean,groupby(x, :id)) # and it also works on GroupedDataFrame"
   ]
  },
  {
   "cell_type": "code",
   "execution_count": 23,
   "metadata": {},
   "outputs": [
    {
     "data": {
      "text/plain": [
       "3-element Array{Float64,1}:\n",
       " 0.2657053196699975\n",
       " 3.07205555708361  \n",
       " 1.8304242736715894"
      ]
     },
     "execution_count": 23,
     "metadata": {},
     "output_type": "execute_result"
    }
   ],
   "source": [
    "map(r -> r.x1/r.x2, eachrow(x)) # now the returned value is DataFrameRow which works similarly to a one-row DataFrame"
   ]
  }
 ],
 "metadata": {
  "kernelspec": {
   "display_name": "Julia 1.0.3",
   "language": "julia",
   "name": "julia-1.0"
  },
  "language_info": {
   "file_extension": ".jl",
   "mimetype": "application/julia",
   "name": "julia",
   "version": "1.0.3"
  }
 },
 "nbformat": 4,
 "nbformat_minor": 1
}
