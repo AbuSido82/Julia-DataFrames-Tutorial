{
 "cells": [
  {
   "cell_type": "markdown",
   "metadata": {},
   "source": [
    "# Introduction to DataFrames\n",
    "**[Bogumił Kamiński](http://bogumilkaminski.pl/about/), Dec 2, 2017**\n",
    "\n",
    "A brief introduction to basic usage of `DataFrames`. Tested under version `0.11`.\n",
    "I will try to keep it up to date as the package evolves."
   ]
  },
  {
   "cell_type": "code",
   "execution_count": 1,
   "metadata": {
    "collapsed": false
   },
   "outputs": [],
   "source": [
    "using DataFrames # load package"
   ]
  },
  {
   "cell_type": "markdown",
   "metadata": {},
   "source": [
    "## Getting basic information about a data frame"
   ]
  },
  {
   "cell_type": "code",
   "execution_count": 17,
   "metadata": {
    "collapsed": false
   },
   "outputs": [
    {
     "data": {
      "text/html": [
       "<table class=\"data-frame\"><thead><tr><th></th><th>A</th><th>B</th><th>C</th><th>D</th></tr></thead><tbody><tr><th>1</th><td>1</td><td>1.0</td><td>a</td><td>1</td></tr><tr><th>2</th><td>2</td><td>missing</td><td>b</td><td>a</td></tr></tbody></table>"
      ],
      "text/plain": [
       "2×4 DataFrames.DataFrame\n",
       "│ Row │ A │ B       │ C │ D │\n",
       "├─────┼───┼─────────┼───┼───┤\n",
       "│ 1   │ 1 │ 1.0     │ a │ 1 │\n",
       "│ 2   │ 2 │ \u001b[90mmissing\u001b[39m │ b │ a │"
      ]
     },
     "execution_count": 17,
     "metadata": {},
     "output_type": "execute_result"
    }
   ],
   "source": [
    "x = DataFrame(A = [1, 2], B = [1.0, missing], C = [\"a\", \"b\"], D = [1, \"a\"])"
   ]
  },
  {
   "cell_type": "code",
   "execution_count": 18,
   "metadata": {
    "collapsed": false
   },
   "outputs": [
    {
     "data": {
      "text/plain": [
       "((2, 4), 2, 4)"
      ]
     },
     "execution_count": 18,
     "metadata": {},
     "output_type": "execute_result"
    }
   ],
   "source": [
    "size(x), size(x, 1), size(x, 2)"
   ]
  },
  {
   "cell_type": "code",
   "execution_count": 19,
   "metadata": {
    "collapsed": false
   },
   "outputs": [
    {
     "data": {
      "text/plain": [
       "(2, 4, 4)"
      ]
     },
     "execution_count": 19,
     "metadata": {},
     "output_type": "execute_result"
    }
   ],
   "source": [
    "nrow(x), ncol(x), length(x)"
   ]
  },
  {
   "cell_type": "code",
   "execution_count": 20,
   "metadata": {
    "collapsed": false
   },
   "outputs": [
    {
     "name": "stdout",
     "output_type": "stream",
     "text": [
      "A\n",
      "Summary Stats:\n",
      "Mean:           1.500000\n",
      "Minimum:        1.000000\n",
      "1st Quartile:   1.250000\n",
      "Median:         1.500000\n",
      "3rd Quartile:   1.750000\n",
      "Maximum:        2.000000\n",
      "Length:         2\n",
      "Type:           Int64\n",
      "\n",
      "B\n",
      "Summary Stats:\n",
      "Mean:           1.000000\n",
      "Minimum:        1.000000\n",
      "1st Quartile:   1.000000\n",
      "Median:         1.000000\n",
      "3rd Quartile:   1.000000\n",
      "Maximum:        1.000000\n",
      "Length:         2\n",
      "Type:           Union{Float64, Missings.Missing}\n",
      "Number Missing: 1\n",
      "% Missing:      50.000000\n",
      "\n",
      "C\n",
      "Summary Stats:\n",
      "Length:         2\n",
      "Type:           String\n",
      "Number Unique:  2\n",
      "\n",
      "D\n",
      "Summary Stats:\n",
      "Length:         2\n",
      "Type:           Any\n",
      "Number Unique:  2\n",
      "Number Missing: 0\n",
      "% Missing:      0.000000\n",
      "\n"
     ]
    }
   ],
   "source": [
    "describe(x)"
   ]
  },
  {
   "cell_type": "code",
   "execution_count": 21,
   "metadata": {
    "collapsed": false
   },
   "outputs": [
    {
     "name": "stdout",
     "output_type": "stream",
     "text": [
      "2×4 DataFrames.DataFrame\n",
      "│ Col # │ Name │ Eltype                           │ Missing │ Values          │\n",
      "├───────┼──────┼──────────────────────────────────┼─────────┼─────────────────┤\n",
      "│ 1     │ A    │ Int64                            │ 0       │ 1  …  2         │\n",
      "│ 2     │ B    │ Union{Float64, Missings.Missing} │ 1       │ 1.0  …  missing │\n",
      "│ 3     │ C    │ String                           │ 0       │ a  …  b         │\n",
      "│ 4     │ D    │ Any                              │ 0       │ 1  …  a         │"
     ]
    }
   ],
   "source": [
    "showcols(x)"
   ]
  },
  {
   "cell_type": "code",
   "execution_count": 22,
   "metadata": {
    "collapsed": false
   },
   "outputs": [
    {
     "data": {
      "text/plain": [
       "4-element Array{Symbol,1}:\n",
       " :A\n",
       " :B\n",
       " :C\n",
       " :D"
      ]
     },
     "execution_count": 22,
     "metadata": {},
     "output_type": "execute_result"
    }
   ],
   "source": [
    "names(x)"
   ]
  },
  {
   "cell_type": "code",
   "execution_count": 23,
   "metadata": {
    "collapsed": false
   },
   "outputs": [
    {
     "data": {
      "text/plain": [
       "4-element Array{Type,1}:\n",
       " Int64                           \n",
       " Union{Float64, Missings.Missing}\n",
       " String                          \n",
       " Any                             "
      ]
     },
     "execution_count": 23,
     "metadata": {},
     "output_type": "execute_result"
    }
   ],
   "source": [
    "eltypes(x)"
   ]
  },
  {
   "cell_type": "code",
   "execution_count": 24,
   "metadata": {
    "collapsed": false
   },
   "outputs": [
    {
     "data": {
      "text/html": [
       "<table class=\"data-frame\"><thead><tr><th></th><th>x1</th><th>x2</th><th>x3</th><th>x4</th><th>x5</th><th>x6</th><th>x7</th><th>x8</th><th>x9</th><th>x10</th></tr></thead><tbody><tr><th>1</th><td>5</td><td>2</td><td>8</td><td>3</td><td>7</td><td>7</td><td>1</td><td>10</td><td>6</td><td>1</td></tr><tr><th>2</th><td>4</td><td>3</td><td>4</td><td>10</td><td>1</td><td>6</td><td>8</td><td>2</td><td>7</td><td>6</td></tr><tr><th>3</th><td>3</td><td>6</td><td>1</td><td>5</td><td>9</td><td>1</td><td>5</td><td>7</td><td>7</td><td>5</td></tr><tr><th>4</th><td>6</td><td>1</td><td>4</td><td>7</td><td>3</td><td>6</td><td>6</td><td>7</td><td>2</td><td>4</td></tr><tr><th>5</th><td>6</td><td>9</td><td>8</td><td>6</td><td>4</td><td>10</td><td>6</td><td>5</td><td>1</td><td>10</td></tr><tr><th>6</th><td>4</td><td>8</td><td>9</td><td>3</td><td>3</td><td>4</td><td>1</td><td>7</td><td>3</td><td>1</td></tr><tr><th>7</th><td>3</td><td>9</td><td>4</td><td>5</td><td>6</td><td>10</td><td>7</td><td>7</td><td>6</td><td>8</td></tr><tr><th>8</th><td>4</td><td>5</td><td>6</td><td>9</td><td>1</td><td>2</td><td>4</td><td>6</td><td>2</td><td>9</td></tr><tr><th>9</th><td>5</td><td>3</td><td>1</td><td>8</td><td>5</td><td>2</td><td>7</td><td>6</td><td>7</td><td>8</td></tr><tr><th>10</th><td>4</td><td>3</td><td>9</td><td>6</td><td>2</td><td>1</td><td>3</td><td>6</td><td>7</td><td>1</td></tr><tr><th>11</th><td>10</td><td>7</td><td>5</td><td>9</td><td>9</td><td>4</td><td>4</td><td>9</td><td>9</td><td>9</td></tr><tr><th>12</th><td>1</td><td>8</td><td>10</td><td>10</td><td>3</td><td>2</td><td>7</td><td>1</td><td>5</td><td>1</td></tr><tr><th>13</th><td>8</td><td>7</td><td>7</td><td>9</td><td>7</td><td>9</td><td>5</td><td>9</td><td>5</td><td>1</td></tr><tr><th>14</th><td>1</td><td>2</td><td>8</td><td>1</td><td>4</td><td>8</td><td>3</td><td>5</td><td>4</td><td>4</td></tr><tr><th>15</th><td>9</td><td>6</td><td>5</td><td>8</td><td>9</td><td>2</td><td>5</td><td>6</td><td>2</td><td>1</td></tr><tr><th>16</th><td>2</td><td>3</td><td>10</td><td>8</td><td>6</td><td>5</td><td>5</td><td>2</td><td>2</td><td>4</td></tr><tr><th>17</th><td>3</td><td>8</td><td>5</td><td>3</td><td>3</td><td>8</td><td>5</td><td>6</td><td>1</td><td>4</td></tr><tr><th>18</th><td>7</td><td>3</td><td>9</td><td>8</td><td>9</td><td>2</td><td>6</td><td>5</td><td>8</td><td>2</td></tr><tr><th>19</th><td>3</td><td>1</td><td>9</td><td>1</td><td>5</td><td>5</td><td>8</td><td>9</td><td>10</td><td>7</td></tr><tr><th>20</th><td>6</td><td>3</td><td>6</td><td>7</td><td>7</td><td>3</td><td>2</td><td>7</td><td>1</td><td>6</td></tr></tbody></table>"
      ],
      "text/plain": [
       "20×10 DataFrames.DataFrame\n",
       "│ Row │ x1 │ x2 │ x3 │ x4 │ x5 │ x6 │ x7 │ x8 │ x9 │ x10 │\n",
       "├─────┼────┼────┼────┼────┼────┼────┼────┼────┼────┼─────┤\n",
       "│ 1   │ 5  │ 2  │ 8  │ 3  │ 7  │ 7  │ 1  │ 10 │ 6  │ 1   │\n",
       "│ 2   │ 4  │ 3  │ 4  │ 10 │ 1  │ 6  │ 8  │ 2  │ 7  │ 6   │\n",
       "│ 3   │ 3  │ 6  │ 1  │ 5  │ 9  │ 1  │ 5  │ 7  │ 7  │ 5   │\n",
       "│ 4   │ 6  │ 1  │ 4  │ 7  │ 3  │ 6  │ 6  │ 7  │ 2  │ 4   │\n",
       "│ 5   │ 6  │ 9  │ 8  │ 6  │ 4  │ 10 │ 6  │ 5  │ 1  │ 10  │\n",
       "│ 6   │ 4  │ 8  │ 9  │ 3  │ 3  │ 4  │ 1  │ 7  │ 3  │ 1   │\n",
       "│ 7   │ 3  │ 9  │ 4  │ 5  │ 6  │ 10 │ 7  │ 7  │ 6  │ 8   │\n",
       "│ 8   │ 4  │ 5  │ 6  │ 9  │ 1  │ 2  │ 4  │ 6  │ 2  │ 9   │\n",
       "│ 9   │ 5  │ 3  │ 1  │ 8  │ 5  │ 2  │ 7  │ 6  │ 7  │ 8   │\n",
       "│ 10  │ 4  │ 3  │ 9  │ 6  │ 2  │ 1  │ 3  │ 6  │ 7  │ 1   │\n",
       "│ 11  │ 10 │ 7  │ 5  │ 9  │ 9  │ 4  │ 4  │ 9  │ 9  │ 9   │\n",
       "│ 12  │ 1  │ 8  │ 10 │ 10 │ 3  │ 2  │ 7  │ 1  │ 5  │ 1   │\n",
       "│ 13  │ 8  │ 7  │ 7  │ 9  │ 7  │ 9  │ 5  │ 9  │ 5  │ 1   │\n",
       "│ 14  │ 1  │ 2  │ 8  │ 1  │ 4  │ 8  │ 3  │ 5  │ 4  │ 4   │\n",
       "│ 15  │ 9  │ 6  │ 5  │ 8  │ 9  │ 2  │ 5  │ 6  │ 2  │ 1   │\n",
       "│ 16  │ 2  │ 3  │ 10 │ 8  │ 6  │ 5  │ 5  │ 2  │ 2  │ 4   │\n",
       "│ 17  │ 3  │ 8  │ 5  │ 3  │ 3  │ 8  │ 5  │ 6  │ 1  │ 4   │\n",
       "│ 18  │ 7  │ 3  │ 9  │ 8  │ 9  │ 2  │ 6  │ 5  │ 8  │ 2   │\n",
       "│ 19  │ 3  │ 1  │ 9  │ 1  │ 5  │ 5  │ 8  │ 9  │ 10 │ 7   │\n",
       "│ 20  │ 6  │ 3  │ 6  │ 7  │ 7  │ 3  │ 2  │ 7  │ 1  │ 6   │"
      ]
     },
     "execution_count": 24,
     "metadata": {},
     "output_type": "execute_result"
    }
   ],
   "source": [
    "y = DataFrame(rand(1:10, 20, 10))"
   ]
  },
  {
   "cell_type": "code",
   "execution_count": 25,
   "metadata": {
    "collapsed": false
   },
   "outputs": [
    {
     "data": {
      "text/html": [
       "<table class=\"data-frame\"><thead><tr><th></th><th>x1</th><th>x2</th><th>x3</th><th>x4</th><th>x5</th><th>x6</th><th>x7</th><th>x8</th><th>x9</th><th>x10</th></tr></thead><tbody><tr><th>1</th><td>5</td><td>2</td><td>8</td><td>3</td><td>7</td><td>7</td><td>1</td><td>10</td><td>6</td><td>1</td></tr><tr><th>2</th><td>4</td><td>3</td><td>4</td><td>10</td><td>1</td><td>6</td><td>8</td><td>2</td><td>7</td><td>6</td></tr><tr><th>3</th><td>3</td><td>6</td><td>1</td><td>5</td><td>9</td><td>1</td><td>5</td><td>7</td><td>7</td><td>5</td></tr><tr><th>4</th><td>6</td><td>1</td><td>4</td><td>7</td><td>3</td><td>6</td><td>6</td><td>7</td><td>2</td><td>4</td></tr><tr><th>5</th><td>6</td><td>9</td><td>8</td><td>6</td><td>4</td><td>10</td><td>6</td><td>5</td><td>1</td><td>10</td></tr><tr><th>6</th><td>4</td><td>8</td><td>9</td><td>3</td><td>3</td><td>4</td><td>1</td><td>7</td><td>3</td><td>1</td></tr></tbody></table>"
      ],
      "text/plain": [
       "6×10 DataFrames.DataFrame\n",
       "│ Row │ x1 │ x2 │ x3 │ x4 │ x5 │ x6 │ x7 │ x8 │ x9 │ x10 │\n",
       "├─────┼────┼────┼────┼────┼────┼────┼────┼────┼────┼─────┤\n",
       "│ 1   │ 5  │ 2  │ 8  │ 3  │ 7  │ 7  │ 1  │ 10 │ 6  │ 1   │\n",
       "│ 2   │ 4  │ 3  │ 4  │ 10 │ 1  │ 6  │ 8  │ 2  │ 7  │ 6   │\n",
       "│ 3   │ 3  │ 6  │ 1  │ 5  │ 9  │ 1  │ 5  │ 7  │ 7  │ 5   │\n",
       "│ 4   │ 6  │ 1  │ 4  │ 7  │ 3  │ 6  │ 6  │ 7  │ 2  │ 4   │\n",
       "│ 5   │ 6  │ 9  │ 8  │ 6  │ 4  │ 10 │ 6  │ 5  │ 1  │ 10  │\n",
       "│ 6   │ 4  │ 8  │ 9  │ 3  │ 3  │ 4  │ 1  │ 7  │ 3  │ 1   │"
      ]
     },
     "execution_count": 25,
     "metadata": {},
     "output_type": "execute_result"
    }
   ],
   "source": [
    "head(y)"
   ]
  },
  {
   "cell_type": "code",
   "execution_count": 26,
   "metadata": {
    "collapsed": false
   },
   "outputs": [
    {
     "data": {
      "text/html": [
       "<table class=\"data-frame\"><thead><tr><th></th><th>x1</th><th>x2</th><th>x3</th><th>x4</th><th>x5</th><th>x6</th><th>x7</th><th>x8</th><th>x9</th><th>x10</th></tr></thead><tbody><tr><th>1</th><td>7</td><td>3</td><td>9</td><td>8</td><td>9</td><td>2</td><td>6</td><td>5</td><td>8</td><td>2</td></tr><tr><th>2</th><td>3</td><td>1</td><td>9</td><td>1</td><td>5</td><td>5</td><td>8</td><td>9</td><td>10</td><td>7</td></tr><tr><th>3</th><td>6</td><td>3</td><td>6</td><td>7</td><td>7</td><td>3</td><td>2</td><td>7</td><td>1</td><td>6</td></tr></tbody></table>"
      ],
      "text/plain": [
       "3×10 DataFrames.DataFrame\n",
       "│ Row │ x1 │ x2 │ x3 │ x4 │ x5 │ x6 │ x7 │ x8 │ x9 │ x10 │\n",
       "├─────┼────┼────┼────┼────┼────┼────┼────┼────┼────┼─────┤\n",
       "│ 1   │ 7  │ 3  │ 9  │ 8  │ 9  │ 2  │ 6  │ 5  │ 8  │ 2   │\n",
       "│ 2   │ 3  │ 1  │ 9  │ 1  │ 5  │ 5  │ 8  │ 9  │ 10 │ 7   │\n",
       "│ 3   │ 6  │ 3  │ 6  │ 7  │ 7  │ 3  │ 2  │ 7  │ 1  │ 6   │"
      ]
     },
     "execution_count": 26,
     "metadata": {},
     "output_type": "execute_result"
    }
   ],
   "source": [
    "tail(y, 3)"
   ]
  }
 ],
 "metadata": {
  "kernelspec": {
   "display_name": "Julia 0.6.0",
   "language": "julia",
   "name": "julia-0.6"
  },
  "language_info": {
   "file_extension": ".jl",
   "mimetype": "application/julia",
   "name": "julia",
   "version": "0.6.1"
  }
 },
 "nbformat": 4,
 "nbformat_minor": 0
}
