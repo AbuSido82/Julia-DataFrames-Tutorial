{
 "cells": [
  {
   "cell_type": "markdown",
   "metadata": {},
   "source": [
    "# Introduction to DataFrames\n",
    "**[Bogumił Kamiński](http://bogumilkaminski.pl/about/), December 9, 2018**"
   ]
  },
  {
   "cell_type": "code",
   "execution_count": 1,
   "metadata": {},
   "outputs": [],
   "source": [
    "using DataFrames"
   ]
  },
  {
   "cell_type": "markdown",
   "metadata": {},
   "source": [
    "## Possible pitfalls"
   ]
  },
  {
   "cell_type": "markdown",
   "metadata": {},
   "source": [
    "### Know what is copied when creating a `DataFrame`"
   ]
  },
  {
   "cell_type": "code",
   "execution_count": 2,
   "metadata": {},
   "outputs": [
    {
     "data": {
      "text/html": [
       "<table class=\"data-frame\"><thead><tr><th></th><th>x1</th><th>x2</th><th>x3</th><th>x4</th><th>x5</th></tr><tr><th></th><th>Float64</th><th>Float64</th><th>Float64</th><th>Float64</th><th>Float64</th></tr></thead><tbody><p>3 rows × 5 columns</p><tr><th>1</th><td>0.641023</td><td>0.848304</td><td>0.49703</td><td>0.216958</td><td>0.585984</td></tr><tr><th>2</th><td>0.326486</td><td>0.443172</td><td>0.390857</td><td>0.331882</td><td>0.960979</td></tr><tr><th>3</th><td>0.282608</td><td>0.53563</td><td>0.444903</td><td>0.698256</td><td>0.867249</td></tr></tbody></table>"
      ],
      "text/latex": [
       "\\begin{tabular}{r|ccccc}\n",
       "\t& x1 & x2 & x3 & x4 & x5\\\\\n",
       "\t\\hline\n",
       "\t1 & 0.641023 & 0.848304 & 0.49703 & 0.216958 & 0.585984 \\\\\n",
       "\t2 & 0.326486 & 0.443172 & 0.390857 & 0.331882 & 0.960979 \\\\\n",
       "\t3 & 0.282608 & 0.53563 & 0.444903 & 0.698256 & 0.867249 \\\\\n",
       "\\end{tabular}\n"
      ],
      "text/plain": [
       "3×5 DataFrame\n",
       "│ Row │ x1       │ x2       │ x3       │ x4       │ x5       │\n",
       "│     │ \u001b[90mFloat64\u001b[39m  │ \u001b[90mFloat64\u001b[39m  │ \u001b[90mFloat64\u001b[39m  │ \u001b[90mFloat64\u001b[39m  │ \u001b[90mFloat64\u001b[39m  │\n",
       "├─────┼──────────┼──────────┼──────────┼──────────┼──────────┤\n",
       "│ 1   │ 0.641023 │ 0.848304 │ 0.49703  │ 0.216958 │ 0.585984 │\n",
       "│ 2   │ 0.326486 │ 0.443172 │ 0.390857 │ 0.331882 │ 0.960979 │\n",
       "│ 3   │ 0.282608 │ 0.53563  │ 0.444903 │ 0.698256 │ 0.867249 │"
      ]
     },
     "execution_count": 2,
     "metadata": {},
     "output_type": "execute_result"
    }
   ],
   "source": [
    "x = DataFrame(rand(3, 5))"
   ]
  },
  {
   "cell_type": "code",
   "execution_count": 3,
   "metadata": {},
   "outputs": [
    {
     "data": {
      "text/plain": [
       "true"
      ]
     },
     "execution_count": 3,
     "metadata": {},
     "output_type": "execute_result"
    }
   ],
   "source": [
    "y = convert(DataFrame, x) # after https://github.com/JuliaData/DataFrames.jl/pull/1489 is released also DataFrame(x)\n",
    "x === y # no copyinng performed"
   ]
  },
  {
   "cell_type": "code",
   "execution_count": 4,
   "metadata": {},
   "outputs": [
    {
     "data": {
      "text/plain": [
       "false"
      ]
     },
     "execution_count": 4,
     "metadata": {},
     "output_type": "execute_result"
    }
   ],
   "source": [
    "y = copy(x)\n",
    "x === y # not the same object"
   ]
  },
  {
   "cell_type": "code",
   "execution_count": 5,
   "metadata": {},
   "outputs": [
    {
     "data": {
      "text/plain": [
       "true"
      ]
     },
     "execution_count": 5,
     "metadata": {},
     "output_type": "execute_result"
    }
   ],
   "source": [
    "all(x[i] === y[i] for i in ncol(x)) # but the columns are the same"
   ]
  },
  {
   "cell_type": "code",
   "execution_count": 6,
   "metadata": {},
   "outputs": [
    {
     "data": {
      "text/html": [
       "<table class=\"data-frame\"><thead><tr><th></th><th>x</th><th>y</th></tr><tr><th></th><th>Int64</th><th>Int64</th></tr></thead><tbody><p>3 rows × 2 columns</p><tr><th>1</th><td>1</td><td>1</td></tr><tr><th>2</th><td>2</td><td>2</td></tr><tr><th>3</th><td>3</td><td>3</td></tr></tbody></table>"
      ],
      "text/latex": [
       "\\begin{tabular}{r|cc}\n",
       "\t& x & y\\\\\n",
       "\t\\hline\n",
       "\t1 & 1 & 1 \\\\\n",
       "\t2 & 2 & 2 \\\\\n",
       "\t3 & 3 & 3 \\\\\n",
       "\\end{tabular}\n"
      ],
      "text/plain": [
       "3×2 DataFrame\n",
       "│ Row │ x     │ y     │\n",
       "│     │ \u001b[90mInt64\u001b[39m │ \u001b[90mInt64\u001b[39m │\n",
       "├─────┼───────┼───────┤\n",
       "│ 1   │ 1     │ 1     │\n",
       "│ 2   │ 2     │ 2     │\n",
       "│ 3   │ 3     │ 3     │"
      ]
     },
     "execution_count": 6,
     "metadata": {},
     "output_type": "execute_result"
    }
   ],
   "source": [
    "x = 1:3; y = [1, 2, 3]; df = DataFrame(x=x,y=y) # the same when creating arrays or assigning columns, except ranges"
   ]
  },
  {
   "cell_type": "code",
   "execution_count": 7,
   "metadata": {},
   "outputs": [
    {
     "data": {
      "text/plain": [
       "true"
      ]
     },
     "execution_count": 7,
     "metadata": {},
     "output_type": "execute_result"
    }
   ],
   "source": [
    "y === df[:y] # the same object"
   ]
  },
  {
   "cell_type": "code",
   "execution_count": 8,
   "metadata": {},
   "outputs": [
    {
     "data": {
      "text/plain": [
       "(UnitRange{Int64}, Array{Int64,1})"
      ]
     },
     "execution_count": 8,
     "metadata": {},
     "output_type": "execute_result"
    }
   ],
   "source": [
    "typeof(x), typeof(df[:x]) # range is converted to a vector"
   ]
  },
  {
   "cell_type": "markdown",
   "metadata": {},
   "source": [
    "### Do not modify the parent of `GroupedDataFrame` or `view`"
   ]
  },
  {
   "cell_type": "code",
   "execution_count": 9,
   "metadata": {},
   "outputs": [
    {
     "data": {
      "text/plain": [
       "GroupedDataFrame{DataFrame} with 2 groups based on key: :id\n",
       "First Group: 3 rows\n",
       "│ Row │ id    │ x     │\n",
       "│     │ \u001b[90mInt64\u001b[39m │ \u001b[90mInt64\u001b[39m │\n",
       "├─────┼───────┼───────┤\n",
       "│ 1   │ 1     │ 1     │\n",
       "│ 2   │ 1     │ 3     │\n",
       "│ 3   │ 1     │ 5     │\n",
       "⋮\n",
       "Last Group: 3 rows\n",
       "│ Row │ id    │ x     │\n",
       "│     │ \u001b[90mInt64\u001b[39m │ \u001b[90mInt64\u001b[39m │\n",
       "├─────┼───────┼───────┤\n",
       "│ 1   │ 2     │ 2     │\n",
       "│ 2   │ 2     │ 4     │\n",
       "│ 3   │ 2     │ 6     │"
      ]
     },
     "execution_count": 9,
     "metadata": {},
     "output_type": "execute_result"
    }
   ],
   "source": [
    "x = DataFrame(id=repeat([1,2], outer=3), x=1:6)\n",
    "g = groupby(x, :id)"
   ]
  },
  {
   "cell_type": "code",
   "execution_count": 10,
   "metadata": {},
   "outputs": [
    {
     "data": {
      "text/plain": [
       "GroupedDataFrame{DataFrame} with 2 groups based on key: :id\n",
       "First Group: 3 rows\n",
       "│ Row │ id    │ x     │\n",
       "│     │ \u001b[90mInt64\u001b[39m │ \u001b[90mInt64\u001b[39m │\n",
       "├─────┼───────┼───────┤\n",
       "│ 1   │ 2     │ 1     │\n",
       "│ 2   │ 2     │ 3     │\n",
       "│ 3   │ 1     │ 5     │\n",
       "⋮\n",
       "Last Group: 3 rows\n",
       "│ Row │ id    │ x     │\n",
       "│     │ \u001b[90mInt64\u001b[39m │ \u001b[90mInt64\u001b[39m │\n",
       "├─────┼───────┼───────┤\n",
       "│ 1   │ 2     │ 2     │\n",
       "│ 2   │ 2     │ 4     │\n",
       "│ 3   │ 2     │ 6     │"
      ]
     },
     "execution_count": 10,
     "metadata": {},
     "output_type": "execute_result"
    }
   ],
   "source": [
    "x[1:3, 1]=[2,2,2]\n",
    "g # well - it is wrong now, g is only a view"
   ]
  },
  {
   "cell_type": "code",
   "execution_count": 11,
   "metadata": {},
   "outputs": [
    {
     "name": "stderr",
     "output_type": "stream",
     "text": [
      "┌ Warning: `sdf[colind]` will create a view of `parent(sdf)[colind]` in the future. Use sdf[:, colind]` to get a freshly allocated vector.\n",
      "│   caller = show(::IOContext{Base.GenericIOBuffer{Array{UInt8,1}}}, ::MIME{Symbol(\"text/html\")}, ::SubDataFrame{UnitRange{Int64}}) at io.jl:108\n",
      "└ @ DataFrames C:\\Users\\bogum\\.julia\\packages\\DataFrames\\KUWId\\src\\abstractdataframe\\io.jl:108\n"
     ]
    },
    {
     "data": {
      "text/html": [
       "<table class=\"data-frame\"><thead><tr><th></th><th>id</th><th>x</th></tr><tr><th></th><th>Int64</th><th>Int64</th></tr></thead><tbody><p>2 rows × 2 columns</p><tr><th>1</th><td>1</td><td>5</td></tr><tr><th>2</th><td>2</td><td>6</td></tr></tbody></table>"
      ],
      "text/latex": [
       "\\begin{tabular}{r|cc}\n",
       "\t& id & x\\\\\n",
       "\t\\hline\n",
       "\t1 & 1 & 5 \\\\\n",
       "\t2 & 2 & 6 \\\\\n",
       "\\end{tabular}\n"
      ],
      "text/plain": [
       "2×2 SubDataFrame{UnitRange{Int64}}\n",
       "│ Row │ id    │ x     │\n",
       "│     │ \u001b[90mInt64\u001b[39m │ \u001b[90mInt64\u001b[39m │\n",
       "├─────┼───────┼───────┤\n",
       "│ 1   │ 1     │ 5     │\n",
       "│ 2   │ 2     │ 6     │"
      ]
     },
     "execution_count": 11,
     "metadata": {},
     "output_type": "execute_result"
    },
    {
     "name": "stderr",
     "output_type": "stream",
     "text": [
      "┌ Warning: `sdf[colind]` will create a view of `parent(sdf)[colind]` in the future. Use sdf[:, colind]` to get a freshly allocated vector.\n",
      "│   caller = show(::IOContext{Base.GenericIOBuffer{Array{UInt8,1}}}, ::MIME{Symbol(\"text/html\")}, ::SubDataFrame{UnitRange{Int64}}) at io.jl:127\n",
      "└ @ DataFrames C:\\Users\\bogum\\.julia\\packages\\DataFrames\\KUWId\\src\\abstractdataframe\\io.jl:127\n",
      "┌ Warning: `sdf[colind]` will create a view of `parent(sdf)[colind]` in the future. Use sdf[:, colind]` to get a freshly allocated vector.\n",
      "│   caller = show(::IOContext{Base.GenericIOBuffer{Array{UInt8,1}}}, ::MIME{Symbol(\"text/latex\")}, ::SubDataFrame{UnitRange{Int64}}) at io.jl:185\n",
      "└ @ DataFrames C:\\Users\\bogum\\.julia\\packages\\DataFrames\\KUWId\\src\\abstractdataframe\\io.jl:185\n"
     ]
    }
   ],
   "source": [
    "s = view(x, 5:6, :)"
   ]
  },
  {
   "cell_type": "code",
   "execution_count": 12,
   "metadata": {},
   "outputs": [
    {
     "data": {
      "text/html": [
       "<table class=\"data-frame\"><thead><tr><th></th><th>id</th><th>x</th></tr><tr><th></th><th>Int64</th><th>Int64</th></tr></thead><tbody><p>2 rows × 2 columns</p><tr><th>1</th><td>2</td><td>1</td></tr><tr><th>2</th><td>2</td><td>2</td></tr></tbody></table>"
      ],
      "text/latex": [
       "\\begin{tabular}{r|cc}\n",
       "\t& id & x\\\\\n",
       "\t\\hline\n",
       "\t1 & 2 & 1 \\\\\n",
       "\t2 & 2 & 2 \\\\\n",
       "\\end{tabular}\n"
      ],
      "text/plain": [
       "2×2 DataFrame\n",
       "│ Row │ id    │ x     │\n",
       "│     │ \u001b[90mInt64\u001b[39m │ \u001b[90mInt64\u001b[39m │\n",
       "├─────┼───────┼───────┤\n",
       "│ 1   │ 2     │ 1     │\n",
       "│ 2   │ 2     │ 2     │"
      ]
     },
     "execution_count": 12,
     "metadata": {},
     "output_type": "execute_result"
    }
   ],
   "source": [
    "deleterows!(x, 3:6)"
   ]
  },
  {
   "cell_type": "code",
   "execution_count": 13,
   "metadata": {},
   "outputs": [
    {
     "ename": "BoundsError",
     "evalue": "BoundsError: attempt to access 2-element Array{Int64,1} at index [5:6]",
     "output_type": "error",
     "traceback": [
      "BoundsError: attempt to access 2-element Array{Int64,1} at index [5:6]",
      "",
      "Stacktrace:",
      " [1] throw_boundserror(::Array{Int64,1}, ::Tuple{UnitRange{Int64}}) at .\\abstractarray.jl:484",
      " [2] checkbounds at .\\abstractarray.jl:449 [inlined]",
      " [3] getindex(::Array{Int64,1}, ::UnitRange{Int64}) at .\\array.jl:737",
      " [4] getindex(::DataFrame, ::UnitRange{Int64}, ::Int64) at C:\\Users\\bogum\\.julia\\packages\\DataFrames\\KUWId\\src\\dataframe\\dataframe.jl:295",
      " [5] getindex at C:\\Users\\bogum\\.julia\\packages\\DataFrames\\KUWId\\src\\subdataframe\\subdataframe.jl:199 [inlined]",
      " [6] getmaxwidths(::SubDataFrame{UnitRange{Int64}}, ::UnitRange{Int64}, ::UnitRange{Int64}, ::Symbol) at C:\\Users\\bogum\\.julia\\packages\\DataFrames\\KUWId\\src\\deprecated.jl:1781",
      " [7] #show#233(::Bool, ::Bool, ::Bool, ::Symbol, ::Bool, ::Function, ::IOContext{Base.GenericIOBuffer{Array{UInt8,1}}}, ::SubDataFrame{UnitRange{Int64}}) at C:\\Users\\bogum\\.julia\\packages\\DataFrames\\KUWId\\src\\abstractdataframe\\show.jl:561",
      " [8] show(::IOContext{Base.GenericIOBuffer{Array{UInt8,1}}}, ::SubDataFrame{UnitRange{Int64}}) at C:\\Users\\bogum\\.julia\\packages\\DataFrames\\KUWId\\src\\abstractdataframe\\show.jl:549",
      " [9] show at .\\sysimg.jl:194 [inlined]",
      " [10] limitstringmime(::MIME{Symbol(\"text/plain\")}, ::SubDataFrame{UnitRange{Int64}}) at C:\\Users\\bogum\\.julia\\packages\\IJulia\\DL02A\\src\\inline.jl:37",
      " [11] display_mimestring(::MIME{Symbol(\"text/plain\")}, ::SubDataFrame{UnitRange{Int64}}) at C:\\Users\\bogum\\.julia\\packages\\IJulia\\DL02A\\src\\display.jl:66",
      " [12] display_dict(::SubDataFrame{UnitRange{Int64}}) at C:\\Users\\bogum\\.julia\\packages\\IJulia\\DL02A\\src\\display.jl:95",
      " [13] #invokelatest#1 at .\\essentials.jl:697 [inlined]",
      " [14] invokelatest at .\\essentials.jl:696 [inlined]",
      " [15] execute_request(::ZMQ.Socket, ::IJulia.Msg) at C:\\Users\\bogum\\.julia\\packages\\IJulia\\DL02A\\src\\execute_request.jl:97",
      " [16] #invokelatest#1 at .\\essentials.jl:697 [inlined]",
      " [17] invokelatest at .\\essentials.jl:696 [inlined]",
      " [18] eventloop(::ZMQ.Socket) at C:\\Users\\bogum\\.julia\\packages\\IJulia\\DL02A\\src\\eventloop.jl:8",
      " [19] (::getfield(IJulia, Symbol(\"##12#15\")))() at .\\task.jl:259"
     ]
    }
   ],
   "source": [
    "s # error"
   ]
  },
  {
   "cell_type": "markdown",
   "metadata": {},
   "source": [
    "### Remember that you can filter columns of a `DataFrame` using booleans"
   ]
  },
  {
   "cell_type": "code",
   "execution_count": 14,
   "metadata": {},
   "outputs": [
    {
     "data": {
      "text/html": [
       "<table class=\"data-frame\"><thead><tr><th></th><th>x1</th><th>x2</th><th>x3</th><th>x4</th><th>x5</th></tr><tr><th></th><th>Float64</th><th>Float64</th><th>Float64</th><th>Float64</th><th>Float64</th></tr></thead><tbody><p>5 rows × 5 columns</p><tr><th>1</th><td>0.236033</td><td>0.210968</td><td>0.555751</td><td>0.209472</td><td>0.0769509</td></tr><tr><th>2</th><td>0.346517</td><td>0.951916</td><td>0.437108</td><td>0.251379</td><td>0.640396</td></tr><tr><th>3</th><td>0.312707</td><td>0.999905</td><td>0.424718</td><td>0.0203749</td><td>0.873544</td></tr><tr><th>4</th><td>0.00790928</td><td>0.251662</td><td>0.773223</td><td>0.287702</td><td>0.278582</td></tr><tr><th>5</th><td>0.488613</td><td>0.986666</td><td>0.28119</td><td>0.859512</td><td>0.751313</td></tr></tbody></table>"
      ],
      "text/latex": [
       "\\begin{tabular}{r|ccccc}\n",
       "\t& x1 & x2 & x3 & x4 & x5\\\\\n",
       "\t\\hline\n",
       "\t1 & 0.236033 & 0.210968 & 0.555751 & 0.209472 & 0.0769509 \\\\\n",
       "\t2 & 0.346517 & 0.951916 & 0.437108 & 0.251379 & 0.640396 \\\\\n",
       "\t3 & 0.312707 & 0.999905 & 0.424718 & 0.0203749 & 0.873544 \\\\\n",
       "\t4 & 0.00790928 & 0.251662 & 0.773223 & 0.287702 & 0.278582 \\\\\n",
       "\t5 & 0.488613 & 0.986666 & 0.28119 & 0.859512 & 0.751313 \\\\\n",
       "\\end{tabular}\n"
      ],
      "text/plain": [
       "5×5 DataFrame\n",
       "│ Row │ x1         │ x2       │ x3       │ x4        │ x5        │\n",
       "│     │ \u001b[90mFloat64\u001b[39m    │ \u001b[90mFloat64\u001b[39m  │ \u001b[90mFloat64\u001b[39m  │ \u001b[90mFloat64\u001b[39m   │ \u001b[90mFloat64\u001b[39m   │\n",
       "├─────┼────────────┼──────────┼──────────┼───────────┼───────────┤\n",
       "│ 1   │ 0.236033   │ 0.210968 │ 0.555751 │ 0.209472  │ 0.0769509 │\n",
       "│ 2   │ 0.346517   │ 0.951916 │ 0.437108 │ 0.251379  │ 0.640396  │\n",
       "│ 3   │ 0.312707   │ 0.999905 │ 0.424718 │ 0.0203749 │ 0.873544  │\n",
       "│ 4   │ 0.00790928 │ 0.251662 │ 0.773223 │ 0.287702  │ 0.278582  │\n",
       "│ 5   │ 0.488613   │ 0.986666 │ 0.28119  │ 0.859512  │ 0.751313  │"
      ]
     },
     "execution_count": 14,
     "metadata": {},
     "output_type": "execute_result"
    }
   ],
   "source": [
    "using Random\n",
    "Random.seed!(1)\n",
    "x = DataFrame(rand(5, 5))"
   ]
  },
  {
   "cell_type": "code",
   "execution_count": 15,
   "metadata": {},
   "outputs": [
    {
     "data": {
      "text/html": [
       "<table class=\"data-frame\"><thead><tr><th></th><th>x1</th><th>x4</th></tr><tr><th></th><th>Float64</th><th>Float64</th></tr></thead><tbody><p>5 rows × 2 columns</p><tr><th>1</th><td>0.236033</td><td>0.209472</td></tr><tr><th>2</th><td>0.346517</td><td>0.251379</td></tr><tr><th>3</th><td>0.312707</td><td>0.0203749</td></tr><tr><th>4</th><td>0.00790928</td><td>0.287702</td></tr><tr><th>5</th><td>0.488613</td><td>0.859512</td></tr></tbody></table>"
      ],
      "text/latex": [
       "\\begin{tabular}{r|cc}\n",
       "\t& x1 & x4\\\\\n",
       "\t\\hline\n",
       "\t1 & 0.236033 & 0.209472 \\\\\n",
       "\t2 & 0.346517 & 0.251379 \\\\\n",
       "\t3 & 0.312707 & 0.0203749 \\\\\n",
       "\t4 & 0.00790928 & 0.287702 \\\\\n",
       "\t5 & 0.488613 & 0.859512 \\\\\n",
       "\\end{tabular}\n"
      ],
      "text/plain": [
       "5×2 DataFrame\n",
       "│ Row │ x1         │ x4        │\n",
       "│     │ \u001b[90mFloat64\u001b[39m    │ \u001b[90mFloat64\u001b[39m   │\n",
       "├─────┼────────────┼───────────┤\n",
       "│ 1   │ 0.236033   │ 0.209472  │\n",
       "│ 2   │ 0.346517   │ 0.251379  │\n",
       "│ 3   │ 0.312707   │ 0.0203749 │\n",
       "│ 4   │ 0.00790928 │ 0.287702  │\n",
       "│ 5   │ 0.488613   │ 0.859512  │"
      ]
     },
     "execution_count": 15,
     "metadata": {},
     "output_type": "execute_result"
    }
   ],
   "source": [
    "x[x[:x1] .< 0.25] # well - we have filtered columns not rows by accident as you can select columns using booleans"
   ]
  },
  {
   "cell_type": "code",
   "execution_count": 16,
   "metadata": {},
   "outputs": [
    {
     "data": {
      "text/html": [
       "<table class=\"data-frame\"><thead><tr><th></th><th>x1</th><th>x2</th><th>x3</th><th>x4</th><th>x5</th></tr><tr><th></th><th>Float64</th><th>Float64</th><th>Float64</th><th>Float64</th><th>Float64</th></tr></thead><tbody><p>2 rows × 5 columns</p><tr><th>1</th><td>0.236033</td><td>0.210968</td><td>0.555751</td><td>0.209472</td><td>0.0769509</td></tr><tr><th>2</th><td>0.00790928</td><td>0.251662</td><td>0.773223</td><td>0.287702</td><td>0.278582</td></tr></tbody></table>"
      ],
      "text/latex": [
       "\\begin{tabular}{r|ccccc}\n",
       "\t& x1 & x2 & x3 & x4 & x5\\\\\n",
       "\t\\hline\n",
       "\t1 & 0.236033 & 0.210968 & 0.555751 & 0.209472 & 0.0769509 \\\\\n",
       "\t2 & 0.00790928 & 0.251662 & 0.773223 & 0.287702 & 0.278582 \\\\\n",
       "\\end{tabular}\n"
      ],
      "text/plain": [
       "2×5 DataFrame\n",
       "│ Row │ x1         │ x2       │ x3       │ x4       │ x5        │\n",
       "│     │ \u001b[90mFloat64\u001b[39m    │ \u001b[90mFloat64\u001b[39m  │ \u001b[90mFloat64\u001b[39m  │ \u001b[90mFloat64\u001b[39m  │ \u001b[90mFloat64\u001b[39m   │\n",
       "├─────┼────────────┼──────────┼──────────┼──────────┼───────────┤\n",
       "│ 1   │ 0.236033   │ 0.210968 │ 0.555751 │ 0.209472 │ 0.0769509 │\n",
       "│ 2   │ 0.00790928 │ 0.251662 │ 0.773223 │ 0.287702 │ 0.278582  │"
      ]
     },
     "execution_count": 16,
     "metadata": {},
     "output_type": "execute_result"
    }
   ],
   "source": [
    "x[x[:x1] .< 0.25, :] # probably this is what we wanted"
   ]
  },
  {
   "cell_type": "markdown",
   "metadata": {},
   "source": [
    "### Column selection for DataFrame creates aliases unless explicitly copied"
   ]
  },
  {
   "cell_type": "code",
   "execution_count": 17,
   "metadata": {},
   "outputs": [
    {
     "data": {
      "text/html": [
       "<table class=\"data-frame\"><thead><tr><th></th><th>a</th><th>b</th><th>c</th><th>d</th><th>e</th></tr><tr><th></th><th>Int64</th><th>Int64</th><th>Int64</th><th>Int64</th><th>Int64</th></tr></thead><tbody><p>3 rows × 5 columns</p><tr><th>1</th><td>1</td><td>1</td><td>1</td><td>1</td><td>1</td></tr><tr><th>2</th><td>2</td><td>2</td><td>2</td><td>2</td><td>2</td></tr><tr><th>3</th><td>3</td><td>3</td><td>3</td><td>3</td><td>3</td></tr></tbody></table>"
      ],
      "text/latex": [
       "\\begin{tabular}{r|ccccc}\n",
       "\t& a & b & c & d & e\\\\\n",
       "\t\\hline\n",
       "\t1 & 1 & 1 & 1 & 1 & 1 \\\\\n",
       "\t2 & 2 & 2 & 2 & 2 & 2 \\\\\n",
       "\t3 & 3 & 3 & 3 & 3 & 3 \\\\\n",
       "\\end{tabular}\n"
      ],
      "text/plain": [
       "3×5 DataFrame\n",
       "│ Row │ a     │ b     │ c     │ d     │ e     │\n",
       "│     │ \u001b[90mInt64\u001b[39m │ \u001b[90mInt64\u001b[39m │ \u001b[90mInt64\u001b[39m │ \u001b[90mInt64\u001b[39m │ \u001b[90mInt64\u001b[39m │\n",
       "├─────┼───────┼───────┼───────┼───────┼───────┤\n",
       "│ 1   │ 1     │ 1     │ 1     │ 1     │ 1     │\n",
       "│ 2   │ 2     │ 2     │ 2     │ 2     │ 2     │\n",
       "│ 3   │ 3     │ 3     │ 3     │ 3     │ 3     │"
      ]
     },
     "metadata": {},
     "output_type": "display_data"
    },
    {
     "data": {
      "text/html": [
       "<table class=\"data-frame\"><thead><tr><th></th><th>a</th><th>b</th><th>c</th><th>d</th><th>e</th></tr><tr><th></th><th>Int64</th><th>Int64</th><th>Int64</th><th>Int64</th><th>Int64</th></tr></thead><tbody><p>3 rows × 5 columns</p><tr><th>1</th><td>100</td><td>100</td><td>100</td><td>1</td><td>1</td></tr><tr><th>2</th><td>2</td><td>2</td><td>2</td><td>2</td><td>2</td></tr><tr><th>3</th><td>3</td><td>3</td><td>3</td><td>3</td><td>3</td></tr></tbody></table>"
      ],
      "text/latex": [
       "\\begin{tabular}{r|ccccc}\n",
       "\t& a & b & c & d & e\\\\\n",
       "\t\\hline\n",
       "\t1 & 100 & 100 & 100 & 1 & 1 \\\\\n",
       "\t2 & 2 & 2 & 2 & 2 & 2 \\\\\n",
       "\t3 & 3 & 3 & 3 & 3 & 3 \\\\\n",
       "\\end{tabular}\n"
      ],
      "text/plain": [
       "3×5 DataFrame\n",
       "│ Row │ a     │ b     │ c     │ d     │ e     │\n",
       "│     │ \u001b[90mInt64\u001b[39m │ \u001b[90mInt64\u001b[39m │ \u001b[90mInt64\u001b[39m │ \u001b[90mInt64\u001b[39m │ \u001b[90mInt64\u001b[39m │\n",
       "├─────┼───────┼───────┼───────┼───────┼───────┤\n",
       "│ 1   │ 100   │ 100   │ 100   │ 1     │ 1     │\n",
       "│ 2   │ 2     │ 2     │ 2     │ 2     │ 2     │\n",
       "│ 3   │ 3     │ 3     │ 3     │ 3     │ 3     │"
      ]
     },
     "metadata": {},
     "output_type": "display_data"
    },
    {
     "name": "stderr",
     "output_type": "stream",
     "text": [
      "┌ Warning: Indexing with colon as row will create a copy in the future. Use `df[col_inds]` to get the columns without copying\n",
      "│   caller = top-level scope at In[17]:3\n",
      "└ @ Core In[17]:3\n"
     ]
    }
   ],
   "source": [
    "x = DataFrame(a=1:3)\n",
    "x[:b] = x[1] # alias\n",
    "x[:c] = x[:, 1] # also alias - this will change in the future\n",
    "x[:d] = x[1][:] # copy\n",
    "x[:e] = copy(x[1]) # explicit copy\n",
    "display(x)\n",
    "x[1,1] = 100\n",
    "display(x)"
   ]
  }
 ],
 "metadata": {
  "kernelspec": {
   "display_name": "Julia 1.0.2",
   "language": "julia",
   "name": "julia-1.0"
  },
  "language_info": {
   "file_extension": ".jl",
   "mimetype": "application/julia",
   "name": "julia",
   "version": "1.0.2"
  }
 },
 "nbformat": 4,
 "nbformat_minor": 1
}
