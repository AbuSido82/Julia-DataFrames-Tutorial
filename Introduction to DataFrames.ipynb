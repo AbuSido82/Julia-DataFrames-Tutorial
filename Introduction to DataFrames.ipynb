{
 "cells": [
  {
   "cell_type": "markdown",
   "metadata": {},
   "source": [
    "# Introduction to DataFrames\n",
    "**[Bogumił Kamiński](http://bogumilkaminski.pl/about/), Dec 2, 2017**\n",
    "\n",
    "A brief introduction to basic usage of `DataFrames`. Tested under version `0.11`.\n",
    "I will try to keep it up to date as the package evolves."
   ]
  },
  {
   "cell_type": "code",
   "execution_count": 1,
   "metadata": {
    "collapsed": false
   },
   "outputs": [],
   "source": [
    "using DataFrames # load package"
   ]
  },
  {
   "cell_type": "markdown",
   "metadata": {},
   "source": [
    "## Constructors"
   ]
  },
  {
   "cell_type": "code",
   "execution_count": 2,
   "metadata": {
    "collapsed": false
   },
   "outputs": [
    {
     "data": {
      "text/html": [
       "<table class=\"data-frame\"><thead><tr><th></th></tr></thead><tbody></tbody></table>"
      ],
      "text/plain": [
       "0×0 DataFrames.DataFrame\n"
      ]
     },
     "execution_count": 2,
     "metadata": {},
     "output_type": "execute_result"
    }
   ],
   "source": [
    "DataFrame() # empty DataFrame"
   ]
  },
  {
   "cell_type": "code",
   "execution_count": 3,
   "metadata": {
    "collapsed": false
   },
   "outputs": [
    {
     "data": {
      "text/html": [
       "<table class=\"data-frame\"><thead><tr><th></th><th>A</th><th>B</th><th>C</th></tr></thead><tbody><tr><th>1</th><td>1</td><td>0.559732</td><td>Bgn</td></tr><tr><th>2</th><td>2</td><td>0.848476</td><td>RYA</td></tr><tr><th>3</th><td>3</td><td>0.455683</td><td>j6K</td></tr></tbody></table>"
      ],
      "text/plain": [
       "3×3 DataFrames.DataFrame\n",
       "│ Row │ A │ B        │ C   │\n",
       "├─────┼───┼──────────┼─────┤\n",
       "│ 1   │ 1 │ 0.559732 │ Bgn │\n",
       "│ 2   │ 2 │ 0.848476 │ RYA │\n",
       "│ 3   │ 3 │ 0.455683 │ j6K │"
      ]
     },
     "execution_count": 3,
     "metadata": {},
     "output_type": "execute_result"
    }
   ],
   "source": [
    "DataFrame(A=1:3, B=rand(3), C=randstring.([3,3,3])) # keyword arguments"
   ]
  },
  {
   "cell_type": "code",
   "execution_count": 4,
   "metadata": {
    "collapsed": false
   },
   "outputs": [
    {
     "data": {
      "text/html": [
       "<table class=\"data-frame\"><thead><tr><th></th><th>A</th><th>B</th><th>C</th></tr></thead><tbody><tr><th>1</th><td>1</td><td>true</td><td>'a'</td></tr><tr><th>2</th><td>2</td><td>false</td><td>'b'</td></tr></tbody></table>"
      ],
      "text/plain": [
       "2×3 DataFrames.DataFrame\n",
       "│ Row │ A │ B     │ C   │\n",
       "├─────┼───┼───────┼─────┤\n",
       "│ 1   │ 1 │ true  │ 'a' │\n",
       "│ 2   │ 2 │ false │ 'b' │"
      ]
     },
     "execution_count": 4,
     "metadata": {},
     "output_type": "execute_result"
    }
   ],
   "source": [
    "x = Dict(\"A\" => [1,2], \"B\" => [true, false], \"C\" => ['a', 'b'])\n",
    "DataFrame(x) # from dictionary, columns will be sorted"
   ]
  },
  {
   "cell_type": "code",
   "execution_count": 5,
   "metadata": {
    "collapsed": false
   },
   "outputs": [
    {
     "data": {
      "text/html": [
       "<table class=\"data-frame\"><thead><tr><th></th><th>A</th><th>B</th><th>C</th></tr></thead><tbody><tr><th>1</th><td>1</td><td>true</td><td>'a'</td></tr><tr><th>2</th><td>2</td><td>false</td><td>'b'</td></tr></tbody></table>"
      ],
      "text/plain": [
       "2×3 DataFrames.DataFrame\n",
       "│ Row │ A │ B     │ C   │\n",
       "├─────┼───┼───────┼─────┤\n",
       "│ 1   │ 1 │ true  │ 'a' │\n",
       "│ 2   │ 2 │ false │ 'b' │"
      ]
     },
     "execution_count": 5,
     "metadata": {},
     "output_type": "execute_result"
    }
   ],
   "source": [
    "DataFrame(:A => [1,2], :B => [true, false], :C => ['a', 'b']) # from pairs"
   ]
  },
  {
   "cell_type": "code",
   "execution_count": 6,
   "metadata": {
    "collapsed": false
   },
   "outputs": [
    {
     "data": {
      "text/html": [
       "<table class=\"data-frame\"><thead><tr><th></th><th>x1</th><th>x2</th><th>x3</th></tr></thead><tbody><tr><th>1</th><td>0.572434</td><td>0.787104</td><td>0.542594</td></tr><tr><th>2</th><td>0.511473</td><td>0.138666</td><td>0.738349</td></tr><tr><th>3</th><td>0.405708</td><td>0.703204</td><td>0.056101</td></tr></tbody></table>"
      ],
      "text/plain": [
       "3×3 DataFrames.DataFrame\n",
       "│ Row │ x1       │ x2       │ x3       │\n",
       "├─────┼──────────┼──────────┼──────────┤\n",
       "│ 1   │ 0.572434 │ 0.787104 │ 0.542594 │\n",
       "│ 2   │ 0.511473 │ 0.138666 │ 0.738349 │\n",
       "│ 3   │ 0.405708 │ 0.703204 │ 0.056101 │"
      ]
     },
     "execution_count": 6,
     "metadata": {},
     "output_type": "execute_result"
    }
   ],
   "source": [
    "DataFrame([rand(3) for i in 1:3]) # from vector of vectors"
   ]
  },
  {
   "cell_type": "code",
   "execution_count": 7,
   "metadata": {
    "collapsed": false
   },
   "outputs": [
    {
     "data": {
      "text/html": [
       "<table class=\"data-frame\"><thead><tr><th></th><th>x1</th><th>x2</th><th>x3</th></tr></thead><tbody><tr><th>1</th><td>0.0635589</td><td>0.839034</td><td>0.633092</td></tr></tbody></table>"
      ],
      "text/plain": [
       "1×3 DataFrames.DataFrame\n",
       "│ Row │ x1        │ x2       │ x3       │\n",
       "├─────┼───────────┼──────────┼──────────┤\n",
       "│ 1   │ 0.0635589 │ 0.839034 │ 0.633092 │"
      ]
     },
     "execution_count": 7,
     "metadata": {},
     "output_type": "execute_result"
    }
   ],
   "source": [
    "DataFrame(rand(3)) # edge case vector of atoms"
   ]
  },
  {
   "cell_type": "code",
   "execution_count": 8,
   "metadata": {
    "collapsed": false
   },
   "outputs": [
    {
     "data": {
      "text/html": [
       "<table class=\"data-frame\"><thead><tr><th></th><th>A</th><th>B</th><th>C</th></tr></thead><tbody><tr><th>1</th><td>0.852616</td><td>0.361704</td><td>0.912633</td></tr></tbody></table>"
      ],
      "text/plain": [
       "1×3 DataFrames.DataFrame\n",
       "│ Row │ A        │ B        │ C        │\n",
       "├─────┼──────────┼──────────┼──────────┤\n",
       "│ 1   │ 0.852616 │ 0.361704 │ 0.912633 │"
      ]
     },
     "execution_count": 8,
     "metadata": {},
     "output_type": "execute_result"
    }
   ],
   "source": [
    "DataFrame(rand(3), [:A, :B, :C]) # pass second argument to give column names"
   ]
  },
  {
   "cell_type": "code",
   "execution_count": 9,
   "metadata": {
    "collapsed": false
   },
   "outputs": [
    {
     "data": {
      "text/html": [
       "<table class=\"data-frame\"><thead><tr><th></th><th>x1</th><th>x2</th><th>x3</th><th>x4</th></tr></thead><tbody><tr><th>1</th><td>0.637503</td><td>0.169445</td><td>0.415154</td><td>0.732673</td></tr><tr><th>2</th><td>0.218318</td><td>0.0257092</td><td>0.491263</td><td>0.935891</td></tr><tr><th>3</th><td>0.573728</td><td>0.473092</td><td>0.906829</td><td>0.129402</td></tr></tbody></table>"
      ],
      "text/plain": [
       "3×4 DataFrames.DataFrame\n",
       "│ Row │ x1       │ x2        │ x3       │ x4       │\n",
       "├─────┼──────────┼───────────┼──────────┼──────────┤\n",
       "│ 1   │ 0.637503 │ 0.169445  │ 0.415154 │ 0.732673 │\n",
       "│ 2   │ 0.218318 │ 0.0257092 │ 0.491263 │ 0.935891 │\n",
       "│ 3   │ 0.573728 │ 0.473092  │ 0.906829 │ 0.129402 │"
      ]
     },
     "execution_count": 9,
     "metadata": {},
     "output_type": "execute_result"
    }
   ],
   "source": [
    "DataFrame(rand(3,4)) # from matrix"
   ]
  },
  {
   "cell_type": "code",
   "execution_count": 10,
   "metadata": {
    "collapsed": false
   },
   "outputs": [
    {
     "data": {
      "text/html": [
       "<table class=\"data-frame\"><thead><tr><th></th><th>A</th><th>B</th><th>C</th></tr></thead><tbody><tr><th>1</th><td>435284208</td><td>2.15059e-315</td><td>missing</td></tr></tbody></table>"
      ],
      "text/plain": [
       "1×3 DataFrames.DataFrame\n",
       "│ Row │ A         │ B            │ C       │\n",
       "├─────┼───────────┼──────────────┼─────────┤\n",
       "│ 1   │ 435284208 │ 2.15059e-315 │ \u001b[90mmissing\u001b[39m │"
      ]
     },
     "execution_count": 10,
     "metadata": {},
     "output_type": "execute_result"
    }
   ],
   "source": [
    "DataFrame([Int, Float64, Any], [:A, :B, :C], 1) # pass column types, names and number of rows\n",
    "# we get missing because Any >: Missing"
   ]
  },
  {
   "cell_type": "code",
   "execution_count": 11,
   "metadata": {
    "collapsed": false
   },
   "outputs": [
    {
     "ename": "UndefRefError",
     "evalue": "\u001b[91mUndefRefError: access to undefined reference\u001b[39m",
     "output_type": "error",
     "traceback": [
      "\u001b[91mUndefRefError: access to undefined reference\u001b[39m",
      "",
      "Stacktrace:",
      " [1] \u001b[1mgetindex\u001b[22m\u001b[22m\u001b[1m(\u001b[22m\u001b[22m::Array{String,1}, ::Int64\u001b[1m)\u001b[22m\u001b[22m at \u001b[1m.\\array.jl:554\u001b[22m\u001b[22m",
      " [2] \u001b[1mgetindex\u001b[22m\u001b[22m\u001b[1m(\u001b[22m\u001b[22m::DataFrames.DataFrame, ::Int64, ::Symbol\u001b[1m)\u001b[22m\u001b[22m at \u001b[1mD:\\Software\\JULIA_PKG\\v0.6\\DataFrames\\src\\dataframe\\dataframe.jl:233\u001b[22m\u001b[22m",
      " [3] \u001b[1mshow\u001b[22m\u001b[22m\u001b[1m(\u001b[22m\u001b[22m::IOContext{Base.AbstractIOBuffer{Array{UInt8,1}}}, ::MIME{Symbol(\"text/html\")}, ::DataFrames.DataFrame\u001b[1m)\u001b[22m\u001b[22m at \u001b[1mD:\\Software\\JULIA_PKG\\v0.6\\DataFrames\\src\\abstractdataframe\\io.jl:110\u001b[22m\u001b[22m",
      " [4] \u001b[1mlimitstringmime\u001b[22m\u001b[22m\u001b[1m(\u001b[22m\u001b[22m::MIME{Symbol(\"text/html\")}, ::DataFrames.DataFrame\u001b[1m)\u001b[22m\u001b[22m at \u001b[1mD:\\Software\\JULIA_PKG\\v0.6\\IJulia\\src\\inline.jl:24\u001b[22m\u001b[22m",
      " [5] \u001b[1mdisplay_dict\u001b[22m\u001b[22m\u001b[1m(\u001b[22m\u001b[22m::DataFrames.DataFrame\u001b[1m)\u001b[22m\u001b[22m at \u001b[1mD:\\Software\\JULIA_PKG\\v0.6\\IJulia\\src\\execute_request.jl:39\u001b[22m\u001b[22m",
      " [6] \u001b[1mexecute_request\u001b[22m\u001b[22m\u001b[1m(\u001b[22m\u001b[22m::ZMQ.Socket, ::IJulia.Msg\u001b[1m)\u001b[22m\u001b[22m at \u001b[1mD:\\Software\\JULIA_PKG\\v0.6\\IJulia\\src\\execute_request.jl:182\u001b[22m\u001b[22m",
      " [7] \u001b[1meventloop\u001b[22m\u001b[22m\u001b[1m(\u001b[22m\u001b[22m::ZMQ.Socket\u001b[1m)\u001b[22m\u001b[22m at \u001b[1mD:\\Software\\JULIA_PKG\\v0.6\\IJulia\\src\\eventloop.jl:8\u001b[22m\u001b[22m",
      " [8] \u001b[1m(::IJulia.##14#17)\u001b[22m\u001b[22m\u001b[1m(\u001b[22m\u001b[22m\u001b[1m)\u001b[22m\u001b[22m at \u001b[1m.\\task.jl:335\u001b[22m\u001b[22m"
     ]
    }
   ],
   "source": [
    "DataFrame([Int, Float64, String], [:A, :B, :C], 1)\n",
    "# it was created OK, only value for String is #undef so Jupyer has a problem with printing it"
   ]
  },
  {
   "cell_type": "code",
   "execution_count": 12,
   "metadata": {
    "collapsed": false
   },
   "outputs": [
    {
     "data": {
      "text/html": [
       "<table class=\"data-frame\"><thead><tr><th></th><th>A</th><th>B</th><th>C</th></tr></thead><tbody></tbody></table>"
      ],
      "text/plain": [
       "0×3 DataFrames.DataFrame\n"
      ]
     },
     "execution_count": 12,
     "metadata": {},
     "output_type": "execute_result"
    }
   ],
   "source": [
    "DataFrame([Int, Float64, String], [:A, :B, :C], 0) # columns are created, but there are no rows"
   ]
  },
  {
   "cell_type": "code",
   "execution_count": 13,
   "metadata": {
    "collapsed": false
   },
   "outputs": [
    {
     "data": {
      "text/html": [
       "<table class=\"data-frame\"><thead><tr><th></th><th>x1</th><th>x2</th><th>x3</th><th>x4</th><th>x5</th></tr></thead><tbody><tr><th>1</th><td>118349520</td><td>110876872</td><td>169972976</td><td>118349520</td><td>422508336</td></tr><tr><th>2</th><td>117255152</td><td>109917576</td><td>117276880</td><td>117255152</td><td>117245840</td></tr><tr><th>3</th><td>117245840</td><td>109992280</td><td>117276944</td><td>117245840</td><td>117245840</td></tr></tbody></table>"
      ],
      "text/plain": [
       "3×5 DataFrames.DataFrame\n",
       "│ Row │ x1        │ x2        │ x3        │ x4        │ x5        │\n",
       "├─────┼───────────┼───────────┼───────────┼───────────┼───────────┤\n",
       "│ 1   │ 118349520 │ 110876872 │ 169972976 │ 118349520 │ 422508336 │\n",
       "│ 2   │ 117255152 │ 109917576 │ 117276880 │ 117255152 │ 117245840 │\n",
       "│ 3   │ 117245840 │ 109992280 │ 117276944 │ 117245840 │ 117245840 │"
      ]
     },
     "execution_count": 13,
     "metadata": {},
     "output_type": "execute_result"
    }
   ],
   "source": [
    "DataFrame(Int, 3, 5) # a quick way to create homogenous DataFrame"
   ]
  },
  {
   "cell_type": "code",
   "execution_count": 14,
   "metadata": {
    "collapsed": false
   },
   "outputs": [
    {
     "data": {
      "text/html": [
       "<table class=\"data-frame\"><thead><tr><th></th><th>x1</th><th>x2</th></tr></thead><tbody><tr><th>1</th><td>422741008</td><td>2.08862e-315</td></tr><tr><th>2</th><td>422740336</td><td>2.08862e-315</td></tr><tr><th>3</th><td>184264272</td><td>2.08862e-315</td></tr><tr><th>4</th><td>0</td><td>2.08862e-315</td></tr></tbody></table>"
      ],
      "text/plain": [
       "4×2 DataFrames.DataFrame\n",
       "│ Row │ x1        │ x2           │\n",
       "├─────┼───────────┼──────────────┤\n",
       "│ 1   │ 422741008 │ 2.08862e-315 │\n",
       "│ 2   │ 422740336 │ 2.08862e-315 │\n",
       "│ 3   │ 184264272 │ 2.08862e-315 │\n",
       "│ 4   │ 0         │ 2.08862e-315 │"
      ]
     },
     "execution_count": 14,
     "metadata": {},
     "output_type": "execute_result"
    }
   ],
   "source": [
    "DataFrame([Int, Float64], 4) # similar, but with nonhomogenous columns"
   ]
  },
  {
   "cell_type": "code",
   "execution_count": 15,
   "metadata": {
    "collapsed": false
   },
   "outputs": [
    {
     "data": {
      "text/plain": [
       "2×4 Array{Any,2}:\n",
       " 1  1.0       \"a\"  1   \n",
       " 2   missing  \"b\"   \"a\""
      ]
     },
     "execution_count": 15,
     "metadata": {},
     "output_type": "execute_result"
    }
   ],
   "source": [
    "x = DataFrame(A = [1, 2], B = [1.0, missing], C = [\"a\", \"b\"], D = [1, \"a\"])\n",
    "convert(Array, x) # convert DataFrame to Matrix"
   ]
  },
  {
   "cell_type": "markdown",
   "metadata": {},
   "source": [
    "## Getting basic information about a data frame"
   ]
  },
  {
   "cell_type": "code",
   "execution_count": 16,
   "metadata": {
    "collapsed": false
   },
   "outputs": [
    {
     "data": {
      "text/html": [
       "<table class=\"data-frame\"><thead><tr><th></th><th>A</th><th>B</th><th>C</th><th>D</th></tr></thead><tbody><tr><th>1</th><td>1</td><td>1.0</td><td>a</td><td>1</td></tr><tr><th>2</th><td>2</td><td>missing</td><td>b</td><td>a</td></tr></tbody></table>"
      ],
      "text/plain": [
       "2×4 DataFrames.DataFrame\n",
       "│ Row │ A │ B       │ C │ D │\n",
       "├─────┼───┼─────────┼───┼───┤\n",
       "│ 1   │ 1 │ 1.0     │ a │ 1 │\n",
       "│ 2   │ 2 │ \u001b[90mmissing\u001b[39m │ b │ a │"
      ]
     },
     "execution_count": 16,
     "metadata": {},
     "output_type": "execute_result"
    }
   ],
   "source": [
    "x = DataFrame(A = [1, 2], B = [1.0, missing], C = [\"a\", \"b\"], D = [1, \"a\"])"
   ]
  },
  {
   "cell_type": "code",
   "execution_count": 17,
   "metadata": {
    "collapsed": false
   },
   "outputs": [
    {
     "data": {
      "text/plain": [
       "((2, 4), 2, 4)"
      ]
     },
     "execution_count": 17,
     "metadata": {},
     "output_type": "execute_result"
    }
   ],
   "source": [
    "size(x), size(x, 1), size(x, 2)"
   ]
  },
  {
   "cell_type": "code",
   "execution_count": 18,
   "metadata": {
    "collapsed": false
   },
   "outputs": [
    {
     "data": {
      "text/plain": [
       "(2, 4, 4)"
      ]
     },
     "execution_count": 18,
     "metadata": {},
     "output_type": "execute_result"
    }
   ],
   "source": [
    "nrow(x), ncol(x), length(x)"
   ]
  },
  {
   "cell_type": "code",
   "execution_count": 19,
   "metadata": {
    "collapsed": false
   },
   "outputs": [
    {
     "name": "stdout",
     "output_type": "stream",
     "text": [
      "A\n",
      "Summary Stats:\n",
      "Mean:           1.500000\n",
      "Minimum:        1.000000\n",
      "1st Quartile:   1.250000\n",
      "Median:         1.500000\n",
      "3rd Quartile:   1.750000\n",
      "Maximum:        2.000000\n",
      "Length:         2\n",
      "Type:           Int64\n",
      "\n",
      "B\n",
      "Summary Stats:\n",
      "Mean:           1.000000\n",
      "Minimum:        1.000000\n",
      "1st Quartile:   1.000000\n",
      "Median:         1.000000\n",
      "3rd Quartile:   1.000000\n",
      "Maximum:        1.000000\n",
      "Length:         2\n",
      "Type:           Union{Float64, Missings.Missing}\n",
      "Number Missing: 1\n",
      "% Missing:      50.000000\n",
      "\n",
      "C\n",
      "Summary Stats:\n",
      "Length:         2\n",
      "Type:           String\n",
      "Number Unique:  2\n",
      "\n",
      "D\n",
      "Summary Stats:\n",
      "Length:         2\n",
      "Type:           Any\n",
      "Number Unique:  2\n",
      "Number Missing: 0\n",
      "% Missing:      0.000000\n",
      "\n"
     ]
    }
   ],
   "source": [
    "describe(x)"
   ]
  },
  {
   "cell_type": "code",
   "execution_count": 20,
   "metadata": {
    "collapsed": false
   },
   "outputs": [
    {
     "name": "stdout",
     "output_type": "stream",
     "text": [
      "2×4 DataFrames.DataFrame\n",
      "│ Col # │ Name │ Eltype                           │ Missing │ Values          │\n",
      "├───────┼──────┼──────────────────────────────────┼─────────┼─────────────────┤\n",
      "│ 1     │ A    │ Int64                            │ 0       │ 1  …  2         │\n",
      "│ 2     │ B    │ Union{Float64, Missings.Missing} │ 1       │ 1.0  …  missing │\n",
      "│ 3     │ C    │ String                           │ 0       │ a  …  b         │\n",
      "│ 4     │ D    │ Any                              │ 0       │ 1  …  a         │"
     ]
    }
   ],
   "source": [
    "showcols(x)"
   ]
  },
  {
   "cell_type": "code",
   "execution_count": 21,
   "metadata": {
    "collapsed": false
   },
   "outputs": [
    {
     "data": {
      "text/plain": [
       "4-element Array{Symbol,1}:\n",
       " :A\n",
       " :B\n",
       " :C\n",
       " :D"
      ]
     },
     "execution_count": 21,
     "metadata": {},
     "output_type": "execute_result"
    }
   ],
   "source": [
    "names(x)"
   ]
  },
  {
   "cell_type": "code",
   "execution_count": 22,
   "metadata": {
    "collapsed": false
   },
   "outputs": [
    {
     "data": {
      "text/plain": [
       "4-element Array{Type,1}:\n",
       " Int64                           \n",
       " Union{Float64, Missings.Missing}\n",
       " String                          \n",
       " Any                             "
      ]
     },
     "execution_count": 22,
     "metadata": {},
     "output_type": "execute_result"
    }
   ],
   "source": [
    "eltypes(x)"
   ]
  },
  {
   "cell_type": "code",
   "execution_count": 23,
   "metadata": {
    "collapsed": false
   },
   "outputs": [
    {
     "data": {
      "text/html": [
       "<table class=\"data-frame\"><thead><tr><th></th><th>x1</th><th>x2</th><th>x3</th><th>x4</th><th>x5</th><th>x6</th><th>x7</th><th>x8</th><th>x9</th><th>x10</th></tr></thead><tbody><tr><th>1</th><td>5</td><td>2</td><td>9</td><td>4</td><td>4</td><td>5</td><td>3</td><td>4</td><td>10</td><td>9</td></tr><tr><th>2</th><td>3</td><td>2</td><td>8</td><td>5</td><td>1</td><td>10</td><td>1</td><td>8</td><td>7</td><td>6</td></tr><tr><th>3</th><td>6</td><td>4</td><td>3</td><td>8</td><td>9</td><td>8</td><td>8</td><td>2</td><td>9</td><td>3</td></tr><tr><th>4</th><td>1</td><td>6</td><td>4</td><td>3</td><td>2</td><td>9</td><td>10</td><td>1</td><td>10</td><td>10</td></tr><tr><th>5</th><td>4</td><td>10</td><td>8</td><td>8</td><td>7</td><td>7</td><td>4</td><td>1</td><td>9</td><td>1</td></tr><tr><th>6</th><td>1</td><td>5</td><td>6</td><td>9</td><td>6</td><td>6</td><td>9</td><td>8</td><td>2</td><td>5</td></tr><tr><th>7</th><td>1</td><td>5</td><td>7</td><td>6</td><td>5</td><td>5</td><td>5</td><td>10</td><td>7</td><td>7</td></tr><tr><th>8</th><td>5</td><td>5</td><td>1</td><td>9</td><td>5</td><td>4</td><td>5</td><td>3</td><td>9</td><td>10</td></tr><tr><th>9</th><td>10</td><td>4</td><td>10</td><td>6</td><td>8</td><td>10</td><td>5</td><td>5</td><td>2</td><td>7</td></tr><tr><th>10</th><td>8</td><td>6</td><td>5</td><td>8</td><td>6</td><td>2</td><td>9</td><td>6</td><td>8</td><td>7</td></tr><tr><th>11</th><td>1</td><td>3</td><td>8</td><td>10</td><td>10</td><td>3</td><td>3</td><td>8</td><td>7</td><td>9</td></tr><tr><th>12</th><td>3</td><td>10</td><td>1</td><td>8</td><td>9</td><td>5</td><td>4</td><td>3</td><td>9</td><td>3</td></tr><tr><th>13</th><td>3</td><td>1</td><td>4</td><td>4</td><td>10</td><td>10</td><td>5</td><td>1</td><td>1</td><td>5</td></tr><tr><th>14</th><td>5</td><td>6</td><td>10</td><td>1</td><td>6</td><td>6</td><td>6</td><td>5</td><td>9</td><td>10</td></tr><tr><th>15</th><td>6</td><td>4</td><td>3</td><td>3</td><td>7</td><td>7</td><td>5</td><td>6</td><td>5</td><td>8</td></tr><tr><th>16</th><td>10</td><td>10</td><td>9</td><td>2</td><td>3</td><td>6</td><td>9</td><td>3</td><td>10</td><td>10</td></tr><tr><th>17</th><td>9</td><td>5</td><td>4</td><td>6</td><td>8</td><td>3</td><td>3</td><td>3</td><td>7</td><td>5</td></tr><tr><th>18</th><td>4</td><td>9</td><td>7</td><td>2</td><td>5</td><td>2</td><td>10</td><td>8</td><td>2</td><td>3</td></tr><tr><th>19</th><td>5</td><td>3</td><td>7</td><td>3</td><td>3</td><td>8</td><td>3</td><td>1</td><td>8</td><td>9</td></tr><tr><th>20</th><td>8</td><td>10</td><td>3</td><td>8</td><td>9</td><td>9</td><td>9</td><td>10</td><td>7</td><td>7</td></tr></tbody></table>"
      ],
      "text/plain": [
       "20×10 DataFrames.DataFrame\n",
       "│ Row │ x1 │ x2 │ x3 │ x4 │ x5 │ x6 │ x7 │ x8 │ x9 │ x10 │\n",
       "├─────┼────┼────┼────┼────┼────┼────┼────┼────┼────┼─────┤\n",
       "│ 1   │ 5  │ 2  │ 9  │ 4  │ 4  │ 5  │ 3  │ 4  │ 10 │ 9   │\n",
       "│ 2   │ 3  │ 2  │ 8  │ 5  │ 1  │ 10 │ 1  │ 8  │ 7  │ 6   │\n",
       "│ 3   │ 6  │ 4  │ 3  │ 8  │ 9  │ 8  │ 8  │ 2  │ 9  │ 3   │\n",
       "│ 4   │ 1  │ 6  │ 4  │ 3  │ 2  │ 9  │ 10 │ 1  │ 10 │ 10  │\n",
       "│ 5   │ 4  │ 10 │ 8  │ 8  │ 7  │ 7  │ 4  │ 1  │ 9  │ 1   │\n",
       "│ 6   │ 1  │ 5  │ 6  │ 9  │ 6  │ 6  │ 9  │ 8  │ 2  │ 5   │\n",
       "│ 7   │ 1  │ 5  │ 7  │ 6  │ 5  │ 5  │ 5  │ 10 │ 7  │ 7   │\n",
       "│ 8   │ 5  │ 5  │ 1  │ 9  │ 5  │ 4  │ 5  │ 3  │ 9  │ 10  │\n",
       "│ 9   │ 10 │ 4  │ 10 │ 6  │ 8  │ 10 │ 5  │ 5  │ 2  │ 7   │\n",
       "│ 10  │ 8  │ 6  │ 5  │ 8  │ 6  │ 2  │ 9  │ 6  │ 8  │ 7   │\n",
       "│ 11  │ 1  │ 3  │ 8  │ 10 │ 10 │ 3  │ 3  │ 8  │ 7  │ 9   │\n",
       "│ 12  │ 3  │ 10 │ 1  │ 8  │ 9  │ 5  │ 4  │ 3  │ 9  │ 3   │\n",
       "│ 13  │ 3  │ 1  │ 4  │ 4  │ 10 │ 10 │ 5  │ 1  │ 1  │ 5   │\n",
       "│ 14  │ 5  │ 6  │ 10 │ 1  │ 6  │ 6  │ 6  │ 5  │ 9  │ 10  │\n",
       "│ 15  │ 6  │ 4  │ 3  │ 3  │ 7  │ 7  │ 5  │ 6  │ 5  │ 8   │\n",
       "│ 16  │ 10 │ 10 │ 9  │ 2  │ 3  │ 6  │ 9  │ 3  │ 10 │ 10  │\n",
       "│ 17  │ 9  │ 5  │ 4  │ 6  │ 8  │ 3  │ 3  │ 3  │ 7  │ 5   │\n",
       "│ 18  │ 4  │ 9  │ 7  │ 2  │ 5  │ 2  │ 10 │ 8  │ 2  │ 3   │\n",
       "│ 19  │ 5  │ 3  │ 7  │ 3  │ 3  │ 8  │ 3  │ 1  │ 8  │ 9   │\n",
       "│ 20  │ 8  │ 10 │ 3  │ 8  │ 9  │ 9  │ 9  │ 10 │ 7  │ 7   │"
      ]
     },
     "execution_count": 23,
     "metadata": {},
     "output_type": "execute_result"
    }
   ],
   "source": [
    "y = DataFrame(rand(1:10, 20, 10))"
   ]
  },
  {
   "cell_type": "code",
   "execution_count": 24,
   "metadata": {
    "collapsed": false
   },
   "outputs": [
    {
     "data": {
      "text/html": [
       "<table class=\"data-frame\"><thead><tr><th></th><th>x1</th><th>x2</th><th>x3</th><th>x4</th><th>x5</th><th>x6</th><th>x7</th><th>x8</th><th>x9</th><th>x10</th></tr></thead><tbody><tr><th>1</th><td>5</td><td>2</td><td>9</td><td>4</td><td>4</td><td>5</td><td>3</td><td>4</td><td>10</td><td>9</td></tr><tr><th>2</th><td>3</td><td>2</td><td>8</td><td>5</td><td>1</td><td>10</td><td>1</td><td>8</td><td>7</td><td>6</td></tr><tr><th>3</th><td>6</td><td>4</td><td>3</td><td>8</td><td>9</td><td>8</td><td>8</td><td>2</td><td>9</td><td>3</td></tr><tr><th>4</th><td>1</td><td>6</td><td>4</td><td>3</td><td>2</td><td>9</td><td>10</td><td>1</td><td>10</td><td>10</td></tr><tr><th>5</th><td>4</td><td>10</td><td>8</td><td>8</td><td>7</td><td>7</td><td>4</td><td>1</td><td>9</td><td>1</td></tr><tr><th>6</th><td>1</td><td>5</td><td>6</td><td>9</td><td>6</td><td>6</td><td>9</td><td>8</td><td>2</td><td>5</td></tr></tbody></table>"
      ],
      "text/plain": [
       "6×10 DataFrames.DataFrame\n",
       "│ Row │ x1 │ x2 │ x3 │ x4 │ x5 │ x6 │ x7 │ x8 │ x9 │ x10 │\n",
       "├─────┼────┼────┼────┼────┼────┼────┼────┼────┼────┼─────┤\n",
       "│ 1   │ 5  │ 2  │ 9  │ 4  │ 4  │ 5  │ 3  │ 4  │ 10 │ 9   │\n",
       "│ 2   │ 3  │ 2  │ 8  │ 5  │ 1  │ 10 │ 1  │ 8  │ 7  │ 6   │\n",
       "│ 3   │ 6  │ 4  │ 3  │ 8  │ 9  │ 8  │ 8  │ 2  │ 9  │ 3   │\n",
       "│ 4   │ 1  │ 6  │ 4  │ 3  │ 2  │ 9  │ 10 │ 1  │ 10 │ 10  │\n",
       "│ 5   │ 4  │ 10 │ 8  │ 8  │ 7  │ 7  │ 4  │ 1  │ 9  │ 1   │\n",
       "│ 6   │ 1  │ 5  │ 6  │ 9  │ 6  │ 6  │ 9  │ 8  │ 2  │ 5   │"
      ]
     },
     "execution_count": 24,
     "metadata": {},
     "output_type": "execute_result"
    }
   ],
   "source": [
    "head(y)"
   ]
  },
  {
   "cell_type": "code",
   "execution_count": 25,
   "metadata": {
    "collapsed": false
   },
   "outputs": [
    {
     "data": {
      "text/html": [
       "<table class=\"data-frame\"><thead><tr><th></th><th>x1</th><th>x2</th><th>x3</th><th>x4</th><th>x5</th><th>x6</th><th>x7</th><th>x8</th><th>x9</th><th>x10</th></tr></thead><tbody><tr><th>1</th><td>4</td><td>9</td><td>7</td><td>2</td><td>5</td><td>2</td><td>10</td><td>8</td><td>2</td><td>3</td></tr><tr><th>2</th><td>5</td><td>3</td><td>7</td><td>3</td><td>3</td><td>8</td><td>3</td><td>1</td><td>8</td><td>9</td></tr><tr><th>3</th><td>8</td><td>10</td><td>3</td><td>8</td><td>9</td><td>9</td><td>9</td><td>10</td><td>7</td><td>7</td></tr></tbody></table>"
      ],
      "text/plain": [
       "3×10 DataFrames.DataFrame\n",
       "│ Row │ x1 │ x2 │ x3 │ x4 │ x5 │ x6 │ x7 │ x8 │ x9 │ x10 │\n",
       "├─────┼────┼────┼────┼────┼────┼────┼────┼────┼────┼─────┤\n",
       "│ 1   │ 4  │ 9  │ 7  │ 2  │ 5  │ 2  │ 10 │ 8  │ 2  │ 3   │\n",
       "│ 2   │ 5  │ 3  │ 7  │ 3  │ 3  │ 8  │ 3  │ 1  │ 8  │ 9   │\n",
       "│ 3   │ 8  │ 10 │ 3  │ 8  │ 9  │ 9  │ 9  │ 10 │ 7  │ 7   │"
      ]
     },
     "execution_count": 25,
     "metadata": {},
     "output_type": "execute_result"
    }
   ],
   "source": [
    "tail(y, 3)"
   ]
  },
  {
   "cell_type": "markdown",
   "metadata": {},
   "source": [
    "## Handling missing values"
   ]
  },
  {
   "cell_type": "code",
   "execution_count": 26,
   "metadata": {
    "collapsed": false
   },
   "outputs": [
    {
     "data": {
      "text/plain": [
       "(missing, Missings.Missing)"
      ]
     },
     "execution_count": 26,
     "metadata": {},
     "output_type": "execute_result"
    }
   ],
   "source": [
    "missing, typeof(missing) # sinelton type"
   ]
  },
  {
   "cell_type": "code",
   "execution_count": 27,
   "metadata": {
    "collapsed": false
   },
   "outputs": [
    {
     "data": {
      "text/plain": [
       "4-element Array{Union{Int64, Missings.Missing},1}:\n",
       " 1       \n",
       " 2       \n",
       "  missing\n",
       " 3       "
      ]
     },
     "execution_count": 27,
     "metadata": {},
     "output_type": "execute_result"
    }
   ],
   "source": [
    "x = [1, 2, missing, 3] # arrays automatically create an appropriate union type"
   ]
  },
  {
   "cell_type": "code",
   "execution_count": 28,
   "metadata": {
    "collapsed": false
   },
   "outputs": [
    {
     "data": {
      "text/plain": [
       "(false, true, false, Bool[false, false, true, false])"
      ]
     },
     "execution_count": 28,
     "metadata": {},
     "output_type": "execute_result"
    }
   ],
   "source": [
    "ismissing(1), ismissing(missing), ismissing(x), ismissing.(x) # check if variable is missing"
   ]
  },
  {
   "cell_type": "code",
   "execution_count": 29,
   "metadata": {
    "collapsed": false
   },
   "outputs": [
    {
     "data": {
      "text/plain": [
       "(Union{Int64, Missings.Missing}, Int64)"
      ]
     },
     "execution_count": 29,
     "metadata": {},
     "output_type": "execute_result"
    }
   ],
   "source": [
    "eltype(x), Missings.T(eltype(x)) # extract the type combined with Missing (useful for arrays)"
   ]
  },
  {
   "cell_type": "code",
   "execution_count": 30,
   "metadata": {
    "collapsed": false
   },
   "outputs": [
    {
     "data": {
      "text/plain": [
       "(missing, missing, missing)"
      ]
     },
     "execution_count": 30,
     "metadata": {},
     "output_type": "execute_result"
    }
   ],
   "source": [
    "missing == missing, missing != missing, missing < missing # missing comparisons produce missing"
   ]
  },
  {
   "cell_type": "code",
   "execution_count": 31,
   "metadata": {
    "collapsed": false
   },
   "outputs": [
    {
     "data": {
      "text/plain": [
       "(missing, missing, missing)"
      ]
     },
     "execution_count": 31,
     "metadata": {},
     "output_type": "execute_result"
    }
   ],
   "source": [
    "1 == missing, 1 != missing, 1 < missing # the same with values of other types"
   ]
  },
  {
   "cell_type": "code",
   "execution_count": 32,
   "metadata": {
    "collapsed": false
   },
   "outputs": [
    {
     "data": {
      "text/plain": [
       "(true, true, false, true)"
      ]
     },
     "execution_count": 32,
     "metadata": {},
     "output_type": "execute_result"
    }
   ],
   "source": [
    "isequal(missing, missing), missing === missing, isequal(1, missing), isless(1, missing) # those produce Bool result"
   ]
  },
  {
   "cell_type": "code",
   "execution_count": 33,
   "metadata": {
    "collapsed": false
   },
   "outputs": [
    {
     "data": {
      "text/plain": [
       "4-element Array{Missings.Missing,1}:\n",
       " missing\n",
       " missing\n",
       " missing\n",
       " missing"
      ]
     },
     "execution_count": 33,
     "metadata": {},
     "output_type": "execute_result"
    }
   ],
   "source": [
    "map(x -> x(missing), [sin, cos, zero, sqrt]) # many (not all) functions handle missing"
   ]
  },
  {
   "cell_type": "code",
   "execution_count": 34,
   "metadata": {
    "collapsed": false
   },
   "outputs": [
    {
     "data": {
      "text/plain": [
       "5-element Array{Missings.Missing,1}:\n",
       " missing\n",
       " missing\n",
       " missing\n",
       " missing\n",
       " missing"
      ]
     },
     "execution_count": 34,
     "metadata": {},
     "output_type": "execute_result"
    }
   ],
   "source": [
    "map(x -> x(missing, 1), [+, - , *, /, div]) # part 2"
   ]
  },
  {
   "cell_type": "code",
   "execution_count": 35,
   "metadata": {
    "collapsed": false
   },
   "outputs": [
    {
     "data": {
      "text/plain": [
       "6-element Array{Any,1}:\n",
       " missing                                            \n",
       " missing                                            \n",
       " (missing, missing)                                 \n",
       " missing                                            \n",
       " missing                                            \n",
       " Union{Float64, Missings.Missing}[1.0, 2.0, missing]"
      ]
     },
     "execution_count": 35,
     "metadata": {},
     "output_type": "execute_result"
    }
   ],
   "source": [
    "map(x -> x([1,2,missing]), [minimum, maximum, extrema, mean, any, float]) # part 3"
   ]
  },
  {
   "cell_type": "code",
   "execution_count": 36,
   "metadata": {
    "collapsed": false
   },
   "outputs": [
    {
     "data": {
      "text/plain": [
       "2-element Array{Int64,1}:\n",
       " 1\n",
       " 2"
      ]
     },
     "execution_count": 36,
     "metadata": {},
     "output_type": "execute_result"
    }
   ],
   "source": [
    "collect(skipmissing([1, missing, 2, missing])) # skipmissings returns iterator skipping missing values"
   ]
  },
  {
   "cell_type": "code",
   "execution_count": 37,
   "metadata": {
    "collapsed": false
   },
   "outputs": [
    {
     "data": {
      "text/plain": [
       "4-element Array{Float64,1}:\n",
       "   1.0\n",
       " NaN  \n",
       "   2.0\n",
       " NaN  "
      ]
     },
     "execution_count": 37,
     "metadata": {},
     "output_type": "execute_result"
    }
   ],
   "source": [
    "collect(Missings.replace([1.0, missing, 2.0, missing], NaN)) # the same but replacing missings"
   ]
  },
  {
   "cell_type": "code",
   "execution_count": 38,
   "metadata": {
    "collapsed": false
   },
   "outputs": [
    {
     "data": {
      "text/plain": [
       "(Any[1, missing, 2], [1, 2])"
      ]
     },
     "execution_count": 38,
     "metadata": {},
     "output_type": "execute_result"
    }
   ],
   "source": [
    "unique([1, missing, 2, missing]), levels([1, missing, 2, missing]) # get unique values with or without missings"
   ]
  },
  {
   "cell_type": "code",
   "execution_count": 39,
   "metadata": {
    "collapsed": false
   },
   "outputs": [
    {
     "name": "stdout",
     "output_type": "stream",
     "text": [
      "2×3 DataFrames.DataFrame\n",
      "│ Col # │ Name │ Eltype │ Missing │ Values                  │\n",
      "├───────┼──────┼────────┼─────────┼─────────────────────────┤\n",
      "│ 1     │ x1   │ Int64  │ 0       │ 4434  …  117278928      │\n",
      "│ 2     │ x2   │ Int64  │ 0       │ -1  …  118225456        │\n",
      "│ 3     │ x3   │ Int64  │ 0       │ 407641952  …  118310992 │\n",
      "\n",
      "After: Type[Union{Int64, Missings.Missing}, Int64, Union{Int64, Missings.Missing}]\n"
     ]
    }
   ],
   "source": [
    "x = DataFrame(Int, 2, 3)\n",
    "showcols(x)\n",
    "allowmissing!(x, 1) # make first column accept missings\n",
    "allowmissing!(x, :x3) # make :x3 column accept missings\n",
    "println(\"\\n\\nAfter: \", eltypes(x))"
   ]
  },
  {
   "cell_type": "code",
   "execution_count": 40,
   "metadata": {
    "collapsed": false
   },
   "outputs": [
    {
     "name": "stdout",
     "output_type": "stream",
     "text": [
      "Complete cases:\n",
      "Bool[true, false, false, true]\n"
     ]
    },
    {
     "data": {
      "text/plain": [
       "2-element Array{DataFrames.DataFrame,1}:\n",
       " 2×2 DataFrames.DataFrame\n",
       "│ Row │ A │ B │\n",
       "├─────┼───┼───┤\n",
       "│ 1   │ 1 │ A │\n",
       "│ 2   │ 4 │ C │\n",
       " 2×2 DataFrames.DataFrame\n",
       "│ Row │ A │ B │\n",
       "├─────┼───┼───┤\n",
       "│ 1   │ 1 │ A │\n",
       "│ 2   │ 4 │ C │"
      ]
     },
     "execution_count": 40,
     "metadata": {},
     "output_type": "execute_result"
    }
   ],
   "source": [
    "x = DataFrame(A=[1, missing, 3, 4], B=[\"A\", \"B\", missing, \"C\"])\n",
    "println(\"Complete cases:\\n\", completecases(x)) # find rows with all complete data\n",
    "y = dropmissing(x) # remove rows with incomplete data from DataFrame, create a new DataFrame\n",
    "dropmissing!(x) # the same but in-place\n",
    "[x, y]"
   ]
  },
  {
   "cell_type": "markdown",
   "metadata": {},
   "source": [
    "## Load and save DataFrames"
   ]
  },
  {
   "cell_type": "code",
   "execution_count": 41,
   "metadata": {
    "collapsed": false
   },
   "outputs": [],
   "source": [
    "using CSV # reading and writing CSV files\n",
    "using JLD # Julia native binary format"
   ]
  },
  {
   "cell_type": "code",
   "execution_count": 42,
   "metadata": {
    "collapsed": false
   },
   "outputs": [
    {
     "data": {
      "text/html": [
       "<table class=\"data-frame\"><thead><tr><th></th><th>A</th><th>B</th><th>C</th><th>D</th></tr></thead><tbody><tr><th>1</th><td>true</td><td>1</td><td>missing</td><td>'a'</td></tr><tr><th>2</th><td>false</td><td>2</td><td>b</td><td>missing</td></tr><tr><th>3</th><td>true</td><td>missing</td><td>c</td><td>'c'</td></tr></tbody></table>"
      ],
      "text/plain": [
       "3×4 DataFrames.DataFrame\n",
       "│ Row │ A     │ B       │ C       │ D       │\n",
       "├─────┼───────┼─────────┼─────────┼─────────┤\n",
       "│ 1   │ true  │ 1       │ \u001b[90mmissing\u001b[39m │ 'a'     │\n",
       "│ 2   │ false │ 2       │ b       │ \u001b[90mmissing\u001b[39m │\n",
       "│ 3   │ true  │ \u001b[90mmissing\u001b[39m │ c       │ 'c'     │"
      ]
     },
     "execution_count": 42,
     "metadata": {},
     "output_type": "execute_result"
    }
   ],
   "source": [
    "x = DataFrame(A=[true, false, true], B=[1,2,missing],\n",
    "              C=[missing, \"b\", \"c\"], D=['a', missing, 'c']) # create a simple DataFrame for testing purposes\n"
   ]
  },
  {
   "cell_type": "code",
   "execution_count": 43,
   "metadata": {
    "collapsed": false
   },
   "outputs": [
    {
     "data": {
      "text/plain": [
       "CSV.Sink{DateFormat{Symbol(\"yyyy-mm-dd\"),Tuple{Base.Dates.DatePart{'y'},Base.Dates.Delim{Char,1},Base.Dates.DatePart{'m'},Base.Dates.Delim{Char,1},Base.Dates.DatePart{'d'}}},DataType}(    CSV.Options:\n",
       "        delim: ','\n",
       "        quotechar: '\"'\n",
       "        escapechar: '\\\\'\n",
       "        null: \"\"\n",
       "        dateformat: dateformat\"yyyy-mm-dd\"\n",
       "        decimal: '.'\n",
       "        truestring: 'true'\n",
       "        falsestring: 'false', IOBuffer(data=UInt8[...], readable=true, writable=true, seekable=true, append=false, size=0, maxsize=Inf, ptr=1, mark=-1), \"x.csv\", 8, true, String[\"A\", \"B\", \"C\", \"D\"], 4, false, Val{false})"
      ]
     },
     "execution_count": 43,
     "metadata": {},
     "output_type": "execute_result"
    }
   ],
   "source": [
    "CSV.write(\"x.csv\", x)"
   ]
  },
  {
   "cell_type": "code",
   "execution_count": 44,
   "metadata": {
    "collapsed": false
   },
   "outputs": [
    {
     "data": {
      "text/html": [
       "<table class=\"data-frame\"><thead><tr><th></th><th>A</th><th>B</th><th>C</th><th>D</th></tr></thead><tbody><tr><th>1</th><td>true</td><td>1</td><td>missing</td><td>a</td></tr><tr><th>2</th><td>false</td><td>2</td><td>b</td><td>missing</td></tr><tr><th>3</th><td>true</td><td>missing</td><td>c</td><td>c</td></tr></tbody></table>"
      ],
      "text/plain": [
       "3×4 DataFrames.DataFrame\n",
       "│ Row │ A     │ B       │ C       │ D       │\n",
       "├─────┼───────┼─────────┼─────────┼─────────┤\n",
       "│ 1   │ true  │ 1       │ \u001b[90mmissing\u001b[39m │ a       │\n",
       "│ 2   │ false │ 2       │ b       │ \u001b[90mmissing\u001b[39m │\n",
       "│ 3   │ true  │ \u001b[90mmissing\u001b[39m │ c       │ c       │"
      ]
     },
     "execution_count": 44,
     "metadata": {},
     "output_type": "execute_result"
    }
   ],
   "source": [
    "y = CSV.read(\"x.csv\")"
   ]
  },
  {
   "cell_type": "code",
   "execution_count": 45,
   "metadata": {
    "collapsed": false
   },
   "outputs": [
    {
     "data": {
      "text/plain": [
       "4-element Array{Type,1}:\n",
       " Bool                                         \n",
       " Union{Int64, Missings.Missing}               \n",
       " Union{Missings.Missing, WeakRefString{UInt8}}\n",
       " Union{Missings.Missing, WeakRefString{UInt8}}"
      ]
     },
     "execution_count": 45,
     "metadata": {},
     "output_type": "execute_result"
    }
   ],
   "source": [
    "eltypes(y) # notice that by default WeakRefString is used for efficiency"
   ]
  },
  {
   "cell_type": "code",
   "execution_count": 46,
   "metadata": {
    "collapsed": false
   },
   "outputs": [],
   "source": [
    "save(\"x.jld\", \"x\", x)"
   ]
  },
  {
   "cell_type": "code",
   "execution_count": 47,
   "metadata": {
    "collapsed": false
   },
   "outputs": [
    {
     "data": {
      "text/html": [
       "<table class=\"data-frame\"><thead><tr><th></th><th>A</th><th>B</th><th>C</th><th>D</th></tr></thead><tbody><tr><th>1</th><td>true</td><td>1</td><td>missing</td><td>'a'</td></tr><tr><th>2</th><td>false</td><td>2</td><td>b</td><td>missing</td></tr><tr><th>3</th><td>true</td><td>missing</td><td>c</td><td>'c'</td></tr></tbody></table>"
      ],
      "text/plain": [
       "3×4 DataFrames.DataFrame\n",
       "│ Row │ A     │ B       │ C       │ D       │\n",
       "├─────┼───────┼─────────┼─────────┼─────────┤\n",
       "│ 1   │ true  │ 1       │ \u001b[90mmissing\u001b[39m │ 'a'     │\n",
       "│ 2   │ false │ 2       │ b       │ \u001b[90mmissing\u001b[39m │\n",
       "│ 3   │ true  │ \u001b[90mmissing\u001b[39m │ c       │ 'c'     │"
      ]
     },
     "execution_count": 47,
     "metadata": {},
     "output_type": "execute_result"
    }
   ],
   "source": [
    "y = load(\"x.jld\", \"x\") # this is identical to x"
   ]
  },
  {
   "cell_type": "code",
   "execution_count": 48,
   "metadata": {
    "collapsed": false
   },
   "outputs": [
    {
     "data": {
      "text/plain": [
       "4-element Array{Type,1}:\n",
       " Bool                           \n",
       " Union{Int64, Missings.Missing} \n",
       " Union{Missings.Missing, String}\n",
       " Union{Char, Missings.Missing}  "
      ]
     },
     "execution_count": 48,
     "metadata": {},
     "output_type": "execute_result"
    }
   ],
   "source": [
    "eltypes(y)"
   ]
  },
  {
   "cell_type": "code",
   "execution_count": 57,
   "metadata": {
    "collapsed": false
   },
   "outputs": [
    {
     "name": "stdout",
     "output_type": "stream",
     "text": [
      "  0.090868 seconds (500.06 k allocations: 20.926 MiB)\n",
      "  0.024537 seconds (203.74 k allocations: 3.345 MiB, 23.30% gc time)\n"
     ]
    },
    {
     "data": {
      "text/plain": [
       "2-element Array{Int64,1}:\n",
       " 588833\n",
       " 154487"
      ]
     },
     "execution_count": 57,
     "metadata": {},
     "output_type": "execute_result"
    }
   ],
   "source": [
    "bigdf = DataFrame(Bool, 10^3, 10^2) # 10^3 rows, 10^5 columns\n",
    "@time CSV.write(\"bigdf.csv\", bigdf)\n",
    "@time save(\"bigdf.jld\", \"bigdf\", bigdf)\n",
    "getfield.(stat.([\"bigdf.csv\", \"bigdf.jld\"]), :size) #  you can expect JLD to be faster, file size depends on data"
   ]
  },
  {
   "cell_type": "markdown",
   "metadata": {},
   "source": [
    "## Manipulating columns of DataFrame"
   ]
  },
  {
   "cell_type": "markdown",
   "metadata": {},
   "source": [
    "### Renaming columns"
   ]
  },
  {
   "cell_type": "code",
   "execution_count": 50,
   "metadata": {
    "collapsed": false
   },
   "outputs": [
    {
     "data": {
      "text/html": [
       "<table class=\"data-frame\"><thead><tr><th></th><th>x1</th><th>x2</th><th>x3</th><th>x4</th></tr></thead><tbody><tr><th>1</th><td>false</td><td>false</td><td>false</td><td>false</td></tr><tr><th>2</th><td>true</td><td>true</td><td>false</td><td>false</td></tr><tr><th>3</th><td>false</td><td>true</td><td>true</td><td>false</td></tr></tbody></table>"
      ],
      "text/plain": [
       "3×4 DataFrames.DataFrame\n",
       "│ Row │ x1    │ x2    │ x3    │ x4    │\n",
       "├─────┼───────┼───────┼───────┼───────┤\n",
       "│ 1   │ false │ false │ false │ false │\n",
       "│ 2   │ true  │ true  │ false │ false │\n",
       "│ 3   │ false │ true  │ true  │ false │"
      ]
     },
     "execution_count": 50,
     "metadata": {},
     "output_type": "execute_result"
    }
   ],
   "source": [
    "x = DataFrame(Bool, 3, 4)"
   ]
  },
  {
   "cell_type": "code",
   "execution_count": 51,
   "metadata": {
    "collapsed": false
   },
   "outputs": [
    {
     "data": {
      "text/html": [
       "<table class=\"data-frame\"><thead><tr><th></th><th>A</th><th>x2</th><th>x3</th><th>x4</th></tr></thead><tbody><tr><th>1</th><td>false</td><td>false</td><td>false</td><td>false</td></tr><tr><th>2</th><td>true</td><td>true</td><td>false</td><td>false</td></tr><tr><th>3</th><td>false</td><td>true</td><td>true</td><td>false</td></tr></tbody></table>"
      ],
      "text/plain": [
       "3×4 DataFrames.DataFrame\n",
       "│ Row │ A     │ x2    │ x3    │ x4    │\n",
       "├─────┼───────┼───────┼───────┼───────┤\n",
       "│ 1   │ false │ false │ false │ false │\n",
       "│ 2   │ true  │ true  │ false │ false │\n",
       "│ 3   │ false │ true  │ true  │ false │"
      ]
     },
     "execution_count": 51,
     "metadata": {},
     "output_type": "execute_result"
    }
   ],
   "source": [
    "rename(x, :x1 => :A) # new data frame, also accepts collections of Pairs"
   ]
  },
  {
   "cell_type": "code",
   "execution_count": 52,
   "metadata": {
    "collapsed": false
   },
   "outputs": [
    {
     "data": {
      "text/html": [
       "<table class=\"data-frame\"><thead><tr><th></th><th>x1x1</th><th>x2x2</th><th>x3x3</th><th>x4x4</th></tr></thead><tbody><tr><th>1</th><td>false</td><td>false</td><td>false</td><td>false</td></tr><tr><th>2</th><td>true</td><td>true</td><td>false</td><td>false</td></tr><tr><th>3</th><td>false</td><td>true</td><td>true</td><td>false</td></tr></tbody></table>"
      ],
      "text/plain": [
       "3×4 DataFrames.DataFrame\n",
       "│ Row │ x1x1  │ x2x2  │ x3x3  │ x4x4  │\n",
       "├─────┼───────┼───────┼───────┼───────┤\n",
       "│ 1   │ false │ false │ false │ false │\n",
       "│ 2   │ true  │ true  │ false │ false │\n",
       "│ 3   │ false │ true  │ true  │ false │"
      ]
     },
     "execution_count": 52,
     "metadata": {},
     "output_type": "execute_result"
    }
   ],
   "source": [
    "rename!(c -> Symbol(string(c)^2), x) # in place transofmation by applying a function"
   ]
  },
  {
   "cell_type": "code",
   "execution_count": 53,
   "metadata": {
    "collapsed": false
   },
   "outputs": [
    {
     "data": {
      "text/html": [
       "<table class=\"data-frame\"><thead><tr><th></th><th>x1x1</th><th>x2x2</th><th>third</th><th>x4x4</th></tr></thead><tbody><tr><th>1</th><td>false</td><td>false</td><td>false</td><td>false</td></tr><tr><th>2</th><td>true</td><td>true</td><td>false</td><td>false</td></tr><tr><th>3</th><td>false</td><td>true</td><td>true</td><td>false</td></tr></tbody></table>"
      ],
      "text/plain": [
       "3×4 DataFrames.DataFrame\n",
       "│ Row │ x1x1  │ x2x2  │ third │ x4x4  │\n",
       "├─────┼───────┼───────┼───────┼───────┤\n",
       "│ 1   │ false │ false │ false │ false │\n",
       "│ 2   │ true  │ true  │ false │ false │\n",
       "│ 3   │ false │ true  │ true  │ false │"
      ]
     },
     "execution_count": 53,
     "metadata": {},
     "output_type": "execute_result"
    }
   ],
   "source": [
    "rename(x, names(x)[3] => :third) # change name of third variable, new data frame"
   ]
  },
  {
   "cell_type": "code",
   "execution_count": 54,
   "metadata": {
    "collapsed": false
   },
   "outputs": [
    {
     "data": {
      "text/html": [
       "<table class=\"data-frame\"><thead><tr><th></th><th>a</th><th>b</th><th>c</th><th>d</th></tr></thead><tbody><tr><th>1</th><td>false</td><td>false</td><td>false</td><td>false</td></tr><tr><th>2</th><td>true</td><td>true</td><td>false</td><td>false</td></tr><tr><th>3</th><td>false</td><td>true</td><td>true</td><td>false</td></tr></tbody></table>"
      ],
      "text/plain": [
       "3×4 DataFrames.DataFrame\n",
       "│ Row │ a     │ b     │ c     │ d     │\n",
       "├─────┼───────┼───────┼───────┼───────┤\n",
       "│ 1   │ false │ false │ false │ false │\n",
       "│ 2   │ true  │ true  │ false │ false │\n",
       "│ 3   │ false │ true  │ true  │ false │"
      ]
     },
     "execution_count": 54,
     "metadata": {},
     "output_type": "execute_result"
    }
   ],
   "source": [
    "names!(x, [:a, :b, :c, :d]) # change all names of variables"
   ]
  },
  {
   "cell_type": "code",
   "execution_count": 55,
   "metadata": {
    "collapsed": false
   },
   "outputs": [
    {
     "data": {
      "text/html": [
       "<table class=\"data-frame\"><thead><tr><th></th><th>a</th><th>a_1</th><th>a_2</th><th>a_3</th></tr></thead><tbody><tr><th>1</th><td>false</td><td>false</td><td>false</td><td>false</td></tr><tr><th>2</th><td>true</td><td>true</td><td>false</td><td>false</td></tr><tr><th>3</th><td>false</td><td>true</td><td>true</td><td>false</td></tr></tbody></table>"
      ],
      "text/plain": [
       "3×4 DataFrames.DataFrame\n",
       "│ Row │ a     │ a_1   │ a_2   │ a_3   │\n",
       "├─────┼───────┼───────┼───────┼───────┤\n",
       "│ 1   │ false │ false │ false │ false │\n",
       "│ 2   │ true  │ true  │ false │ false │\n",
       "│ 3   │ false │ true  │ true  │ false │"
      ]
     },
     "execution_count": 55,
     "metadata": {},
     "output_type": "execute_result"
    }
   ],
   "source": [
    "names!(x, fill(:a, 4), allow_duplicates=true) # handle duplicates in passed names"
   ]
  },
  {
   "cell_type": "markdown",
   "metadata": {
    "collapsed": true
   },
   "source": [
    "### Reordering columns"
   ]
  },
  {
   "cell_type": "code",
   "execution_count": 59,
   "metadata": {
    "collapsed": false
   },
   "outputs": [
    {
     "data": {
      "text/html": [
       "<table class=\"data-frame\"><thead><tr><th></th><th>a_3</th><th>a_1</th><th>a_2</th><th>a</th></tr></thead><tbody><tr><th>1</th><td>false</td><td>false</td><td>false</td><td>false</td></tr><tr><th>2</th><td>false</td><td>true</td><td>false</td><td>true</td></tr><tr><th>3</th><td>false</td><td>true</td><td>true</td><td>false</td></tr></tbody></table>"
      ],
      "text/plain": [
       "3×4 DataFrames.DataFrame\n",
       "│ Row │ a_3   │ a_1   │ a_2   │ a     │\n",
       "├─────┼───────┼───────┼───────┼───────┤\n",
       "│ 1   │ false │ false │ false │ false │\n",
       "│ 2   │ false │ true  │ false │ true  │\n",
       "│ 3   │ false │ true  │ true  │ false │"
      ]
     },
     "execution_count": 59,
     "metadata": {},
     "output_type": "execute_result"
    }
   ],
   "source": [
    "x[shuffle(names(x))] # new DataFrame, reorder names(x) vector as needed"
   ]
  },
  {
   "cell_type": "markdown",
   "metadata": {},
   "source": [
    "### Merging columns"
   ]
  },
  {
   "cell_type": "code",
   "execution_count": 60,
   "metadata": {
    "collapsed": false
   },
   "outputs": [
    {
     "data": {
      "text/html": [
       "<table class=\"data-frame\"><thead><tr><th></th><th>x1</th><th>x2</th><th>x3</th><th>x4</th></tr></thead><tbody><tr><th>1</th><td>(1, 1)</td><td>(1, 2)</td><td>(1, 3)</td><td>(1, 4)</td></tr><tr><th>2</th><td>(2, 1)</td><td>(2, 2)</td><td>(2, 3)</td><td>(2, 4)</td></tr><tr><th>3</th><td>(3, 1)</td><td>(3, 2)</td><td>(3, 3)</td><td>(3, 4)</td></tr></tbody></table>"
      ],
      "text/plain": [
       "3×4 DataFrames.DataFrame\n",
       "│ Row │ x1     │ x2     │ x3     │ x4     │\n",
       "├─────┼────────┼────────┼────────┼────────┤\n",
       "│ 1   │ (1, 1) │ (1, 2) │ (1, 3) │ (1, 4) │\n",
       "│ 2   │ (2, 1) │ (2, 2) │ (2, 3) │ (2, 4) │\n",
       "│ 3   │ (3, 1) │ (3, 2) │ (3, 3) │ (3, 4) │"
      ]
     },
     "execution_count": 60,
     "metadata": {},
     "output_type": "execute_result"
    }
   ],
   "source": [
    "x = DataFrame([(i,j) for i in 1:3, j in 1:4])"
   ]
  },
  {
   "cell_type": "code",
   "execution_count": 62,
   "metadata": {
    "collapsed": false
   },
   "outputs": [
    {
     "data": {
      "text/html": [
       "<table class=\"data-frame\"><thead><tr><th></th><th>x1</th><th>x2</th><th>x3</th><th>x4</th><th>x1_1</th><th>x2_1</th><th>x3_1</th><th>x4_1</th></tr></thead><tbody><tr><th>1</th><td>(1, 1)</td><td>(1, 2)</td><td>(1, 3)</td><td>(1, 4)</td><td>(1, 1)</td><td>(1, 2)</td><td>(1, 3)</td><td>(1, 4)</td></tr><tr><th>2</th><td>(2, 1)</td><td>(2, 2)</td><td>(2, 3)</td><td>(2, 4)</td><td>(2, 1)</td><td>(2, 2)</td><td>(2, 3)</td><td>(2, 4)</td></tr><tr><th>3</th><td>(3, 1)</td><td>(3, 2)</td><td>(3, 3)</td><td>(3, 4)</td><td>(3, 1)</td><td>(3, 2)</td><td>(3, 3)</td><td>(3, 4)</td></tr></tbody></table>"
      ],
      "text/plain": [
       "3×8 DataFrames.DataFrame\n",
       "│ Row │ x1     │ x2     │ x3     │ x4     │ x1_1   │ x2_1   │ x3_1   │ x4_1   │\n",
       "├─────┼────────┼────────┼────────┼────────┼────────┼────────┼────────┼────────┤\n",
       "│ 1   │ (1, 1) │ (1, 2) │ (1, 3) │ (1, 4) │ (1, 1) │ (1, 2) │ (1, 3) │ (1, 4) │\n",
       "│ 2   │ (2, 1) │ (2, 2) │ (2, 3) │ (2, 4) │ (2, 1) │ (2, 2) │ (2, 3) │ (2, 4) │\n",
       "│ 3   │ (3, 1) │ (3, 2) │ (3, 3) │ (3, 4) │ (3, 1) │ (3, 2) │ (3, 3) │ (3, 4) │"
      ]
     },
     "execution_count": 62,
     "metadata": {},
     "output_type": "execute_result"
    }
   ],
   "source": [
    "[x x] # merge two data frames, also hcat if you have many columns to merge"
   ]
  },
  {
   "cell_type": "code",
   "execution_count": 76,
   "metadata": {
    "collapsed": false
   },
   "outputs": [
    {
     "data": {
      "text/html": [
       "<table class=\"data-frame\"><thead><tr><th></th><th>x1</th><th>x2</th><th>x3</th><th>x4</th><th>x1_1</th></tr></thead><tbody><tr><th>1</th><td>(1, 1)</td><td>(1, 2)</td><td>(1, 3)</td><td>(1, 4)</td><td>1</td></tr><tr><th>2</th><td>(2, 1)</td><td>(2, 2)</td><td>(2, 3)</td><td>(2, 4)</td><td>2</td></tr><tr><th>3</th><td>(3, 1)</td><td>(3, 2)</td><td>(3, 3)</td><td>(3, 4)</td><td>3</td></tr></tbody></table>"
      ],
      "text/plain": [
       "3×5 DataFrames.DataFrame\n",
       "│ Row │ x1     │ x2     │ x3     │ x4     │ x1_1 │\n",
       "├─────┼────────┼────────┼────────┼────────┼──────┤\n",
       "│ 1   │ (1, 1) │ (1, 2) │ (1, 3) │ (1, 4) │ 1    │\n",
       "│ 2   │ (2, 1) │ (2, 2) │ (2, 3) │ (2, 4) │ 2    │\n",
       "│ 3   │ (3, 1) │ (3, 2) │ (3, 3) │ (3, 4) │ 3    │"
      ]
     },
     "execution_count": 76,
     "metadata": {},
     "output_type": "execute_result"
    }
   ],
   "source": [
    "y = hcat(x, [1,2,3]) # add a new column without a name"
   ]
  },
  {
   "cell_type": "code",
   "execution_count": 79,
   "metadata": {
    "collapsed": false
   },
   "outputs": [
    {
     "data": {
      "text/html": [
       "<table class=\"data-frame\"><thead><tr><th></th><th>x1</th><th>x2</th><th>x3</th><th>x4</th><th>A</th></tr></thead><tbody><tr><th>1</th><td>(1, 1)</td><td>(1, 2)</td><td>(1, 3)</td><td>(1, 4)</td><td>1</td></tr><tr><th>2</th><td>(2, 1)</td><td>(2, 2)</td><td>(2, 3)</td><td>(2, 4)</td><td>2</td></tr><tr><th>3</th><td>(3, 1)</td><td>(3, 2)</td><td>(3, 3)</td><td>(3, 4)</td><td>3</td></tr></tbody></table>"
      ],
      "text/plain": [
       "3×5 DataFrames.DataFrame\n",
       "│ Row │ x1     │ x2     │ x3     │ x4     │ A │\n",
       "├─────┼────────┼────────┼────────┼────────┼───┤\n",
       "│ 1   │ (1, 1) │ (1, 2) │ (1, 3) │ (1, 4) │ 1 │\n",
       "│ 2   │ (2, 1) │ (2, 2) │ (2, 3) │ (2, 4) │ 2 │\n",
       "│ 3   │ (3, 1) │ (3, 2) │ (3, 3) │ (3, 4) │ 3 │"
      ]
     },
     "execution_count": 79,
     "metadata": {},
     "output_type": "execute_result"
    }
   ],
   "source": [
    "y = hcat(x, DataFrame(A=[1,2,3])) # this is a bit more verbose but cleaner"
   ]
  },
  {
   "cell_type": "code",
   "execution_count": 88,
   "metadata": {
    "collapsed": false
   },
   "outputs": [
    {
     "data": {
      "text/html": [
       "<table class=\"data-frame\"><thead><tr><th></th><th>A</th><th>x1</th><th>x2</th><th>x3</th><th>x4</th></tr></thead><tbody><tr><th>1</th><td>1</td><td>(1, 1)</td><td>(1, 2)</td><td>(1, 3)</td><td>(1, 4)</td></tr><tr><th>2</th><td>2</td><td>(2, 1)</td><td>(2, 2)</td><td>(2, 3)</td><td>(2, 4)</td></tr><tr><th>3</th><td>3</td><td>(3, 1)</td><td>(3, 2)</td><td>(3, 3)</td><td>(3, 4)</td></tr></tbody></table>"
      ],
      "text/plain": [
       "3×5 DataFrames.DataFrame\n",
       "│ Row │ A │ x1     │ x2     │ x3     │ x4     │\n",
       "├─────┼───┼────────┼────────┼────────┼────────┤\n",
       "│ 1   │ 1 │ (1, 1) │ (1, 2) │ (1, 3) │ (1, 4) │\n",
       "│ 2   │ 2 │ (2, 1) │ (2, 2) │ (2, 3) │ (2, 4) │\n",
       "│ 3   │ 3 │ (3, 1) │ (3, 2) │ (3, 3) │ (3, 4) │"
      ]
     },
     "execution_count": 88,
     "metadata": {},
     "output_type": "execute_result"
    }
   ],
   "source": [
    "y = [DataFrame(A=[1,2,3]) x] # a way to append a vector at the start of the DataFrame"
   ]
  },
  {
   "cell_type": "code",
   "execution_count": 86,
   "metadata": {
    "collapsed": false
   },
   "outputs": [
    {
     "name": "stdout",
     "output_type": "stream",
     "text": [
      "  17.261 μs (125 allocations: 9.17 KiB)\n"
     ]
    },
    {
     "data": {
      "text/html": [
       "<table class=\"data-frame\"><thead><tr><th></th><th>x1</th><th>x2</th><th>A</th><th>x3</th><th>x4</th></tr></thead><tbody><tr><th>1</th><td>(1, 1)</td><td>(1, 2)</td><td>1</td><td>(1, 3)</td><td>(1, 4)</td></tr><tr><th>2</th><td>(2, 1)</td><td>(2, 2)</td><td>2</td><td>(2, 3)</td><td>(2, 4)</td></tr><tr><th>3</th><td>(3, 1)</td><td>(3, 2)</td><td>3</td><td>(3, 3)</td><td>(3, 4)</td></tr></tbody></table>"
      ],
      "text/plain": [
       "3×5 DataFrames.DataFrame\n",
       "│ Row │ x1     │ x2     │ A │ x3     │ x4     │\n",
       "├─────┼────────┼────────┼───┼────────┼────────┤\n",
       "│ 1   │ (1, 1) │ (1, 2) │ 1 │ (1, 3) │ (1, 4) │\n",
       "│ 2   │ (2, 1) │ (2, 2) │ 2 │ (2, 3) │ (2, 4) │\n",
       "│ 3   │ (3, 1) │ (3, 2) │ 3 │ (3, 3) │ (3, 4) │"
      ]
     },
     "execution_count": 86,
     "metadata": {},
     "output_type": "execute_result"
    }
   ],
   "source": [
    "using BenchmarkTools\n",
    "@btime [$x[1:2] DataFrame(A=[1,2,3]) $x[3:4]] # and in the middle, method 1"
   ]
  },
  {
   "cell_type": "code",
   "execution_count": 85,
   "metadata": {
    "collapsed": false
   },
   "outputs": [
    {
     "name": "stdout",
     "output_type": "stream",
     "text": [
      "  9.797 μs (60 allocations: 4.41 KiB)\n"
     ]
    },
    {
     "data": {
      "text/html": [
       "<table class=\"data-frame\"><thead><tr><th></th><th>x1</th><th>x2</th><th>x4</th><th>A</th><th>x3</th></tr></thead><tbody><tr><th>1</th><td>(1, 1)</td><td>(1, 2)</td><td>(1, 4)</td><td>1</td><td>(1, 3)</td></tr><tr><th>2</th><td>(2, 1)</td><td>(2, 2)</td><td>(2, 4)</td><td>2</td><td>(2, 3)</td></tr><tr><th>3</th><td>(3, 1)</td><td>(3, 2)</td><td>(3, 4)</td><td>3</td><td>(3, 3)</td></tr></tbody></table>"
      ],
      "text/plain": [
       "3×5 DataFrames.DataFrame\n",
       "│ Row │ x1     │ x2     │ x4     │ A │ x3     │\n",
       "├─────┼────────┼────────┼────────┼───┼────────┤\n",
       "│ 1   │ (1, 1) │ (1, 2) │ (1, 4) │ 1 │ (1, 3) │\n",
       "│ 2   │ (2, 1) │ (2, 2) │ (2, 4) │ 2 │ (2, 3) │\n",
       "│ 3   │ (3, 1) │ (3, 2) │ (3, 4) │ 3 │ (3, 3) │"
      ]
     },
     "execution_count": 85,
     "metadata": {},
     "output_type": "execute_result"
    }
   ],
   "source": [
    "@btime y = [$x DataFrame(A=[1,2,3])]; y[names(y)[[1,2,5,3,4]]] # method 2, faster but more messy"
   ]
  }
 ],
 "metadata": {
  "kernelspec": {
   "display_name": "Julia 0.6.0",
   "language": "julia",
   "name": "julia-0.6"
  },
  "language_info": {
   "file_extension": ".jl",
   "mimetype": "application/julia",
   "name": "julia",
   "version": "0.6.1"
  }
 },
 "nbformat": 4,
 "nbformat_minor": 0
}
