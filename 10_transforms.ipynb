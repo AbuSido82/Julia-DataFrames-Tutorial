{
 "cells": [
  {
   "cell_type": "markdown",
   "metadata": {},
   "source": [
    "# Introduction to DataFrames\n",
    "**[Bogumił Kamiński](http://bogumilkaminski.pl/about/), December 9, 2018**"
   ]
  },
  {
   "cell_type": "code",
   "execution_count": 1,
   "metadata": {},
   "outputs": [],
   "source": [
    "using DataFrames # load package"
   ]
  },
  {
   "cell_type": "markdown",
   "metadata": {},
   "source": [
    "## Split-apply-combine"
   ]
  },
  {
   "cell_type": "code",
   "execution_count": 2,
   "metadata": {},
   "outputs": [
    {
     "data": {
      "text/html": [
       "<table class=\"data-frame\"><thead><tr><th></th><th>id</th><th>id2</th><th>v</th></tr><tr><th></th><th>Int64</th><th>Int64</th><th>Float64</th></tr></thead><tbody><p>8 rows × 3 columns</p><tr><th>1</th><td>1</td><td>1</td><td>0.572026</td></tr><tr><th>2</th><td>2</td><td>2</td><td>0.989102</td></tr><tr><th>3</th><td>3</td><td>1</td><td>0.556679</td></tr><tr><th>4</th><td>4</td><td>2</td><td>0.674911</td></tr><tr><th>5</th><td>1</td><td>1</td><td>0.181193</td></tr><tr><th>6</th><td>2</td><td>2</td><td>0.903744</td></tr><tr><th>7</th><td>3</td><td>1</td><td>0.242435</td></tr><tr><th>8</th><td>4</td><td>2</td><td>0.523293</td></tr></tbody></table>"
      ],
      "text/latex": [
       "\\begin{tabular}{r|ccc}\n",
       "\t& id & id2 & v\\\\\n",
       "\t\\hline\n",
       "\t1 & 1 & 1 & 0.572026 \\\\\n",
       "\t2 & 2 & 2 & 0.989102 \\\\\n",
       "\t3 & 3 & 1 & 0.556679 \\\\\n",
       "\t4 & 4 & 2 & 0.674911 \\\\\n",
       "\t5 & 1 & 1 & 0.181193 \\\\\n",
       "\t6 & 2 & 2 & 0.903744 \\\\\n",
       "\t7 & 3 & 1 & 0.242435 \\\\\n",
       "\t8 & 4 & 2 & 0.523293 \\\\\n",
       "\\end{tabular}\n"
      ],
      "text/plain": [
       "8×3 DataFrame\n",
       "│ Row │ id    │ id2   │ v        │\n",
       "│     │ \u001b[90mInt64\u001b[39m │ \u001b[90mInt64\u001b[39m │ \u001b[90mFloat64\u001b[39m  │\n",
       "├─────┼───────┼───────┼──────────┤\n",
       "│ 1   │ 1     │ 1     │ 0.572026 │\n",
       "│ 2   │ 2     │ 2     │ 0.989102 │\n",
       "│ 3   │ 3     │ 1     │ 0.556679 │\n",
       "│ 4   │ 4     │ 2     │ 0.674911 │\n",
       "│ 5   │ 1     │ 1     │ 0.181193 │\n",
       "│ 6   │ 2     │ 2     │ 0.903744 │\n",
       "│ 7   │ 3     │ 1     │ 0.242435 │\n",
       "│ 8   │ 4     │ 2     │ 0.523293 │"
      ]
     },
     "execution_count": 2,
     "metadata": {},
     "output_type": "execute_result"
    }
   ],
   "source": [
    "x = DataFrame(id=[1,2,3,4,1,2,3,4], id2=[1,2,1,2,1,2,1,2], v=rand(8))"
   ]
  },
  {
   "cell_type": "code",
   "execution_count": 3,
   "metadata": {
    "scrolled": true
   },
   "outputs": [
    {
     "data": {
      "text/plain": [
       "GroupedDataFrame{DataFrame} with 4 groups based on key: :id\n",
       "First Group: 2 rows\n",
       "│ Row │ id    │ id2   │ v        │\n",
       "│     │ \u001b[90mInt64\u001b[39m │ \u001b[90mInt64\u001b[39m │ \u001b[90mFloat64\u001b[39m  │\n",
       "├─────┼───────┼───────┼──────────┤\n",
       "│ 1   │ 1     │ 1     │ 0.572026 │\n",
       "│ 2   │ 1     │ 1     │ 0.181193 │\n",
       "⋮\n",
       "Last Group: 2 rows\n",
       "│ Row │ id    │ id2   │ v        │\n",
       "│     │ \u001b[90mInt64\u001b[39m │ \u001b[90mInt64\u001b[39m │ \u001b[90mFloat64\u001b[39m  │\n",
       "├─────┼───────┼───────┼──────────┤\n",
       "│ 1   │ 4     │ 2     │ 0.674911 │\n",
       "│ 2   │ 4     │ 2     │ 0.523293 │"
      ]
     },
     "execution_count": 3,
     "metadata": {},
     "output_type": "execute_result"
    }
   ],
   "source": [
    "gx1 = groupby(x, :id)"
   ]
  },
  {
   "cell_type": "code",
   "execution_count": 4,
   "metadata": {},
   "outputs": [
    {
     "data": {
      "text/plain": [
       "GroupedDataFrame{DataFrame} with 4 groups based on keys: :id, :id2\n",
       "First Group: 2 rows\n",
       "│ Row │ id    │ id2   │ v        │\n",
       "│     │ \u001b[90mInt64\u001b[39m │ \u001b[90mInt64\u001b[39m │ \u001b[90mFloat64\u001b[39m  │\n",
       "├─────┼───────┼───────┼──────────┤\n",
       "│ 1   │ 1     │ 1     │ 0.572026 │\n",
       "│ 2   │ 1     │ 1     │ 0.181193 │\n",
       "⋮\n",
       "Last Group: 2 rows\n",
       "│ Row │ id    │ id2   │ v        │\n",
       "│     │ \u001b[90mInt64\u001b[39m │ \u001b[90mInt64\u001b[39m │ \u001b[90mFloat64\u001b[39m  │\n",
       "├─────┼───────┼───────┼──────────┤\n",
       "│ 1   │ 4     │ 2     │ 0.674911 │\n",
       "│ 2   │ 4     │ 2     │ 0.523293 │"
      ]
     },
     "execution_count": 4,
     "metadata": {},
     "output_type": "execute_result"
    }
   ],
   "source": [
    "gx2 = groupby(x, [:id, :id2])"
   ]
  },
  {
   "cell_type": "code",
   "execution_count": 5,
   "metadata": {},
   "outputs": [
    {
     "data": {
      "text/html": [
       "<table class=\"data-frame\"><thead><tr><th></th><th>id</th><th>id2</th><th>v</th></tr><tr><th></th><th>Int64</th><th>Int64</th><th>Float64</th></tr></thead><tbody><p>8 rows × 3 columns</p><tr><th>1</th><td>1</td><td>1</td><td>0.572026</td></tr><tr><th>2</th><td>1</td><td>1</td><td>0.181193</td></tr><tr><th>3</th><td>2</td><td>2</td><td>0.989102</td></tr><tr><th>4</th><td>2</td><td>2</td><td>0.903744</td></tr><tr><th>5</th><td>3</td><td>1</td><td>0.556679</td></tr><tr><th>6</th><td>3</td><td>1</td><td>0.242435</td></tr><tr><th>7</th><td>4</td><td>2</td><td>0.674911</td></tr><tr><th>8</th><td>4</td><td>2</td><td>0.523293</td></tr></tbody></table>"
      ],
      "text/latex": [
       "\\begin{tabular}{r|ccc}\n",
       "\t& id & id2 & v\\\\\n",
       "\t\\hline\n",
       "\t1 & 1 & 1 & 0.572026 \\\\\n",
       "\t2 & 1 & 1 & 0.181193 \\\\\n",
       "\t3 & 2 & 2 & 0.989102 \\\\\n",
       "\t4 & 2 & 2 & 0.903744 \\\\\n",
       "\t5 & 3 & 1 & 0.556679 \\\\\n",
       "\t6 & 3 & 1 & 0.242435 \\\\\n",
       "\t7 & 4 & 2 & 0.674911 \\\\\n",
       "\t8 & 4 & 2 & 0.523293 \\\\\n",
       "\\end{tabular}\n"
      ],
      "text/plain": [
       "8×3 DataFrame\n",
       "│ Row │ id    │ id2   │ v        │\n",
       "│     │ \u001b[90mInt64\u001b[39m │ \u001b[90mInt64\u001b[39m │ \u001b[90mFloat64\u001b[39m  │\n",
       "├─────┼───────┼───────┼──────────┤\n",
       "│ 1   │ 1     │ 1     │ 0.572026 │\n",
       "│ 2   │ 1     │ 1     │ 0.181193 │\n",
       "│ 3   │ 2     │ 2     │ 0.989102 │\n",
       "│ 4   │ 2     │ 2     │ 0.903744 │\n",
       "│ 5   │ 3     │ 1     │ 0.556679 │\n",
       "│ 6   │ 3     │ 1     │ 0.242435 │\n",
       "│ 7   │ 4     │ 2     │ 0.674911 │\n",
       "│ 8   │ 4     │ 2     │ 0.523293 │"
      ]
     },
     "execution_count": 5,
     "metadata": {},
     "output_type": "execute_result"
    }
   ],
   "source": [
    "vcat(gx2...) # back to the original DataFrame"
   ]
  },
  {
   "cell_type": "code",
   "execution_count": 6,
   "metadata": {},
   "outputs": [
    {
     "name": "stderr",
     "output_type": "stream",
     "text": [
      "┌ Warning: Indexing into a return value of columns on SubDataFrame will return a view of column value\n",
      "│   caller = _broadcast_getindex at broadcast.jl:540 [inlined]\n",
      "└ @ Core .\\broadcast.jl:540\n",
      "┌ Warning: Indexing into a return value of columns on SubDataFrame will return a view of column value\n",
      "│   caller = copyto_nonleaf!(::Array{DataType,1}, ::Base.Broadcast.Broadcasted{Base.Broadcast.DefaultArrayStyle{1},Tuple{Base.OneTo{Int64}},typeof(eltype),Tuple{Base.Broadcast.Extruded{DataFrames.DataFrameColumns{SubDataFrame{Array{Int64,1}},AbstractArray{T,1} where T},Tuple{Bool},Tuple{Int64}}}}, ::Base.OneTo{Int64}, ::Int64, ::Int64) at broadcast.jl:540\n",
      "└ @ Base.Broadcast .\\broadcast.jl:540\n",
      "┌ Warning: `sdf[colind]` will create a view of `parent(sdf)[colind]` in the future. Use sdf[:, colind]` to get a freshly allocated vector.\n",
      "│   caller = append_rows!(::SubDataFrame{Array{Int64,1}}, ::Tuple{Array{Int64,1},Array{Int64,1},Array{Float64,1}}, ::Int64, ::Tuple{Symbol,Symbol,Symbol}) at grouping.jl:566\n",
      "└ @ DataFrames C:\\Users\\bogum\\.julia\\packages\\DataFrames\\KUWId\\src\\groupeddataframe\\grouping.jl:566\n"
     ]
    },
    {
     "data": {
      "text/html": [
       "<table class=\"data-frame\"><thead><tr><th></th><th>id</th><th>id2</th><th>id_1</th><th>id2_1</th><th>v</th></tr><tr><th></th><th>Int64</th><th>Int64</th><th>Int64</th><th>Int64</th><th>Float64</th></tr></thead><tbody><p>8 rows × 5 columns</p><tr><th>1</th><td>1</td><td>1</td><td>1</td><td>1</td><td>0.572026</td></tr><tr><th>2</th><td>1</td><td>1</td><td>1</td><td>1</td><td>0.181193</td></tr><tr><th>3</th><td>2</td><td>2</td><td>2</td><td>2</td><td>0.989102</td></tr><tr><th>4</th><td>2</td><td>2</td><td>2</td><td>2</td><td>0.903744</td></tr><tr><th>5</th><td>3</td><td>1</td><td>3</td><td>1</td><td>0.556679</td></tr><tr><th>6</th><td>3</td><td>1</td><td>3</td><td>1</td><td>0.242435</td></tr><tr><th>7</th><td>4</td><td>2</td><td>4</td><td>2</td><td>0.674911</td></tr><tr><th>8</th><td>4</td><td>2</td><td>4</td><td>2</td><td>0.523293</td></tr></tbody></table>"
      ],
      "text/latex": [
       "\\begin{tabular}{r|ccccc}\n",
       "\t& id & id2 & id\\_1 & id2\\_1 & v\\\\\n",
       "\t\\hline\n",
       "\t1 & 1 & 1 & 1 & 1 & 0.572026 \\\\\n",
       "\t2 & 1 & 1 & 1 & 1 & 0.181193 \\\\\n",
       "\t3 & 2 & 2 & 2 & 2 & 0.989102 \\\\\n",
       "\t4 & 2 & 2 & 2 & 2 & 0.903744 \\\\\n",
       "\t5 & 3 & 1 & 3 & 1 & 0.556679 \\\\\n",
       "\t6 & 3 & 1 & 3 & 1 & 0.242435 \\\\\n",
       "\t7 & 4 & 2 & 4 & 2 & 0.674911 \\\\\n",
       "\t8 & 4 & 2 & 4 & 2 & 0.523293 \\\\\n",
       "\\end{tabular}\n"
      ],
      "text/plain": [
       "8×5 DataFrame\n",
       "│ Row │ id    │ id2   │ id_1  │ id2_1 │ v        │\n",
       "│     │ \u001b[90mInt64\u001b[39m │ \u001b[90mInt64\u001b[39m │ \u001b[90mInt64\u001b[39m │ \u001b[90mInt64\u001b[39m │ \u001b[90mFloat64\u001b[39m  │\n",
       "├─────┼───────┼───────┼───────┼───────┼──────────┤\n",
       "│ 1   │ 1     │ 1     │ 1     │ 1     │ 0.572026 │\n",
       "│ 2   │ 1     │ 1     │ 1     │ 1     │ 0.181193 │\n",
       "│ 3   │ 2     │ 2     │ 2     │ 2     │ 0.989102 │\n",
       "│ 4   │ 2     │ 2     │ 2     │ 2     │ 0.903744 │\n",
       "│ 5   │ 3     │ 1     │ 3     │ 1     │ 0.556679 │\n",
       "│ 6   │ 3     │ 1     │ 3     │ 1     │ 0.242435 │\n",
       "│ 7   │ 4     │ 2     │ 4     │ 2     │ 0.674911 │\n",
       "│ 8   │ 4     │ 2     │ 4     │ 2     │ 0.523293 │"
      ]
     },
     "execution_count": 6,
     "metadata": {},
     "output_type": "execute_result"
    }
   ],
   "source": [
    "combine(gx2) # the same; warnings will go away in DataFrames 0.16"
   ]
  },
  {
   "cell_type": "code",
   "execution_count": 7,
   "metadata": {},
   "outputs": [
    {
     "data": {
      "text/html": [
       "<table class=\"data-frame\"><thead><tr><th></th><th>id</th><th>x</th></tr><tr><th></th><th>Int64⍰</th><th>Int64</th></tr></thead><tbody><p>5 rows × 2 columns</p><tr><th>1</th><td>missing</td><td>1</td></tr><tr><th>2</th><td>5</td><td>2</td></tr><tr><th>3</th><td>1</td><td>3</td></tr><tr><th>4</th><td>3</td><td>4</td></tr><tr><th>5</th><td>missing</td><td>5</td></tr></tbody></table>"
      ],
      "text/latex": [
       "\\begin{tabular}{r|cc}\n",
       "\t& id & x\\\\\n",
       "\t\\hline\n",
       "\t1 &  & 1 \\\\\n",
       "\t2 & 5 & 2 \\\\\n",
       "\t3 & 1 & 3 \\\\\n",
       "\t4 & 3 & 4 \\\\\n",
       "\t5 &  & 5 \\\\\n",
       "\\end{tabular}\n"
      ],
      "text/plain": [
       "5×2 DataFrame\n",
       "│ Row │ id      │ x     │\n",
       "│     │ \u001b[90mInt64⍰\u001b[39m  │ \u001b[90mInt64\u001b[39m │\n",
       "├─────┼─────────┼───────┤\n",
       "│ 1   │ \u001b[90mmissing\u001b[39m │ 1     │\n",
       "│ 2   │ 5       │ 2     │\n",
       "│ 3   │ 1       │ 3     │\n",
       "│ 4   │ 3       │ 4     │\n",
       "│ 5   │ \u001b[90mmissing\u001b[39m │ 5     │"
      ]
     },
     "execution_count": 7,
     "metadata": {},
     "output_type": "execute_result"
    }
   ],
   "source": [
    "x = DataFrame(id = [missing, 5, 1, 3, missing], x = 1:5)"
   ]
  },
  {
   "cell_type": "code",
   "execution_count": 8,
   "metadata": {},
   "outputs": [
    {
     "data": {
      "text/plain": [
       "GroupedDataFrame{DataFrame} with 4 groups based on key: :id\n",
       "First Group: 2 rows\n",
       "│ Row │ id      │ x     │\n",
       "│     │ \u001b[90mInt64⍰\u001b[39m  │ \u001b[90mInt64\u001b[39m │\n",
       "├─────┼─────────┼───────┤\n",
       "│ 1   │ \u001b[90mmissing\u001b[39m │ 1     │\n",
       "│ 2   │ \u001b[90mmissing\u001b[39m │ 5     │\n",
       "⋮\n",
       "Last Group: 1 row\n",
       "│ Row │ id     │ x     │\n",
       "│     │ \u001b[90mInt64⍰\u001b[39m │ \u001b[90mInt64\u001b[39m │\n",
       "├─────┼────────┼───────┤\n",
       "│ 1   │ 3      │ 4     │"
      ]
     },
     "execution_count": 8,
     "metadata": {},
     "output_type": "execute_result"
    }
   ],
   "source": [
    "groupby(x, :id) # by default groups include mising values and are not sorted"
   ]
  },
  {
   "cell_type": "code",
   "execution_count": 9,
   "metadata": {},
   "outputs": [
    {
     "data": {
      "text/plain": [
       "GroupedDataFrame{DataFrame} with 3 groups based on key: :id\n",
       "First Group: 1 row\n",
       "│ Row │ id     │ x     │\n",
       "│     │ \u001b[90mInt64⍰\u001b[39m │ \u001b[90mInt64\u001b[39m │\n",
       "├─────┼────────┼───────┤\n",
       "│ 1   │ 1      │ 3     │\n",
       "⋮\n",
       "Last Group: 1 row\n",
       "│ Row │ id     │ x     │\n",
       "│     │ \u001b[90mInt64⍰\u001b[39m │ \u001b[90mInt64\u001b[39m │\n",
       "├─────┼────────┼───────┤\n",
       "│ 1   │ 5      │ 2     │"
      ]
     },
     "execution_count": 9,
     "metadata": {},
     "output_type": "execute_result"
    }
   ],
   "source": [
    "groupby(x, :id, sort=true, skipmissing=true) # but we can change it :)"
   ]
  },
  {
   "cell_type": "code",
   "execution_count": 10,
   "metadata": {},
   "outputs": [
    {
     "data": {
      "text/html": [
       "<table class=\"data-frame\"><thead><tr><th></th><th>id</th><th>v_mean</th></tr><tr><th></th><th>Char</th><th>Float64</th></tr></thead><tbody><p>4 rows × 2 columns</p><tr><th>1</th><td>'d'</td><td>0.480063</td></tr><tr><th>2</th><td>'b'</td><td>0.530918</td></tr><tr><th>3</th><td>'a'</td><td>0.575516</td></tr><tr><th>4</th><td>'c'</td><td>0.448413</td></tr></tbody></table>"
      ],
      "text/latex": [
       "\\begin{tabular}{r|cc}\n",
       "\t& id & v\\_mean\\\\\n",
       "\t\\hline\n",
       "\t1 & 'd' & 0.480063 \\\\\n",
       "\t2 & 'b' & 0.530918 \\\\\n",
       "\t3 & 'a' & 0.575516 \\\\\n",
       "\t4 & 'c' & 0.448413 \\\\\n",
       "\\end{tabular}\n"
      ],
      "text/plain": [
       "4×2 DataFrame\n",
       "│ Row │ id   │ v_mean   │\n",
       "│     │ \u001b[90mChar\u001b[39m │ \u001b[90mFloat64\u001b[39m  │\n",
       "├─────┼──────┼──────────┤\n",
       "│ 1   │ 'd'  │ 0.480063 │\n",
       "│ 2   │ 'b'  │ 0.530918 │\n",
       "│ 3   │ 'a'  │ 0.575516 │\n",
       "│ 4   │ 'c'  │ 0.448413 │"
      ]
     },
     "execution_count": 10,
     "metadata": {},
     "output_type": "execute_result"
    }
   ],
   "source": [
    "using Statistics\n",
    "x = DataFrame(id=rand('a':'d', 100), v=rand(100));\n",
    "by(x, :id, :v=>mean) # apply a function to each group of a data frame"
   ]
  },
  {
   "cell_type": "code",
   "execution_count": 11,
   "metadata": {},
   "outputs": [
    {
     "data": {
      "text/html": [
       "<table class=\"data-frame\"><thead><tr><th></th><th>id</th><th>v_mean</th></tr><tr><th></th><th>Char</th><th>Float64</th></tr></thead><tbody><p>4 rows × 2 columns</p><tr><th>1</th><td>'a'</td><td>0.575516</td></tr><tr><th>2</th><td>'b'</td><td>0.530918</td></tr><tr><th>3</th><td>'c'</td><td>0.448413</td></tr><tr><th>4</th><td>'d'</td><td>0.480063</td></tr></tbody></table>"
      ],
      "text/latex": [
       "\\begin{tabular}{r|cc}\n",
       "\t& id & v\\_mean\\\\\n",
       "\t\\hline\n",
       "\t1 & 'a' & 0.575516 \\\\\n",
       "\t2 & 'b' & 0.530918 \\\\\n",
       "\t3 & 'c' & 0.448413 \\\\\n",
       "\t4 & 'd' & 0.480063 \\\\\n",
       "\\end{tabular}\n"
      ],
      "text/plain": [
       "4×2 DataFrame\n",
       "│ Row │ id   │ v_mean   │\n",
       "│     │ \u001b[90mChar\u001b[39m │ \u001b[90mFloat64\u001b[39m  │\n",
       "├─────┼──────┼──────────┤\n",
       "│ 1   │ 'a'  │ 0.575516 │\n",
       "│ 2   │ 'b'  │ 0.530918 │\n",
       "│ 3   │ 'c'  │ 0.448413 │\n",
       "│ 4   │ 'd'  │ 0.480063 │"
      ]
     },
     "execution_count": 11,
     "metadata": {},
     "output_type": "execute_result"
    }
   ],
   "source": [
    "by(x, :id, :v=>mean, sort=true) # we can sort the output"
   ]
  },
  {
   "cell_type": "code",
   "execution_count": 12,
   "metadata": {},
   "outputs": [
    {
     "data": {
      "text/html": [
       "<table class=\"data-frame\"><thead><tr><th></th><th>id</th><th>res</th></tr><tr><th></th><th>Char</th><th>Float64</th></tr></thead><tbody><p>4 rows × 2 columns</p><tr><th>1</th><td>'d'</td><td>0.480063</td></tr><tr><th>2</th><td>'b'</td><td>0.530918</td></tr><tr><th>3</th><td>'a'</td><td>0.575516</td></tr><tr><th>4</th><td>'c'</td><td>0.448413</td></tr></tbody></table>"
      ],
      "text/latex": [
       "\\begin{tabular}{r|cc}\n",
       "\t& id & res\\\\\n",
       "\t\\hline\n",
       "\t1 & 'd' & 0.480063 \\\\\n",
       "\t2 & 'b' & 0.530918 \\\\\n",
       "\t3 & 'a' & 0.575516 \\\\\n",
       "\t4 & 'c' & 0.448413 \\\\\n",
       "\\end{tabular}\n"
      ],
      "text/plain": [
       "4×2 DataFrame\n",
       "│ Row │ id   │ res      │\n",
       "│     │ \u001b[90mChar\u001b[39m │ \u001b[90mFloat64\u001b[39m  │\n",
       "├─────┼──────┼──────────┤\n",
       "│ 1   │ 'd'  │ 0.480063 │\n",
       "│ 2   │ 'b'  │ 0.530918 │\n",
       "│ 3   │ 'a'  │ 0.575516 │\n",
       "│ 4   │ 'c'  │ 0.448413 │"
      ]
     },
     "execution_count": 12,
     "metadata": {},
     "output_type": "execute_result"
    }
   ],
   "source": [
    "by(x, :id, res=:v=>mean) # this way we can set a name for a column"
   ]
  },
  {
   "cell_type": "code",
   "execution_count": 13,
   "metadata": {},
   "outputs": [
    {
     "data": {
      "text/html": [
       "<table class=\"data-frame\"><thead><tr><th></th><th>id</th><th>res1</th><th>res2</th></tr><tr><th></th><th>Char</th><th>Float64</th><th>Float64</th></tr></thead><tbody><p>4 rows × 3 columns</p><tr><th>1</th><td>'d'</td><td>0.480063</td><td>14.4019</td></tr><tr><th>2</th><td>'b'</td><td>0.530918</td><td>12.2111</td></tr><tr><th>3</th><td>'a'</td><td>0.575516</td><td>12.0858</td></tr><tr><th>4</th><td>'c'</td><td>0.448413</td><td>11.6587</td></tr></tbody></table>"
      ],
      "text/latex": [
       "\\begin{tabular}{r|ccc}\n",
       "\t& id & res1 & res2\\\\\n",
       "\t\\hline\n",
       "\t1 & 'd' & 0.480063 & 14.4019 \\\\\n",
       "\t2 & 'b' & 0.530918 & 12.2111 \\\\\n",
       "\t3 & 'a' & 0.575516 & 12.0858 \\\\\n",
       "\t4 & 'c' & 0.448413 & 11.6587 \\\\\n",
       "\\end{tabular}\n"
      ],
      "text/plain": [
       "4×3 DataFrame\n",
       "│ Row │ id   │ res1     │ res2    │\n",
       "│     │ \u001b[90mChar\u001b[39m │ \u001b[90mFloat64\u001b[39m  │ \u001b[90mFloat64\u001b[39m │\n",
       "├─────┼──────┼──────────┼─────────┤\n",
       "│ 1   │ 'd'  │ 0.480063 │ 14.4019 │\n",
       "│ 2   │ 'b'  │ 0.530918 │ 12.2111 │\n",
       "│ 3   │ 'a'  │ 0.575516 │ 12.0858 │\n",
       "│ 4   │ 'c'  │ 0.448413 │ 11.6587 │"
      ]
     },
     "execution_count": 13,
     "metadata": {},
     "output_type": "execute_result"
    }
   ],
   "source": [
    "by(x, :id, res1=:v=>mean, res2=:v=>sum) # you can have multiple operations"
   ]
  },
  {
   "cell_type": "code",
   "execution_count": 14,
   "metadata": {},
   "outputs": [
    {
     "data": {
      "text/html": [
       "<table class=\"data-frame\"><thead><tr><th></th><th>id</th><th>x1_sum</th><th>x2_sum</th></tr><tr><th></th><th>Char</th><th>Float64</th><th>Float64</th></tr></thead><tbody><p>4 rows × 3 columns</p><tr><th>1</th><td>'a'</td><td>9.86814</td><td>11.4617</td></tr><tr><th>2</th><td>'d'</td><td>9.3865</td><td>10.2027</td></tr><tr><th>3</th><td>'b'</td><td>13.4094</td><td>15.7414</td></tr><tr><th>4</th><td>'c'</td><td>13.257</td><td>14.7559</td></tr></tbody></table>"
      ],
      "text/latex": [
       "\\begin{tabular}{r|ccc}\n",
       "\t& id & x1\\_sum & x2\\_sum\\\\\n",
       "\t\\hline\n",
       "\t1 & 'a' & 9.86814 & 11.4617 \\\\\n",
       "\t2 & 'd' & 9.3865 & 10.2027 \\\\\n",
       "\t3 & 'b' & 13.4094 & 15.7414 \\\\\n",
       "\t4 & 'c' & 13.257 & 14.7559 \\\\\n",
       "\\end{tabular}\n"
      ],
      "text/plain": [
       "4×3 DataFrame\n",
       "│ Row │ id   │ x1_sum  │ x2_sum  │\n",
       "│     │ \u001b[90mChar\u001b[39m │ \u001b[90mFloat64\u001b[39m │ \u001b[90mFloat64\u001b[39m │\n",
       "├─────┼──────┼─────────┼─────────┤\n",
       "│ 1   │ 'a'  │ 9.86814 │ 11.4617 │\n",
       "│ 2   │ 'd'  │ 9.3865  │ 10.2027 │\n",
       "│ 3   │ 'b'  │ 13.4094 │ 15.7414 │\n",
       "│ 4   │ 'c'  │ 13.257  │ 14.7559 │"
      ]
     },
     "execution_count": 14,
     "metadata": {},
     "output_type": "execute_result"
    }
   ],
   "source": [
    "x = DataFrame(id=rand('a':'d', 100), x1=rand(100), x2=rand(100))\n",
    "aggregate(x, :id, sum) # apply a function over all columns of a data frame in groups given by id"
   ]
  },
  {
   "cell_type": "code",
   "execution_count": 15,
   "metadata": {},
   "outputs": [
    {
     "data": {
      "text/html": [
       "<table class=\"data-frame\"><thead><tr><th></th><th>id</th><th>x1_sum</th><th>x2_sum</th></tr><tr><th></th><th>Char</th><th>Float64</th><th>Float64</th></tr></thead><tbody><p>4 rows × 3 columns</p><tr><th>1</th><td>'a'</td><td>9.86814</td><td>11.4617</td></tr><tr><th>2</th><td>'b'</td><td>13.4094</td><td>15.7414</td></tr><tr><th>3</th><td>'c'</td><td>13.257</td><td>14.7559</td></tr><tr><th>4</th><td>'d'</td><td>9.3865</td><td>10.2027</td></tr></tbody></table>"
      ],
      "text/latex": [
       "\\begin{tabular}{r|ccc}\n",
       "\t& id & x1\\_sum & x2\\_sum\\\\\n",
       "\t\\hline\n",
       "\t1 & 'a' & 9.86814 & 11.4617 \\\\\n",
       "\t2 & 'b' & 13.4094 & 15.7414 \\\\\n",
       "\t3 & 'c' & 13.257 & 14.7559 \\\\\n",
       "\t4 & 'd' & 9.3865 & 10.2027 \\\\\n",
       "\\end{tabular}\n"
      ],
      "text/plain": [
       "4×3 DataFrame\n",
       "│ Row │ id   │ x1_sum  │ x2_sum  │\n",
       "│     │ \u001b[90mChar\u001b[39m │ \u001b[90mFloat64\u001b[39m │ \u001b[90mFloat64\u001b[39m │\n",
       "├─────┼──────┼─────────┼─────────┤\n",
       "│ 1   │ 'a'  │ 9.86814 │ 11.4617 │\n",
       "│ 2   │ 'b'  │ 13.4094 │ 15.7414 │\n",
       "│ 3   │ 'c'  │ 13.257  │ 14.7559 │\n",
       "│ 4   │ 'd'  │ 9.3865  │ 10.2027 │"
      ]
     },
     "execution_count": 15,
     "metadata": {},
     "output_type": "execute_result"
    }
   ],
   "source": [
    "aggregate(x, :id, sum, sort=true) # also can be sorted"
   ]
  },
  {
   "cell_type": "markdown",
   "metadata": {},
   "source": [
    "*We omit the discussion of of map/combine till DataFrames 0.16*\n",
    "\n",
    "A new feature is `mapcols` convinience function"
   ]
  },
  {
   "cell_type": "code",
   "execution_count": 16,
   "metadata": {},
   "outputs": [
    {
     "data": {
      "text/html": [
       "<table class=\"data-frame\"><thead><tr><th></th><th>x1</th><th>x2</th><th>x3</th><th>x4</th><th>x5</th></tr><tr><th></th><th>Float64</th><th>Float64</th><th>Float64</th><th>Float64</th><th>Float64</th></tr></thead><tbody><p>3 rows × 5 columns</p><tr><th>1</th><td>0.0674746</td><td>0.922701</td><td>0.0473791</td><td>0.274157</td><td>0.999944</td></tr><tr><th>2</th><td>0.715346</td><td>0.616982</td><td>0.382527</td><td>0.153836</td><td>0.524913</td></tr><tr><th>3</th><td>0.104946</td><td>0.585806</td><td>0.0970622</td><td>0.0980471</td><td>0.614058</td></tr></tbody></table>"
      ],
      "text/latex": [
       "\\begin{tabular}{r|ccccc}\n",
       "\t& x1 & x2 & x3 & x4 & x5\\\\\n",
       "\t\\hline\n",
       "\t1 & 0.0674746 & 0.922701 & 0.0473791 & 0.274157 & 0.999944 \\\\\n",
       "\t2 & 0.715346 & 0.616982 & 0.382527 & 0.153836 & 0.524913 \\\\\n",
       "\t3 & 0.104946 & 0.585806 & 0.0970622 & 0.0980471 & 0.614058 \\\\\n",
       "\\end{tabular}\n"
      ],
      "text/plain": [
       "3×5 DataFrame\n",
       "│ Row │ x1        │ x2       │ x3        │ x4        │ x5       │\n",
       "│     │ \u001b[90mFloat64\u001b[39m   │ \u001b[90mFloat64\u001b[39m  │ \u001b[90mFloat64\u001b[39m   │ \u001b[90mFloat64\u001b[39m   │ \u001b[90mFloat64\u001b[39m  │\n",
       "├─────┼───────────┼──────────┼───────────┼───────────┼──────────┤\n",
       "│ 1   │ 0.0674746 │ 0.922701 │ 0.0473791 │ 0.274157  │ 0.999944 │\n",
       "│ 2   │ 0.715346  │ 0.616982 │ 0.382527  │ 0.153836  │ 0.524913 │\n",
       "│ 3   │ 0.104946  │ 0.585806 │ 0.0970622 │ 0.0980471 │ 0.614058 │"
      ]
     },
     "execution_count": 16,
     "metadata": {},
     "output_type": "execute_result"
    }
   ],
   "source": [
    "x = DataFrame(rand(3, 5))"
   ]
  },
  {
   "cell_type": "code",
   "execution_count": 17,
   "metadata": {},
   "outputs": [
    {
     "data": {
      "text/html": [
       "<table class=\"data-frame\"><thead><tr><th></th><th>x1</th><th>x2</th><th>x3</th><th>x4</th><th>x5</th></tr><tr><th></th><th>Float64</th><th>Float64</th><th>Float64</th><th>Float64</th><th>Float64</th></tr></thead><tbody><p>1 rows × 5 columns</p><tr><th>1</th><td>0.295922</td><td>0.708496</td><td>0.175656</td><td>0.175347</td><td>0.712972</td></tr></tbody></table>"
      ],
      "text/latex": [
       "\\begin{tabular}{r|ccccc}\n",
       "\t& x1 & x2 & x3 & x4 & x5\\\\\n",
       "\t\\hline\n",
       "\t1 & 0.295922 & 0.708496 & 0.175656 & 0.175347 & 0.712972 \\\\\n",
       "\\end{tabular}\n"
      ],
      "text/plain": [
       "1×5 DataFrame\n",
       "│ Row │ x1       │ x2       │ x3       │ x4       │ x5       │\n",
       "│     │ \u001b[90mFloat64\u001b[39m  │ \u001b[90mFloat64\u001b[39m  │ \u001b[90mFloat64\u001b[39m  │ \u001b[90mFloat64\u001b[39m  │ \u001b[90mFloat64\u001b[39m  │\n",
       "├─────┼──────────┼──────────┼──────────┼──────────┼──────────┤\n",
       "│ 1   │ 0.295922 │ 0.708496 │ 0.175656 │ 0.175347 │ 0.712972 │"
      ]
     },
     "execution_count": 17,
     "metadata": {},
     "output_type": "execute_result"
    }
   ],
   "source": [
    "mapcols(mean, x)"
   ]
  },
  {
   "cell_type": "code",
   "execution_count": 18,
   "metadata": {},
   "outputs": [
    {
     "name": "stderr",
     "output_type": "stream",
     "text": [
      "┌ Warning: In the future eachcol will have names argument set to false by default\n",
      "│   caller = top-level scope at In[18]:1\n",
      "└ @ Core In[18]:1\n",
      "┌ Warning: `map(f::Union{Function, Type}, dfc::DataFrameColumns{<:AbstractDataFrame, Pair{Symbol, AbstractVector}})` is deprecated, use `mapcols(f, dfc.df)` instead.\n",
      "│   caller = top-level scope at In[18]:1\n",
      "└ @ Core In[18]:1\n"
     ]
    },
    {
     "data": {
      "text/html": [
       "<table class=\"data-frame\"><thead><tr><th></th><th>x1</th><th>x2</th><th>x3</th><th>x4</th><th>x5</th></tr><tr><th></th><th>Float64</th><th>Float64</th><th>Float64</th><th>Float64</th><th>Float64</th></tr></thead><tbody><p>1 rows × 5 columns</p><tr><th>1</th><td>0.295922</td><td>0.708496</td><td>0.175656</td><td>0.175347</td><td>0.712972</td></tr></tbody></table>"
      ],
      "text/latex": [
       "\\begin{tabular}{r|ccccc}\n",
       "\t& x1 & x2 & x3 & x4 & x5\\\\\n",
       "\t\\hline\n",
       "\t1 & 0.295922 & 0.708496 & 0.175656 & 0.175347 & 0.712972 \\\\\n",
       "\\end{tabular}\n"
      ],
      "text/plain": [
       "1×5 DataFrame\n",
       "│ Row │ x1       │ x2       │ x3       │ x4       │ x5       │\n",
       "│     │ \u001b[90mFloat64\u001b[39m  │ \u001b[90mFloat64\u001b[39m  │ \u001b[90mFloat64\u001b[39m  │ \u001b[90mFloat64\u001b[39m  │ \u001b[90mFloat64\u001b[39m  │\n",
       "├─────┼──────────┼──────────┼──────────┼──────────┼──────────┤\n",
       "│ 1   │ 0.295922 │ 0.708496 │ 0.175656 │ 0.175347 │ 0.712972 │"
      ]
     },
     "execution_count": 18,
     "metadata": {},
     "output_type": "execute_result"
    }
   ],
   "source": [
    "map(mean, eachcol(x)) # map a function over each column and return a data frame; this warning will go away in DataFrames 0.16"
   ]
  },
  {
   "cell_type": "code",
   "execution_count": 19,
   "metadata": {},
   "outputs": [
    {
     "name": "stdout",
     "output_type": "stream",
     "text": [
      "x1: 0.2959219631186962\n",
      "x2: 0.7084964494002054\n",
      "x3: 0.17565596776152984\n",
      "x4: 0.1753466545048854\n",
      "x5: 0.7129715487597655\n"
     ]
    }
   ],
   "source": [
    "foreach(c -> println(c[1], \": \", mean(c[2])), eachcol(x, true)) # an iteration returns a Pair with column name and values"
   ]
  },
  {
   "cell_type": "code",
   "execution_count": 20,
   "metadata": {},
   "outputs": [
    {
     "data": {
      "text/plain": [
       "5-element Array{Float64,1}:\n",
       " 0.2959219631186962 \n",
       " 0.7084964494002054 \n",
       " 0.17565596776152984\n",
       " 0.1753466545048854 \n",
       " 0.7129715487597655 "
      ]
     },
     "execution_count": 20,
     "metadata": {},
     "output_type": "execute_result"
    }
   ],
   "source": [
    "map(mean, eachcol(x, false)) # with false these are only columns without names"
   ]
  },
  {
   "cell_type": "code",
   "execution_count": 21,
   "metadata": {},
   "outputs": [
    {
     "data": {
      "text/plain": [
       "5-element Array{Float64,1}:\n",
       " 0.2959219631186962 \n",
       " 0.7084964494002054 \n",
       " 0.17565596776152984\n",
       " 0.1753466545048854 \n",
       " 0.7129715487597655 "
      ]
     },
     "execution_count": 21,
     "metadata": {},
     "output_type": "execute_result"
    }
   ],
   "source": [
    "colwise(mean, x) # colwise is similar"
   ]
  },
  {
   "cell_type": "code",
   "execution_count": 22,
   "metadata": {},
   "outputs": [
    {
     "data": {
      "text/plain": [
       "2-element Array{Array{Float64,1},1}:\n",
       " [0.39141, 0.769841, 0.214953, 0.213996, 0.762428, 1.0]   \n",
       " [0.104946, 0.585806, 0.0970622, 0.0980471, 0.614058, 2.0]"
      ]
     },
     "execution_count": 22,
     "metadata": {},
     "output_type": "execute_result"
    }
   ],
   "source": [
    "x[:id] = [1,1,2]\n",
    "colwise(mean,groupby(x, :id)) # but it also works on GroupedDataFrame"
   ]
  },
  {
   "cell_type": "code",
   "execution_count": 23,
   "metadata": {},
   "outputs": [
    {
     "data": {
      "text/plain": [
       "3-element Array{Float64,1}:\n",
       " 0.07312730316155054\n",
       " 1.1594269576671856 \n",
       " 0.1791471500413872 "
      ]
     },
     "execution_count": 23,
     "metadata": {},
     "output_type": "execute_result"
    }
   ],
   "source": [
    "map(r -> r.x1/r.x2, eachrow(x)) # now the returned value is DataFrameRow which works similarly to a one-row DataFrame"
   ]
  }
 ],
 "metadata": {
  "kernelspec": {
   "display_name": "Julia 1.0.2",
   "language": "julia",
   "name": "julia-1.0"
  },
  "language_info": {
   "file_extension": ".jl",
   "mimetype": "application/julia",
   "name": "julia",
   "version": "1.0.2"
  }
 },
 "nbformat": 4,
 "nbformat_minor": 1
}
