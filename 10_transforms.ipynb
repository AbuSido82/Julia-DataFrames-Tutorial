{
 "cells": [
  {
   "cell_type": "markdown",
   "metadata": {},
   "source": [
    "# Introduction to DataFrames\n",
    "**[Bogumił Kamiński](http://bogumilkaminski.pl/about/), Dec 5, 2017**\n",
    "\n",
    "A brief introduction to basic usage of `DataFrames`. Tested under `DataFrames` master on 2017-12-05.\n",
    "I will try to keep it up to date as the package evolves. This tutorial covers `DataFrames`, `CSV`, `Missings` and `CategoricalArrays` only. It does not show any additional packages that can be used with `DataFrames`."
   ]
  },
  {
   "cell_type": "code",
   "execution_count": 1,
   "metadata": {
    "collapsed": false
   },
   "outputs": [],
   "source": [
    "using DataFrames # load package"
   ]
  },
  {
   "cell_type": "markdown",
   "metadata": {},
   "source": [
    "### Split-apply-combine"
   ]
  },
  {
   "cell_type": "code",
   "execution_count": 2,
   "metadata": {
    "collapsed": false
   },
   "outputs": [
    {
     "data": {
      "text/html": [
       "<table class=\"data-frame\"><thead><tr><th></th><th>id</th><th>id2</th><th>v</th></tr></thead><tbody><tr><th>1</th><td>1</td><td>1</td><td>0.892486</td></tr><tr><th>2</th><td>2</td><td>2</td><td>0.83603</td></tr><tr><th>3</th><td>3</td><td>1</td><td>0.225134</td></tr><tr><th>4</th><td>4</td><td>2</td><td>0.348906</td></tr><tr><th>5</th><td>1</td><td>1</td><td>0.884499</td></tr><tr><th>6</th><td>2</td><td>2</td><td>0.459531</td></tr><tr><th>7</th><td>3</td><td>1</td><td>0.942475</td></tr><tr><th>8</th><td>4</td><td>2</td><td>0.999226</td></tr></tbody></table>"
      ],
      "text/plain": [
       "8×3 DataFrames.DataFrame\n",
       "│ Row │ id │ id2 │ v        │\n",
       "├─────┼────┼─────┼──────────┤\n",
       "│ 1   │ 1  │ 1   │ 0.892486 │\n",
       "│ 2   │ 2  │ 2   │ 0.83603  │\n",
       "│ 3   │ 3  │ 1   │ 0.225134 │\n",
       "│ 4   │ 4  │ 2   │ 0.348906 │\n",
       "│ 5   │ 1  │ 1   │ 0.884499 │\n",
       "│ 6   │ 2  │ 2   │ 0.459531 │\n",
       "│ 7   │ 3  │ 1   │ 0.942475 │\n",
       "│ 8   │ 4  │ 2   │ 0.999226 │"
      ]
     },
     "execution_count": 2,
     "metadata": {},
     "output_type": "execute_result"
    }
   ],
   "source": [
    "x = DataFrame(id=[1,2,3,4,1,2,3,4], id2=[1,2,1,2,1,2,1,2], v=rand(8))"
   ]
  },
  {
   "cell_type": "code",
   "execution_count": 3,
   "metadata": {
    "collapsed": false
   },
   "outputs": [
    {
     "data": {
      "text/plain": [
       "DataFrames.GroupedDataFrame  4 groups with keys: Symbol[:id]\n",
       "First Group:\n",
       "2×3 DataFrames.SubDataFrame{Array{Int64,1}}\n",
       "│ Row │ id │ id2 │ v        │\n",
       "├─────┼────┼─────┼──────────┤\n",
       "│ 1   │ 1  │ 1   │ 0.892486 │\n",
       "│ 2   │ 1  │ 1   │ 0.884499 │\n",
       "⋮\n",
       "Last Group:\n",
       "2×3 DataFrames.SubDataFrame{Array{Int64,1}}\n",
       "│ Row │ id │ id2 │ v        │\n",
       "├─────┼────┼─────┼──────────┤\n",
       "│ 1   │ 4  │ 2   │ 0.348906 │\n",
       "│ 2   │ 4  │ 2   │ 0.999226 │"
      ]
     },
     "execution_count": 3,
     "metadata": {},
     "output_type": "execute_result"
    }
   ],
   "source": [
    "gx1 = groupby(x, :id) # group by multiple variables"
   ]
  },
  {
   "cell_type": "code",
   "execution_count": 4,
   "metadata": {
    "collapsed": false
   },
   "outputs": [
    {
     "data": {
      "text/plain": [
       "DataFrames.GroupedDataFrame  4 groups with keys: Symbol[:id, :id2]\n",
       "First Group:\n",
       "2×3 DataFrames.SubDataFrame{Array{Int64,1}}\n",
       "│ Row │ id │ id2 │ v        │\n",
       "├─────┼────┼─────┼──────────┤\n",
       "│ 1   │ 1  │ 1   │ 0.892486 │\n",
       "│ 2   │ 1  │ 1   │ 0.884499 │\n",
       "⋮\n",
       "Last Group:\n",
       "2×3 DataFrames.SubDataFrame{Array{Int64,1}}\n",
       "│ Row │ id │ id2 │ v        │\n",
       "├─────┼────┼─────┼──────────┤\n",
       "│ 1   │ 4  │ 2   │ 0.348906 │\n",
       "│ 2   │ 4  │ 2   │ 0.999226 │"
      ]
     },
     "execution_count": 4,
     "metadata": {},
     "output_type": "execute_result"
    }
   ],
   "source": [
    "gx2 = groupby(x, [:id, :id2])"
   ]
  },
  {
   "cell_type": "code",
   "execution_count": 5,
   "metadata": {
    "collapsed": false
   },
   "outputs": [
    {
     "data": {
      "text/html": [
       "<table class=\"data-frame\"><thead><tr><th></th><th>id</th><th>id2</th><th>v</th></tr></thead><tbody><tr><th>1</th><td>1</td><td>1</td><td>0.892486</td></tr><tr><th>2</th><td>1</td><td>1</td><td>0.884499</td></tr><tr><th>3</th><td>2</td><td>2</td><td>0.83603</td></tr><tr><th>4</th><td>2</td><td>2</td><td>0.459531</td></tr><tr><th>5</th><td>3</td><td>1</td><td>0.225134</td></tr><tr><th>6</th><td>3</td><td>1</td><td>0.942475</td></tr><tr><th>7</th><td>4</td><td>2</td><td>0.348906</td></tr><tr><th>8</th><td>4</td><td>2</td><td>0.999226</td></tr></tbody></table>"
      ],
      "text/plain": [
       "8×3 DataFrames.DataFrame\n",
       "│ Row │ id │ id2 │ v        │\n",
       "├─────┼────┼─────┼──────────┤\n",
       "│ 1   │ 1  │ 1   │ 0.892486 │\n",
       "│ 2   │ 1  │ 1   │ 0.884499 │\n",
       "│ 3   │ 2  │ 2   │ 0.83603  │\n",
       "│ 4   │ 2  │ 2   │ 0.459531 │\n",
       "│ 5   │ 3  │ 1   │ 0.225134 │\n",
       "│ 6   │ 3  │ 1   │ 0.942475 │\n",
       "│ 7   │ 4  │ 2   │ 0.348906 │\n",
       "│ 8   │ 4  │ 2   │ 0.999226 │"
      ]
     },
     "execution_count": 5,
     "metadata": {},
     "output_type": "execute_result"
    }
   ],
   "source": [
    "vcat(gx2...) # back to the original DataFrame"
   ]
  },
  {
   "cell_type": "code",
   "execution_count": 6,
   "metadata": {
    "collapsed": false
   },
   "outputs": [
    {
     "data": {
      "text/html": [
       "<table class=\"data-frame\"><thead><tr><th></th><th>id</th><th>x</th></tr></thead><tbody><tr><th>1</th><td>missing</td><td>1</td></tr><tr><th>2</th><td>5</td><td>2</td></tr><tr><th>3</th><td>1</td><td>3</td></tr><tr><th>4</th><td>3</td><td>4</td></tr><tr><th>5</th><td>missing</td><td>5</td></tr></tbody></table>"
      ],
      "text/plain": [
       "5×2 DataFrames.DataFrame\n",
       "│ Row │ id      │ x │\n",
       "├─────┼─────────┼───┤\n",
       "│ 1   │ \u001b[90mmissing\u001b[39m │ 1 │\n",
       "│ 2   │ 5       │ 2 │\n",
       "│ 3   │ 1       │ 3 │\n",
       "│ 4   │ 3       │ 4 │\n",
       "│ 5   │ \u001b[90mmissing\u001b[39m │ 5 │"
      ]
     },
     "execution_count": 6,
     "metadata": {},
     "output_type": "execute_result"
    }
   ],
   "source": [
    "x = DataFrame(id = [missing, 5, 1, 3, missing], x = 1:5)"
   ]
  },
  {
   "cell_type": "code",
   "execution_count": 7,
   "metadata": {
    "collapsed": false
   },
   "outputs": [
    {
     "name": "stdout",
     "output_type": "stream",
     "text": [
      "DataFrames.GroupedDataFrame  4 groups with keys: Symbol[:id]\n",
      "gd[1]:\n",
      "2×2 DataFrames.SubDataFrame{Array{Int64,1}}\n",
      "│ Row │ id      │ x │\n",
      "├─────┼─────────┼───┤\n",
      "│ 1   │ \u001b[90mmissing\u001b[39m │ 1 │\n",
      "│ 2   │ \u001b[90mmissing\u001b[39m │ 5 │gd[2]:\n",
      "1×2 DataFrames.SubDataFrame{Array{Int64,1}}\n",
      "│ Row │ id │ x │\n",
      "├─────┼────┼───┤\n",
      "│ 1   │ 5  │ 2 │gd[3]:\n",
      "1×2 DataFrames.SubDataFrame{Array{Int64,1}}\n",
      "│ Row │ id │ x │\n",
      "├─────┼────┼───┤\n",
      "│ 1   │ 1  │ 3 │gd[4]:\n",
      "1×2 DataFrames.SubDataFrame{Array{Int64,1}}\n",
      "│ Row │ id │ x │\n",
      "├─────┼────┼───┤\n",
      "│ 1   │ 3  │ 4 │"
     ]
    }
   ],
   "source": [
    "showall(groupby(x, :id)) # by default groups include mising values and are not sorted"
   ]
  },
  {
   "cell_type": "code",
   "execution_count": 8,
   "metadata": {
    "collapsed": false
   },
   "outputs": [
    {
     "name": "stdout",
     "output_type": "stream",
     "text": [
      "DataFrames.GroupedDataFrame  3 groups with keys: Symbol[:id]\n",
      "gd[1]:\n",
      "1×2 DataFrames.SubDataFrame{Array{Int64,1}}\n",
      "│ Row │ id │ x │\n",
      "├─────┼────┼───┤\n",
      "│ 1   │ 1  │ 3 │gd[2]:\n",
      "1×2 DataFrames.SubDataFrame{Array{Int64,1}}\n",
      "│ Row │ id │ x │\n",
      "├─────┼────┼───┤\n",
      "│ 1   │ 3  │ 4 │gd[3]:\n",
      "1×2 DataFrames.SubDataFrame{Array{Int64,1}}\n",
      "│ Row │ id │ x │\n",
      "├─────┼────┼───┤\n",
      "│ 1   │ 5  │ 2 │"
     ]
    }
   ],
   "source": [
    "showall(groupby(x, :id, sort=true, skipmissing=true)) # but we can change it :)"
   ]
  },
  {
   "cell_type": "code",
   "execution_count": 9,
   "metadata": {
    "collapsed": false
   },
   "outputs": [
    {
     "data": {
      "text/html": [
       "<table class=\"data-frame\"><thead><tr><th></th><th>id</th><th>x1</th></tr></thead><tbody><tr><th>1</th><td>'d'</td><td>0.580662</td></tr><tr><th>2</th><td>'a'</td><td>0.506477</td></tr><tr><th>3</th><td>'b'</td><td>0.566787</td></tr><tr><th>4</th><td>'c'</td><td>0.463323</td></tr></tbody></table>"
      ],
      "text/plain": [
       "4×2 DataFrames.DataFrame\n",
       "│ Row │ id  │ x1       │\n",
       "├─────┼─────┼──────────┤\n",
       "│ 1   │ 'd' │ 0.580662 │\n",
       "│ 2   │ 'a' │ 0.506477 │\n",
       "│ 3   │ 'b' │ 0.566787 │\n",
       "│ 4   │ 'c' │ 0.463323 │"
      ]
     },
     "execution_count": 9,
     "metadata": {},
     "output_type": "execute_result"
    }
   ],
   "source": [
    "x = DataFrame(id=rand('a':'d', 100), v=rand(100));\n",
    "by(x, :id, v->mean(v[:v])) # apply a function to each group of a data frame"
   ]
  },
  {
   "cell_type": "code",
   "execution_count": 10,
   "metadata": {
    "collapsed": false
   },
   "outputs": [
    {
     "data": {
      "text/html": [
       "<table class=\"data-frame\"><thead><tr><th></th><th>id</th><th>x1</th></tr></thead><tbody><tr><th>1</th><td>'a'</td><td>0.506477</td></tr><tr><th>2</th><td>'b'</td><td>0.566787</td></tr><tr><th>3</th><td>'c'</td><td>0.463323</td></tr><tr><th>4</th><td>'d'</td><td>0.580662</td></tr></tbody></table>"
      ],
      "text/plain": [
       "4×2 DataFrames.DataFrame\n",
       "│ Row │ id  │ x1       │\n",
       "├─────┼─────┼──────────┤\n",
       "│ 1   │ 'a' │ 0.506477 │\n",
       "│ 2   │ 'b' │ 0.566787 │\n",
       "│ 3   │ 'c' │ 0.463323 │\n",
       "│ 4   │ 'd' │ 0.580662 │"
      ]
     },
     "execution_count": 10,
     "metadata": {},
     "output_type": "execute_result"
    }
   ],
   "source": [
    "by(x, :id, v->mean(v[:v]), sort=true) # we can sort the output"
   ]
  },
  {
   "cell_type": "code",
   "execution_count": 11,
   "metadata": {
    "collapsed": false
   },
   "outputs": [
    {
     "data": {
      "text/html": [
       "<table class=\"data-frame\"><thead><tr><th></th><th>id</th><th>x1_sum</th><th>x2_sum</th></tr></thead><tbody><tr><th>1</th><td>'c'</td><td>12.243</td><td>14.5939</td></tr><tr><th>2</th><td>'a'</td><td>15.5228</td><td>11.0514</td></tr><tr><th>3</th><td>'d'</td><td>12.2026</td><td>8.48168</td></tr><tr><th>4</th><td>'b'</td><td>7.78458</td><td>10.3551</td></tr></tbody></table>"
      ],
      "text/plain": [
       "4×3 DataFrames.DataFrame\n",
       "│ Row │ id  │ x1_sum  │ x2_sum  │\n",
       "├─────┼─────┼─────────┼─────────┤\n",
       "│ 1   │ 'c' │ 12.243  │ 14.5939 │\n",
       "│ 2   │ 'a' │ 15.5228 │ 11.0514 │\n",
       "│ 3   │ 'd' │ 12.2026 │ 8.48168 │\n",
       "│ 4   │ 'b' │ 7.78458 │ 10.3551 │"
      ]
     },
     "execution_count": 11,
     "metadata": {},
     "output_type": "execute_result"
    }
   ],
   "source": [
    "x = DataFrame(id=rand('a':'d', 100), x1=rand(100), x2=rand(100))\n",
    "aggregate(x, :id, sum) # apply a function over all columns of a data frame in groups given by id"
   ]
  },
  {
   "cell_type": "code",
   "execution_count": 12,
   "metadata": {
    "collapsed": false
   },
   "outputs": [
    {
     "data": {
      "text/html": [
       "<table class=\"data-frame\"><thead><tr><th></th><th>id</th><th>x1_sum</th><th>x2_sum</th></tr></thead><tbody><tr><th>1</th><td>'a'</td><td>15.5228</td><td>11.0514</td></tr><tr><th>2</th><td>'b'</td><td>7.78458</td><td>10.3551</td></tr><tr><th>3</th><td>'c'</td><td>12.243</td><td>14.5939</td></tr><tr><th>4</th><td>'d'</td><td>12.2026</td><td>8.48168</td></tr></tbody></table>"
      ],
      "text/plain": [
       "4×3 DataFrames.DataFrame\n",
       "│ Row │ id  │ x1_sum  │ x2_sum  │\n",
       "├─────┼─────┼─────────┼─────────┤\n",
       "│ 1   │ 'a' │ 15.5228 │ 11.0514 │\n",
       "│ 2   │ 'b' │ 7.78458 │ 10.3551 │\n",
       "│ 3   │ 'c' │ 12.243  │ 14.5939 │\n",
       "│ 4   │ 'd' │ 12.2026 │ 8.48168 │"
      ]
     },
     "execution_count": 12,
     "metadata": {},
     "output_type": "execute_result"
    }
   ],
   "source": [
    "aggregate(x, :id, sum, sort=true) # also can be sorted"
   ]
  },
  {
   "cell_type": "markdown",
   "metadata": {},
   "source": [
    "*We omit the discussion of of map/combine as I do not find them very useful (better to use by)*"
   ]
  },
  {
   "cell_type": "code",
   "execution_count": 13,
   "metadata": {
    "collapsed": false
   },
   "outputs": [
    {
     "data": {
      "text/html": [
       "<table class=\"data-frame\"><thead><tr><th></th><th>x1</th><th>x2</th><th>x3</th><th>x4</th><th>x5</th></tr></thead><tbody><tr><th>1</th><td>0.481785</td><td>0.983545</td><td>0.815865</td><td>0.482619</td><td>0.317799</td></tr><tr><th>2</th><td>0.497258</td><td>0.535293</td><td>0.282936</td><td>0.75274</td><td>0.651277</td></tr><tr><th>3</th><td>0.726341</td><td>0.764481</td><td>0.382081</td><td>0.717635</td><td>0.997081</td></tr></tbody></table>"
      ],
      "text/plain": [
       "3×5 DataFrames.DataFrame\n",
       "│ Row │ x1       │ x2       │ x3       │ x4       │ x5       │\n",
       "├─────┼──────────┼──────────┼──────────┼──────────┼──────────┤\n",
       "│ 1   │ 0.481785 │ 0.983545 │ 0.815865 │ 0.482619 │ 0.317799 │\n",
       "│ 2   │ 0.497258 │ 0.535293 │ 0.282936 │ 0.75274  │ 0.651277 │\n",
       "│ 3   │ 0.726341 │ 0.764481 │ 0.382081 │ 0.717635 │ 0.997081 │"
      ]
     },
     "execution_count": 13,
     "metadata": {},
     "output_type": "execute_result"
    }
   ],
   "source": [
    "x = DataFrame(rand(3, 5))"
   ]
  },
  {
   "cell_type": "code",
   "execution_count": 14,
   "metadata": {
    "collapsed": false
   },
   "outputs": [
    {
     "data": {
      "text/html": [
       "<table class=\"data-frame\"><thead><tr><th></th><th>x1</th><th>x2</th><th>x3</th><th>x4</th><th>x5</th></tr></thead><tbody><tr><th>1</th><td>0.568461</td><td>0.761106</td><td>0.493628</td><td>0.650998</td><td>0.655386</td></tr></tbody></table>"
      ],
      "text/plain": [
       "1×5 DataFrames.DataFrame\n",
       "│ Row │ x1       │ x2       │ x3       │ x4       │ x5       │\n",
       "├─────┼──────────┼──────────┼──────────┼──────────┼──────────┤\n",
       "│ 1   │ 0.568461 │ 0.761106 │ 0.493628 │ 0.650998 │ 0.655386 │"
      ]
     },
     "execution_count": 14,
     "metadata": {},
     "output_type": "execute_result"
    }
   ],
   "source": [
    "map(mean, eachcol(x)) # map a function over each column and return a data frame"
   ]
  },
  {
   "cell_type": "code",
   "execution_count": 15,
   "metadata": {
    "collapsed": false
   },
   "outputs": [
    {
     "name": "stdout",
     "output_type": "stream",
     "text": [
      "x1: 0.5684614038386472\n",
      "x2: 0.7611063750249469\n",
      "x3: 0.4936275621904791\n",
      "x4: 0.6509981731333249\n",
      "x5: 0.6553855774049487\n"
     ]
    }
   ],
   "source": [
    "foreach(c -> println(c[1], \": \", mean(c[2])), eachcol(x)) # a raw iteration returns a tuple with column name and values"
   ]
  },
  {
   "cell_type": "code",
   "execution_count": 16,
   "metadata": {
    "collapsed": false
   },
   "outputs": [
    {
     "data": {
      "text/plain": [
       "5-element Array{Float64,1}:\n",
       " 0.568461\n",
       " 0.761106\n",
       " 0.493628\n",
       " 0.650998\n",
       " 0.655386"
      ]
     },
     "execution_count": 16,
     "metadata": {},
     "output_type": "execute_result"
    }
   ],
   "source": [
    "colwise(mean, x) # colwise is similar, but produces a vector"
   ]
  },
  {
   "cell_type": "code",
   "execution_count": 17,
   "metadata": {
    "collapsed": false
   },
   "outputs": [
    {
     "data": {
      "text/plain": [
       "2-element Array{Array{Float64,1},1}:\n",
       " [0.489521, 0.759419, 0.549401, 0.61768, 0.484538, 1.0] \n",
       " [0.726341, 0.764481, 0.382081, 0.717635, 0.997081, 2.0]"
      ]
     },
     "execution_count": 17,
     "metadata": {},
     "output_type": "execute_result"
    }
   ],
   "source": [
    "x[:id] = [1,1,2]\n",
    "colwise(mean,groupby(x, :id)) # and works on GroupedDataFrame"
   ]
  },
  {
   "cell_type": "code",
   "execution_count": 18,
   "metadata": {
    "collapsed": false
   },
   "outputs": [
    {
     "data": {
      "text/plain": [
       "3-element Array{Float64,1}:\n",
       " 0.489846\n",
       " 0.928944\n",
       " 0.950111"
      ]
     },
     "execution_count": 18,
     "metadata": {},
     "output_type": "execute_result"
    }
   ],
   "source": [
    "map(r -> r[:x1]/r[:x2], eachrow(x)) # now the returned value is DataFrameRow which works similarly to a one-row DataFrame"
   ]
  }
 ],
 "metadata": {
  "kernelspec": {
   "display_name": "Julia 0.6.0",
   "language": "julia",
   "name": "julia-0.6"
  },
  "language_info": {
   "file_extension": ".jl",
   "mimetype": "application/julia",
   "name": "julia",
   "version": "0.6.1"
  }
 },
 "nbformat": 4,
 "nbformat_minor": 0
}
