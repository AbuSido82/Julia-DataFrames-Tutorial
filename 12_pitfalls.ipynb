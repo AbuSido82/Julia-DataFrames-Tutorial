{
 "cells": [
  {
   "cell_type": "markdown",
   "metadata": {},
   "source": [
    "# Introduction to DataFrames\n",
    "**[Bogumił Kamiński](http://bogumilkaminski.pl/about/), Dec 10, 2017**\n",
    "\n",
    "A brief introduction to basic usage of `DataFrames`. Tested under `DataFrames` master on 2017-12-05.\n",
    "I will try to keep it up to date as the package evolves."
   ]
  },
  {
   "cell_type": "code",
   "execution_count": 1,
   "metadata": {
    "collapsed": false
   },
   "outputs": [],
   "source": [
    "using DataFrames"
   ]
  },
  {
   "cell_type": "markdown",
   "metadata": {},
   "source": [
    "## Possible pitfalls"
   ]
  },
  {
   "cell_type": "markdown",
   "metadata": {},
   "source": [
    "### Know what is copied when creating a `DataFrame`"
   ]
  },
  {
   "cell_type": "code",
   "execution_count": 2,
   "metadata": {
    "collapsed": false
   },
   "outputs": [
    {
     "data": {
      "text/html": [
       "<table class=\"data-frame\"><thead><tr><th></th><th>x1</th><th>x2</th><th>x3</th><th>x4</th><th>x5</th></tr></thead><tbody><tr><th>1</th><td>0.779853</td><td>0.0269166</td><td>0.422229</td><td>0.616003</td><td>0.311457</td></tr><tr><th>2</th><td>0.596416</td><td>0.188376</td><td>0.52324</td><td>0.135808</td><td>0.0991473</td></tr><tr><th>3</th><td>0.247002</td><td>0.920612</td><td>0.687747</td><td>0.0768951</td><td>0.783757</td></tr></tbody></table>"
      ],
      "text/plain": [
       "3×5 DataFrames.DataFrame\n",
       "│ Row │ x1       │ x2        │ x3       │ x4        │ x5        │\n",
       "├─────┼──────────┼───────────┼──────────┼───────────┼───────────┤\n",
       "│ 1   │ 0.779853 │ 0.0269166 │ 0.422229 │ 0.616003  │ 0.311457  │\n",
       "│ 2   │ 0.596416 │ 0.188376  │ 0.52324  │ 0.135808  │ 0.0991473 │\n",
       "│ 3   │ 0.247002 │ 0.920612  │ 0.687747 │ 0.0768951 │ 0.783757  │"
      ]
     },
     "execution_count": 2,
     "metadata": {},
     "output_type": "execute_result"
    }
   ],
   "source": [
    "x = DataFrame(rand(3, 5))"
   ]
  },
  {
   "cell_type": "code",
   "execution_count": 3,
   "metadata": {
    "collapsed": false
   },
   "outputs": [
    {
     "data": {
      "text/plain": [
       "true"
      ]
     },
     "execution_count": 3,
     "metadata": {},
     "output_type": "execute_result"
    }
   ],
   "source": [
    "y = DataFrame(x)\n",
    "x === y # no copyinng performed"
   ]
  },
  {
   "cell_type": "code",
   "execution_count": 4,
   "metadata": {
    "collapsed": false
   },
   "outputs": [
    {
     "data": {
      "text/plain": [
       "false"
      ]
     },
     "execution_count": 4,
     "metadata": {},
     "output_type": "execute_result"
    }
   ],
   "source": [
    "y = copy(x)\n",
    "x === y # not the same object"
   ]
  },
  {
   "cell_type": "code",
   "execution_count": 5,
   "metadata": {
    "collapsed": false
   },
   "outputs": [
    {
     "data": {
      "text/plain": [
       "true"
      ]
     },
     "execution_count": 5,
     "metadata": {},
     "output_type": "execute_result"
    }
   ],
   "source": [
    "all(x[i] === y[i] for i in ncol(x)) # but the columns are the same"
   ]
  },
  {
   "cell_type": "markdown",
   "metadata": {},
   "source": [
    "### Do not modify the parent of `GroupedDataFrame`"
   ]
  },
  {
   "cell_type": "code",
   "execution_count": 6,
   "metadata": {
    "collapsed": false
   },
   "outputs": [
    {
     "data": {
      "text/plain": [
       "DataFrames.GroupedDataFrame  2 groups with keys: Symbol[:id]\n",
       "First Group:\n",
       "3×2 DataFrames.SubDataFrame{Array{Int64,1}}\n",
       "│ Row │ id │ x │\n",
       "├─────┼────┼───┤\n",
       "│ 1   │ 1  │ 1 │\n",
       "│ 2   │ 1  │ 3 │\n",
       "│ 3   │ 1  │ 5 │\n",
       "⋮\n",
       "Last Group:\n",
       "3×2 DataFrames.SubDataFrame{Array{Int64,1}}\n",
       "│ Row │ id │ x │\n",
       "├─────┼────┼───┤\n",
       "│ 1   │ 2  │ 2 │\n",
       "│ 2   │ 2  │ 4 │\n",
       "│ 3   │ 2  │ 6 │"
      ]
     },
     "execution_count": 6,
     "metadata": {},
     "output_type": "execute_result"
    }
   ],
   "source": [
    "x = DataFrame(id=repeat([1,2], outer=3), x=1:6)\n",
    "g = groupby(x, :id)"
   ]
  },
  {
   "cell_type": "code",
   "execution_count": 7,
   "metadata": {
    "collapsed": false
   },
   "outputs": [
    {
     "data": {
      "text/plain": [
       "DataFrames.GroupedDataFrame  2 groups with keys: Symbol[:id]\n",
       "First Group:\n",
       "3×2 DataFrames.SubDataFrame{Array{Int64,1}}\n",
       "│ Row │ id │ x │\n",
       "├─────┼────┼───┤\n",
       "│ 1   │ 2  │ 1 │\n",
       "│ 2   │ 2  │ 3 │\n",
       "│ 3   │ 1  │ 5 │\n",
       "⋮\n",
       "Last Group:\n",
       "3×2 DataFrames.SubDataFrame{Array{Int64,1}}\n",
       "│ Row │ id │ x │\n",
       "├─────┼────┼───┤\n",
       "│ 1   │ 2  │ 2 │\n",
       "│ 2   │ 2  │ 4 │\n",
       "│ 3   │ 2  │ 6 │"
      ]
     },
     "execution_count": 7,
     "metadata": {},
     "output_type": "execute_result"
    }
   ],
   "source": [
    "x[1:3, 1]=[2,2,2]\n",
    "g # well - it is wrong now, g is only a view"
   ]
  },
  {
   "cell_type": "markdown",
   "metadata": {},
   "source": [
    "### Remember that you can filter columns of a `DataFrame` using booleans"
   ]
  },
  {
   "cell_type": "code",
   "execution_count": 8,
   "metadata": {
    "collapsed": false
   },
   "outputs": [
    {
     "data": {
      "text/html": [
       "<table class=\"data-frame\"><thead><tr><th></th><th>x1</th><th>x2</th><th>x3</th><th>x4</th><th>x5</th></tr></thead><tbody><tr><th>1</th><td>0.236033</td><td>0.210968</td><td>0.555751</td><td>0.209472</td><td>0.0769509</td></tr><tr><th>2</th><td>0.346517</td><td>0.951916</td><td>0.437108</td><td>0.251379</td><td>0.640396</td></tr><tr><th>3</th><td>0.312707</td><td>0.999905</td><td>0.424718</td><td>0.0203749</td><td>0.873544</td></tr><tr><th>4</th><td>0.00790928</td><td>0.251662</td><td>0.773223</td><td>0.287702</td><td>0.278582</td></tr><tr><th>5</th><td>0.488613</td><td>0.986666</td><td>0.28119</td><td>0.859512</td><td>0.751313</td></tr></tbody></table>"
      ],
      "text/plain": [
       "5×5 DataFrames.DataFrame\n",
       "│ Row │ x1         │ x2       │ x3       │ x4        │ x5        │\n",
       "├─────┼────────────┼──────────┼──────────┼───────────┼───────────┤\n",
       "│ 1   │ 0.236033   │ 0.210968 │ 0.555751 │ 0.209472  │ 0.0769509 │\n",
       "│ 2   │ 0.346517   │ 0.951916 │ 0.437108 │ 0.251379  │ 0.640396  │\n",
       "│ 3   │ 0.312707   │ 0.999905 │ 0.424718 │ 0.0203749 │ 0.873544  │\n",
       "│ 4   │ 0.00790928 │ 0.251662 │ 0.773223 │ 0.287702  │ 0.278582  │\n",
       "│ 5   │ 0.488613   │ 0.986666 │ 0.28119  │ 0.859512  │ 0.751313  │"
      ]
     },
     "execution_count": 8,
     "metadata": {},
     "output_type": "execute_result"
    }
   ],
   "source": [
    "srand(1)\n",
    "x = DataFrame(rand(5, 5))"
   ]
  },
  {
   "cell_type": "code",
   "execution_count": 9,
   "metadata": {
    "collapsed": false
   },
   "outputs": [
    {
     "data": {
      "text/html": [
       "<table class=\"data-frame\"><thead><tr><th></th><th>x1</th><th>x4</th></tr></thead><tbody><tr><th>1</th><td>0.236033</td><td>0.209472</td></tr><tr><th>2</th><td>0.346517</td><td>0.251379</td></tr><tr><th>3</th><td>0.312707</td><td>0.0203749</td></tr><tr><th>4</th><td>0.00790928</td><td>0.287702</td></tr><tr><th>5</th><td>0.488613</td><td>0.859512</td></tr></tbody></table>"
      ],
      "text/plain": [
       "5×2 DataFrames.DataFrame\n",
       "│ Row │ x1         │ x4        │\n",
       "├─────┼────────────┼───────────┤\n",
       "│ 1   │ 0.236033   │ 0.209472  │\n",
       "│ 2   │ 0.346517   │ 0.251379  │\n",
       "│ 3   │ 0.312707   │ 0.0203749 │\n",
       "│ 4   │ 0.00790928 │ 0.287702  │\n",
       "│ 5   │ 0.488613   │ 0.859512  │"
      ]
     },
     "execution_count": 9,
     "metadata": {},
     "output_type": "execute_result"
    }
   ],
   "source": [
    "x[x[:x1] .< 0.25] # well - we have filtered columns not rows by accident as you can select columns using booleans"
   ]
  },
  {
   "cell_type": "code",
   "execution_count": 10,
   "metadata": {
    "collapsed": false
   },
   "outputs": [
    {
     "data": {
      "text/html": [
       "<table class=\"data-frame\"><thead><tr><th></th><th>x1</th><th>x2</th><th>x3</th><th>x4</th><th>x5</th></tr></thead><tbody><tr><th>1</th><td>0.236033</td><td>0.210968</td><td>0.555751</td><td>0.209472</td><td>0.0769509</td></tr><tr><th>2</th><td>0.00790928</td><td>0.251662</td><td>0.773223</td><td>0.287702</td><td>0.278582</td></tr></tbody></table>"
      ],
      "text/plain": [
       "2×5 DataFrames.DataFrame\n",
       "│ Row │ x1         │ x2       │ x3       │ x4       │ x5        │\n",
       "├─────┼────────────┼──────────┼──────────┼──────────┼───────────┤\n",
       "│ 1   │ 0.236033   │ 0.210968 │ 0.555751 │ 0.209472 │ 0.0769509 │\n",
       "│ 2   │ 0.00790928 │ 0.251662 │ 0.773223 │ 0.287702 │ 0.278582  │"
      ]
     },
     "execution_count": 10,
     "metadata": {},
     "output_type": "execute_result"
    }
   ],
   "source": [
    "x[x[:x1] .< 0.25, :] # probably this is what we wanted"
   ]
  }
 ],
 "metadata": {
  "kernelspec": {
   "display_name": "Julia 0.6.0",
   "language": "julia",
   "name": "julia-0.6"
  },
  "language_info": {
   "file_extension": ".jl",
   "mimetype": "application/julia",
   "name": "julia",
   "version": "0.6.2"
  }
 },
 "nbformat": 4,
 "nbformat_minor": 0
}
